{
 "cells": [
  {
   "cell_type": "code",
   "execution_count": 1,
   "metadata": {
    "ExecuteTime": {
     "end_time": "2023-04-13T02:59:37.047340Z",
     "start_time": "2023-04-13T02:59:31.621139Z"
    }
   },
   "outputs": [
    {
     "name": "stdout",
     "output_type": "stream",
     "text": [
      "Num GPUs Available:  0\n"
     ]
    }
   ],
   "source": [
    "import tensorflow as tf\n",
    "print(\"Num GPUs Available: \", len(tf.config.list_physical_devices('GPU')))"
   ]
  },
  {
   "cell_type": "code",
   "execution_count": 2,
   "metadata": {
    "ExecuteTime": {
     "end_time": "2023-04-13T02:59:42.343622Z",
     "start_time": "2023-04-13T02:59:42.330623Z"
    }
   },
   "outputs": [],
   "source": [
    "import random\n",
    "\n",
    "random.seed(0)"
   ]
  },
  {
   "cell_type": "markdown",
   "metadata": {
    "id": "httpouN-Im9l"
   },
   "source": [
    "Sobre la data:\n",
    "\n",
    "Desde VSE++ (https://github.com/fartashf/vsepp)\n",
    "\n",
    "Particiones F30K: https://www.kaggle.com/datasets/shtvkumar/karpathy-splits\n",
    "\n",
    "Data: https://www.kaggle.com/datasets/hsankesara/flickr-image-dataset"
   ]
  },
  {
   "cell_type": "markdown",
   "metadata": {
    "id": "iRnaO9XQwcSW"
   },
   "source": [
    "Extraccion con EfNetV2 L 30K (13 min) \n",
    "https://www.kaggle.com/code/mariocarlosmallea/extrac-feautures-f30k/edit/run/108300793\n",
    "\n",
    "Extraccion MPNET 3 (min): \n",
    "\n",
    "Matriz en orden de aparición"
   ]
  },
  {
   "cell_type": "markdown",
   "metadata": {
    "ExecuteTime": {
     "end_time": "2023-02-27T19:23:50.920748Z",
     "start_time": "2023-02-27T19:23:49.968175Z"
    },
    "heading_collapsed": true
   },
   "source": [
    "## Construction for MSCOCO"
   ]
  },
  {
   "cell_type": "code",
   "execution_count": 36,
   "metadata": {
    "ExecuteTime": {
     "end_time": "2023-03-01T19:00:54.051918Z",
     "start_time": "2023-03-01T19:00:53.439638Z"
    },
    "hidden": true
   },
   "outputs": [],
   "source": [
    "#parche faltaba 1\n",
    "path= 'COCO/aux_/' \n",
    "\n",
    "visual_matrix1= np.load(path+\"/EFFV2L_COCO_train1.npy\")\n",
    "visual_matrix2= np.load(path+\"/EFFV2L_COCO_train2.npy\")\n",
    "visual_matrix_= np.load(path+\"/EFFV2L_COCO_train2_.npy\")\n",
    "\n",
    "v_m= np.concatenate([visual_matrix1,visual_matrix_],axis=0)\n",
    "v_m= np.concatenate([v_m,visual_matrix2],axis=0)\n",
    "np.save(\"EFFV2L_COCO.npy\",v_m)"
   ]
  },
  {
   "cell_type": "code",
   "execution_count": 4,
   "metadata": {
    "ExecuteTime": {
     "end_time": "2023-03-02T00:56:46.093527Z",
     "start_time": "2023-03-02T00:56:45.252906Z"
    },
    "hidden": true
   },
   "outputs": [],
   "source": [
    "path= 'COCO/annotations/' \n",
    "dataset_train = jsonmod.load(open(path+\"captions_train2014.json\", 'r'))\n",
    "dataset_val = jsonmod.load(open(path+\"captions_val2014.json\", 'r'))\n",
    "\n",
    "#index of captions\n",
    "train_id=np.load(path+\"coco_train_ids.npy\")\n",
    "val_id=np.load(path+\"coco_dev_ids.npy\")[:5000]\n",
    "test_id=np.load(path+\"coco_test_ids.npy\")"
   ]
  },
  {
   "cell_type": "code",
   "execution_count": 5,
   "metadata": {
    "ExecuteTime": {
     "end_time": "2023-03-02T00:56:47.420620Z",
     "start_time": "2023-03-02T00:56:47.407205Z"
    },
    "hidden": true
   },
   "outputs": [
    {
     "data": {
      "text/plain": [
       "(5000,)"
      ]
     },
     "execution_count": 5,
     "metadata": {},
     "output_type": "execute_result"
    }
   ],
   "source": [
    "val_id.shape"
   ]
  },
  {
   "cell_type": "markdown",
   "metadata": {
    "hidden": true
   },
   "source": [
    "SI ESTAN EN ORDEN DEBO CONSULTAR LAS IMG ASI"
   ]
  },
  {
   "cell_type": "code",
   "execution_count": 108,
   "metadata": {
    "ExecuteTime": {
     "end_time": "2023-03-01T22:55:51.285253Z",
     "start_time": "2023-03-01T22:55:51.253702Z"
    },
    "hidden": true
   },
   "outputs": [
    {
     "name": "stdout",
     "output_type": "stream",
     "text": [
      "{'image_id': 391895, 'id': 770337, 'caption': 'A man with a red helmet on a small moped on a dirt road. '}\n",
      "{'image_id': 391895, 'id': 771687, 'caption': 'Man riding a motor bike on a dirt road on the countryside.'}\n",
      "{'image_id': 391895, 'id': 772707, 'caption': 'A man riding on the back of a motorcycle.'}\n",
      "{'image_id': 391895, 'id': 776154, 'caption': 'A dirt path with a young person on a motor bike rests to the foreground of a verdant area with a bridge and a background of cloud-wreathed mountains. '}\n",
      "{'image_id': 391895, 'id': 781998, 'caption': 'A man in a red shirt and a red hat is on a motorcycle on a hill side.'}\n"
     ]
    }
   ],
   "source": [
    "for i in test_id[:5]:\n",
    "    for c in dataset_val['annotations']:\n",
    "        if c[\"id\"]==i:\n",
    "            print(c)\n",
    "            break"
   ]
  },
  {
   "cell_type": "code",
   "execution_count": 32,
   "metadata": {
    "ExecuteTime": {
     "end_time": "2023-02-28T08:00:36.866285Z",
     "start_time": "2023-02-27T22:53:36.202539Z"
    },
    "hidden": true
   },
   "outputs": [
    {
     "name": "stderr",
     "output_type": "stream",
     "text": [
      "100%|████████████████████████████████████████████████████████████████████████| 413915/413915 [8:26:38<00:00, 13.62it/s]\n",
      "100%|████████████████████████████████████████████████████████████████████████████| 25000/25000 [19:54<00:00, 20.93it/s]\n",
      "100%|████████████████████████████████████████████████████████████████████████████| 25000/25000 [20:26<00:00, 20.38it/s]\n"
     ]
    }
   ],
   "source": [
    "path= 'COCO/annotations/' \n",
    "dataset_train = jsonmod.load(open(path+\"captions_train2014.json\", 'r'))\n",
    "dataset_val = jsonmod.load(open(path+\"captions_val2014.json\", 'r'))\n",
    "\n",
    "#index of captions\n",
    "train_id=np.load(path+\"coco_train_ids.npy\")\n",
    "val_id=np.load(path+\"coco_dev_ids.npy\") #[:5000]\n",
    "test_id=np.load(path+\"coco_test_ids.npy\")\n",
    "\n",
    "dataset= []\n",
    "map_img=[] #index like map\n",
    "map_text=[]\n",
    "\n",
    "\n",
    "for i in tqdm(train_id):\n",
    "    if i not in map_text:\n",
    "        map_text.append(i)\n",
    "    for c in dataset_train['annotations']:\n",
    "        if c[\"id\"]==i:\n",
    "           if c[\"image_id\"] not in map_img:\n",
    "                map_img.append(c[\"image_id\"])\n",
    "                dict_={}\n",
    "                dict_[\"split\"]=\"train\"\n",
    "                dict_[\"sentids\"]=[map_text.index(i)]\n",
    "                dict_[\"imgid\"]= map_img.index(c[\"image_id\"]) #c[\"image_id\"]\n",
    "                dataset.append(dict_)\n",
    "           else:\n",
    "                dataset[map_img.index(c[\"image_id\"])][\"sentids\"].append(map_text.index(i))\n",
    "\n",
    "\n",
    "for i in tqdm(val_id):\n",
    "    if i not in map_text:\n",
    "        map_text.append(i)\n",
    "    for c in dataset_val['annotations']:\n",
    "        if c[\"id\"]==i:\n",
    "           if c[\"image_id\"] not in map_img:\n",
    "                map_img.append(c[\"image_id\"])\n",
    "                dict_={}\n",
    "                dict_[\"split\"]=\"val\"\n",
    "                dict_[\"sentids\"]=[map_text.index(i)]\n",
    "                dict_[\"imgid\"]=map_img.index(c[\"image_id\"])\n",
    "                dataset.append(dict_)\n",
    "           else:\n",
    "                dataset[map_img.index(c[\"image_id\"])][\"sentids\"].append(map_text.index(i))\n",
    "\n",
    "\n",
    "for i in tqdm(test_id):\n",
    "    if i not in map_text:\n",
    "        map_text.append(i)\n",
    "        \n",
    "    for c in dataset_val['annotations']:\n",
    "        if c[\"id\"]==i:\n",
    "           if c[\"image_id\"] not in map_img:\n",
    "                map_img.append(c[\"image_id\"])\n",
    "                dict_={}\n",
    "                dict_[\"split\"]=\"test\"\n",
    "                dict_[\"sentids\"]=[map_text.index(i)]\n",
    "                dict_[\"imgid\"]=map_img.index(c[\"image_id\"])\n",
    "                dataset.append(dict_)\n",
    "           else:\n",
    "                dataset[map_img.index(c[\"image_id\"])][\"sentids\"].append(map_text.index(i))\n",
    "                \n",
    "np.save(\"map_img_coco.npy\",map_img)\n",
    "np.save(\"map_text_coco.npy\",map_text)\n",
    "np.save(\"dataset_coco.npy\", dataset)"
   ]
  },
  {
   "cell_type": "code",
   "execution_count": 20,
   "metadata": {
    "ExecuteTime": {
     "end_time": "2023-03-01T00:00:29.512545Z",
     "start_time": "2023-02-28T21:15:39.900063Z"
    },
    "hidden": true
   },
   "outputs": [
    {
     "name": "stderr",
     "output_type": "stream",
     "text": [
      "100%|████████████████████████████████████████████████████████████████████████| 152520/152520 [2:44:48<00:00, 15.42it/s]\n"
     ]
    }
   ],
   "source": [
    "#restval\n",
    "\n",
    "path= 'COCO/' \n",
    "dataset_val = jsonmod.load(open(path+\"annotations/captions_val2014.json\", 'r'))\n",
    "\n",
    "dataset= list(np.load(path+\"dataset_coco.npy\",allow_pickle=True))\n",
    "map_img=list(np.load(path+\"map_img_coco.npy\",allow_pickle=True))\n",
    "map_text=list(np.load(path+\"map_text_coco.npy\",allow_pickle=True))\n",
    "\n",
    "#index of captions\n",
    "restval_id=np.load(path+\"annotations/coco_restval_ids.npy\")\n",
    "\n",
    "\n",
    "for i in tqdm(restval_id):\n",
    "    if i not in map_text:\n",
    "        map_text.append(i)\n",
    "    for c in dataset_val['annotations']:\n",
    "        if c[\"id\"]==i:\n",
    "           if c[\"image_id\"] not in map_img:\n",
    "                map_img.append(c[\"image_id\"])\n",
    "                dict_={}\n",
    "                dict_[\"split\"]=\"train\"\n",
    "                dict_[\"sentids\"]=[map_text.index(i)]\n",
    "                dict_[\"imgid\"]= map_img.index(c[\"image_id\"]) #c[\"image_id\"]\n",
    "                dataset.append(dict_)\n",
    "           else:\n",
    "                dataset[map_img.index(c[\"image_id\"])][\"sentids\"].append(map_text.index(i))\n",
    "\n",
    "\n",
    "np.save(\"map_img_coco_restval.npy\",map_img)\n",
    "np.save(\"map_text_coco_restval.npy\",map_text)\n",
    "np.save(\"dataset_coco_restval.npy\", dataset)"
   ]
  },
  {
   "cell_type": "markdown",
   "metadata": {
    "id": "15pHG-EZ3Kkz"
   },
   "source": [
    "## Data"
   ]
  },
  {
   "cell_type": "code",
   "execution_count": 4,
   "metadata": {
    "ExecuteTime": {
     "end_time": "2023-04-10T23:57:46.344582Z",
     "start_time": "2023-04-10T23:57:44.721542Z"
    }
   },
   "outputs": [
    {
     "name": "stdout",
     "output_type": "stream",
     "text": [
      "Collecting tqdm\n",
      "  Downloading tqdm-4.65.0-py3-none-any.whl (77 kB)\n",
      "     ---------------------------------------- 0.0/77.1 kB ? eta -:--:--\n",
      "     ---------------------------------------- 77.1/77.1 kB 2.2 MB/s eta 0:00:00\n",
      "Requirement already satisfied: colorama in c:\\users\\mario\\anaconda3\\envs\\gpu\\lib\\site-packages (from tqdm) (0.4.6)\n",
      "Installing collected packages: tqdm\n",
      "Successfully installed tqdm-4.65.0\n",
      "Note: you may need to restart the kernel to use updated packages.\n"
     ]
    }
   ],
   "source": [
    "pip install tqdm"
   ]
  },
  {
   "cell_type": "code",
   "execution_count": 3,
   "metadata": {
    "ExecuteTime": {
     "end_time": "2023-04-13T02:59:44.306671Z",
     "start_time": "2023-04-13T02:59:44.290675Z"
    }
   },
   "outputs": [],
   "source": [
    "import json as jsonmod\n",
    "import numpy as np\n",
    "import random\n",
    "import time\n",
    "import pickle\n",
    "from tqdm import tqdm\n",
    "\n"
   ]
  },
  {
   "cell_type": "code",
   "execution_count": 4,
   "metadata": {
    "ExecuteTime": {
     "end_time": "2023-04-13T02:59:45.429609Z",
     "start_time": "2023-04-13T02:59:45.418603Z"
    }
   },
   "outputs": [],
   "source": [
    "name_data= \"coco\" #\"coco\""
   ]
  },
  {
   "cell_type": "code",
   "execution_count": 5,
   "metadata": {
    "ExecuteTime": {
     "end_time": "2023-04-13T02:59:46.402983Z",
     "start_time": "2023-04-13T02:59:46.082242Z"
    }
   },
   "outputs": [
    {
     "name": "stdout",
     "output_type": "stream",
     "text": [
      "Train-Val-Test\n",
      "123287 5000 5000\n"
     ]
    }
   ],
   "source": [
    "\n",
    "if name_data==\"F30K\":\n",
    "    path= 'F30K' \n",
    "    dataset = jsonmod.load(open(path+\"/dataset_flickr30k.json\", 'r'))['images']\n",
    "    \n",
    "else: #coco structure to (like) F30K\n",
    "\n",
    "    path= 'COCO' \n",
    "    map_img=np.load(path+\"/map_img_coco_restval.npy\",allow_pickle=True)\n",
    "    map_text=np.load(path+\"/map_text_coco_restval.npy\",allow_pickle=True)\n",
    "    dataset= np.load(path+\"/dataset_coco_restval.npy\",allow_pickle=True)\n",
    "                    \n",
    "                    \n",
    "all_val_indices_img,all_test_indices_img, all_val_indices_text,all_test_indices_text=[],[],[],[]\n",
    "\n",
    "for i in range(len(dataset)):\n",
    "  if dataset[i][\"split\"]==\"val\":\n",
    "    all_val_indices_img.append(dataset[i][\"imgid\"])\n",
    "    for t in dataset[i][\"sentids\"]:\n",
    "      all_val_indices_text.append(t)\n",
    "\n",
    "\n",
    "  if dataset[i][\"split\"]==\"test\":\n",
    "    all_test_indices_img.append(dataset[i][\"imgid\"])\n",
    "    for t in dataset[i][\"sentids\"]:\n",
    "      all_test_indices_text.append(t)\n",
    "\n",
    "print(\"Train-Val-Test\")  \n",
    "print(len(dataset), len(all_val_indices_img), len(all_test_indices_img))\n",
    "\n",
    "                "
   ]
  },
  {
   "cell_type": "markdown",
   "metadata": {
    "id": "nMZLCWiL_qHR"
   },
   "source": [
    "dataset -> [ ... (imgid, [5 textos] )...]"
   ]
  },
  {
   "cell_type": "code",
   "execution_count": 6,
   "metadata": {
    "ExecuteTime": {
     "end_time": "2023-04-13T02:59:47.916666Z",
     "start_time": "2023-04-13T02:59:47.867008Z"
    }
   },
   "outputs": [],
   "source": [
    "\n",
    "dataset_= []\n",
    "random_train=[]\n",
    "for i in range(len(dataset)):\n",
    "  if dataset[i][\"split\"]==\"test\":\n",
    "    dataset_.append(dataset[i])\n",
    "    \n",
    "  if dataset[i][\"split\"]==\"train\" :\n",
    "    dataset_.append(dataset[i])\n",
    "    \n",
    "dataset= list(dataset_)\n"
   ]
  },
  {
   "cell_type": "code",
   "execution_count": 21,
   "metadata": {
    "ExecuteTime": {
     "end_time": "2023-03-29T14:45:16.403186Z",
     "start_time": "2023-03-29T14:45:16.385240Z"
    }
   },
   "outputs": [],
   "source": [
    "dataset_= []\n",
    "#random_train=[]\n",
    "for i in range(len(dataset)):\n",
    "  if dataset[i][\"split\"]==\"val\":\n",
    "    dataset_.append(dataset[i])\n",
    "    \n",
    "  #if dataset[i][\"split\"]==\"train\" :\n",
    "    #random_train.append(dataset[i])"
   ]
  },
  {
   "cell_type": "code",
   "execution_count": 24,
   "metadata": {
    "ExecuteTime": {
     "end_time": "2023-03-24T23:40:15.547065Z",
     "start_time": "2023-03-24T23:40:15.498689Z"
    }
   },
   "outputs": [],
   "source": [
    "random_train_half=list(np.random.choice(random_train,int(100) , replace=False))"
   ]
  },
  {
   "cell_type": "code",
   "execution_count": 2,
   "metadata": {
    "ExecuteTime": {
     "end_time": "2023-03-23T18:55:45.791798Z",
     "start_time": "2023-03-23T18:55:45.779412Z"
    }
   },
   "outputs": [],
   "source": [
    "#random_train_half=list(np.random.choice(random_train,int( (31014-1000-1014)/2) , replace=False))\n",
    "#random_train_half=list(np.random.choice(random_train,int( (123287-5000-5000)/2) , replace=False))"
   ]
  },
  {
   "cell_type": "code",
   "execution_count": 4,
   "metadata": {
    "ExecuteTime": {
     "end_time": "2023-03-23T18:55:56.516628Z",
     "start_time": "2023-03-23T18:55:56.499031Z"
    }
   },
   "outputs": [],
   "source": [
    "#np.save(\"random_val_halfTrain_F30K.npy\",np.array(random_train_half))\n",
    "#np.save(\"random_val_halfTrain_coco.npy\",np.array(random_train_half))"
   ]
  },
  {
   "cell_type": "code",
   "execution_count": 22,
   "metadata": {
    "ExecuteTime": {
     "end_time": "2023-03-29T14:45:20.164763Z",
     "start_time": "2023-03-29T14:45:20.113669Z"
    }
   },
   "outputs": [],
   "source": [
    "#random_train_half= np.load(\"random_val_halfTrain_F30K.npy\", allow_pickle=True)\n",
    "random_train_half= np.load(path+\"/random_val_halfTrain_coco.npy\", allow_pickle=True)"
   ]
  },
  {
   "cell_type": "code",
   "execution_count": 23,
   "metadata": {
    "ExecuteTime": {
     "end_time": "2023-03-29T14:45:21.638767Z",
     "start_time": "2023-03-29T14:45:21.616762Z"
    }
   },
   "outputs": [],
   "source": [
    "dataset= list(dataset_)+list(random_train_half)"
   ]
  },
  {
   "cell_type": "code",
   "execution_count": 6,
   "metadata": {
    "ExecuteTime": {
     "end_time": "2023-04-12T02:18:39.845299Z",
     "start_time": "2023-04-12T02:18:39.828262Z"
    },
    "colab": {
     "base_uri": "https://localhost:8080/"
    },
    "id": "dQ3bcbt99GKV",
    "outputId": "1108a474-e9d6-4a60-b142-bd327035d908"
   },
   "outputs": [],
   "source": [
    "dataset=list(np.random.choice(dataset[:10000],1000, replace=False)) + list(np.random.choice(dataset[10000:],1000,replace=False))\n",
    "#print(len(dataset))\n",
    "#print(len(dataset[0]))"
   ]
  },
  {
   "cell_type": "code",
   "execution_count": null,
   "metadata": {
    "colab": {
     "base_uri": "https://localhost:8080/"
    },
    "id": "3_0pQTFk_cU6",
    "outputId": "a6f6b6e3-541a-4ab7-ea33-2ea03c3c80cd"
   },
   "outputs": [],
   "source": [
    "#dataset[0].keys()"
   ]
  },
  {
   "cell_type": "code",
   "execution_count": null,
   "metadata": {
    "colab": {
     "base_uri": "https://localhost:8080/"
    },
    "id": "yJRS54ZZ_vA6",
    "outputId": "64538206-e175-4508-e932-2856e3dee6c2"
   },
   "outputs": [],
   "source": [
    "#dataset[0][\"sentids\"]"
   ]
  },
  {
   "cell_type": "code",
   "execution_count": null,
   "metadata": {
    "colab": {
     "base_uri": "https://localhost:8080/"
    },
    "id": "AyXCcGvt_6ts",
    "outputId": "6588c7fc-f25d-4669-a1da-0b3113cfbfe4"
   },
   "outputs": [],
   "source": [
    "#dataset[0][\"imgid\"]"
   ]
  },
  {
   "cell_type": "code",
   "execution_count": null,
   "metadata": {
    "colab": {
     "base_uri": "https://localhost:8080/",
     "height": 36
    },
    "id": "0jbFhJdK0Qfj",
    "outputId": "1e11c6e8-8e30-43b5-8ba8-3e6067f5142b"
   },
   "outputs": [],
   "source": [
    "#dataset[0][\"split\"]"
   ]
  },
  {
   "cell_type": "code",
   "execution_count": 7,
   "metadata": {
    "ExecuteTime": {
     "end_time": "2023-04-13T02:59:53.661169Z",
     "start_time": "2023-04-13T02:59:53.363836Z"
    },
    "colab": {
     "base_uri": "https://localhost:8080/"
    },
    "id": "IKZGNB_sAEX9",
    "outputId": "ce70edc2-8dbd-4a3a-88d6-7ac918b223c3"
   },
   "outputs": [
    {
     "name": "stdout",
     "output_type": "stream",
     "text": [
      "Train-Val-Test\n",
      "img:  113287 0 5000\n",
      "text:  566435 0 25000\n",
      "--------------------\n",
      "All Img-Text\n",
      "118287 591435\n"
     ]
    }
   ],
   "source": [
    "train_indices=[]\n",
    "data_text=[] #querys train\n",
    "\n",
    " #dictionary ground truth retrieval img o text\n",
    "all_r_img, all_r_text= {},{} #train+val+test\n",
    "val_r_img, val_r_text, test_r_img, test_r_text= {},{},{},{} \n",
    "\n",
    "for i in range(len(dataset)):\n",
    "  if dataset[i][\"split\"]==\"train\":\n",
    "    train_indices.append(dataset[i][\"imgid\"])\n",
    "    for t in dataset[i][\"sentids\"]:\n",
    "      data_text.append(t)\n",
    "      all_r_text[dataset[i][\"imgid\"]]= dataset[i][\"sentids\"]\n",
    "      all_r_img[t]= dataset[i][\"imgid\"]\n",
    "\n",
    "\n",
    "  if dataset[i][\"split\"]==\"val\":\n",
    "    \n",
    "    for t in dataset[i][\"sentids\"]:\n",
    "      val_r_text[dataset[i][\"imgid\"]]= dataset[i][\"sentids\"]\n",
    "      val_r_img[t]= dataset[i][\"imgid\"]\n",
    "        \n",
    "      all_r_text[dataset[i][\"imgid\"]]= dataset[i][\"sentids\"]\n",
    "      all_r_img[t]= dataset[i][\"imgid\"]\n",
    "\n",
    "  if dataset[i][\"split\"]==\"test\":\n",
    "    \n",
    "    for t in dataset[i][\"sentids\"]:\n",
    "      test_r_text[dataset[i][\"imgid\"]]= dataset[i][\"sentids\"]\n",
    "      test_r_img[t]= dataset[i][\"imgid\"]\n",
    "        \n",
    "      all_r_text[dataset[i][\"imgid\"]]= dataset[i][\"sentids\"]\n",
    "      all_r_img[t]= dataset[i][\"imgid\"]\n",
    "\n",
    "\n",
    "print(\"Train-Val-Test\")\n",
    "print(\"img: \", len(train_indices),len(val_r_text.keys()), len(test_r_text.keys()))\n",
    "print(\"text: \",len(data_text), len(val_r_img.keys()), len(test_r_img.keys()))\n",
    "print(\"-\"*20)\n",
    "# captions order for modeling e.g: [id 999] ->[position 0] with .index\n",
    "universe_text= data_text+ list(val_r_img.keys())+list(test_r_img.keys()) \n",
    "#img order for modeling\n",
    "universe_img= train_indices+list(val_r_text.keys())+ list(test_r_text.keys())\n",
    "print(\"All Img-Text\")\n",
    "print(len(universe_img),len(universe_text))\n"
   ]
  },
  {
   "cell_type": "code",
   "execution_count": 8,
   "metadata": {
    "ExecuteTime": {
     "end_time": "2023-04-13T02:59:59.681436Z",
     "start_time": "2023-04-13T02:59:56.106716Z"
    }
   },
   "outputs": [
    {
     "name": "stdout",
     "output_type": "stream",
     "text": [
      "(616435, 768) (123287, 1280)\n",
      "(591435, 768) (118287, 1280)\n"
     ]
    }
   ],
   "source": [
    "import sklearn.preprocessing\n",
    "if name_data==\"F30K\":\n",
    "    \n",
    "    textual_matrix= np.load(path+\"/MPNET_F30K.npy\")\n",
    "    visual_matrix= np.load(path+\"/EFFV2L_F30K.npy\")\n",
    "    \n",
    "else: #coco    \n",
    "    textual_matrix= np.load(path+\"/MPNET_COCO.npy\")\n",
    "    visual_matrix= np.load(path+\"/EFFV2L_COCO.npy\")\n",
    "    \n",
    "print(textual_matrix.shape, visual_matrix.shape)\n",
    "\n",
    "\n",
    "visual_matrix=sklearn.preprocessing.normalize(visual_matrix[universe_img,:], norm='l2', axis=0) #visual_matrix[universe_img,:]/np.max(visual_matrix)\n",
    "textual_matrix=textual_matrix[universe_text,:]#/np.max(textual_matrix)\n",
    "print(textual_matrix.shape, visual_matrix.shape)\n",
    "\n"
   ]
  },
  {
   "cell_type": "code",
   "execution_count": 9,
   "metadata": {
    "ExecuteTime": {
     "end_time": "2023-04-13T03:00:01.840858Z",
     "start_time": "2023-04-13T03:00:01.827623Z"
    }
   },
   "outputs": [],
   "source": [
    "m_validation=[0.2,0.4]  \n",
    "f_validation= [768,896,1024] # VSE++=1024\n",
    "m_2_validation= [1e-3,1e-2, 0.2,0.4,0.6]"
   ]
  },
  {
   "cell_type": "markdown",
   "metadata": {
    "heading_collapsed": true,
    "id": "ha_Jccsmx4I9"
   },
   "source": [
    "## caption description"
   ]
  },
  {
   "cell_type": "code",
   "execution_count": 61,
   "metadata": {
    "ExecuteTime": {
     "end_time": "2023-03-01T13:15:31.150611Z",
     "start_time": "2023-03-01T13:15:03.104745Z"
    },
    "hidden": true,
    "id": "UDJDkukLreiO",
    "scrolled": true
   },
   "outputs": [
    {
     "name": "stdout",
     "output_type": "stream",
     "text": [
      "Collecting sentence-transformers\n",
      "  Downloading sentence-transformers-2.2.2.tar.gz (85 kB)\n",
      "     ---------------------------------------- 86.0/86.0 kB 5.0 MB/s eta 0:00:00\n",
      "  Preparing metadata (setup.py): started\n",
      "  Preparing metadata (setup.py): finished with status 'done'\n",
      "Collecting transformers<5.0.0,>=4.6.0\n",
      "  Downloading transformers-4.26.1-py3-none-any.whl (6.3 MB)\n",
      "     ---------------------------------------- 6.3/6.3 MB 50.5 MB/s eta 0:00:00\n",
      "Requirement already satisfied: tqdm in c:\\users\\mario\\anaconda3\\envs\\gpu\\lib\\site-packages (from sentence-transformers) (4.64.1)\n",
      "Collecting torch>=1.6.0\n",
      "  Downloading torch-1.13.1-cp39-cp39-win_amd64.whl (162.5 MB)\n",
      "     ------------------------------------- 162.5/162.5 MB 25.2 MB/s eta 0:00:00\n",
      "Collecting torchvision\n",
      "  Downloading torchvision-0.14.1-cp39-cp39-win_amd64.whl (1.1 MB)\n",
      "     ---------------------------------------- 1.1/1.1 MB 72.2 MB/s eta 0:00:00\n",
      "Requirement already satisfied: numpy in c:\\users\\mario\\anaconda3\\envs\\gpu\\lib\\site-packages (from sentence-transformers) (1.21.6)\n",
      "Requirement already satisfied: scikit-learn in c:\\users\\mario\\anaconda3\\envs\\gpu\\lib\\site-packages (from sentence-transformers) (1.2.1)\n",
      "Requirement already satisfied: scipy in c:\\users\\mario\\anaconda3\\envs\\gpu\\lib\\site-packages (from sentence-transformers) (1.10.0)\n",
      "Collecting nltk\n",
      "  Downloading nltk-3.8.1-py3-none-any.whl (1.5 MB)\n",
      "     ---------------------------------------- 1.5/1.5 MB 93.8 MB/s eta 0:00:00\n",
      "Collecting sentencepiece\n",
      "  Downloading sentencepiece-0.1.97-cp39-cp39-win_amd64.whl (1.1 MB)\n",
      "     ---------------------------------------- 1.1/1.1 MB 70.2 MB/s eta 0:00:00\n",
      "Collecting huggingface-hub>=0.4.0\n",
      "  Downloading huggingface_hub-0.12.1-py3-none-any.whl (190 kB)\n",
      "     ------------------------------------- 190.3/190.3 kB 11.3 MB/s eta 0:00:00\n",
      "Collecting filelock\n",
      "  Downloading filelock-3.9.0-py3-none-any.whl (9.7 kB)\n",
      "Requirement already satisfied: packaging>=20.9 in c:\\users\\mario\\anaconda3\\envs\\gpu\\lib\\site-packages (from huggingface-hub>=0.4.0->sentence-transformers) (23.0)\n",
      "Requirement already satisfied: requests in c:\\users\\mario\\anaconda3\\envs\\gpu\\lib\\site-packages (from huggingface-hub>=0.4.0->sentence-transformers) (2.28.2)\n",
      "Requirement already satisfied: typing-extensions>=3.7.4.3 in c:\\users\\mario\\anaconda3\\envs\\gpu\\lib\\site-packages (from huggingface-hub>=0.4.0->sentence-transformers) (4.4.0)\n",
      "Requirement already satisfied: pyyaml>=5.1 in c:\\users\\mario\\anaconda3\\envs\\gpu\\lib\\site-packages (from huggingface-hub>=0.4.0->sentence-transformers) (6.0)\n",
      "Requirement already satisfied: colorama in c:\\users\\mario\\anaconda3\\envs\\gpu\\lib\\site-packages (from tqdm->sentence-transformers) (0.4.6)\n",
      "Collecting tokenizers!=0.11.3,<0.14,>=0.11.1\n",
      "  Downloading tokenizers-0.13.2-cp39-cp39-win_amd64.whl (3.3 MB)\n",
      "     ---------------------------------------- 3.3/3.3 MB 13.2 MB/s eta 0:00:00\n",
      "Collecting regex!=2019.12.17\n",
      "  Downloading regex-2022.10.31-cp39-cp39-win_amd64.whl (267 kB)\n",
      "     ---------------------------------------- 267.8/267.8 kB ? eta 0:00:00\n",
      "Requirement already satisfied: joblib in c:\\users\\mario\\anaconda3\\envs\\gpu\\lib\\site-packages (from nltk->sentence-transformers) (1.2.0)\n",
      "Collecting click\n",
      "  Downloading click-8.1.3-py3-none-any.whl (96 kB)\n",
      "     ---------------------------------------- 96.6/96.6 kB ? eta 0:00:00\n",
      "Requirement already satisfied: threadpoolctl>=2.0.0 in c:\\users\\mario\\anaconda3\\envs\\gpu\\lib\\site-packages (from scikit-learn->sentence-transformers) (3.1.0)\n",
      "Requirement already satisfied: pillow!=8.3.*,>=5.3.0 in c:\\users\\mario\\anaconda3\\envs\\gpu\\lib\\site-packages (from torchvision->sentence-transformers) (9.4.0)\n",
      "Requirement already satisfied: urllib3<1.27,>=1.21.1 in c:\\users\\mario\\anaconda3\\envs\\gpu\\lib\\site-packages (from requests->huggingface-hub>=0.4.0->sentence-transformers) (1.26.14)\n",
      "Requirement already satisfied: certifi>=2017.4.17 in c:\\users\\mario\\anaconda3\\envs\\gpu\\lib\\site-packages (from requests->huggingface-hub>=0.4.0->sentence-transformers) (2022.12.7)\n",
      "Requirement already satisfied: charset-normalizer<4,>=2 in c:\\users\\mario\\anaconda3\\envs\\gpu\\lib\\site-packages (from requests->huggingface-hub>=0.4.0->sentence-transformers) (3.0.1)\n",
      "Requirement already satisfied: idna<4,>=2.5 in c:\\users\\mario\\anaconda3\\envs\\gpu\\lib\\site-packages (from requests->huggingface-hub>=0.4.0->sentence-transformers) (3.4)\n",
      "Building wheels for collected packages: sentence-transformers\n",
      "  Building wheel for sentence-transformers (setup.py): started\n",
      "  Building wheel for sentence-transformers (setup.py): finished with status 'done'\n",
      "  Created wheel for sentence-transformers: filename=sentence_transformers-2.2.2-py3-none-any.whl size=125925 sha256=e1d33d085a1eef54309dab24a8276aa31aee86cfc1dc20cf61d4f36e0d7853c9\n",
      "  Stored in directory: c:\\users\\mario\\appdata\\local\\pip\\cache\\wheels\\4b\\68\\65\\aba8be86302d9988b832f5e1f3417a87e4a868d396e4329f0a\n",
      "Successfully built sentence-transformers\n",
      "Installing collected packages: tokenizers, sentencepiece, torch, regex, filelock, click, torchvision, nltk, huggingface-hub, transformers, sentence-transformers\n",
      "Successfully installed click-8.1.3 filelock-3.9.0 huggingface-hub-0.12.1 nltk-3.8.1 regex-2022.10.31 sentence-transformers-2.2.2 sentencepiece-0.1.97 tokenizers-0.13.2 torch-1.13.1 torchvision-0.14.1 transformers-4.26.1\n",
      "Note: you may need to restart the kernel to use updated packages.\n"
     ]
    }
   ],
   "source": [
    "pip install sentence-transformers"
   ]
  },
  {
   "cell_type": "code",
   "execution_count": 34,
   "metadata": {
    "ExecuteTime": {
     "end_time": "2023-03-01T01:03:40.850975Z",
     "start_time": "2023-03-01T01:03:40.065968Z"
    },
    "hidden": true
   },
   "outputs": [],
   "source": [
    "path= 'COCO/annotations/' \n",
    "dataset_train = jsonmod.load(open(path+\"captions_train2014.json\", 'r'))\n",
    "dataset_val = jsonmod.load(open(path+\"captions_val2014.json\", 'r'))"
   ]
  },
  {
   "cell_type": "code",
   "execution_count": 35,
   "metadata": {
    "ExecuteTime": {
     "end_time": "2023-03-01T01:03:53.947418Z",
     "start_time": "2023-03-01T01:03:53.859665Z"
    },
    "hidden": true
   },
   "outputs": [],
   "source": [
    "path= 'COCO/' \n",
    "map_text=np.load(path+\"map_text_coco_restval.npy\",allow_pickle=True)"
   ]
  },
  {
   "cell_type": "code",
   "execution_count": 36,
   "metadata": {
    "ExecuteTime": {
     "end_time": "2023-03-01T01:04:00.085735Z",
     "start_time": "2023-03-01T01:04:00.073732Z"
    },
    "hidden": true
   },
   "outputs": [
    {
     "data": {
      "text/plain": [
       "(616435,)"
      ]
     },
     "execution_count": 36,
     "metadata": {},
     "output_type": "execute_result"
    }
   ],
   "source": [
    "map_text.shape"
   ]
  },
  {
   "cell_type": "code",
   "execution_count": 57,
   "metadata": {
    "ExecuteTime": {
     "end_time": "2023-03-01T10:10:05.363172Z",
     "start_time": "2023-03-01T01:33:11.642952Z"
    },
    "hidden": true
   },
   "outputs": [
    {
     "name": "stderr",
     "output_type": "stream",
     "text": [
      "100%|████████████████████████████████████████████████████████████████████████| 616435/616435 [8:36:53<00:00, 19.88it/s]\n"
     ]
    }
   ],
   "source": [
    "textos=[]\n",
    "\n",
    "for c in tqdm(map_text):\n",
    "    flag=True\n",
    "    for i in dataset_train[\"annotations\"]:\n",
    "        if i[\"id\"]==c:\n",
    "            textos.append(i[\"caption\"])\n",
    "            flag=False\n",
    "            break\n",
    "    if flag:\n",
    "        for i in dataset_val[\"annotations\"]:\n",
    "            if i[\"id\"]==c:\n",
    "                textos.append(i[\"caption\"])\n",
    "                break"
   ]
  },
  {
   "cell_type": "code",
   "execution_count": 58,
   "metadata": {
    "ExecuteTime": {
     "end_time": "2023-03-01T13:14:32.890997Z",
     "start_time": "2023-03-01T13:14:32.008067Z"
    },
    "hidden": true
   },
   "outputs": [],
   "source": [
    "np.save(\"captions_coco_.npy\", textos)"
   ]
  },
  {
   "cell_type": "code",
   "execution_count": 59,
   "metadata": {
    "ExecuteTime": {
     "end_time": "2023-03-01T13:14:40.355834Z",
     "start_time": "2023-03-01T13:14:40.344678Z"
    },
    "hidden": true
   },
   "outputs": [
    {
     "data": {
      "text/plain": [
       "616435"
      ]
     },
     "execution_count": 59,
     "metadata": {},
     "output_type": "execute_result"
    }
   ],
   "source": [
    "len(textos)"
   ]
  },
  {
   "cell_type": "code",
   "execution_count": null,
   "metadata": {
    "hidden": true,
    "id": "nHSnzNwesURc"
   },
   "outputs": [],
   "source": [
    "textos=[]\n",
    "indices=[]\n",
    "for i in dataset:\n",
    "    for j in i[\"sentences\"]:\n",
    "        textos.append(j[\"raw\"])\n",
    "        indices.append( (j[\"imgid\"],j[\"sentid\"]) )"
   ]
  },
  {
   "cell_type": "code",
   "execution_count": 62,
   "metadata": {
    "ExecuteTime": {
     "end_time": "2023-03-01T13:16:20.855443Z",
     "start_time": "2023-03-01T13:15:53.384370Z"
    },
    "colab": {
     "base_uri": "https://localhost:8080/",
     "height": 465,
     "referenced_widgets": [
      "9b08a5edd9534e76ac012a4c7f6b8f48",
      "c86df4cf666e47cea738e4d8fcbcf413",
      "134bad0cfa90442c907c7c60001ff790",
      "cfedd6a41c874e2b8234afe218a48885",
      "c513448bd85b4346a0d5cd3b3c0e11b8",
      "ba7fc150a30945208618f116a10943c4",
      "f92b8f52d85545418f800c39daa0fe02",
      "831db242edc04c6585e87f658f683284",
      "4240423a7f7f4271a92b500085731272",
      "b15f12cec2244db081c1663a66f30536",
      "b24e7ef57d964b069c6a237834e285aa",
      "6d7f826df0f74b90aee6cde8228b0560",
      "d8049376c9874d8bb9e5d26e04d81e86",
      "5a6b396903704df9b7083146f3db0a9d",
      "e58adb004d51400685670b4841205355",
      "5c06de79cdeb4a4f9e57b2d610196f79",
      "9ac3fdad04ca49d0bc804d030460f05b",
      "8239dd9421e54e318607d6c64b69125d",
      "d904c8d616794f0e99bd23c6a62cefeb",
      "c236c4bbb41f45d59b38b36f81fedef4",
      "1c4679f5aea149e889f629da442b361e",
      "63990fb5f755425ab1eb99cd7f9716b3",
      "79b44ced1c8f41d7bf62817b81b4f1b1",
      "ad8b6b70303a43f7bfdb418adc79b200",
      "ade9287291154e73aa254fb82e63be77",
      "6828a059d5194082b6c49df190802215",
      "69f1671a05ae48a698e9103ccb6645b4",
      "02a1e59961114b228b2c1c4d36d9fb6d",
      "b6cbff40240043eebe3d3983cbddb887",
      "e4cfd0cc227f41f88a662ca9711b11a3",
      "e4d32daf2c4840acba38bf7420a13fa2",
      "d6f155d5e04647bdb5ce3c1ffe2beaa3",
      "cb557c5bfc934944b1ce6eb721179d87",
      "1bec5373e2894830827803fb58791a4a",
      "59542b08fc814837837fb3db165834d4",
      "fb757ee80a7f44fab9b4b5a4fbdb42b0",
      "59c3eb325442437c94065f7fcc12a449",
      "8957beb3799a4c109e59b331a4b9dd94",
      "68a9520dc0dc4a8f9ba609f39b568124",
      "ae2c022943314397bbe3efd94a010fb5",
      "a3bea12a103b4bd397ac90a8e4426648",
      "8e5105f189284c1a95b6b429754233cd",
      "d84ff5edc0b7429297564c2faee2d54f",
      "6eb6892060914778b86e52543e6b0c9e",
      "36a14b6c93334ee3991d761ec08c0b6d",
      "efac8ec8b5a642ad83f0a7fba6dda4ae",
      "3f492c2b92374161b8432fb9b08cc093",
      "44098576d1014952940de4012c3fdc6d",
      "d45b674637b24c718583c8665d2efdef",
      "147ac6e1cb6b4410812fb0eae0dce723",
      "ccc6256aff7347ed847b7057dd8fd955",
      "b6f78fff1c0e4943b06562a180821696",
      "6223ef9a3c314ec9b5557b5c297be584",
      "6bf1a3258b694a519a963734dda9fd86",
      "854dd6e305a54ca18940d9a28ae34759",
      "9feb0ae384204049abb6823d48d79520",
      "99c15c34e80045eb876f7866bbe30d60",
      "b8a3a5da3f0a4f938e708a249293ec82",
      "d0addb59264f49e0a77349fe87bcd1fc",
      "02c16c9a948b44d0b4d65312426cbad2",
      "03434e5ce7f84b1ab3dfbfe91027c4f7",
      "8b5ec78f6e954a5094ef4e1bb8e46212",
      "e87fbdabb61948788c84d99c1591afa7",
      "95c77dbfc4814cdca322c39a15a2af2f",
      "e14906e7aa234ecea7f021b964a76f5d",
      "535994abf42c47f4914c396b0f401833",
      "35e278f7dc51413daeb118101614a22e",
      "02d9ef93f8b44ac5bfdbefe125e4d69d",
      "041f57a57bd64e7786cbfec246a2cbd6",
      "4581b2d584504e00b4332d0626b8d187",
      "b3c43760c05749229f00ad05fc4c3dfe",
      "d09893bff19e4bf299bd19087fefead5",
      "1a5dfb24b7d34eb6a1cd4b789396e27b",
      "8af427cef6f94f0da2c9d954d66e62af",
      "e2ae5881f26e4520bb1cbd55492f2639",
      "8ffd7b681df9441bb901f3131eec8d64",
      "91f5b8beaafa4673bae7b3cc7570c690",
      "15a8d26a6ce44151ad71411cb866ad6d",
      "6c01a34b60024375a3b8764d1cf46b9c",
      "8f61f8fcec784bf39b1518199e748a67",
      "5d81d7306f014191b134de5f2b7b7cd1",
      "307cc9a0c29242f6ac1da741643df78d",
      "97df791d147d45cd83513c0d4e183c74",
      "9371d5a9a0124b6a8c0f39650ad2cfda",
      "c29eded748004f238a642cb3e97d79fb",
      "3bba594da74f48249c8e3ee0652afe41",
      "4e31f36aaf2a46c7a80d290f536e7cfe",
      "d954233c123343d9bd43a5b7057915e0",
      "03a79f94aaf840e19bd08839bfca3314",
      "85973d37e144454994332d4f3f1884f8",
      "98db026739014384aea9a3dfe1e8c488",
      "7ac9a43441f1445c8cf763b831762481",
      "734ed66158a24a82ba33dfe53dd0dfbb",
      "9933ed1ec85e4eb89032c904db08ce61",
      "57c4e76163b848aabf22a198cbf7acbd",
      "7416cc410e3a4f5f90a3346cb06f3a80",
      "c611330090544fb48aec7cf92efc8070",
      "7d33f560b281420a8c49ff4d04daf13f",
      "ea8fa87209f841769e7ed83f72eb9a18",
      "3f3cff58bc26475da5a50d576da8ebad",
      "3f01bde548f24c798fd0041a6ead2615",
      "08908b29b104460cbc9741871f4d5914",
      "19b0854b192844d09ad3337d5ac98ad4",
      "9ff3944d44554345a84c1a1ba46e0de8",
      "2b9e3c7bfa3b4ed19a2bb4ec96514b3b",
      "610a9e9a8d054d0582e3b758111f5483",
      "ec7bb19e9c9f44b1a41cfe3e28830794",
      "d3edafc26946489e9c973f64abfff288",
      "6a0cdbd344ed4b43b365c96223157bf5",
      "76c03cf81a6c43619a5cdc4d44246323",
      "8fd09743e7d5405c89f104fdc6be3496",
      "7ff9d61d25f94325b033c1cb35b76dd8",
      "90a64d45a12146c280199b23818c79a5",
      "f95a79422018495da77b1b1c3aa83827",
      "1161b1d7c4ac40ceb6a417d91c810ffb",
      "9b415d43ac434f8b8b9f5357ee505d8d",
      "7f6d015bd17f4b27b9b5327cf0b2b178",
      "c57f5018a86e4cf2863f54a8dd7457b9",
      "63b919b98b434677929c5038f2e2dcda",
      "8315f8809057407e95d8608180590bf6",
      "5e0a6a5e418448268e2ba4c4471a0c59",
      "dd28fefd41f5403fa38d12c4331fa508",
      "fb14048326114c72b92966228ea91e01",
      "c4e49add7b2d4246ab8f43466175eaf0",
      "72745c0713b349d7893cc40ceda839ba",
      "739a8fbec15d448888b4fe4a6396dc87",
      "a3adb2d5dab8444d8779161f4b195cfc",
      "51b215d43bee4e048de7f2b01400e923",
      "c2fe65b3931743c49eeb4d3ad84b5d74",
      "bb7c1ef262e84a15967ba5f828ea7f67",
      "7584c2070e7446cc911e02d4be5f4f7e",
      "d12a869864ed486ea9d5f26c4ef9a37b",
      "cccf223dbbce4ece9a52e8441673d0fa",
      "5cb29053e3ac4b5faa247573500a4b1d",
      "b5f648707b1b4001a0ec336ae3835cb4",
      "c89d7c95dc04407f8f2bf01df20b7f49",
      "8f91aca4cbc14f65b39d13818432cf45",
      "bb802df468284f26ad3809a858ebf338",
      "b33fe491b70248a49733c7ae8b143efc",
      "1b67d658af544d03a0ffc0972096d36e",
      "7fa8317416fb46d4b0ea58f5f8fa89a3",
      "8b42955959354c60af4e62f07e554a82",
      "07be5aa3ba5b4bdfb731a9357194d67c",
      "24d43919a4eb4b8993f930162e8104c6",
      "101c5c90028c4fbba5d72a2fa77f333e",
      "fc4063a95b7b4afbb2631c75f11349c1",
      "01ff6b14db5e403182d6af8274da7282",
      "c7608fcfb0c7430ea40b2f2b7f938572",
      "d9b42e220b3842819e7503c2e5496550",
      "ebb1df6970c948c29f2312a83fc899ea",
      "d6366f655d5c44e2b4ae10a5ecb01884",
      "a60c060db0264456a0d1cef305204918",
      "413bd7272a244d6dba57e5c218645806",
      "884d6352e52743e491d4915c60c1af33"
     ]
    },
    "hidden": true,
    "id": "YxwKlsvJr6TK",
    "outputId": "59c55d93-7e22-4d7b-c05f-53409b9c34f5"
   },
   "outputs": [
    {
     "data": {
      "application/vnd.jupyter.widget-view+json": {
       "model_id": "93842d31c9a647a3afa9fb919bf4c24e",
       "version_major": 2,
       "version_minor": 0
      },
      "text/plain": [
       "Downloading (…)a8e1d/.gitattributes:   0%|          | 0.00/1.18k [00:00<?, ?B/s]"
      ]
     },
     "metadata": {},
     "output_type": "display_data"
    },
    {
     "data": {
      "application/vnd.jupyter.widget-view+json": {
       "model_id": "36e0158d894c465ea3bbc9baa8f24556",
       "version_major": 2,
       "version_minor": 0
      },
      "text/plain": [
       "Downloading (…)_Pooling/config.json:   0%|          | 0.00/190 [00:00<?, ?B/s]"
      ]
     },
     "metadata": {},
     "output_type": "display_data"
    },
    {
     "data": {
      "application/vnd.jupyter.widget-view+json": {
       "model_id": "04ecfff20dc04b08b9d13cc9ab3ce900",
       "version_major": 2,
       "version_minor": 0
      },
      "text/plain": [
       "Downloading (…)b20bca8e1d/README.md:   0%|          | 0.00/10.6k [00:00<?, ?B/s]"
      ]
     },
     "metadata": {},
     "output_type": "display_data"
    },
    {
     "data": {
      "application/vnd.jupyter.widget-view+json": {
       "model_id": "57a7b3d3c3d94df48b841f8872123e09",
       "version_major": 2,
       "version_minor": 0
      },
      "text/plain": [
       "Downloading (…)0bca8e1d/config.json:   0%|          | 0.00/571 [00:00<?, ?B/s]"
      ]
     },
     "metadata": {},
     "output_type": "display_data"
    },
    {
     "data": {
      "application/vnd.jupyter.widget-view+json": {
       "model_id": "7317e58cd97d43f8b19d0cb0670f8f35",
       "version_major": 2,
       "version_minor": 0
      },
      "text/plain": [
       "Downloading (…)ce_transformers.json:   0%|          | 0.00/116 [00:00<?, ?B/s]"
      ]
     },
     "metadata": {},
     "output_type": "display_data"
    },
    {
     "data": {
      "application/vnd.jupyter.widget-view+json": {
       "model_id": "a3f07cb783124ac89542cf4838b9e0b1",
       "version_major": 2,
       "version_minor": 0
      },
      "text/plain": [
       "Downloading (…)e1d/data_config.json:   0%|          | 0.00/39.3k [00:00<?, ?B/s]"
      ]
     },
     "metadata": {},
     "output_type": "display_data"
    },
    {
     "data": {
      "application/vnd.jupyter.widget-view+json": {
       "model_id": "7d6bf41a57004cb8af848b869f6fb5d2",
       "version_major": 2,
       "version_minor": 0
      },
      "text/plain": [
       "Downloading (…)\"pytorch_model.bin\";:   0%|          | 0.00/438M [00:00<?, ?B/s]"
      ]
     },
     "metadata": {},
     "output_type": "display_data"
    },
    {
     "data": {
      "application/vnd.jupyter.widget-view+json": {
       "model_id": "99a25c68bdd24857b9086509ec4323f1",
       "version_major": 2,
       "version_minor": 0
      },
      "text/plain": [
       "Downloading (…)nce_bert_config.json:   0%|          | 0.00/53.0 [00:00<?, ?B/s]"
      ]
     },
     "metadata": {},
     "output_type": "display_data"
    },
    {
     "data": {
      "application/vnd.jupyter.widget-view+json": {
       "model_id": "bf69f5f57325473a8f35398eca3a2094",
       "version_major": 2,
       "version_minor": 0
      },
      "text/plain": [
       "Downloading (…)cial_tokens_map.json:   0%|          | 0.00/239 [00:00<?, ?B/s]"
      ]
     },
     "metadata": {},
     "output_type": "display_data"
    },
    {
     "data": {
      "application/vnd.jupyter.widget-view+json": {
       "model_id": "3f17919fd86d467c9d2097c64988e1d6",
       "version_major": 2,
       "version_minor": 0
      },
      "text/plain": [
       "Downloading (…)a8e1d/tokenizer.json:   0%|          | 0.00/466k [00:00<?, ?B/s]"
      ]
     },
     "metadata": {},
     "output_type": "display_data"
    },
    {
     "data": {
      "application/vnd.jupyter.widget-view+json": {
       "model_id": "b8d18df2eeb64a009562d26511e02755",
       "version_major": 2,
       "version_minor": 0
      },
      "text/plain": [
       "Downloading (…)okenizer_config.json:   0%|          | 0.00/363 [00:00<?, ?B/s]"
      ]
     },
     "metadata": {},
     "output_type": "display_data"
    },
    {
     "data": {
      "application/vnd.jupyter.widget-view+json": {
       "model_id": "939d7f7050a641c49431b3acd38f487f",
       "version_major": 2,
       "version_minor": 0
      },
      "text/plain": [
       "Downloading (…)8e1d/train_script.py:   0%|          | 0.00/13.1k [00:00<?, ?B/s]"
      ]
     },
     "metadata": {},
     "output_type": "display_data"
    },
    {
     "data": {
      "application/vnd.jupyter.widget-view+json": {
       "model_id": "853743a0ac0546b0a8f92128dc591a5c",
       "version_major": 2,
       "version_minor": 0
      },
      "text/plain": [
       "Downloading (…)b20bca8e1d/vocab.txt:   0%|          | 0.00/232k [00:00<?, ?B/s]"
      ]
     },
     "metadata": {},
     "output_type": "display_data"
    },
    {
     "data": {
      "application/vnd.jupyter.widget-view+json": {
       "model_id": "eb93981f7c2f44bbb418d17ff76b5939",
       "version_major": 2,
       "version_minor": 0
      },
      "text/plain": [
       "Downloading (…)bca8e1d/modules.json:   0%|          | 0.00/349 [00:00<?, ?B/s]"
      ]
     },
     "metadata": {},
     "output_type": "display_data"
    }
   ],
   "source": [
    "from sentence_transformers import SentenceTransformer\n",
    "model = SentenceTransformer('all-mpnet-base-v2')"
   ]
  },
  {
   "cell_type": "code",
   "execution_count": 63,
   "metadata": {
    "ExecuteTime": {
     "end_time": "2023-03-01T16:02:22.262780Z",
     "start_time": "2023-03-01T13:16:34.048010Z"
    },
    "colab": {
     "base_uri": "https://localhost:8080/",
     "height": 49,
     "referenced_widgets": [
      "4dbeaf6742b84b329e2fdfaf3a43300d",
      "f74f13c12cc546a1af7b70ae54985356",
      "46817e7104004f9aa41e9dc1cb5e16e5",
      "0b31477bcd1343f1a8e2f631ce1a3264",
      "5ba8e17a518040808736d454ccaa88aa",
      "3684c0f23c044ec4826273be50634b8d",
      "c9f091ca7dfd42e8b1f032470a29e2c9",
      "9317aa07051b45128dbb047fd5f47bd1",
      "7e61460fd5704dc38dadb18c5c0754c4",
      "228afedf420a486ab484c5e6de6be0d5",
      "fa763922d6a44c8ea2fff113e419bb41"
     ]
    },
    "hidden": true,
    "id": "etYfbjaAr-oR",
    "outputId": "8dcde28e-5b37-47e3-8c5a-c66c5dd74d57"
   },
   "outputs": [
    {
     "data": {
      "application/vnd.jupyter.widget-view+json": {
       "model_id": "b27aeccb79ee4a17861f19a83ff6de76",
       "version_major": 2,
       "version_minor": 0
      },
      "text/plain": [
       "Batches:   0%|          | 0/19264 [00:00<?, ?it/s]"
      ]
     },
     "metadata": {},
     "output_type": "display_data"
    }
   ],
   "source": [
    "embeddings_t= model.encode(textos, show_progress_bar=True)"
   ]
  },
  {
   "cell_type": "code",
   "execution_count": 64,
   "metadata": {
    "ExecuteTime": {
     "end_time": "2023-03-01T16:04:05.139079Z",
     "start_time": "2023-03-01T16:04:05.120068Z"
    },
    "colab": {
     "base_uri": "https://localhost:8080/"
    },
    "hidden": true,
    "id": "gwoAHMjgukfY",
    "outputId": "19aa9f18-eb91-4278-c3f7-476cf2aa7f85"
   },
   "outputs": [
    {
     "data": {
      "text/plain": [
       "(616435, 768)"
      ]
     },
     "execution_count": 64,
     "metadata": {},
     "output_type": "execute_result"
    }
   ],
   "source": [
    "embeddings_t.shape"
   ]
  },
  {
   "cell_type": "code",
   "execution_count": 65,
   "metadata": {
    "ExecuteTime": {
     "end_time": "2023-03-01T16:04:10.848235Z",
     "start_time": "2023-03-01T16:04:09.142615Z"
    },
    "hidden": true,
    "id": "WUZRVMCpt3Lz"
   },
   "outputs": [],
   "source": [
    "np.save(\"MPNET_COCO.npy\",embeddings_t)\n",
    "#np.save(\"MPNET_F30K.npy\",embeddings_t)"
   ]
  },
  {
   "cell_type": "code",
   "execution_count": null,
   "metadata": {
    "hidden": true,
    "id": "r8m9m2m4um2x"
   },
   "outputs": [],
   "source": [
    "np.save(\"MPNET_F30K_indices.npy\",indices)"
   ]
  },
  {
   "cell_type": "code",
   "execution_count": null,
   "metadata": {
    "hidden": true,
    "id": "6JsHq2ChCoAX"
   },
   "outputs": [],
   "source": [
    "indice_mpnet= np.load(path+\"/MPNET_F30K_indices.npy\")"
   ]
  },
  {
   "cell_type": "markdown",
   "metadata": {
    "id": "RDx4h-RpOhsb"
   },
   "source": [
    "## Evaluation"
   ]
  },
  {
   "cell_type": "code",
   "execution_count": 10,
   "metadata": {
    "ExecuteTime": {
     "end_time": "2023-04-13T03:00:03.870641Z",
     "start_time": "2023-04-13T03:00:03.778799Z"
    },
    "id": "AIxiwk4qOikt"
   },
   "outputs": [],
   "source": [
    "\n",
    "import concurrent.futures\n",
    "from collections import defaultdict\n",
    "from scipy.sparse import csr_matrix\n",
    "import sklearn\n",
    "from sklearn.metrics.pairwise import cosine_similarity\n",
    "import sklearn.preprocessing\n",
    "import gc\n",
    "\n",
    "def get_batch_data(data, index, size):\n",
    "    \"\"\"\n",
    "    For minibatch training\n",
    "    \"\"\"\n",
    "  \n",
    "    column_1 = []\n",
    "    column_2 = []\n",
    "    for i in range(index, index + size):\n",
    "        line = data[i]\n",
    "        column_1.append(int(line[0]))#text\n",
    "        column_2.append(int(line[1]))#img\n",
    "    return np.array(column_1), np.array(column_2)\n",
    "\n",
    "\n",
    "_model = None\n",
    "_universe_query= None\n",
    "_retrieval= None\n",
    "evaluation_Q_= None\n",
    "_universe_value= None\n",
    "_list_rank= None\n",
    "_at_k= None\n",
    "evaluation_V_=None\n",
    "def evaluate_model(model, nDCG, split, retrieval): #i2i\n",
    "    \"\"\"\n",
    "    evaluate model\n",
    "    \"\"\"\n",
    "    global _model\n",
    "    global _universe_query\n",
    "    global _universe_value\n",
    "    global _retrieval\n",
    "    global evaluation_Q_\n",
    "    global _list_rank\n",
    "    global _at_k\n",
    "    global evaluation_V_\n",
    "    \n",
    "    _list_rank= []\n",
    "    _retrieval=retrieval\n",
    "    _model = model\n",
    "    test_users = []\n",
    "    results=[]\n",
    "    output= []\n",
    "    _at_k=10\n",
    "    \n",
    "    #-----------------------------------------------------------\n",
    "    if _retrieval==\"t2i\":\n",
    "      _universe_query= universe_text\n",
    "      _universe_value= universe_img\n",
    "      if split==\"val\":\n",
    "        evaluation_Q_= val_r_img\n",
    "        evaluation_V_= list(val_r_text.keys())\n",
    "      if split==\"test\": #test\n",
    "        evaluation_Q_= test_r_img\n",
    "        evaluation_V_= list(test_r_text.keys())\n",
    "    \n",
    "    else:  #i2t\n",
    "      _universe_query= universe_img\n",
    "      _universe_value= universe_text\n",
    "      if split==\"val\":\n",
    "        evaluation_Q_= val_r_text\n",
    "        evaluation_V_= list(val_r_img.keys())\n",
    "      else: #test\n",
    "        evaluation_Q_= test_r_text\n",
    "        evaluation_V_= list(test_r_img.keys())\n",
    "\n",
    "    evaluation_Q_num = len(evaluation_Q_.keys())\n",
    "    \n",
    "    #if i2i:\n",
    "     #   return t2i( _model, split ,aux_mod=True)\n",
    "    \n",
    "    result_acumulate= np.array([0.] * 3) # 3 metrics\n",
    "    for q in evaluation_Q_.keys():\n",
    "        result_acumulate+=eval_one_user(q,split) \n",
    "\n",
    "    ret = result_acumulate / evaluation_Q_num #avg \n",
    "    ret = list(ret)\n",
    "\n",
    "    results.append(ret)\n",
    "    output.append(results)\n",
    "    \n",
    "\n",
    "    if nDCG:\n",
    "        ndcg_i2t,ndcg_t2i= i2t( _model,split) ,t2i( _model, split)\n",
    "        ndcg_i2i, ndcg_t2t= t2i( _model, split ,aux_mod=True), t2t( _model,split)\n",
    "        output.append((ndcg_i2t,ndcg_t2i, ndcg_i2i,ndcg_t2t))\n",
    "      \n",
    "    \n",
    "    return output\n",
    "\n",
    "\n",
    "\n",
    "def eval_one_user(query,split):\n",
    "    \"\"\"\n",
    "    each evaluation\n",
    "    \"\"\"\n",
    "    \n",
    "    rating = _model.predict(_universe_query.index(query), _retrieval,split)\n",
    "    #gc.collect()\n",
    "    if _retrieval==\"t2i\":\n",
    "      ground_truth = [ evaluation_Q_[query] ] #one img\n",
    "    else: #i2t\n",
    "      ground_truth =  evaluation_Q_[query] #list\n",
    "      #print(query)\n",
    "    \n",
    "    rank_=np.argsort(-rating)\n",
    "    rank= [evaluation_V_[i]  for i in rank_[:_at_k]]\n",
    "\n",
    "\n",
    "    result = []\n",
    "    result.append(recall_at_k(rank, ground_truth, 1))\n",
    "    result.append(recall_at_k(rank, ground_truth, 5))\n",
    "    result.append(recall_at_k(rank, ground_truth, 10))\n",
    "\n",
    "    \n",
    "    return np.array(result)\n",
    "\n",
    "\n",
    "\n",
    "def recall_at_k(rank, ground_truth, k):\n",
    "    \"\"\"\n",
    "    Recall\n",
    "    \"\"\"\n",
    "    #return 100 * len(set(rank[:k]) & set(ground_truth)) / len(ground_truth)\n",
    "    if len(set(rank[:k]) & set(ground_truth))>=1:\n",
    "        return 100\n",
    "    else:\n",
    "        return 0\n",
    "\n",
    "\n",
    "def calculate_diversity(_list_rank):\n",
    "    \"\"\" \n",
    "    max_= len(_universe_value)    \n",
    "    coverage= set()\n",
    "    label_binarizer = sklearn.preprocessing.LabelBinarizer()\n",
    "    label_binarizer.fit(range(max_))\n",
    "    list_=[]\n",
    "    dict_count={}\n",
    "    for rank in _list_rank: # each RANKING\n",
    "        coverage= coverage | set(rank)\n",
    "        list_.append( np.sum(label_binarizer.transform(rank),axis=0) )\n",
    "        for i in rank:\n",
    "            if i not in dict_count:\n",
    "                dict_count[i]=1\n",
    "            else:\n",
    "                dict_count[i]+=1\n",
    "    recs_content=csr_matrix(np.array(list_) )\n",
    "    #calculate similarity scores for all items in list\n",
    "    similarity = cosine_similarity(X=recs_content, dense_output=False)\n",
    "    #get indicies for upper right triangle w/o diagonal\n",
    "    upper_right = np.triu_indices(similarity.shape[0], k=1)\n",
    "    diversity_cos = np.mean(similarity[upper_right])\n",
    "    \n",
    "    \"\"\"\n",
    "    dict_count={}\n",
    "    for rank in _list_rank: # each RANKING\n",
    "        #coverage= coverage | set(rank)\n",
    "        #list_.append( np.sum(label_binarizer.transform(rank),axis=0) )\n",
    "        for i in rank:\n",
    "            if i not in dict_count:\n",
    "                dict_count[i]=1\n",
    "            else:\n",
    "                dict_count[i]+=1\n",
    "    #novelty-diver\n",
    "    nov=0\n",
    "    for rank in _list_rank: # each RANKING\n",
    "        self_information=0\n",
    "        for i in rank:\n",
    "            self_information += np.sum( -np.log2(dict_count[i]/len(evaluation_Q_)) )\n",
    "        nov+=self_information/_at_k #top\n",
    "    \n",
    "    return (0., 0., nov/len(evaluation_Q_)) #(diversity_cos, len(coverage)/max_, nov/len(evaluation_Q_))\n",
    "       \n"
   ]
  },
  {
   "cell_type": "code",
   "execution_count": 11,
   "metadata": {
    "ExecuteTime": {
     "end_time": "2023-04-13T03:00:05.812887Z",
     "start_time": "2023-04-13T03:00:05.783343Z"
    },
    "code_folding": [],
    "id": "PSSaY9wjvodv"
   },
   "outputs": [],
   "source": [
    "# (C) Mathieu Blondel, November 2013\n",
    "# License: BSD 3 clause\n",
    "#Original https://github.com/mesnico/TERAN/blob/master/evaluate_utils/dcg.py\n",
    "\n",
    "import numpy as np\n",
    "import os\n",
    "\n",
    "class DCG:\n",
    "    def __init__(self, rank=25, relevance_methods=['rougeL'], split=\"val\", data=name_data): # config, n_queries, split\n",
    "        self.rank = rank\n",
    "        self.relevance_methods = relevance_methods\n",
    "        #n_queries=npts\n",
    "        if data==\"F30K\":\n",
    "            if split==\"val\":\n",
    "                relevance_filenames= [path+\"/f30k-val-rougeL.npy\", path+\"/f30k-val-spice.npy\"] #5.140.980= 5070x1014\n",
    "                self.npts= 1014 #images\n",
    "            else:#test\n",
    "                relevance_filenames= [path+\"/f30k-test-rougeL.npy\", path+\"/f30k-test-spice.npy\"] #500.000=5000x1000\n",
    "                self.npts= 1000 #images\n",
    "        else: #coco\n",
    "            if split==\"val\":\n",
    "                relevance_filenames= [path+\"/coco-val-rougeL.npy\", path+\"/coco-val-spice.npy\"] #(5000,1000)\n",
    "                self.npts=1000 # [:5000] line 60 https://github.com/mesnico/TERN/blob/master/data.py\n",
    "            else:\n",
    "                relevance_filenames= [path+\"/coco-test-rougeL.npy\", path+\"/coco-test-spice.npy\"] #(25000,5000)\n",
    "                self.npts=5000 #images\n",
    "        \n",
    "        self.relevances = [np.memmap(f, dtype=np.float32, mode='r') for f in relevance_filenames]\n",
    "        \n",
    "        # una fila se lleva a una matriz de n_queries filas y lo que quede de columnas (en orden)\n",
    "        for r in self.relevances:\n",
    "            r.shape = (self.npts*5, -1) #debe dividir a 5 millones\n",
    "\n",
    "    def compute_ndcg(self, query_id, sorted_indexes, fold_index=0, retrieval='t2i'):\n",
    "        \"\"\"\n",
    "        sorted_indexe: all sorted indices\n",
    "        query_id: image retrieval \\in [0,5000], sentence retrieval \\in [0,1000]\n",
    "        # npts: images.shape[0] // 5\n",
    "        fold_index= for 5fold cross-validation, only for MSCOCO\n",
    "        \"\"\"\n",
    "        sorted_indexes = sorted_indexes[:self.rank] #TOP@K\n",
    "        if retrieval == 't2i':\n",
    "            query_base = self.npts * 5 * fold_index #0\n",
    "            #caption query pertenece a  [0,5000] valores de relevancia en vector [0,1000] imagenes\n",
    "            # (5000,1000)\n",
    "            relevances = [r[query_base + query_id, fold_index * self.npts : (fold_index + 1) * self.npts] for r in self.relevances]\n",
    "        elif retrieval == 'i2t':\n",
    "            query_base = self.npts * fold_index #0\n",
    "            #  valores de relevancia en vector [0,5000] captions, image query pertenece a  [0,1000] \n",
    "            relevances = [r[fold_index * self.npts * 5 : (fold_index + 1) * self.npts * 5, query_base + query_id] for r in self.relevances]\n",
    "        # por métrica: ndcg(valor de relevancia, posición del ranking) \n",
    "        #print(r.shape)\n",
    "        ndcg_scores = [ ndcg_from_ranking(r, sorted_indexes)  for r in relevances]\n",
    "        out = {k: v for k, v in zip(self.relevance_methods, ndcg_scores)}\n",
    "        return out\n",
    "\n",
    "\n",
    "    \n",
    "\n",
    "\n",
    "def ndcg_from_ranking(y_true, ranking):\n",
    "\n",
    "    # El orden del muestreo es irrelevante en ndcg_from_ranking o dcg_score:\n",
    "    # [0.5, 0.3, 0.2], [2, 1, 0] == [0.2, 0.3, 0.5], [0, 1, 2]\n",
    "    # lo que importan es el mach (relevancia,posición del ranking)\n",
    "    \n",
    "    \"\"\"Normalized discounted cumulative gain (NDCG) at rank k\n",
    "    Parameters\n",
    "    ----------\n",
    "    y_true : array-like, shape = [n_samples]\n",
    "        Ground truth (true relevance labels).\n",
    "    ranking : array-like, shape = [k]\n",
    "        Document indices, i.e.,\n",
    "            ranking[0] is the index of top-ranked document,\n",
    "            ranking[1] is the index of second-ranked document,\n",
    "            ...\n",
    "    k : int\n",
    "        Rank.\n",
    "    Returns\n",
    "    -------\n",
    "    NDCG @k : float\n",
    "    \"\"\"\n",
    "    k = len(ranking)\n",
    "    best_ranking = np.argsort(y_true)[::-1]#indices de mayor a menor valores\n",
    "    best = dcg_from_ranking(y_true, best_ranking[:k]) #el mejor posible \n",
    "    if best == 0:\n",
    "        return 0\n",
    "    return dcg_from_ranking(y_true, ranking) / best\n",
    "\n",
    "def dcg_from_ranking(y_true, ranking):\n",
    "    #Por ejemplo en el caso binario:\n",
    "    #dcg_from_ranking([1, 0, 0], [2, 1, 0])=0.5= 0+0+1/log_2(4)\n",
    "    #dcg_from_ranking([1, 0, 0], [0, 1, 2])=1.0= 1/log_2(2)+0+0\n",
    "    #Además, corta solo para el top@K\n",
    "    \"\"\"Discounted cumulative gain (DCG) at rank k\n",
    "    Parameters\n",
    "    ----------\n",
    "    y_true : array-like, shape = [n_samples]\n",
    "        Ground truth (true relevance labels). #comunmente binario\n",
    "    ranking : array-like, shape = [k]\n",
    "        Document indices, i.e.,\n",
    "            ranking[0] is the index of top-ranked document,\n",
    "            ranking[1] is the index of second-ranked document,\n",
    "            ...\n",
    "    k : int\n",
    "        Rank.\n",
    "    Returns\n",
    "    -------\n",
    "    DCG @k : float\n",
    "    \"\"\"\n",
    "    y_true = np.asarray(y_true)\n",
    "    ranking = np.asarray(ranking)\n",
    "    #ordena y toma el subconjunto de los valores de y_true con respecto al ranking asociado\n",
    "    rel = y_true[ranking] #normalmente esta es binaria\n",
    "    gains = 2 ** rel - 1 #en el caso continuo, [0,1] y no {0,1}\n",
    "    discounts = np.log2(np.arange(len(ranking)) + 2)\n",
    "    return np.sum(gains / discounts)#div pointwise\n",
    "\n",
    "\n",
    "#Original https://github.com/mesnico/TERAN/blob/master/evaluation.py\n",
    "\n",
    "\n",
    "#n_queries= 5000 #img son 1000 files son 5000000==5000*1000\n",
    "\n",
    "\n",
    "def i2t( model, split, n_ndcg=True, d_n=True, top=25):\n",
    "    \"\"\"\n",
    "    TEXT RETRIEVAL\n",
    "    \n",
    "    model: Dado un img query el modelo debe dar el ranking asociado (largo 5000, de 0 a 4999) en orden de aparición!!!\n",
    "    splt: \"val\" or \"test\"\n",
    "    n_ndcg: novelty ndcg\n",
    "    d_n: other list metrics diversity and novelty of lists\n",
    "    \"\"\"\n",
    "    output=[]\n",
    "    \n",
    "    if split==\"val\":\n",
    "      eval_indices= list(val_r_text.keys()) #img\n",
    "      all_indices= all_val_indices_img #original order  \n",
    "      eval_values= list(val_r_img.keys()) #text\n",
    "      all_values= all_val_indices_text #original order\n",
    "    else:#test\n",
    "      eval_indices= list(test_r_text.keys()) #img\n",
    "      all_indices= all_test_indices_img #original order \n",
    "      eval_values= list(test_r_img.keys())#text\n",
    "      all_values= all_test_indices_text #original order\n",
    "\n",
    "    \n",
    "\n",
    "    ndcg_scorer = DCG(rank=top, relevance_methods=['rougeL', 'spice'], split=split)\n",
    "    rougel_ndcgs = np.zeros(ndcg_scorer.npts)\n",
    "    spice_ndcgs = np.zeros(ndcg_scorer.npts)\n",
    "    div_rankings=[]\n",
    "    \n",
    "    nov_rankings= []\n",
    "    \n",
    "    \n",
    "    for index in range(len(eval_indices)): #range(npts): #each QUERY\n",
    "        rating= model.predict( universe_img.index(eval_indices[index]) , \"i2t\", split)      \n",
    "        if d_n:\n",
    "            rank_=np.argsort(-rating)\n",
    "            div_rankings.append( rank_[:top] )\n",
    "        # positions in order wrt rating (only for evaluation)    \n",
    "        indices_= np.argsort( -np.array( rating) ) \n",
    "        # get original position (in order by the model)\n",
    "        inds= [all_values.index(eval_values[i]) for i in indices_] #order of values = eval_values\n",
    "        \n",
    "        rougel_ndcgs[index], spice_ndcgs[index] = ndcg_scorer.compute_ndcg(all_indices.index(eval_indices[index]), inds,retrieval='i2t').values()\n",
    "        \n",
    "        if n_ndcg:\n",
    "            nov_rankings.append(inds)\n",
    "    \n",
    "    \n",
    "    mean_rougel_ndcg = np.mean(rougel_ndcgs[rougel_ndcgs != 0])\n",
    "    mean_spice_ndcg = np.mean(spice_ndcgs[spice_ndcgs != 0])\n",
    "    output.append( (mean_rougel_ndcg, mean_spice_ndcg) )\n",
    "    \n",
    "    if n_ndcg:\n",
    "        eval_indices_all=[all_indices.index(i) for i in eval_indices]\n",
    "        rankings={k: v for k, v in zip(eval_indices_all,nov_rankings)}\n",
    "        \n",
    "        myAlpha = AlphaNDCG(rankings= rankings, retrieval= \"i2t\",ndcg_scorer=ndcg_scorer, method=\"rougeL\")\n",
    "        novedad_rougeL=myAlpha.calculate()\n",
    "        \n",
    "        myAlpha = AlphaNDCG(rankings= rankings, retrieval= \"i2t\",ndcg_scorer=ndcg_scorer, method=\"spice\")\n",
    "        novedad_spice=myAlpha.calculate()\n",
    "        \n",
    "        output.append((novedad_rougeL,novedad_spice))\n",
    "    if d_n:\n",
    "        cos_div,coverage,nov= calculate_diversity(div_rankings)\n",
    "        output.append((coverage,cos_div,nov))\n",
    "    return output\n",
    "\n",
    "\n",
    "def t2i( model,split,n_ndcg=True, d_n=True, aux_mod=False,top=25):\n",
    "    #aux_mod for i2i\n",
    "    output=[]\n",
    "    if split==\"val\":\n",
    "      eval_indices= list(val_r_img.keys()) #text\n",
    "      all_indices= all_val_indices_text \n",
    "      eval_values= len(val_r_text.keys()) #img\n",
    "      all_values= all_val_indices_img \n",
    "    else:\n",
    "      eval_indices= list(test_r_img.keys())\n",
    "      all_indices= all_test_indices_text  \n",
    "      eval_values= list(test_r_text.keys())\n",
    "      all_values= all_test_indices_img \n",
    "\n",
    "\n",
    "    ndcg_scorer = DCG( rank=top, relevance_methods=['rougeL', 'spice'],split=split)\n",
    "    rougel_ndcgs = np.zeros(5*ndcg_scorer.npts)\n",
    "    spice_ndcgs = np.zeros(5*ndcg_scorer.npts)\n",
    "    \n",
    "    nov_rankings= []\n",
    "    div_rankings=[]\n",
    "    \n",
    "    \n",
    "    for index in range( len(eval_indices)//5 ): \n",
    "        \n",
    "        for i in range(5): #5 query captions\n",
    "            if aux_mod==False: #t2i\n",
    "                rating= model.predict( universe_text.index(eval_indices[5 * index + i]), \"t2i\", split)\n",
    "            #i2i\n",
    "            else:#t->i-> retrieval: each t have a diferent rel wrt each grup of images.\n",
    "                rating= model.predict( universe_img.index(eval_values[index]) , \"i2i\",split)\n",
    "            \n",
    "            if d_n:\n",
    "                rank_=np.argsort(-rating)\n",
    "                div_rankings.append( rank_[:top] )\n",
    "            \n",
    "            indices_= np.argsort( -np.array(rating) ) \n",
    "            inds= [all_values.index(eval_values[j]) for j in indices_] \n",
    "\n",
    "            rougel_ndcgs[5 * index + i], spice_ndcgs[5 * index + i] = ndcg_scorer.compute_ndcg(all_indices.index(eval_indices[5 * index + i]), inds, retrieval='t2i').values()\n",
    "            if n_ndcg:\n",
    "                nov_rankings.append(inds)\n",
    "            \n",
    "            \n",
    "            \n",
    "    mean_rougel_ndcg = np.mean(rougel_ndcgs[rougel_ndcgs != 0])\n",
    "    mean_spice_ndcg = np.mean(spice_ndcgs[spice_ndcgs != 0])\n",
    "    output.append((mean_rougel_ndcg, mean_spice_ndcg))\n",
    "    \n",
    "    if n_ndcg:\n",
    "        eval_indices_all=[all_indices.index(i) for i in eval_indices]\n",
    "        rankings={k: v for k, v in zip( eval_indices_all, nov_rankings)}\n",
    "        myAlpha = AlphaNDCG(rankings= rankings, retrieval= \"t2i\",ndcg_scorer=ndcg_scorer, method=\"rougeL\")\n",
    "        novedad_rougeL=myAlpha.calculate()\n",
    "        myAlpha = AlphaNDCG(rankings= rankings, retrieval= \"t2i\",ndcg_scorer=ndcg_scorer, method=\"spice\")\n",
    "        novedad_spice=myAlpha.calculate()\n",
    "        output.append((novedad_rougeL,novedad_spice))\n",
    "        \n",
    "    if d_n:\n",
    "        cos_div,coverage,nov= calculate_diversity(div_rankings)\n",
    "        output.append((coverage,cos_div,nov))\n",
    "    \n",
    "    return output\n",
    "\n",
    "\n",
    "def t2t( model, split,n_ndcg=True, d_n=True,top=25):\n",
    "\n",
    "    output=[]\n",
    "   \n",
    "    if split==\"val\":\n",
    "      #eval_indices= list(val_r_text.keys()) #img\n",
    "      all_indices= all_val_indices_img #img \n",
    "      all= all_val_indices_text \n",
    "      eval_dic= val_r_img\n",
    "    else:\n",
    "      #eval_indices= list(test_r_text.keys()) #img\n",
    "      all_indices= all_test_indices_img #img \n",
    "      all= all_test_indices_text\n",
    "      eval_dic= test_r_img\n",
    "      \n",
    "    eval_values= list(eval_dic.keys()) # texts\n",
    "    \n",
    "\n",
    "    ndcg_scorer = DCG( rank=top, relevance_methods=['rougeL', 'spice'], split=split)\n",
    "    rougel_ndcgs = np.zeros(5*ndcg_scorer.npts)\n",
    "    spice_ndcgs = np.zeros(5*ndcg_scorer.npts)\n",
    "    querys=[]\n",
    "    \n",
    "    nov_rankings= []\n",
    "    div_rankings=[]\n",
    "    for index in range( len(eval_values)): \n",
    "        rating= model.predict( universe_text.index(eval_values[index]) , \"t2t\",split)\n",
    "        if d_n:\n",
    "            rank_=np.argsort(-rating)\n",
    "            div_rankings.append( rank_[:top] )\n",
    "        \n",
    "        \n",
    "        indices_= np.argsort( -np.array(rating) ) \n",
    "        inds= [all.index(eval_values[i]) for i in indices_] \n",
    "        #t->i->index\n",
    "        img_query_from_text=all_indices.index(eval_dic[eval_values[index]]) \n",
    "        querys.append(img_query_from_text)\n",
    "        \n",
    "        rougel_ndcgs[index], spice_ndcgs[index] = ndcg_scorer.compute_ndcg( img_query_from_text, inds,retrieval='i2t').values()\n",
    "        if n_ndcg:\n",
    "            nov_rankings.append(inds)\n",
    "    \n",
    "        \n",
    "    mean_rougel_ndcg = np.mean(rougel_ndcgs[rougel_ndcgs != 0])\n",
    "    mean_spice_ndcg = np.mean(spice_ndcgs[spice_ndcgs != 0])\n",
    "    output.append((mean_rougel_ndcg, mean_spice_ndcg))\n",
    "    \n",
    "    if n_ndcg:\n",
    "        rankings={k: v for k, v in zip(querys,nov_rankings)}\n",
    "        myAlpha = AlphaNDCG(rankings= rankings, retrieval= \"i2t\",ndcg_scorer=ndcg_scorer, method=\"rougeL\")\n",
    "        novedad_rougeL=myAlpha.calculate()\n",
    "        myAlpha = AlphaNDCG(rankings= rankings, retrieval= \"i2t\",ndcg_scorer=ndcg_scorer, method=\"spice\")\n",
    "        novedad_spice=myAlpha.calculate()\n",
    "        output.append((novedad_rougeL,novedad_spice))\n",
    "        \n",
    "    if d_n:\n",
    "        cos_div,coverage,nov= calculate_diversity(div_rankings)\n",
    "        output.append((coverage,cos_div,nov))\n",
    "    \n",
    "    return output\n",
    "\n"
   ]
  },
  {
   "cell_type": "code",
   "execution_count": 12,
   "metadata": {
    "ExecuteTime": {
     "end_time": "2023-04-13T03:00:07.811749Z",
     "start_time": "2023-04-13T03:00:07.797754Z"
    },
    "code_folding": []
   },
   "outputs": [],
   "source": [
    "class AlphaNDCG(object):\n",
    " def __init__(self, alpha=0.5, top=25,rankings=None,  retrieval= \"i2t\",ndcg_scorer=None, method= None):\n",
    "  self.alpha = alpha\n",
    "  self.fold_index=0\n",
    "  self.retrieval= retrieval\n",
    "  self.all_rankings= rankings\n",
    "  self.ndcg_scorer= ndcg_scorer\n",
    "  self.mode= ['rougeL', 'spice'].index(method)\n",
    "  self.top= top\n",
    "  self.npts= self.ndcg_scorer.npts\n",
    "\n",
    "\n",
    " def relevance(self, query_id):\n",
    "    \n",
    "\n",
    "    if self.retrieval == 't2i':\n",
    "                query_base = self.npts * 5 * self.fold_index #0\n",
    "                relevances = [r[query_base + query_id, self.fold_index * self.npts : (self.fold_index + 1) * self.npts] for r in self.ndcg_scorer.relevances]\n",
    "    if self.retrieval == 'i2t':\n",
    "                query_base = self.npts * self.fold_index #0\n",
    "                relevances = [r[self.fold_index * self.npts * 5 : (self.fold_index + 1) * self.npts * 5, query_base + query_id] for r in self.ndcg_scorer.relevances]\n",
    "\n",
    "    return relevances[self.mode]\n",
    "\n",
    "\n",
    " def top_querys(self, query_id,querys_a_ordenar):   \n",
    "\n",
    "    if self.retrieval == 't2i':\n",
    "        value_retrieval= \"i2t\" #value=img pasa a ser query para retrieval de text\n",
    "    if self.retrieval == 'i2t':\n",
    "        value_retrieval= \"t2i\"\n",
    "        \n",
    "    if value_retrieval == 't2i': #retrieval img quer\n",
    "                query_base = self.npts * 5 * self.fold_index #0\n",
    "                relevances = [r[query_base + query_id, self.fold_index * self.npts : (self.fold_index + 1) * self.npts] for r in self.ndcg_scorer.relevances]\n",
    "    if value_retrieval == 'i2t':\n",
    "                query_base = self.npts * self.fold_index #0\n",
    "                relevances = [r[self.fold_index * self.npts * 5 : (self.fold_index + 1) * self.npts * 5, query_base + query_id] for r in self.ndcg_scorer.relevances]\n",
    "\n",
    "                \n",
    "    return sorted(querys_a_ordenar, key=lambda x: list(relevances[self.mode])[x], reverse= True)[:self.top] \n",
    "\n",
    "\n",
    "\n",
    "\n",
    "\n",
    " def ideal_value(self):\n",
    "   # normalizarion with top most relevant per query \n",
    "  ndcg=0\n",
    "  for query in self.all_rankings: # each ranking\n",
    "   ranking= np.argsort(-self.relevance(query))[:self.top] #top by relevance\n",
    "   metric=0\n",
    "   i=1\n",
    "\n",
    "   for value in ranking: #each value\n",
    "        if i==1: #first \n",
    "            sum_numerator=self.relevance(query)[value]\n",
    "            rel_ac= self.relevance(query)[value]\n",
    "        else:\n",
    "            sum_numerator+=self.relevance(query)[value]  * ( (1 - self.alpha)**rel_ac )\n",
    "            rel_ac+= self.relevance(query)[value]\n",
    "\n",
    "        metric+= sum_numerator/np.log2(i+1)\n",
    "        i+=1\n",
    "      \n",
    "   ndcg+=metric\n",
    "\n",
    "  return ndcg/ len(self.all_rankings) #mean\n",
    "\n",
    "\n",
    "\n",
    " def calculate(self):\n",
    "  ndcg=0\n",
    "  normalization= self.ideal_value()\n",
    "    \n",
    "  for query in self.all_rankings: # each ranking\n",
    "    ranking= self.all_rankings[query][:self.top]\n",
    "    metric=0\n",
    "    i=1\n",
    "    for value in ranking: #each value\n",
    "     if i==1:\n",
    "        sum_numerator=self.relevance(query)[value]\n",
    "        rel_ac= self.relevance(query)[value]\n",
    "     else:\n",
    "        sum_numerator+=self.relevance(query)[value]  * ( (1 - self.alpha)**rel_ac )\n",
    "        rel_ac+= self.relevance(query)[value]\n",
    "         \n",
    "     metric+= sum_numerator/np.log2(i+1)\n",
    "     i+=1\n",
    "      \n",
    "    ndcg+=metric/ normalization\n",
    "\n",
    "  return ndcg/ len(self.all_rankings) #mean\n",
    "\n",
    "\n",
    "     "
   ]
  },
  {
   "cell_type": "markdown",
   "metadata": {
    "id": "3s87il2VP7s6"
   },
   "source": [
    "## Model"
   ]
  },
  {
   "cell_type": "markdown",
   "metadata": {},
   "source": [
    "https://keras.io/examples/vision/siamese_network/"
   ]
  },
  {
   "cell_type": "code",
   "execution_count": 13,
   "metadata": {
    "ExecuteTime": {
     "end_time": "2023-04-13T03:00:09.712302Z",
     "start_time": "2023-04-13T03:00:09.698122Z"
    }
   },
   "outputs": [
    {
     "name": "stdout",
     "output_type": "stream",
     "text": [
      "2.12.0\n"
     ]
    }
   ],
   "source": [
    "import tensorflow as tf\n",
    "import gc\n",
    "print(tf.__version__)\n"
   ]
  },
  {
   "cell_type": "code",
   "execution_count": 59,
   "metadata": {
    "ExecuteTime": {
     "end_time": "2023-03-31T00:26:31.190128Z",
     "start_time": "2023-03-31T00:26:31.180020Z"
    }
   },
   "outputs": [
    {
     "data": {
      "text/plain": [
       "<tf.Tensor: shape=(2, 2, 2), dtype=float64, numpy=\n",
       "array([[[0.5, 0. ],\n",
       "        [0.5, 0. ]],\n",
       "\n",
       "       [[0.5, 0. ],\n",
       "        [0.5, 0. ]]])>"
      ]
     },
     "execution_count": 59,
     "metadata": {},
     "output_type": "execute_result"
    }
   ],
   "source": [
    "tf.math.l2_normalize(np.array([[[1.,0.],[1.,0.] ],[[1.,0.],[1.,0.] ] ]))"
   ]
  },
  {
   "cell_type": "code",
   "execution_count": 55,
   "metadata": {
    "ExecuteTime": {
     "end_time": "2023-03-31T00:26:00.192252Z",
     "start_time": "2023-03-31T00:26:00.171218Z"
    }
   },
   "outputs": [
    {
     "data": {
      "text/plain": [
       "<tf.Tensor: shape=(2, 2, 2), dtype=float32, numpy=\n",
       "array([[[1., 0.],\n",
       "        [1., 0.]],\n",
       "\n",
       "       [[1., 0.],\n",
       "        [1., 0.]]], dtype=float32)>"
      ]
     },
     "execution_count": 55,
     "metadata": {},
     "output_type": "execute_result"
    }
   ],
   "source": [
    "tf.keras.layers.UnitNormalization()(np.array([[[1.,0.],[1.,0.] ],[[1.,0.],[1.,0.] ] ]))"
   ]
  },
  {
   "cell_type": "code",
   "execution_count": 51,
   "metadata": {
    "ExecuteTime": {
     "end_time": "2023-03-31T00:24:20.893356Z",
     "start_time": "2023-03-31T00:24:20.874775Z"
    }
   },
   "outputs": [
    {
     "data": {
      "text/plain": [
       "<tf.Tensor: shape=(2, 2), dtype=float32, numpy=\n",
       "array([[1., 0.],\n",
       "       [1., 0.]], dtype=float32)>"
      ]
     },
     "execution_count": 51,
     "metadata": {},
     "output_type": "execute_result"
    }
   ],
   "source": [
    "tf.keras.layers.UnitNormalization()(np.array([[1.,0.],[1.,0.] ]))"
   ]
  },
  {
   "cell_type": "code",
   "execution_count": 14,
   "metadata": {
    "ExecuteTime": {
     "end_time": "2023-04-13T03:00:11.693781Z",
     "start_time": "2023-04-13T03:00:11.633771Z"
    }
   },
   "outputs": [],
   "source": [
    "\n",
    "class Net(object):\n",
    "        def __init__(self, visual_matrix, textual_matrix,factor, margen, margen2, act,mode,estimator,phase ,pretrain=False):\n",
    "            self.factor= factor\n",
    "            self.batch_size =  512 #VSE++\n",
    "            self.epochs = 30 \n",
    "            self.optimizer = tf.keras.optimizers.Adam(learning_rate=0.0002)\n",
    "            #self.patience= 3\n",
    "            #self.freq_val=5\n",
    "            self.estimator=estimator\n",
    "            self.phase=phase\n",
    "            self.DIS_MODEL_FILE= path+\"/\"+self.estimator+\"/\"+mode+\"/\"+self.phase+str(margen)+\"_\"+str(margen2)+\"_\"+str(factor)+\"_\"+str(act)+\"_\"\n",
    "            print(self.DIS_MODEL_FILE)\n",
    "            self.mode= mode\n",
    "            self.alpha=margen\n",
    "            self.alpha_2= margen2\n",
    "            \n",
    "            #arquitecture\n",
    "            if self.estimator==\"net\":\n",
    "\n",
    "                layer_name = 'Visual_Enconder'\n",
    "                neurons = [visual_matrix.shape[1], int((visual_matrix.shape[1] + self.factor)/2), self.factor]\n",
    "                v_input = tf.keras.Input(shape=(visual_matrix.shape[1],))\n",
    "\n",
    "                v_output = tf.keras.layers.Dense(units=neurons[0], activation=act,  kernel_regularizer='l2' )(v_input)\n",
    "                v_output= tf.keras.layers.Dropout(rate= .2, seed= 0)(v_output)\n",
    "                v_output = tf.keras.layers.Dense(units=neurons[1], activation=act,  kernel_regularizer='l2' )(v_output)\n",
    "                v_output = tf.keras.layers.Dense(units=neurons[2], activation=act,  kernel_regularizer='l2')(v_output)\n",
    "                v_output= tf.math.l2_normalize(v_output, axis=1) #tf.keras.layers.UnitNormalization()(v_output)\n",
    "\n",
    "                self.visual_encoder = tf.keras.Model(inputs=[v_input], outputs=v_output)\n",
    "\n",
    "\n",
    "                layer_name = 'Textual_Enconder'\n",
    "                neurons = [textual_matrix.shape[1],int((textual_matrix.shape[1] + self.factor)/2), self.factor]\n",
    "                t_input = tf.keras.Input(shape=(textual_matrix.shape[1],))\n",
    "                t_output = tf.keras.layers.Dense(units=neurons[0], activation=act,  kernel_regularizer='l2')(t_input)\n",
    "                t_output= tf.keras.layers.Dropout(rate= .2, seed= 0)(t_output)\n",
    "                t_output = tf.keras.layers.Dense(units=neurons[1], activation=act,  kernel_regularizer='l2')(t_output)\n",
    "                t_output = tf.keras.layers.Dense(units=neurons[2], activation=act,  kernel_regularizer='l2')(t_output)\n",
    "                t_output=tf.keras.layers.UnitNormalization()(t_output)\n",
    "\n",
    "                self.text_encoder= tf.math.l2_normalize(t_output) #tf.keras.Model(inputs=[t_input], outputs=t_output)\n",
    "                \n",
    "                \n",
    "                \n",
    "            if self.estimator==\"Linear\":\n",
    "\n",
    "                layer_name = 'Visual_Enconder'\n",
    "    \n",
    "                v_input = tf.keras.Input(shape=(visual_matrix.shape[1],))\n",
    "\n",
    "                v_output = tf.keras.layers.Dense(units=self.factor, use_bias=False )(v_input)\n",
    "                v_output= tf.keras.layers.UnitNormalization()(v_output) #tf.math.l2_normalize(v_output)  #\n",
    "\n",
    "                self.visual_encoder = tf.keras.Model(inputs=[v_input], outputs=v_output)\n",
    "\n",
    "\n",
    "                layer_name = 'Textual_Enconder'\n",
    "                t_input = tf.keras.Input(shape=(textual_matrix.shape[1],))\n",
    "                t_output = tf.keras.layers.Dense(units=self.factor,use_bias=False )(t_input)\n",
    "                t_output= tf.keras.layers.UnitNormalization()(t_output) #tf.math.l2_normalize(t_output)  #\n",
    "\n",
    "                self.text_encoder= tf.keras.Model(inputs=[t_input], outputs=t_output)\n",
    "\n",
    "\n",
    "            if pretrain: \n",
    "\n",
    "                self.visual_encoder= tf.keras.models.load_model(self.DIS_MODEL_FILE+'visual_encoder_tf')\n",
    "                self.text_encoder= tf.keras.models.load_model(self.DIS_MODEL_FILE+'text_encoder_tf')\n",
    "                print(\"pre train\")\n",
    "            \n",
    "            \n",
    "            i_input = tf.keras.Input(shape=(visual_matrix.shape[1],), name=\"i\")\n",
    "            i_n_input = tf.keras.Input(shape=(visual_matrix.shape[1],), name=\"i_n\")\n",
    "            c_input = tf.keras.Input(shape=(textual_matrix.shape[1],), name=\"c\")\n",
    "            c_n_input = tf.keras.Input(shape=(textual_matrix.shape[1],), name=\"c_n\")\n",
    "\n",
    "             \n",
    "            i_emb = self.visual_encoder(i_input) \n",
    "            i_n_emb = self.visual_encoder(i_n_input)\n",
    "            c_emb = self.text_encoder(c_input)\n",
    "            c_n_emb = self.text_encoder(c_n_input)\n",
    "            \n",
    "            \n",
    "            \n",
    "            i_c= tf.keras.layers.Dot(axes=1)([i_emb, c_emb]) #self.similarity([i_emb,c_emb])\n",
    "            i_c_n= tf.keras.layers.Dot(axes=1)([i_emb, c_n_emb]) #self.similarity([i_emb,c_n_emb])\n",
    "            i_n_c= tf.keras.layers.Dot(axes=1)([i_n_emb, c_emb]) #self.similarity([i_n_emb,c_emb])\n",
    "            \n",
    "            \n",
    "            \n",
    "            i_n_i= tf.keras.layers.Dot(axes=1)([i_n_emb, i_emb]) #self.similarity([i_n_emb,i_emb])\n",
    "            c_n_c=tf.keras.layers.Dot(axes=1)([c_n_emb, c_emb]) #self.similarity([c_n_emb,c_emb])\n",
    "            i_n_c_n= tf.keras.layers.Dot(axes=1)([i_n_emb, c_n_emb]) #self.similarity([i_n_emb,c_n_emb])\n",
    "            \n",
    "            sim= ( i_c,i_c_n,i_n_c, i_n_i, c_n_c,i_n_c_n)\n",
    "            \n",
    "            \n",
    "\n",
    "\n",
    "            self.model =  tf.keras.Model(inputs=[i_input, i_n_input, c_input,c_n_input], outputs=sim)\n",
    "            \n",
    "\n",
    "            self.visual_encoder.compile(optimizer=self.optimizer)\n",
    "            self.text_encoder.compile(optimizer=self.optimizer)\n",
    "            self.model.compile(optimizer=self.optimizer)\n",
    "\n",
    "        \n",
    "\n",
    "        def loss(self,input_img, img_negative, input_text,text_negative,mask_s_p):\n",
    "\n",
    "          i_input = tf.nn.embedding_lookup(visual_matrix, input_img) #[_,1280]\n",
    "          i_n_input = tf.nn.embedding_lookup(visual_matrix, img_negative) #[_,1280]\n",
    "          c_input = tf.nn.embedding_lookup(textual_matrix, input_text) #[_,1280]\n",
    "          c_n_input = tf.nn.embedding_lookup(textual_matrix, text_negative) #[_,1280]\n",
    "\n",
    "          (i_c,i_c_n,i_n_c,i_n_i ,c_n_c,i_n_c_n) = self.model([i_input, i_n_input, c_input,c_n_input])\n",
    "          \n",
    "          elements=np.array([[0,0],[0,0]])\n",
    "          errors=np.array([[0,0],[0,0]])\n",
    "          if self.phase==\"test\": \n",
    "              elements= (i_c, i_n_c, i_c_n, i_n_i , c_n_c, i_n_c_n)   \n",
    "              e_1=np.array((elements[0]>elements[3]+self.alpha_2)).sum() #i_c>i_i_n\n",
    "              e_2=np.array((elements[0]>elements[4]+self.alpha_2)).sum() #i_c>c_c_n\n",
    "              e_3=np.array((elements[0]>elements[5]+self.alpha_2)).sum() #i_c>i_n_c_n\n",
    "              errors= (e_1,e_2,e_3)\n",
    "            \n",
    "          if self.mode==\"F_HN\": #full hard negative  \n",
    "              i2t_t2i_loss= tf.reduce_mean(tf.maximum(self.alpha - i_c+i_c_n, 0) )+ tf.reduce_mean(tf.maximum(self.alpha - i_c+i_n_c, 0) )\n",
    "              v_c_loss=tf.reduce_mean(tf.maximum(self.alpha_2 - i_c+i_n_i, 0) )\n",
    "              t_c_loss= tf.reduce_mean(tf.maximum(self.alpha_2 - i_c+c_n_c, 0) )\n",
    "              s_p_loss= tf.reduce_mean(tf.multiply(mask_s_p,tf.maximum(self.alpha_2 - i_c+i_n_c_n, 0)))\n",
    "\n",
    "              losses= i2t_t2i_loss + v_c_loss + t_c_loss+ s_p_loss\n",
    "                \n",
    "          if self.mode==\"HN\" or self.mode==\"random\": # hard negative\n",
    "              i2t_t2i_loss= tf.reduce_mean(tf.maximum(self.alpha - i_c+i_c_n, 0) )+ tf.reduce_mean(tf.maximum(self.alpha - i_c+i_n_c, 0) )\n",
    "              losses= i2t_t2i_loss \n",
    "              \n",
    "            \n",
    "          if self.mode==\"M_HN\": # margen hard negative\n",
    "              i2t_t2i_loss= tf.reduce_mean(tf.maximum(i_n_i - i_c+i_c_n, 0) )+ tf.reduce_mean(tf.maximum(c_n_c - i_c+i_n_c, 0) )\n",
    "              #i2t_t2i_loss= tf.reduce_mean(tf.maximum(c_n_c - i_c+i_c_n, 0) )+ tf.reduce_mean(tf.maximum(i_n_i - i_c+i_n_c, 0) )\n",
    "\n",
    "              losses= i2t_t2i_loss \n",
    "          \n",
    "          return losses,elements,errors\n",
    "        \n",
    "\n",
    "        def predict(self,query, retrieval,split):\n",
    "            if type(query) is not list:\n",
    "                query= [query]\n",
    "            if retrieval==\"t2i\":\n",
    "                c_input = self.text_encoder(tf.nn.embedding_lookup(textual_matrix, query))\n",
    "                if split==\"val\":\n",
    "                    i_eval= self.visual_encoder(visual_matrix[ self.val_indices_])\n",
    "                if split==\"test\":\n",
    "                    i_eval= self.visual_encoder(visual_matrix[self.test_indices_])\n",
    "                if split==\"train\":\n",
    "                    i_eval=self.visual_encoder(visual_matrix[self.train_indices_]) \n",
    "                \n",
    "                rating= tf.matmul(i_eval, tf.transpose(c_input))\n",
    "            \n",
    "            if retrieval==\"i2t\": \n",
    "                i_input = self.visual_encoder(tf.nn.embedding_lookup(visual_matrix, query))\n",
    "                if split==\"val\":\n",
    "                    c_eval= self.text_encoder(textual_matrix[self.data_text_Val])\n",
    "                if split==\"test\":\n",
    "                    c_eval= self.text_encoder(textual_matrix[self.data_text_Test])\n",
    "                if split==\"train\":\n",
    "                    c_eval=self.text_encoder(textual_matrix[self.data_text_])                \n",
    "        \n",
    "                rating= tf.matmul(i_input, tf.transpose(c_eval) )\n",
    "\n",
    "            if retrieval==\"i2i\":\n",
    "                if split==\"test\":\n",
    "                    i_query = self.visual_encoder(tf.nn.embedding_lookup(visual_matrix, query))\n",
    "                    i_eval=  self.visual_encoder(visual_matrix[self.test_indices_]) \n",
    "                    rating= tf.matmul(i_query, tf.transpose(i_eval) )\n",
    "            if retrieval==\"t2t\":\n",
    "                if split==\"test\":\n",
    "                    c_query = self.text_encoder(tf.nn.embedding_lookup(textual_matrix, query))\n",
    "                    c_eval= self.text_encoder(textual_matrix[self.data_text_Test])\n",
    "                    rating= tf.matmul(c_eval , tf.transpose(c_query)  )\n",
    "\n",
    "            return np.reshape(rating, [-1]) \n",
    "\n",
    "\n",
    "        def inference(self):\n",
    "            \n",
    "          data = []\n",
    "          self.data_text_=[]\n",
    "\n",
    "          self.val_indices_=  [ universe_img.index(i) for i in val_r_text.keys() ]\n",
    "          self.train_indices_= [universe_img.index(i) for i in train_indices]\n",
    "          self.data_text_Val=  [ universe_text.index(i) for i in val_r_img.keys() ]\n",
    "\n",
    "          for i in self.train_indices_:\n",
    "              for t in all_r_text[ train_indices[self.train_indices_.index(i)] ]:\n",
    "                  data.append([ universe_text.index(t), i ]) # [texto, img]\n",
    "                  self.data_text_.append(universe_text.index(t))\n",
    "    \n",
    "          if self.phase==\"test\":\n",
    "              self.test_indices_= [universe_img.index(i) for i in test_r_text.keys()]\n",
    "              self.data_text_Test= [universe_text.index(i) for i in test_r_img.keys()]\n",
    "          \n",
    "          print(\"inference\")\n",
    "          results= evaluate_model(self, nDCG=True, split=\"test\", retrieval=\"t2i\")\n",
    "          print(\"1->2\")\n",
    "          result_t = evaluate_model(self, nDCG=False, split=\"test\", retrieval=\"i2t\")\n",
    "          np.save(self.DIS_MODEL_FILE+\"test_metrics.npy\", np.array([results,result_t], dtype=object) )\n",
    "                \n",
    "                \n",
    "\n",
    "        def save(self, model_time, loss_c,recalls,epoch, best_recall ):\n",
    "          gpu_name=!nvidia-smi -L\n",
    "          with open(self.DIS_MODEL_FILE+'train.txt', 'w') as f:\n",
    "            f.write(\"training time of model: %fs\" % (model_time) + \"\\n\")\n",
    "            f.write(\"finish epoch %s\" % epoch + \"with recall %s\" % best_recall  + \"\\n\")\n",
    "            f.write(gpu_name[0] + \"\\n\")\n",
    "          np.save(self.DIS_MODEL_FILE+\"Loss_recalls.npy\", np.array([loss_c,recalls],dtype=object))\n",
    "          \n",
    "          self.visual_encoder.save(self.DIS_MODEL_FILE+'visual_encoder_tf',save_format='tf')\n",
    "          self.text_encoder.save(self.DIS_MODEL_FILE+'text_encoder_tf',save_format='tf')\n",
    "\n",
    "\n",
    "        def training(self):\n",
    "            \n",
    "            data = []\n",
    "            self.data_text_=[]\n",
    "\n",
    "            self.val_indices_=  [ universe_img.index(i) for i in val_r_text.keys() ]\n",
    "            self.train_indices_= [universe_img.index(i) for i in train_indices]\n",
    "            self.data_text_Val=  [ universe_text.index(i) for i in val_r_img.keys() ]\n",
    "\n",
    "            for i in self.train_indices_:\n",
    "                for t in all_r_text[ train_indices[self.train_indices_.index(i)] ]:\n",
    "                    data.append([ universe_text.index(t), i ]) # [texto, img]\n",
    "                    self.data_text_.append(universe_text.index(t))\n",
    "    \n",
    "            if self.phase==\"test\":\n",
    "                self.test_indices_= [universe_img.index(i) for i in test_r_text.keys()]\n",
    "                self.data_text_Test= [universe_text.index(i) for i in test_r_img.keys()]\n",
    "                \n",
    "            recalls=[]\n",
    "            loss_c=[]\n",
    "            best_recall= 0\n",
    "            start_time = time.time() \n",
    "\n",
    "            train_size = len(data)\n",
    "            c_images= len(self.train_indices_)\n",
    "            \n",
    "                \n",
    "\n",
    "            for epoch in range(self.epochs):\n",
    "                \n",
    "        \n",
    "                if epoch>=15:\n",
    "                    self.optimizer.learning_rate.assign(0.00002)\n",
    "                    \n",
    "                print(\"epoch: %d\" % epoch)\n",
    "                np.random.shuffle(data)\n",
    "                index = 0\n",
    "                loss_c_=[]\n",
    "                loss_elements=[]\n",
    "                loss_errores=[]\n",
    "                \n",
    "\n",
    "                while index + self.batch_size < train_size:\n",
    "                    #print((index + self.batch_size)/train_size)\n",
    "                    input_text, input_img = get_batch_data(data, index,self.batch_size)  \n",
    "                    index += self.batch_size\n",
    "                    mask_s_p= [0]*self.batch_size\n",
    "                    \n",
    "                    \n",
    "                    if self.mode==\"random\": #train quitando - minibatch (positivos)\n",
    "                      text_negative= np.random.choice( list( set( self.data_text_ )- set(input_text) ) , self.batch_size, replace=False)\n",
    "                      img_negative= np.random.choice(list( set(self.train_indices_) - set(input_img) ), self.batch_size, replace=False)\n",
    "                    \n",
    "                    else: \n",
    "                        img_negative,text_negative=[],[] #negatives\n",
    "                        \n",
    "                        rating= np.array( self.predict( list(input_text) ,\"t2i\", \"train\"), dtype=float)\n",
    "                        gc.collect() \n",
    "                        rating_text= np.array(self.predict( list(input_img) ,\"i2t\", \"train\"), dtype=float)\n",
    "                        gc.collect()\n",
    "                        \n",
    "                        for i_ in range(self.batch_size):\n",
    "                            ratings_batch= rating[c_images*i_:c_images*(i_+1)] # t2i query minibatch\n",
    "                            ratings_text_batch= rating_text[c_images*5*i_:c_images*5*(i_+1)]  # i2t query minibatch\n",
    "                    \n",
    "                            ratings_batch[train_indices.index(universe_img[input_img[i_]])]= - np.infty\n",
    "                            five_text= all_r_text[all_r_img[ universe_text[input_text[i_]]] ]\n",
    "                            ratings_text_batch[ [ data_text.index(j) for j in five_text ] ]= - np.infty\n",
    "\n",
    "                            img_negative.append(self.train_indices_[np.argmax(ratings_batch)])\n",
    "                            text_negative.append(self.data_text_[np.argmax(ratings_text_batch)])\n",
    "                                             #sp condition\n",
    "                            if  self.mode==\"F_HN\" and all_r_img[ universe_text[text_negative[-1] ]]  == universe_img[img_negative[-1]] :\n",
    "                                mask_s_p[i_]=1\n",
    "                            del ratings_batch\n",
    "                            del ratings_text_batch\n",
    "                    \n",
    "                    with tf.GradientTape() as tape:\n",
    "                            losses, elements, errors= self.loss(input_img, img_negative, input_text,text_negative, mask_s_p)\n",
    "                            loss_elements.append( [np.mean(i,axis=0) for i in elements ] )\n",
    "                            loss_errores.append(errors)\n",
    "                            \n",
    "                    grads = tape.gradient(losses, self.model.trainable_variables)\n",
    "                    self.optimizer.apply_gradients(zip(grads, self.model.trainable_variables))\n",
    "                    \n",
    "                    \n",
    "                print(time.time() - start_time)\n",
    "\n",
    "                \n",
    "                loss_c.append(( losses.numpy(), np.mean(loss_elements,axis=0),  np.sum(loss_errores,axis=0)))\n",
    "                \n",
    "                \"\"\"\n",
    "                if self.phase==\"test\" and epoch%self.freq_val ==0:\n",
    "                    print(\"validation\")\n",
    "                    r_t2i= evaluate_model(self,nDCG=False, split=\"val\", retrieval=\"t2i\")[0][0]\n",
    "                    r_i2t= evaluate_model(self,nDCG=False, split=\"val\", retrieval=\"i2t\")[0][0]\n",
    "\n",
    "                    r_sum=np.sum(r_t2i)  +  np.sum(r_i2t) \n",
    "\n",
    "\n",
    "                    print( \"Recall t2i-i2t: \", list(r_t2i)+list(r_i2t))\n",
    "                    recalls.append((r_t2i,r_i2t, r_sum))\n",
    "\n",
    "                    if r_sum-np.sum(best_recall)>0.1:\n",
    "                        best_recall=list(r_t2i)+list(r_i2t)\n",
    "                        wait_for = 0\n",
    "                        self.save( start_time , loss_c,recalls,epoch,best_recall)\n",
    "\n",
    "                    else:\n",
    "                        wait_for += 1\n",
    "                        if wait_for == self.patience:\n",
    "                          print(\"break train\")\n",
    "                          break\n",
    "                \"\"\"\n",
    "                    \n",
    "             \n",
    "            model_time= time.time() - start_time\n",
    "            print(model_time)\n",
    "            \"\"\"\n",
    "            if self.phase==\"test\":\n",
    "                self.save( model_time , loss_c,recalls,epoch,best_recall)\n",
    "                print(\"evaluating\")\n",
    "                self.inference()\n",
    "                \n",
    "            if self.phase==\"val\":\n",
    "                print(\"validation\")\n",
    "                r_t2i= evaluate_model(self,nDCG=False, split=\"val\", retrieval=\"t2i\")[0][0]\n",
    "                r_i2t= evaluate_model(self,nDCG=False, split=\"val\", retrieval=\"i2t\")[0][0]\n",
    "\n",
    "                best_recall=list(r_t2i)+list(r_i2t)\n",
    "                #self.save( model_time , loss_c,recalls,epoch,best_recall)\n",
    "                print( \"Recall t2i-i2t: \", best_recall) \n",
    "            \"\"\""
   ]
  },
  {
   "cell_type": "code",
   "execution_count": 15,
   "metadata": {
    "ExecuteTime": {
     "end_time": "2023-04-14T02:45:54.732162Z",
     "start_time": "2023-04-13T03:00:19.346457Z"
    }
   },
   "outputs": [
    {
     "name": "stdout",
     "output_type": "stream",
     "text": [
      "COCO/Linear/M_HN/test0.2_0.2_1024_None_\n",
      "pre train\n",
      "inference\n",
      "1->2\n"
     ]
    }
   ],
   "source": [
    "net =  Net(visual_matrix,textual_matrix,1024,0.2,0.2, None,\"M_HN\",\"Linear\",\"test\", pretrain=True) \n",
    "net.inference()"
   ]
  },
  {
   "cell_type": "code",
   "execution_count": 14,
   "metadata": {
    "ExecuteTime": {
     "end_time": "2023-04-05T00:49:32.204945Z",
     "start_time": "2023-04-05T00:46:59.895288Z"
    }
   },
   "outputs": [
    {
     "name": "stdout",
     "output_type": "stream",
     "text": [
      "epoch: 0\n",
      "30.702526807785034\n",
      "epoch: 1\n",
      "60.461031436920166\n",
      "epoch: 2\n",
      "90.40238094329834\n",
      "epoch: 3\n",
      "120.12043118476868\n",
      "epoch: 4\n",
      "150.25114226341248\n",
      "150.2562427520752\n"
     ]
    }
   ],
   "source": [
    "net =  Net(visual_matrix,textual_matrix,1024,0.2,0.2, None,\"HN\",\"Linear\",\"val\") \n",
    "net.training()"
   ]
  },
  {
   "cell_type": "markdown",
   "metadata": {},
   "source": [
    "l2 norm:\n",
    "Recall t2i-i2t:  [35.18518518518518, 74.07407407407408, 92.5925925925926, 61.111111111111114, 87.03703703703704, 94.44444444444444]\n",
    "\n",
    "Recall t2i-i2t:  [58.51851851851852, 89.25925925925925, 96.66666666666667, 77.77777777777777, 96.29629629629629, 98.14814814814815]\n",
    "\n",
    "unit norm:\n",
    "Recall t2i-i2t:  [58.888888888888886, 89.25925925925925, 95.92592592592592, 79.62962962962963, 96.29629629629629, 98.14814814814815]\n",
    "\n",
    "Recall t2i-i2t:  [54.44444444444444, 89.25925925925925, 95.18518518518519, 74.07407407407408, 96.29629629629629, 100.0]\n"
   ]
  },
  {
   "cell_type": "code",
   "execution_count": 25,
   "metadata": {
    "ExecuteTime": {
     "end_time": "2023-03-27T21:25:39.186251Z",
     "start_time": "2023-03-27T20:29:59.320188Z"
    }
   },
   "outputs": [
    {
     "name": "stdout",
     "output_type": "stream",
     "text": [
      "epoch: 0\n"
     ]
    },
    {
     "ename": "ResourceExhaustedError",
     "evalue": "Exception encountered when calling layer \"dense_1\" \"                 f\"(type Dense).\n\n{{function_node __wrapped__MatMul_device_/job:localhost/replica:0/task:0/device:GPU:0}} OOM when allocating tensor with shape[566435,1024] and type float on /job:localhost/replica:0/task:0/device:GPU:0 by allocator GPU_0_bfc [Op:MatMul]\n\nCall arguments received by layer \"dense_1\" \"                 f\"(type Dense):\n  • inputs=tf.Tensor(shape=(566435, 768), dtype=float32)",
     "output_type": "error",
     "traceback": [
      "\u001b[1;31m---------------------------------------------------------------------------\u001b[0m",
      "\u001b[1;31mResourceExhaustedError\u001b[0m                    Traceback (most recent call last)",
      "Cell \u001b[1;32mIn[25], line 2\u001b[0m\n\u001b[0;32m      1\u001b[0m net \u001b[38;5;241m=\u001b[39m  Net(visual_matrix,textual_matrix,\u001b[38;5;241m1024\u001b[39m,\u001b[38;5;241m0.4\u001b[39m,\u001b[38;5;241m0\u001b[39m, \u001b[38;5;28;01mNone\u001b[39;00m,\u001b[38;5;124m\"\u001b[39m\u001b[38;5;124mHN\u001b[39m\u001b[38;5;124m\"\u001b[39m,\u001b[38;5;124m\"\u001b[39m\u001b[38;5;124mLinear\u001b[39m\u001b[38;5;124m\"\u001b[39m,\u001b[38;5;124m\"\u001b[39m\u001b[38;5;124mtest\u001b[39m\u001b[38;5;124m\"\u001b[39m) \n\u001b[1;32m----> 2\u001b[0m \u001b[43mnet\u001b[49m\u001b[38;5;241;43m.\u001b[39;49m\u001b[43mtraining\u001b[49m\u001b[43m(\u001b[49m\u001b[43m)\u001b[49m\n",
      "Cell \u001b[1;32mIn[24], line 265\u001b[0m, in \u001b[0;36mNet.training\u001b[1;34m(self)\u001b[0m\n\u001b[0;32m    263\u001b[0m rating\u001b[38;5;241m=\u001b[39m np\u001b[38;5;241m.\u001b[39marray( \u001b[38;5;28mself\u001b[39m\u001b[38;5;241m.\u001b[39mpredict( \u001b[38;5;28mlist\u001b[39m(input_text) ,\u001b[38;5;124m\"\u001b[39m\u001b[38;5;124mt2i\u001b[39m\u001b[38;5;124m\"\u001b[39m, \u001b[38;5;124m\"\u001b[39m\u001b[38;5;124mtrain\u001b[39m\u001b[38;5;124m\"\u001b[39m), dtype\u001b[38;5;241m=\u001b[39m\u001b[38;5;28mfloat\u001b[39m)\n\u001b[0;32m    264\u001b[0m gc\u001b[38;5;241m.\u001b[39mcollect() \n\u001b[1;32m--> 265\u001b[0m rating_text\u001b[38;5;241m=\u001b[39m np\u001b[38;5;241m.\u001b[39marray(\u001b[38;5;28;43mself\u001b[39;49m\u001b[38;5;241;43m.\u001b[39;49m\u001b[43mpredict\u001b[49m\u001b[43m(\u001b[49m\u001b[43m \u001b[49m\u001b[38;5;28;43mlist\u001b[39;49m\u001b[43m(\u001b[49m\u001b[43minput_img\u001b[49m\u001b[43m)\u001b[49m\u001b[43m \u001b[49m\u001b[43m,\u001b[49m\u001b[38;5;124;43m\"\u001b[39;49m\u001b[38;5;124;43mi2t\u001b[39;49m\u001b[38;5;124;43m\"\u001b[39;49m\u001b[43m,\u001b[49m\u001b[43m \u001b[49m\u001b[38;5;124;43m\"\u001b[39;49m\u001b[38;5;124;43mtrain\u001b[39;49m\u001b[38;5;124;43m\"\u001b[39;49m\u001b[43m)\u001b[49m, dtype\u001b[38;5;241m=\u001b[39m\u001b[38;5;28mfloat\u001b[39m)\n\u001b[0;32m    266\u001b[0m gc\u001b[38;5;241m.\u001b[39mcollect()\n\u001b[0;32m    268\u001b[0m \u001b[38;5;28;01mfor\u001b[39;00m i_ \u001b[38;5;129;01min\u001b[39;00m \u001b[38;5;28mrange\u001b[39m(\u001b[38;5;28mself\u001b[39m\u001b[38;5;241m.\u001b[39mbatch_size):\n",
      "Cell \u001b[1;32mIn[24], line 170\u001b[0m, in \u001b[0;36mNet.predict\u001b[1;34m(self, query, retrieval, split)\u001b[0m\n\u001b[0;32m    168\u001b[0m         c_eval\u001b[38;5;241m=\u001b[39m \u001b[38;5;28mself\u001b[39m\u001b[38;5;241m.\u001b[39mtext_encoder(textual_matrix[\u001b[38;5;28mself\u001b[39m\u001b[38;5;241m.\u001b[39mdata_text_Test])\n\u001b[0;32m    169\u001b[0m     \u001b[38;5;28;01mif\u001b[39;00m split\u001b[38;5;241m==\u001b[39m\u001b[38;5;124m\"\u001b[39m\u001b[38;5;124mtrain\u001b[39m\u001b[38;5;124m\"\u001b[39m:\n\u001b[1;32m--> 170\u001b[0m         c_eval\u001b[38;5;241m=\u001b[39m\u001b[38;5;28;43mself\u001b[39;49m\u001b[38;5;241;43m.\u001b[39;49m\u001b[43mtext_encoder\u001b[49m\u001b[43m(\u001b[49m\u001b[43mtextual_matrix\u001b[49m\u001b[43m[\u001b[49m\u001b[38;5;28;43mself\u001b[39;49m\u001b[38;5;241;43m.\u001b[39;49m\u001b[43mdata_text_\u001b[49m\u001b[43m]\u001b[49m\u001b[43m)\u001b[49m                \n\u001b[0;32m    172\u001b[0m     rating\u001b[38;5;241m=\u001b[39m tf\u001b[38;5;241m.\u001b[39mmatmul(i_input, tf\u001b[38;5;241m.\u001b[39mtranspose(c_eval) )\n\u001b[0;32m    174\u001b[0m \u001b[38;5;28;01mif\u001b[39;00m retrieval\u001b[38;5;241m==\u001b[39m\u001b[38;5;124m\"\u001b[39m\u001b[38;5;124mi2i\u001b[39m\u001b[38;5;124m\"\u001b[39m:\n",
      "File \u001b[1;32m~\\anaconda3\\envs\\gpu\\lib\\site-packages\\keras\\utils\\traceback_utils.py:70\u001b[0m, in \u001b[0;36mfilter_traceback.<locals>.error_handler\u001b[1;34m(*args, **kwargs)\u001b[0m\n\u001b[0;32m     67\u001b[0m     filtered_tb \u001b[38;5;241m=\u001b[39m _process_traceback_frames(e\u001b[38;5;241m.\u001b[39m__traceback__)\n\u001b[0;32m     68\u001b[0m     \u001b[38;5;66;03m# To get the full stack trace, call:\u001b[39;00m\n\u001b[0;32m     69\u001b[0m     \u001b[38;5;66;03m# `tf.debugging.disable_traceback_filtering()`\u001b[39;00m\n\u001b[1;32m---> 70\u001b[0m     \u001b[38;5;28;01mraise\u001b[39;00m e\u001b[38;5;241m.\u001b[39mwith_traceback(filtered_tb) \u001b[38;5;28;01mfrom\u001b[39;00m \u001b[38;5;28mNone\u001b[39m\n\u001b[0;32m     71\u001b[0m \u001b[38;5;28;01mfinally\u001b[39;00m:\n\u001b[0;32m     72\u001b[0m     \u001b[38;5;28;01mdel\u001b[39;00m filtered_tb\n",
      "File \u001b[1;32m~\\anaconda3\\envs\\gpu\\lib\\site-packages\\tensorflow\\python\\framework\\ops.py:7209\u001b[0m, in \u001b[0;36mraise_from_not_ok_status\u001b[1;34m(e, name)\u001b[0m\n\u001b[0;32m   7207\u001b[0m \u001b[38;5;28;01mdef\u001b[39;00m \u001b[38;5;21mraise_from_not_ok_status\u001b[39m(e, name):\n\u001b[0;32m   7208\u001b[0m   e\u001b[38;5;241m.\u001b[39mmessage \u001b[38;5;241m+\u001b[39m\u001b[38;5;241m=\u001b[39m (\u001b[38;5;124m\"\u001b[39m\u001b[38;5;124m name: \u001b[39m\u001b[38;5;124m\"\u001b[39m \u001b[38;5;241m+\u001b[39m name \u001b[38;5;28;01mif\u001b[39;00m name \u001b[38;5;129;01mis\u001b[39;00m \u001b[38;5;129;01mnot\u001b[39;00m \u001b[38;5;28;01mNone\u001b[39;00m \u001b[38;5;28;01melse\u001b[39;00m \u001b[38;5;124m\"\u001b[39m\u001b[38;5;124m\"\u001b[39m)\n\u001b[1;32m-> 7209\u001b[0m   \u001b[38;5;28;01mraise\u001b[39;00m core\u001b[38;5;241m.\u001b[39m_status_to_exception(e) \u001b[38;5;28;01mfrom\u001b[39;00m \u001b[38;5;28mNone\u001b[39m\n",
      "\u001b[1;31mResourceExhaustedError\u001b[0m: Exception encountered when calling layer \"dense_1\" \"                 f\"(type Dense).\n\n{{function_node __wrapped__MatMul_device_/job:localhost/replica:0/task:0/device:GPU:0}} OOM when allocating tensor with shape[566435,1024] and type float on /job:localhost/replica:0/task:0/device:GPU:0 by allocator GPU_0_bfc [Op:MatMul]\n\nCall arguments received by layer \"dense_1\" \"                 f\"(type Dense):\n  • inputs=tf.Tensor(shape=(566435, 768), dtype=float32)"
     ]
    }
   ],
   "source": [
    "net =  Net(visual_matrix,textual_matrix,1024,0.4,0, None,\"HN\",\"Linear\",\"test\") \n",
    "net.training()"
   ]
  },
  {
   "cell_type": "code",
   "execution_count": 37,
   "metadata": {
    "ExecuteTime": {
     "end_time": "2023-03-20T13:42:33.718399Z",
     "start_time": "2023-03-20T13:04:40.727842Z"
    }
   },
   "outputs": [
    {
     "name": "stdout",
     "output_type": "stream",
     "text": [
      "0.2\n",
      "epoch: 0\n"
     ]
    },
    {
     "ename": "ResourceExhaustedError",
     "evalue": "Exception encountered when calling layer \"unit_normalization_3\" \"                 f\"(type UnitNormalization).\n\n{{function_node __wrapped__Square_device_/job:localhost/replica:0/task:0/device:GPU:0}} failed to allocate memory [Op:Square]\n\nCall arguments received by layer \"unit_normalization_3\" \"                 f\"(type UnitNormalization):\n  • inputs=tf.Tensor(shape=(283215, 1024), dtype=float32)",
     "output_type": "error",
     "traceback": [
      "\u001b[1;31m---------------------------------------------------------------------------\u001b[0m",
      "\u001b[1;31mResourceExhaustedError\u001b[0m                    Traceback (most recent call last)",
      "Cell \u001b[1;32mIn[37], line 4\u001b[0m\n\u001b[0;32m      2\u001b[0m \u001b[38;5;28mprint\u001b[39m(m)\n\u001b[0;32m      3\u001b[0m net \u001b[38;5;241m=\u001b[39m  Net(visual_matrix,textual_matrix,\u001b[38;5;241m1024\u001b[39m,m,\u001b[38;5;241m0\u001b[39m, \u001b[38;5;28;01mNone\u001b[39;00m,\u001b[38;5;124m\"\u001b[39m\u001b[38;5;124mHN\u001b[39m\u001b[38;5;124m\"\u001b[39m,\u001b[38;5;124m\"\u001b[39m\u001b[38;5;124mLinear\u001b[39m\u001b[38;5;124m\"\u001b[39m,\u001b[38;5;124m\"\u001b[39m\u001b[38;5;124mval\u001b[39m\u001b[38;5;124m\"\u001b[39m) \n\u001b[1;32m----> 4\u001b[0m \u001b[43mnet\u001b[49m\u001b[38;5;241;43m.\u001b[39;49m\u001b[43mtraining\u001b[49m\u001b[43m(\u001b[49m\u001b[43m)\u001b[49m\n",
      "Cell \u001b[1;32mIn[34], line 263\u001b[0m, in \u001b[0;36mNet.training\u001b[1;34m(self)\u001b[0m\n\u001b[0;32m    261\u001b[0m rating\u001b[38;5;241m=\u001b[39m np\u001b[38;5;241m.\u001b[39marray( \u001b[38;5;28mself\u001b[39m\u001b[38;5;241m.\u001b[39mpredict( \u001b[38;5;28mlist\u001b[39m(input_text) ,\u001b[38;5;124m\"\u001b[39m\u001b[38;5;124mt2i\u001b[39m\u001b[38;5;124m\"\u001b[39m, \u001b[38;5;124m\"\u001b[39m\u001b[38;5;124mtrain\u001b[39m\u001b[38;5;124m\"\u001b[39m), dtype\u001b[38;5;241m=\u001b[39m\u001b[38;5;28mfloat\u001b[39m)\n\u001b[0;32m    262\u001b[0m gc\u001b[38;5;241m.\u001b[39mcollect() \n\u001b[1;32m--> 263\u001b[0m rating_text\u001b[38;5;241m=\u001b[39m np\u001b[38;5;241m.\u001b[39marray(\u001b[38;5;28;43mself\u001b[39;49m\u001b[38;5;241;43m.\u001b[39;49m\u001b[43mpredict\u001b[49m\u001b[43m(\u001b[49m\u001b[43m \u001b[49m\u001b[38;5;28;43mlist\u001b[39;49m\u001b[43m(\u001b[49m\u001b[43minput_img\u001b[49m\u001b[43m)\u001b[49m\u001b[43m \u001b[49m\u001b[43m,\u001b[49m\u001b[38;5;124;43m\"\u001b[39;49m\u001b[38;5;124;43mi2t\u001b[39;49m\u001b[38;5;124;43m\"\u001b[39;49m\u001b[43m,\u001b[49m\u001b[43m \u001b[49m\u001b[38;5;124;43m\"\u001b[39;49m\u001b[38;5;124;43mtrain\u001b[39;49m\u001b[38;5;124;43m\"\u001b[39;49m\u001b[43m)\u001b[49m, dtype\u001b[38;5;241m=\u001b[39m\u001b[38;5;28mfloat\u001b[39m)\n\u001b[0;32m    264\u001b[0m gc\u001b[38;5;241m.\u001b[39mcollect()\n\u001b[0;32m    266\u001b[0m \u001b[38;5;28;01mfor\u001b[39;00m i_ \u001b[38;5;129;01min\u001b[39;00m \u001b[38;5;28mrange\u001b[39m(\u001b[38;5;28mself\u001b[39m\u001b[38;5;241m.\u001b[39mbatch_size):\n",
      "Cell \u001b[1;32mIn[34], line 170\u001b[0m, in \u001b[0;36mNet.predict\u001b[1;34m(self, query, retrieval, split)\u001b[0m\n\u001b[0;32m    168\u001b[0m         c_eval\u001b[38;5;241m=\u001b[39m \u001b[38;5;28mself\u001b[39m\u001b[38;5;241m.\u001b[39mtext_encoder(textual_matrix[\u001b[38;5;28mself\u001b[39m\u001b[38;5;241m.\u001b[39mdata_text_Test])\n\u001b[0;32m    169\u001b[0m     \u001b[38;5;28;01mif\u001b[39;00m split\u001b[38;5;241m==\u001b[39m\u001b[38;5;124m\"\u001b[39m\u001b[38;5;124mtrain\u001b[39m\u001b[38;5;124m\"\u001b[39m:\n\u001b[1;32m--> 170\u001b[0m         c_eval\u001b[38;5;241m=\u001b[39m\u001b[38;5;28;43mself\u001b[39;49m\u001b[38;5;241;43m.\u001b[39;49m\u001b[43mtext_encoder\u001b[49m\u001b[43m(\u001b[49m\u001b[43mtextual_matrix\u001b[49m\u001b[43m[\u001b[49m\u001b[38;5;28;43mself\u001b[39;49m\u001b[38;5;241;43m.\u001b[39;49m\u001b[43mdata_text_\u001b[49m\u001b[43m]\u001b[49m\u001b[43m)\u001b[49m                \n\u001b[0;32m    172\u001b[0m     rating\u001b[38;5;241m=\u001b[39m tf\u001b[38;5;241m.\u001b[39mmatmul(i_input, tf\u001b[38;5;241m.\u001b[39mtranspose(c_eval) )\n\u001b[0;32m    174\u001b[0m \u001b[38;5;28;01mif\u001b[39;00m retrieval\u001b[38;5;241m==\u001b[39m\u001b[38;5;124m\"\u001b[39m\u001b[38;5;124mi2i\u001b[39m\u001b[38;5;124m\"\u001b[39m:\n",
      "File \u001b[1;32m~\\anaconda3\\envs\\gpu\\lib\\site-packages\\keras\\utils\\traceback_utils.py:70\u001b[0m, in \u001b[0;36mfilter_traceback.<locals>.error_handler\u001b[1;34m(*args, **kwargs)\u001b[0m\n\u001b[0;32m     67\u001b[0m     filtered_tb \u001b[38;5;241m=\u001b[39m _process_traceback_frames(e\u001b[38;5;241m.\u001b[39m__traceback__)\n\u001b[0;32m     68\u001b[0m     \u001b[38;5;66;03m# To get the full stack trace, call:\u001b[39;00m\n\u001b[0;32m     69\u001b[0m     \u001b[38;5;66;03m# `tf.debugging.disable_traceback_filtering()`\u001b[39;00m\n\u001b[1;32m---> 70\u001b[0m     \u001b[38;5;28;01mraise\u001b[39;00m e\u001b[38;5;241m.\u001b[39mwith_traceback(filtered_tb) \u001b[38;5;28;01mfrom\u001b[39;00m \u001b[38;5;28mNone\u001b[39m\n\u001b[0;32m     71\u001b[0m \u001b[38;5;28;01mfinally\u001b[39;00m:\n\u001b[0;32m     72\u001b[0m     \u001b[38;5;28;01mdel\u001b[39;00m filtered_tb\n",
      "File \u001b[1;32m~\\anaconda3\\envs\\gpu\\lib\\site-packages\\tensorflow\\python\\framework\\ops.py:7209\u001b[0m, in \u001b[0;36mraise_from_not_ok_status\u001b[1;34m(e, name)\u001b[0m\n\u001b[0;32m   7207\u001b[0m \u001b[38;5;28;01mdef\u001b[39;00m \u001b[38;5;21mraise_from_not_ok_status\u001b[39m(e, name):\n\u001b[0;32m   7208\u001b[0m   e\u001b[38;5;241m.\u001b[39mmessage \u001b[38;5;241m+\u001b[39m\u001b[38;5;241m=\u001b[39m (\u001b[38;5;124m\"\u001b[39m\u001b[38;5;124m name: \u001b[39m\u001b[38;5;124m\"\u001b[39m \u001b[38;5;241m+\u001b[39m name \u001b[38;5;28;01mif\u001b[39;00m name \u001b[38;5;129;01mis\u001b[39;00m \u001b[38;5;129;01mnot\u001b[39;00m \u001b[38;5;28;01mNone\u001b[39;00m \u001b[38;5;28;01melse\u001b[39;00m \u001b[38;5;124m\"\u001b[39m\u001b[38;5;124m\"\u001b[39m)\n\u001b[1;32m-> 7209\u001b[0m   \u001b[38;5;28;01mraise\u001b[39;00m core\u001b[38;5;241m.\u001b[39m_status_to_exception(e) \u001b[38;5;28;01mfrom\u001b[39;00m \u001b[38;5;28mNone\u001b[39m\n",
      "\u001b[1;31mResourceExhaustedError\u001b[0m: Exception encountered when calling layer \"unit_normalization_3\" \"                 f\"(type UnitNormalization).\n\n{{function_node __wrapped__Square_device_/job:localhost/replica:0/task:0/device:GPU:0}} failed to allocate memory [Op:Square]\n\nCall arguments received by layer \"unit_normalization_3\" \"                 f\"(type UnitNormalization):\n  • inputs=tf.Tensor(shape=(283215, 1024), dtype=float32)"
     ]
    }
   ],
   "source": [
    "for m in m_validation:\n",
    "    print(m)\n",
    "    net =  Net(visual_matrix,textual_matrix,1024,m,0, None,\"HN\",\"Linear\",\"test\") \n",
    "    net.training()"
   ]
  },
  {
   "cell_type": "code",
   "execution_count": 18,
   "metadata": {
    "ExecuteTime": {
     "end_time": "2023-03-16T00:34:19.242357Z",
     "start_time": "2023-03-15T12:04:17.442643Z"
    },
    "scrolled": true
   },
   "outputs": [
    {
     "name": "stdout",
     "output_type": "stream",
     "text": [
      "0.2 896\n",
      "epoch: 0\n",
      "epoch: 1\n",
      "epoch: 2\n",
      "epoch: 3\n",
      "epoch: 4\n",
      "epoch: 5\n",
      "epoch: 6\n",
      "epoch: 7\n",
      "epoch: 8\n",
      "epoch: 9\n",
      "epoch: 10\n",
      "epoch: 11\n",
      "epoch: 12\n",
      "epoch: 13\n",
      "epoch: 14\n",
      "epoch: 15\n",
      "epoch: 16\n",
      "epoch: 17\n",
      "epoch: 18\n",
      "epoch: 19\n",
      "epoch: 20\n",
      "epoch: 21\n",
      "epoch: 22\n",
      "epoch: 23\n",
      "epoch: 24\n",
      "epoch: 25\n",
      "epoch: 26\n",
      "epoch: 27\n",
      "epoch: 28\n",
      "epoch: 29\n",
      "validation\n",
      "INFO:tensorflow:Assets written to: F30K/Linear/HN/val_0.2_0_896_None_visual_encoder_tf\\assets\n",
      "INFO:tensorflow:Assets written to: F30K/Linear/HN/val_0.2_0_896_None_text_encoder_tf\\assets\n",
      "Recall t2i-i2t:  [26.232741617357004, 56.68639053254438, 69.09270216962524, 44.47731755424063, 71.99211045364892, 82.54437869822485]\n",
      "0.4 896\n",
      "epoch: 0\n",
      "epoch: 1\n",
      "epoch: 2\n",
      "epoch: 3\n",
      "epoch: 4\n",
      "epoch: 5\n",
      "epoch: 6\n",
      "epoch: 7\n",
      "epoch: 8\n",
      "epoch: 9\n",
      "epoch: 10\n",
      "epoch: 11\n",
      "epoch: 12\n",
      "epoch: 13\n",
      "epoch: 14\n",
      "epoch: 15\n",
      "epoch: 16\n",
      "epoch: 17\n",
      "epoch: 18\n",
      "epoch: 19\n",
      "epoch: 20\n",
      "epoch: 21\n",
      "epoch: 22\n",
      "epoch: 23\n",
      "epoch: 24\n",
      "epoch: 25\n",
      "epoch: 26\n",
      "epoch: 27\n",
      "epoch: 28\n",
      "epoch: 29\n",
      "validation\n",
      "INFO:tensorflow:Assets written to: F30K/Linear/HN/val_0.4_0_896_None_visual_encoder_tf\\assets\n",
      "INFO:tensorflow:Assets written to: F30K/Linear/HN/val_0.4_0_896_None_text_encoder_tf\\assets\n",
      "Recall t2i-i2t:  [25.798816568047336, 55.52268244575937, 67.79092702169625, 42.70216962524655, 73.76725838264299, 83.72781065088758]\n",
      "0.2 1024\n",
      "epoch: 0\n",
      "epoch: 1\n",
      "epoch: 2\n",
      "epoch: 3\n",
      "epoch: 4\n",
      "epoch: 5\n",
      "epoch: 6\n",
      "epoch: 7\n",
      "epoch: 8\n",
      "epoch: 9\n",
      "epoch: 10\n",
      "epoch: 11\n",
      "epoch: 12\n",
      "epoch: 13\n",
      "epoch: 14\n",
      "epoch: 15\n",
      "epoch: 16\n",
      "epoch: 17\n",
      "epoch: 18\n",
      "epoch: 19\n",
      "epoch: 20\n",
      "epoch: 21\n",
      "epoch: 22\n",
      "epoch: 23\n",
      "epoch: 24\n",
      "epoch: 25\n",
      "epoch: 26\n",
      "epoch: 27\n",
      "epoch: 28\n",
      "epoch: 29\n",
      "validation\n",
      "INFO:tensorflow:Assets written to: F30K/Linear/HN/val_0.2_0_1024_None_visual_encoder_tf\\assets\n",
      "INFO:tensorflow:Assets written to: F30K/Linear/HN/val_0.2_0_1024_None_text_encoder_tf\\assets\n",
      "Recall t2i-i2t:  [26.370808678500985, 56.252465483234715, 68.16568047337279, 42.40631163708087, 74.35897435897436, 82.84023668639053]\n",
      "0.4 1024\n",
      "epoch: 0\n"
     ]
    },
    {
     "ename": "KeyboardInterrupt",
     "evalue": "",
     "output_type": "error",
     "traceback": [
      "\u001b[1;31m---------------------------------------------------------------------------\u001b[0m",
      "\u001b[1;31mKeyboardInterrupt\u001b[0m                         Traceback (most recent call last)",
      "Cell \u001b[1;32mIn[18], line 5\u001b[0m\n\u001b[0;32m      3\u001b[0m \u001b[38;5;28mprint\u001b[39m(m,f)\n\u001b[0;32m      4\u001b[0m net \u001b[38;5;241m=\u001b[39m  Net(visual_matrix,textual_matrix,f,m,\u001b[38;5;241m0\u001b[39m, \u001b[38;5;28;01mNone\u001b[39;00m,\u001b[38;5;124m\"\u001b[39m\u001b[38;5;124mHN\u001b[39m\u001b[38;5;124m\"\u001b[39m,\u001b[38;5;124m\"\u001b[39m\u001b[38;5;124mLinear\u001b[39m\u001b[38;5;124m\"\u001b[39m,\u001b[38;5;124m\"\u001b[39m\u001b[38;5;124mval\u001b[39m\u001b[38;5;124m\"\u001b[39m) \n\u001b[1;32m----> 5\u001b[0m \u001b[43mnet\u001b[49m\u001b[38;5;241;43m.\u001b[39;49m\u001b[43mtraining\u001b[49m\u001b[43m(\u001b[49m\u001b[43m)\u001b[49m\n",
      "Cell \u001b[1;32mIn[16], line 261\u001b[0m, in \u001b[0;36mNet.training\u001b[1;34m(self)\u001b[0m\n\u001b[0;32m    259\u001b[0m rating\u001b[38;5;241m=\u001b[39m np\u001b[38;5;241m.\u001b[39marray( \u001b[38;5;28mself\u001b[39m\u001b[38;5;241m.\u001b[39mpredict( \u001b[38;5;28mlist\u001b[39m(input_text) ,\u001b[38;5;124m\"\u001b[39m\u001b[38;5;124mt2i\u001b[39m\u001b[38;5;124m\"\u001b[39m, \u001b[38;5;124m\"\u001b[39m\u001b[38;5;124mtrain\u001b[39m\u001b[38;5;124m\"\u001b[39m), dtype\u001b[38;5;241m=\u001b[39m\u001b[38;5;28mfloat\u001b[39m)\n\u001b[0;32m    260\u001b[0m gc\u001b[38;5;241m.\u001b[39mcollect() \n\u001b[1;32m--> 261\u001b[0m rating_text\u001b[38;5;241m=\u001b[39m \u001b[43mnp\u001b[49m\u001b[38;5;241m.\u001b[39marray(\u001b[38;5;28mself\u001b[39m\u001b[38;5;241m.\u001b[39mpredict( \u001b[38;5;28mlist\u001b[39m(input_img) ,\u001b[38;5;124m\"\u001b[39m\u001b[38;5;124mi2t\u001b[39m\u001b[38;5;124m\"\u001b[39m, \u001b[38;5;124m\"\u001b[39m\u001b[38;5;124mtrain\u001b[39m\u001b[38;5;124m\"\u001b[39m), dtype\u001b[38;5;241m=\u001b[39m\u001b[38;5;28mfloat\u001b[39m)\n\u001b[0;32m    262\u001b[0m gc\u001b[38;5;241m.\u001b[39mcollect()\n\u001b[0;32m    264\u001b[0m \u001b[38;5;28;01mfor\u001b[39;00m i_ \u001b[38;5;129;01min\u001b[39;00m \u001b[38;5;28mrange\u001b[39m(\u001b[38;5;28mself\u001b[39m\u001b[38;5;241m.\u001b[39mbatch_size):\n",
      "\u001b[1;31mKeyboardInterrupt\u001b[0m: "
     ]
    }
   ],
   "source": [
    "for f in f_validation:\n",
    "    for m in m_validation:\n",
    "        print(m,f)\n",
    "        net =  Net(visual_matrix,textual_matrix,f,m,0, None,\"HN\",\"Linear\",\"val\") \n",
    "        net.training()"
   ]
  },
  {
   "cell_type": "code",
   "execution_count": 22,
   "metadata": {
    "ExecuteTime": {
     "end_time": "2023-03-16T19:19:10.446909Z",
     "start_time": "2023-03-16T11:23:37.261954Z"
    },
    "scrolled": true
   },
   "outputs": [
    {
     "name": "stdout",
     "output_type": "stream",
     "text": [
      "0.2\n",
      "epoch: 0\n",
      "epoch: 1\n",
      "epoch: 2\n",
      "epoch: 3\n",
      "epoch: 4\n",
      "epoch: 5\n",
      "epoch: 6\n",
      "epoch: 7\n",
      "epoch: 8\n",
      "epoch: 9\n",
      "epoch: 10\n",
      "epoch: 11\n",
      "epoch: 12\n",
      "epoch: 13\n",
      "epoch: 14\n",
      "epoch: 15\n",
      "epoch: 16\n",
      "epoch: 17\n",
      "epoch: 18\n",
      "epoch: 19\n",
      "epoch: 20\n",
      "epoch: 21\n",
      "epoch: 22\n",
      "epoch: 23\n",
      "epoch: 24\n",
      "epoch: 25\n",
      "epoch: 26\n",
      "epoch: 27\n",
      "epoch: 28\n",
      "epoch: 29\n",
      "validation\n",
      "INFO:tensorflow:Assets written to: F30K/Linear/F_HN/val_0.4_0.2_1024_None_visual_encoder_tf\\assets\n",
      "INFO:tensorflow:Assets written to: F30K/Linear/F_HN/val_0.4_0.2_1024_None_text_encoder_tf\\assets\n",
      "Recall t2i-i2t:  [35.285996055226825, 64.93096646942801, 75.70019723865877, 40.92702169625247, 74.16173570019724, 84.91124260355029]\n",
      "0.6\n",
      "epoch: 0\n",
      "epoch: 1\n",
      "epoch: 2\n",
      "epoch: 3\n",
      "epoch: 4\n",
      "epoch: 5\n",
      "epoch: 6\n",
      "epoch: 7\n",
      "epoch: 8\n",
      "epoch: 9\n",
      "epoch: 10\n",
      "epoch: 11\n",
      "epoch: 12\n",
      "epoch: 13\n",
      "epoch: 14\n",
      "epoch: 15\n",
      "epoch: 16\n",
      "epoch: 17\n",
      "epoch: 18\n",
      "epoch: 19\n",
      "epoch: 20\n",
      "epoch: 21\n",
      "epoch: 22\n",
      "epoch: 23\n",
      "epoch: 24\n",
      "epoch: 25\n",
      "epoch: 26\n",
      "epoch: 27\n",
      "epoch: 28\n",
      "epoch: 29\n",
      "validation\n",
      "INFO:tensorflow:Assets written to: F30K/Linear/F_HN/val_0.4_0.6_1024_None_visual_encoder_tf\\assets\n",
      "INFO:tensorflow:Assets written to: F30K/Linear/F_HN/val_0.4_0.6_1024_None_text_encoder_tf\\assets\n",
      "Recall t2i-i2t:  [35.108481262327416, 64.43786982248521, 75.46351084812623, 41.61735700197239, 71.59763313609467, 82.14990138067061]\n"
     ]
    }
   ],
   "source": [
    "for margen in [0.2, 0.6]  :\n",
    "    print(margen)\n",
    "    net =  Net(visual_matrix,textual_matrix,1024,0.4,margen, None,\"F_HN\",\"Linear\",\"val\") \n",
    "    net.training()"
   ]
  },
  {
   "cell_type": "code",
   "execution_count": 16,
   "metadata": {
    "ExecuteTime": {
     "end_time": "2023-03-20T06:11:27.851078Z",
     "start_time": "2023-03-19T14:32:29.579576Z"
    },
    "scrolled": true
   },
   "outputs": [
    {
     "name": "stdout",
     "output_type": "stream",
     "text": [
      "epoch: 0\n",
      "epoch: 1\n",
      "epoch: 2\n",
      "epoch: 3\n",
      "epoch: 4\n",
      "epoch: 5\n",
      "epoch: 6\n",
      "epoch: 7\n",
      "epoch: 8\n",
      "epoch: 9\n",
      "epoch: 10\n",
      "epoch: 11\n",
      "epoch: 12\n",
      "epoch: 13\n",
      "epoch: 14\n",
      "epoch: 15\n",
      "epoch: 16\n",
      "epoch: 17\n",
      "epoch: 18\n",
      "epoch: 19\n",
      "epoch: 20\n",
      "epoch: 21\n",
      "epoch: 22\n",
      "epoch: 23\n",
      "epoch: 24\n",
      "epoch: 25\n",
      "epoch: 26\n",
      "epoch: 27\n",
      "epoch: 28\n",
      "epoch: 29\n",
      "INFO:tensorflow:Assets written to: F30K/Linear/M_HN/test_otro_0.4_0.4_1024_None_visual_encoder_tf\\assets\n",
      "INFO:tensorflow:Assets written to: F30K/Linear/M_HN/test_otro_0.4_0.4_1024_None_text_encoder_tf\\assets\n",
      "evaluating\n"
     ]
    }
   ],
   "source": [
    "#net =  Net(visual_matrix,textual_matrix,1024,0.4,0.4, None,\"HN\",\"Linear\",\"test\") \n",
    "#net.training()\n",
    "\n",
    "#net =  Net(visual_matrix,textual_matrix,1024,0.4,0.4, None,\"F_HN\",\"Linear\",\"test\") \n",
    "#net.training()\n",
    "\n",
    "net =  Net(visual_matrix,textual_matrix,1024,0.4,0.4, None,\"M_HN\",\"Linear\",\"test\") \n",
    "net.training()"
   ]
  },
  {
   "cell_type": "code",
   "execution_count": 15,
   "metadata": {
    "ExecuteTime": {
     "end_time": "2023-03-12T09:57:34.909785Z",
     "start_time": "2023-03-12T02:14:55.133064Z"
    },
    "scrolled": true
   },
   "outputs": [
    {
     "name": "stdout",
     "output_type": "stream",
     "text": [
      "relu\n",
      "epoch: 0\n",
      "epoch: 1\n",
      "epoch: 2\n",
      "epoch: 3\n",
      "epoch: 4\n",
      "epoch: 5\n",
      "epoch: 6\n",
      "epoch: 7\n",
      "epoch: 8\n",
      "epoch: 9\n",
      "epoch: 10\n",
      "epoch: 11\n",
      "epoch: 12\n",
      "epoch: 13\n",
      "epoch: 14\n",
      "epoch: 15\n",
      "epoch: 16\n",
      "epoch: 17\n",
      "epoch: 18\n",
      "epoch: 19\n",
      "epoch: 20\n",
      "epoch: 21\n",
      "epoch: 22\n",
      "epoch: 23\n",
      "epoch: 24\n",
      "epoch: 25\n",
      "epoch: 26\n",
      "epoch: 27\n",
      "epoch: 28\n",
      "epoch: 29\n",
      "validation\n",
      "INFO:tensorflow:Assets written to: F30K/net/HN/val_0.4_0_712_relu_visual_encoder_tf\\assets\n",
      "INFO:tensorflow:Assets written to: F30K/net/HN/val_0.4_0_712_relu_text_encoder_tf\\assets\n",
      "Recall t2i-i2t:  [16.429980276134124, 39.447731755424066, 52.14990138067061, 4.812623274161735, 19.171597633136095, 29.447731755424062]\n",
      "tanh\n",
      "epoch: 0\n",
      "epoch: 1\n",
      "epoch: 2\n",
      "epoch: 3\n",
      "epoch: 4\n",
      "epoch: 5\n",
      "epoch: 6\n",
      "epoch: 7\n",
      "epoch: 8\n",
      "epoch: 9\n",
      "epoch: 10\n",
      "epoch: 11\n",
      "epoch: 12\n",
      "epoch: 13\n",
      "epoch: 14\n",
      "epoch: 15\n",
      "epoch: 16\n",
      "epoch: 17\n",
      "epoch: 18\n",
      "epoch: 19\n",
      "epoch: 20\n",
      "epoch: 21\n",
      "epoch: 22\n",
      "epoch: 23\n",
      "epoch: 24\n",
      "epoch: 25\n",
      "epoch: 26\n",
      "epoch: 27\n",
      "epoch: 28\n",
      "epoch: 29\n",
      "validation\n",
      "INFO:tensorflow:Assets written to: F30K/net/HN/val_0.4_0_712_tanh_visual_encoder_tf\\assets\n",
      "INFO:tensorflow:Assets written to: F30K/net/HN/val_0.4_0_712_tanh_text_encoder_tf\\assets\n",
      "Recall t2i-i2t:  [25.660749506903354, 55.32544378698225, 67.98816568047337, 8.362919132149901, 32.58382642998028, 45.917159763313606]\n"
     ]
    }
   ],
   "source": [
    "for act in [\"relu\",\"tanh\"]  :\n",
    "    print(act)\n",
    "    net =  Net(visual_matrix,textual_matrix,712,0.4,0, act,\"HN\",\"net\",\"val\") \n",
    "    net.training()"
   ]
  },
  {
   "cell_type": "code",
   "execution_count": 47,
   "metadata": {
    "ExecuteTime": {
     "end_time": "2023-03-13T04:10:58.263807Z",
     "start_time": "2023-03-12T23:11:55.693412Z"
    },
    "scrolled": true
   },
   "outputs": [
    {
     "name": "stdout",
     "output_type": "stream",
     "text": [
      "epoch: 0\n",
      "epoch: 1\n",
      "epoch: 2\n",
      "epoch: 3\n",
      "epoch: 4\n",
      "epoch: 5\n",
      "epoch: 6\n",
      "epoch: 7\n",
      "epoch: 8\n",
      "epoch: 9\n",
      "epoch: 10\n",
      "epoch: 11\n",
      "epoch: 12\n",
      "epoch: 13\n",
      "epoch: 14\n",
      "epoch: 15\n",
      "epoch: 16\n",
      "epoch: 17\n",
      "epoch: 18\n",
      "epoch: 19\n",
      "epoch: 20\n",
      "epoch: 21\n",
      "epoch: 22\n",
      "epoch: 23\n",
      "epoch: 24\n",
      "epoch: 25\n",
      "epoch: 26\n",
      "epoch: 27\n",
      "epoch: 28\n",
      "epoch: 29\n",
      "validation\n",
      "INFO:tensorflow:Assets written to: F30K/net/HN/val_0.4_0_1024_tanh_visual_encoder_tf\\assets\n",
      "INFO:tensorflow:Assets written to: F30K/net/HN/val_0.4_0_1024_tanh_text_encoder_tf\\assets\n",
      "Recall t2i-i2t:  [25.502958579881657, 54.891518737672584, 67.57396449704142, 8.422090729783038, 31.26232741617357, 45.26627218934911]\n"
     ]
    }
   ],
   "source": [
    "net =  Net(visual_matrix,textual_matrix,1024,0.4,0, \"tanh\",\"HN\",\"net\",\"val\") \n",
    "net.training()"
   ]
  },
  {
   "cell_type": "code",
   "execution_count": null,
   "metadata": {},
   "outputs": [],
   "source": []
  },
  {
   "cell_type": "markdown",
   "metadata": {},
   "source": [
    "# Examples"
   ]
  },
  {
   "cell_type": "code",
   "execution_count": 12,
   "metadata": {
    "ExecuteTime": {
     "end_time": "2023-03-21T12:49:59.057004Z",
     "start_time": "2023-03-21T12:49:49.314715Z"
    }
   },
   "outputs": [],
   "source": [
    "test_indices_= [universe_img.index(i) for i in test_r_text.keys()]\n",
    "data_text_Test= [universe_text.index(i) for i in test_r_img.keys()]\n",
    "all_values= all_test_indices_img \n",
    "all_indices= all_test_indices_text \n",
    "eval_values= list(test_r_text.keys())\n",
    "eval_indices= list(test_r_img.keys())"
   ]
  },
  {
   "cell_type": "markdown",
   "metadata": {},
   "source": [
    "## F HN i2i"
   ]
  },
  {
   "cell_type": "code",
   "execution_count": 13,
   "metadata": {
    "ExecuteTime": {
     "end_time": "2023-03-21T12:50:04.553366Z",
     "start_time": "2023-03-21T12:50:03.121932Z"
    }
   },
   "outputs": [],
   "source": [
    "DIS_MODEL_FILE= path+\"/Linear/F_HN/test_0.4_0.4_1024_None_\"\n",
    "\n",
    "visual_encoder= tf.keras.models.load_model(DIS_MODEL_FILE+'visual_encoder_tf')\n",
    "text_encoder= tf.keras.models.load_model(DIS_MODEL_FILE+'text_encoder_tf')"
   ]
  },
  {
   "cell_type": "markdown",
   "metadata": {},
   "source": [
    "232 + 1 el mejor\n",
    "564 + 4 el peor R.\n",
    "946*5+3 el peor S"
   ]
  },
  {
   "cell_type": "code",
   "execution_count": 56,
   "metadata": {
    "ExecuteTime": {
     "end_time": "2023-03-21T13:33:25.544070Z",
     "start_time": "2023-03-21T13:33:25.523906Z"
    }
   },
   "outputs": [
    {
     "name": "stdout",
     "output_type": "stream",
     "text": [
      "Query img id 7739\n"
     ]
    }
   ],
   "source": [
    "\n",
    "#if retrieval==\"i2i\":\n",
    "#if split==\"test\":\n",
    "index= 232\n",
    "i= 1 \n",
    "print(\"Query img id\", eval_values[index])\n",
    "query=[ universe_img.index(eval_values[index])  ]"
   ]
  },
  {
   "cell_type": "code",
   "execution_count": 58,
   "metadata": {
    "ExecuteTime": {
     "end_time": "2023-03-21T13:33:42.070457Z",
     "start_time": "2023-03-21T13:33:41.811181Z"
    }
   },
   "outputs": [
    {
     "name": "stdout",
     "output_type": "stream",
     "text": [
      "top 5: imgid [7739, 10577, 8766, 13516, 13990]\n",
      "R:  0.804\n",
      "S:  0.777\n"
     ]
    }
   ],
   "source": [
    "\n",
    "i_query = visual_encoder(tf.nn.embedding_lookup(visual_matrix, query))\n",
    "i_eval=  visual_encoder(visual_matrix[test_indices_]) \n",
    "rating= tf.matmul(i_query, tf.transpose(i_eval) )\n",
    "\n",
    "indices_= np.argsort( -np.array(rating) ) \n",
    "inds= [all_values.index(eval_values[j]) for j in indices_[0]] \n",
    "\n",
    "\n",
    "sorted_indexes = inds[:5] \n",
    "print(\"top 5: imgid\", [all_values[j] for j in sorted_indexes] )\n",
    "\n",
    "ndcg_scorer = DCG( rank=25, relevance_methods=['rougeL', 'spice'],split=\"test\")\n",
    "rougel_ndcgs = np.zeros(5000)\n",
    "spice_ndcgs = np.zeros(5000)\n",
    "for z in range(5):\n",
    "    #print(all_indices[all_indices.index(eval_indices[5 * index + i])])\n",
    "    rougel_ndcgs[5 * index + z], spice_ndcgs[5 * index + z] = ndcg_scorer.compute_ndcg(all_indices.index(eval_indices[5 * index + z]), inds, retrieval='t2i').values()\n",
    "print(\"R: \",  np.round(np.mean(rougel_ndcgs[rougel_ndcgs != 0]),3) )\n",
    "print(\"S: \", np.round(np.mean(spice_ndcgs[spice_ndcgs != 0]),3) )"
   ]
  },
  {
   "cell_type": "code",
   "execution_count": 22,
   "metadata": {
    "ExecuteTime": {
     "end_time": "2023-03-21T12:54:25.719699Z",
     "start_time": "2023-03-21T12:54:25.707098Z"
    }
   },
   "outputs": [
    {
     "name": "stdout",
     "output_type": "stream",
     "text": [
      "7739\n",
      "A dog jumping over high jump poles at show.\n",
      "A black and white dog jumps over a hurdle.\n",
      "A small dog jumps over a striped gate.\n",
      "A dog jumps over an obstacle outside.\n",
      "A small dog leaps a barrier.\n",
      "10577\n",
      "A black and white dog jumping over a steeple vault at a competition\n",
      "A black and white dog performs a jump with his owner looking on.\n",
      "A black and white dog running through an obstacle course\n",
      "A black and white dog is jumping fences in a dog show.\n",
      "A dog leaping over a hurdle.\n",
      "8766\n",
      "A dog is jumping over a series of colored gates.\n",
      "A black and white dog is jumping over a hurdle.\n",
      "A dog hurdles over a series of poles.\n",
      "A small black dog jumping over gates\n",
      "A dog jumping over a beam\n",
      "13516\n",
      "A black and white dog is playing with an orange ball in the snow.\n",
      "The little black and white dog is in the snow with a red ball.\n",
      "A black-and-white dog goes for a flattened ball on the snow.\n",
      "A black dog is chasing a punctured ball in the snow.\n",
      "A dog getting a ball in the snow\n",
      "13990\n",
      "The brown dog is jumping a hurdle over a yellow and black pole.\n",
      "A brown dog jumping over a blue and yellow stick.\n",
      "A dog jumps over a hurdle at a competition.\n",
      "A brown dog jumps over an obstacle.\n",
      "A brown dog jumping over a hurdle.\n"
     ]
    }
   ],
   "source": [
    "for im in [all_values[j] for j in sorted_indexes]:\n",
    "    print(im)\n",
    "    for c in range(5):\n",
    "        print(dataset[im][\"sentences\"][c][\"raw\"])"
   ]
  },
  {
   "cell_type": "code",
   "execution_count": 16,
   "metadata": {
    "ExecuteTime": {
     "end_time": "2023-03-21T12:50:26.792192Z",
     "start_time": "2023-03-21T12:50:26.777645Z"
    }
   },
   "outputs": [
    {
     "name": "stdout",
     "output_type": "stream",
     "text": [
      "R: [1.    0.81  0.834 0.433 0.639]\n",
      "S:  [0.417 0.385 0.5   0.273 0.273]\n"
     ]
    }
   ],
   "source": [
    "\n",
    "relevance_filenames= [path+\"/f30k-test-rougeL.npy\", path+\"/f30k-test-spice.npy\"] #500.000=5000x1000\n",
    "                      \n",
    "relevances = [np.memmap(f, dtype=np.float32, mode='r') for f in relevance_filenames]\n",
    "        \n",
    "        # una fila se lleva a una matriz de n_queries filas y lo que quede de columnas (en orden)\n",
    "for r in relevances:\n",
    "    r.shape = (1000*5, -1) #debe dividir a 5 millones\n",
    "\n",
    "#if retrieval == 't2i':\n",
    "            #caption query pertenece a  [0,5000] valores de relevancia en vector [0,1000] imagenes\n",
    "            # (5000,1000)\n",
    "#R= np.zeros(5)\n",
    "#S=np.zeros(5)\n",
    "#for i in range(5):\n",
    "query_id= all_indices.index(eval_indices[5 * index + i])\n",
    "relevances_ = [r[ query_id, 0 : 1000] for r in relevances]\n",
    "R=relevances_[0][sorted_indexes]\n",
    "S= relevances_[1][sorted_indexes]\n",
    "print(\"R:\", np.round(R,3) )\n",
    "print(\"S: \", np.round(S,3) )"
   ]
  },
  {
   "cell_type": "markdown",
   "metadata": {},
   "source": [
    "#  HN t2i"
   ]
  },
  {
   "cell_type": "code",
   "execution_count": 23,
   "metadata": {
    "ExecuteTime": {
     "end_time": "2023-03-21T12:55:05.957112Z",
     "start_time": "2023-03-21T12:55:05.522263Z"
    }
   },
   "outputs": [],
   "source": [
    "DIS_MODEL_FILE= path+\"/Linear/HN/test_0.4_0.4_1024_None_\"\n",
    "\n",
    "visual_encoder_= tf.keras.models.load_model(DIS_MODEL_FILE+'visual_encoder_tf')\n",
    "text_encoder_= tf.keras.models.load_model(DIS_MODEL_FILE+'text_encoder_tf')"
   ]
  },
  {
   "cell_type": "code",
   "execution_count": 34,
   "metadata": {
    "ExecuteTime": {
     "end_time": "2023-03-21T12:58:41.882261Z",
     "start_time": "2023-03-21T12:58:41.874752Z"
    }
   },
   "outputs": [
    {
     "data": {
      "text/plain": [
       "7739"
      ]
     },
     "execution_count": 34,
     "metadata": {},
     "output_type": "execute_result"
    }
   ],
   "source": [
    "dataset[ eval_values[index]][\"imgid\"]"
   ]
  },
  {
   "cell_type": "code",
   "execution_count": 72,
   "metadata": {
    "ExecuteTime": {
     "end_time": "2023-03-21T13:44:12.376564Z",
     "start_time": "2023-03-21T13:44:12.364386Z"
    }
   },
   "outputs": [
    {
     "data": {
      "text/plain": [
       "38699"
      ]
     },
     "execution_count": 72,
     "metadata": {},
     "output_type": "execute_result"
    }
   ],
   "source": [
    "i=4\n",
    "eval_indices[5 * index + i]"
   ]
  },
  {
   "cell_type": "code",
   "execution_count": 63,
   "metadata": {
    "ExecuteTime": {
     "end_time": "2023-03-21T13:35:37.166011Z",
     "start_time": "2023-03-21T13:35:37.147984Z"
    }
   },
   "outputs": [
    {
     "data": {
      "text/plain": [
       "'A black and white dog jumps over a hurdle.'"
      ]
     },
     "execution_count": 63,
     "metadata": {},
     "output_type": "execute_result"
    }
   ],
   "source": [
    "dataset[ eval_values[index]][\"sentences\"][eval_indices[5 * index + i]%5][\"raw\"]"
   ]
  },
  {
   "cell_type": "code",
   "execution_count": 73,
   "metadata": {
    "ExecuteTime": {
     "end_time": "2023-03-21T13:44:14.126152Z",
     "start_time": "2023-03-21T13:44:13.780329Z"
    }
   },
   "outputs": [
    {
     "name": "stdout",
     "output_type": "stream",
     "text": [
      "Query text id 38699\n",
      "top 5: imgid [13785, 13135, 12356, 13516, 8766]\n",
      "R:  0.635\n",
      "S:  0.616\n"
     ]
    }
   ],
   "source": [
    "\n",
    "query=[  universe_text.index(eval_indices[5 * index + i])  ]\n",
    "print(\"Query text id\", eval_indices[5 * index + i])\n",
    "\n",
    "\n",
    "c_input = text_encoder_(tf.nn.embedding_lookup(textual_matrix, query))\n",
    "i_eval= visual_encoder_(visual_matrix[test_indices_])\n",
    "rating= tf.matmul(i_eval, tf.transpose(c_input))\n",
    "rating= np.reshape(rating, [-1]) \n",
    "\n",
    "indices_= np.argsort( -np.array(rating) ) \n",
    "inds= [all_values.index(eval_values[j]) for j in indices_] \n",
    "\n",
    "\n",
    "sorted_indexes = inds[:5] \n",
    "print(\"top 5: imgid\", [all_values[j] for j in sorted_indexes] )\n",
    "\n",
    "ndcg_scorer = DCG( rank=25, relevance_methods=['rougeL', 'spice'],split=\"test\")\n",
    "rougel_ndcgs = np.zeros(5000)\n",
    "spice_ndcgs = np.zeros(5000)\n",
    "\n",
    "rougel_ndcgs[5 * index + i], spice_ndcgs[5 * index + i] = ndcg_scorer.compute_ndcg(all_indices.index(eval_indices[5 * index + i]), inds, retrieval='t2i').values()\n",
    "print(\"R: \",  np.round(np.mean(rougel_ndcgs[rougel_ndcgs != 0]),3) ) \n",
    "print(\"S: \", np.round(np.mean(spice_ndcgs[spice_ndcgs != 0]),3) )"
   ]
  },
  {
   "cell_type": "code",
   "execution_count": 74,
   "metadata": {
    "ExecuteTime": {
     "end_time": "2023-03-21T13:44:15.026105Z",
     "start_time": "2023-03-21T13:44:15.011537Z"
    }
   },
   "outputs": [
    {
     "name": "stdout",
     "output_type": "stream",
     "text": [
      "R: [0.359 0.347 0.12  0.418 0.5  ]\n",
      "S:  [0.074 0.091 0.083 0.095 0.211]\n"
     ]
    }
   ],
   "source": [
    "\n",
    "#relevance_filenames= [path+\"/f30k-test-rougeL.npy\", path+\"/f30k-test-spice.npy\"] #500.000=5000x1000\n",
    "                      \n",
    "#relevances = [np.memmap(f, dtype=np.float32, mode='r') for f in relevance_filenames]\n",
    "        \n",
    "        # una fila se lleva a una matriz de n_queries filas y lo que quede de columnas (en orden)\n",
    "#for r in relevances:\n",
    "    #r.shape = (1000*5, -1) #debe dividir a 5 millones\n",
    "\n",
    "#if retrieval == 't2i':\n",
    "            #caption query pertenece a  [0,5000] valores de relevancia en vector [0,1000] imagenes\n",
    "            # (5000,1000)\n",
    "\n",
    "\n",
    "query_id= all_indices.index(eval_indices[5 * index + i])\n",
    "relevances_ = [r[ query_id, 0 : 1000] for r in relevances]\n",
    "R=relevances_[0][sorted_indexes]\n",
    "S= relevances_[1][sorted_indexes]\n",
    "print(\"R:\", np.round(R,3))\n",
    "print(\"S: \", np.round(S,3))"
   ]
  },
  {
   "cell_type": "code",
   "execution_count": 146,
   "metadata": {
    "ExecuteTime": {
     "end_time": "2023-03-20T22:42:17.349753Z",
     "start_time": "2023-03-20T22:22:43.992126Z"
    }
   },
   "outputs": [
    {
     "name": "stderr",
     "output_type": "stream",
     "text": [
      "100%|██████████████████████████████████████████████████████████████████████████████| 1000/1000 [19:33<00:00,  1.17s/it]\n"
     ]
    }
   ],
   "source": [
    "sum_R=[]\n",
    "sum_S=[]\n",
    "indices=[]\n",
    "\n",
    "for index in tqdm(range(len(eval_values))):\n",
    "    for i in range(5):\n",
    "        \n",
    "        query=[ universe_img.index(eval_values[index])  ]\n",
    "\n",
    "        i_query = visual_encoder(tf.nn.embedding_lookup(visual_matrix, query))\n",
    "        i_eval=  visual_encoder(visual_matrix[test_indices_]) \n",
    "        rating= tf.matmul(i_query, tf.transpose(i_eval) )\n",
    "\n",
    "        indices_= np.argsort( -np.array(rating) ) \n",
    "        inds= [all_values.index(eval_values[j]) for j in indices_[0]] \n",
    "\n",
    "\n",
    "        sorted_indexes = inds[:5] \n",
    "        \n",
    "        query_id= all_indices.index(eval_indices[5 * index + i])\n",
    "        relevances_ = [r[ query_id, 0 : 1000] for r in relevances]\n",
    "        R_FHN=np.sum(relevances_[0][sorted_indexes])\n",
    "        S_FHN= np.sum(relevances_[1][sorted_indexes])\n",
    "        \n",
    "        #############################################\n",
    "        \n",
    "        query=[  universe_text.index(eval_indices[5 * index + i])  ]\n",
    "\n",
    "\n",
    "        c_input = text_encoder_(tf.nn.embedding_lookup(textual_matrix, query))\n",
    "        i_eval= visual_encoder_(visual_matrix[test_indices_])\n",
    "        rating= tf.matmul(i_eval, tf.transpose(c_input))\n",
    "        rating= np.reshape(rating, [-1]) \n",
    "        indices_= np.argsort( -np.array(rating) ) \n",
    "        inds= [all_values.index(eval_values[j]) for j in indices_] \n",
    "        sorted_indexes = inds[:5] \n",
    "        query_id= all_indices.index(eval_indices[5 * index + i])\n",
    "        relevances_ = [r[ query_id, 0 : 1000] for r in relevances]\n",
    "        R=np.sum(relevances_[0][sorted_indexes])\n",
    "        S= np.sum(relevances_[1][sorted_indexes])\n",
    "        \n",
    "        sum_R.append( R_FHN - R)\n",
    "        sum_S.append(  S_FHN - S)\n",
    "        indices.append(5 * index + i)\n"
   ]
  },
  {
   "cell_type": "code",
   "execution_count": 148,
   "metadata": {
    "ExecuteTime": {
     "end_time": "2023-03-20T22:51:22.568421Z",
     "start_time": "2023-03-20T22:51:22.556903Z"
    }
   },
   "outputs": [
    {
     "data": {
      "text/plain": [
       "array([1163, 1161, 4674, ...,   79, 2508, 2824], dtype=int64)"
      ]
     },
     "execution_count": 148,
     "metadata": {},
     "output_type": "execute_result"
    }
   ],
   "source": [
    "np.argsort(-np.array(sum_R))"
   ]
  },
  {
   "cell_type": "code",
   "execution_count": 149,
   "metadata": {
    "ExecuteTime": {
     "end_time": "2023-03-20T22:52:21.578202Z",
     "start_time": "2023-03-20T22:52:21.560663Z"
    }
   },
   "outputs": [
    {
     "data": {
      "text/plain": [
       "array([1161, 2480,  775, ...,  474,  399, 4733], dtype=int64)"
      ]
     },
     "execution_count": 149,
     "metadata": {},
     "output_type": "execute_result"
    }
   ],
   "source": [
    "np.argsort(-np.array(sum_S))"
   ]
  },
  {
   "cell_type": "code",
   "execution_count": 171,
   "metadata": {
    "ExecuteTime": {
     "end_time": "2023-03-20T23:12:17.304238Z",
     "start_time": "2023-03-20T23:12:17.290401Z"
    }
   },
   "outputs": [
    {
     "data": {
      "text/plain": [
       "946"
      ]
     },
     "execution_count": 171,
     "metadata": {},
     "output_type": "execute_result"
    }
   ],
   "source": [
    "4733//5"
   ]
  },
  {
   "cell_type": "code",
   "execution_count": 173,
   "metadata": {
    "ExecuteTime": {
     "end_time": "2023-03-20T23:12:26.569171Z",
     "start_time": "2023-03-20T23:12:26.563170Z"
    }
   },
   "outputs": [
    {
     "data": {
      "text/plain": [
       "4733"
      ]
     },
     "execution_count": 173,
     "metadata": {},
     "output_type": "execute_result"
    }
   ],
   "source": [
    "946*5+3"
   ]
  }
 ],
 "metadata": {
  "accelerator": "GPU",
  "colab": {
   "collapsed_sections": [
    "ha_Jccsmx4I9"
   ],
   "machine_shape": "hm",
   "provenance": [],
   "toc_visible": true
  },
  "gpuClass": "standard",
  "kernelspec": {
   "display_name": "Python 3 (ipykernel)",
   "language": "python",
   "name": "python3"
  },
  "language_info": {
   "codemirror_mode": {
    "name": "ipython",
    "version": 3
   },
   "file_extension": ".py",
   "mimetype": "text/x-python",
   "name": "python",
   "nbconvert_exporter": "python",
   "pygments_lexer": "ipython3",
   "version": "3.10.9"
  },
  "toc": {
   "base_numbering": 1,
   "nav_menu": {
    "height": "342.003px",
    "width": "348.977px"
   },
   "number_sections": false,
   "sideBar": false,
   "skip_h1_title": false,
   "title_cell": "Table of Contents",
   "title_sidebar": "Contents",
   "toc_cell": false,
   "toc_position": {
    "height": "553.938px",
    "left": "29px",
    "top": "154px",
    "width": "159px"
   },
   "toc_section_display": false,
   "toc_window_display": false
  },
  "varInspector": {
   "cols": {
    "lenName": 16,
    "lenType": 16,
    "lenVar": 40
   },
   "kernels_config": {
    "python": {
     "delete_cmd_postfix": "",
     "delete_cmd_prefix": "del ",
     "library": "var_list.py",
     "varRefreshCmd": "print(var_dic_list())"
    },
    "r": {
     "delete_cmd_postfix": ") ",
     "delete_cmd_prefix": "rm(",
     "library": "var_list.r",
     "varRefreshCmd": "cat(var_dic_list()) "
    }
   },
   "types_to_exclude": [
    "module",
    "function",
    "builtin_function_or_method",
    "instance",
    "_Feature"
   ],
   "window_display": false
  },
  "widgets": {
   "application/vnd.jupyter.widget-state+json": {
    "01ff6b14db5e403182d6af8274da7282": {
     "model_module": "@jupyter-widgets/controls",
     "model_module_version": "1.5.0",
     "model_name": "HTMLModel",
     "state": {
      "_dom_classes": [],
      "_model_module": "@jupyter-widgets/controls",
      "_model_module_version": "1.5.0",
      "_model_name": "HTMLModel",
      "_view_count": null,
      "_view_module": "@jupyter-widgets/controls",
      "_view_module_version": "1.5.0",
      "_view_name": "HTMLView",
      "description": "",
      "description_tooltip": null,
      "layout": "IPY_MODEL_413bd7272a244d6dba57e5c218645806",
      "placeholder": "​",
      "style": "IPY_MODEL_884d6352e52743e491d4915c60c1af33",
      "value": " 349/349 [00:00&lt;00:00, 11.7kB/s]"
     }
    },
    "02a1e59961114b228b2c1c4d36d9fb6d": {
     "model_module": "@jupyter-widgets/base",
     "model_module_version": "1.2.0",
     "model_name": "LayoutModel",
     "state": {
      "_model_module": "@jupyter-widgets/base",
      "_model_module_version": "1.2.0",
      "_model_name": "LayoutModel",
      "_view_count": null,
      "_view_module": "@jupyter-widgets/base",
      "_view_module_version": "1.2.0",
      "_view_name": "LayoutView",
      "align_content": null,
      "align_items": null,
      "align_self": null,
      "border": null,
      "bottom": null,
      "display": null,
      "flex": null,
      "flex_flow": null,
      "grid_area": null,
      "grid_auto_columns": null,
      "grid_auto_flow": null,
      "grid_auto_rows": null,
      "grid_column": null,
      "grid_gap": null,
      "grid_row": null,
      "grid_template_areas": null,
      "grid_template_columns": null,
      "grid_template_rows": null,
      "height": null,
      "justify_content": null,
      "justify_items": null,
      "left": null,
      "margin": null,
      "max_height": null,
      "max_width": null,
      "min_height": null,
      "min_width": null,
      "object_fit": null,
      "object_position": null,
      "order": null,
      "overflow": null,
      "overflow_x": null,
      "overflow_y": null,
      "padding": null,
      "right": null,
      "top": null,
      "visibility": null,
      "width": null
     }
    },
    "02c16c9a948b44d0b4d65312426cbad2": {
     "model_module": "@jupyter-widgets/base",
     "model_module_version": "1.2.0",
     "model_name": "LayoutModel",
     "state": {
      "_model_module": "@jupyter-widgets/base",
      "_model_module_version": "1.2.0",
      "_model_name": "LayoutModel",
      "_view_count": null,
      "_view_module": "@jupyter-widgets/base",
      "_view_module_version": "1.2.0",
      "_view_name": "LayoutView",
      "align_content": null,
      "align_items": null,
      "align_self": null,
      "border": null,
      "bottom": null,
      "display": null,
      "flex": null,
      "flex_flow": null,
      "grid_area": null,
      "grid_auto_columns": null,
      "grid_auto_flow": null,
      "grid_auto_rows": null,
      "grid_column": null,
      "grid_gap": null,
      "grid_row": null,
      "grid_template_areas": null,
      "grid_template_columns": null,
      "grid_template_rows": null,
      "height": null,
      "justify_content": null,
      "justify_items": null,
      "left": null,
      "margin": null,
      "max_height": null,
      "max_width": null,
      "min_height": null,
      "min_width": null,
      "object_fit": null,
      "object_position": null,
      "order": null,
      "overflow": null,
      "overflow_x": null,
      "overflow_y": null,
      "padding": null,
      "right": null,
      "top": null,
      "visibility": null,
      "width": null
     }
    },
    "02d9ef93f8b44ac5bfdbefe125e4d69d": {
     "model_module": "@jupyter-widgets/controls",
     "model_module_version": "1.5.0",
     "model_name": "HTMLModel",
     "state": {
      "_dom_classes": [],
      "_model_module": "@jupyter-widgets/controls",
      "_model_module_version": "1.5.0",
      "_model_name": "HTMLModel",
      "_view_count": null,
      "_view_module": "@jupyter-widgets/controls",
      "_view_module_version": "1.5.0",
      "_view_name": "HTMLView",
      "description": "",
      "description_tooltip": null,
      "layout": "IPY_MODEL_d09893bff19e4bf299bd19087fefead5",
      "placeholder": "​",
      "style": "IPY_MODEL_1a5dfb24b7d34eb6a1cd4b789396e27b",
      "value": "Downloading: 100%"
     }
    },
    "03434e5ce7f84b1ab3dfbfe91027c4f7": {
     "model_module": "@jupyter-widgets/base",
     "model_module_version": "1.2.0",
     "model_name": "LayoutModel",
     "state": {
      "_model_module": "@jupyter-widgets/base",
      "_model_module_version": "1.2.0",
      "_model_name": "LayoutModel",
      "_view_count": null,
      "_view_module": "@jupyter-widgets/base",
      "_view_module_version": "1.2.0",
      "_view_name": "LayoutView",
      "align_content": null,
      "align_items": null,
      "align_self": null,
      "border": null,
      "bottom": null,
      "display": null,
      "flex": null,
      "flex_flow": null,
      "grid_area": null,
      "grid_auto_columns": null,
      "grid_auto_flow": null,
      "grid_auto_rows": null,
      "grid_column": null,
      "grid_gap": null,
      "grid_row": null,
      "grid_template_areas": null,
      "grid_template_columns": null,
      "grid_template_rows": null,
      "height": null,
      "justify_content": null,
      "justify_items": null,
      "left": null,
      "margin": null,
      "max_height": null,
      "max_width": null,
      "min_height": null,
      "min_width": null,
      "object_fit": null,
      "object_position": null,
      "order": null,
      "overflow": null,
      "overflow_x": null,
      "overflow_y": null,
      "padding": null,
      "right": null,
      "top": null,
      "visibility": null,
      "width": null
     }
    },
    "03a79f94aaf840e19bd08839bfca3314": {
     "model_module": "@jupyter-widgets/controls",
     "model_module_version": "1.5.0",
     "model_name": "HBoxModel",
     "state": {
      "_dom_classes": [],
      "_model_module": "@jupyter-widgets/controls",
      "_model_module_version": "1.5.0",
      "_model_name": "HBoxModel",
      "_view_count": null,
      "_view_module": "@jupyter-widgets/controls",
      "_view_module_version": "1.5.0",
      "_view_name": "HBoxView",
      "box_style": "",
      "children": [
       "IPY_MODEL_85973d37e144454994332d4f3f1884f8",
       "IPY_MODEL_98db026739014384aea9a3dfe1e8c488",
       "IPY_MODEL_7ac9a43441f1445c8cf763b831762481"
      ],
      "layout": "IPY_MODEL_734ed66158a24a82ba33dfe53dd0dfbb"
     }
    },
    "041f57a57bd64e7786cbfec246a2cbd6": {
     "model_module": "@jupyter-widgets/controls",
     "model_module_version": "1.5.0",
     "model_name": "FloatProgressModel",
     "state": {
      "_dom_classes": [],
      "_model_module": "@jupyter-widgets/controls",
      "_model_module_version": "1.5.0",
      "_model_name": "FloatProgressModel",
      "_view_count": null,
      "_view_module": "@jupyter-widgets/controls",
      "_view_module_version": "1.5.0",
      "_view_name": "ProgressView",
      "bar_style": "success",
      "description": "",
      "description_tooltip": null,
      "layout": "IPY_MODEL_8af427cef6f94f0da2c9d954d66e62af",
      "max": 438011953,
      "min": 0,
      "orientation": "horizontal",
      "style": "IPY_MODEL_e2ae5881f26e4520bb1cbd55492f2639",
      "value": 438011953
     }
    },
    "07be5aa3ba5b4bdfb731a9357194d67c": {
     "model_module": "@jupyter-widgets/controls",
     "model_module_version": "1.5.0",
     "model_name": "DescriptionStyleModel",
     "state": {
      "_model_module": "@jupyter-widgets/controls",
      "_model_module_version": "1.5.0",
      "_model_name": "DescriptionStyleModel",
      "_view_count": null,
      "_view_module": "@jupyter-widgets/base",
      "_view_module_version": "1.2.0",
      "_view_name": "StyleView",
      "description_width": ""
     }
    },
    "08908b29b104460cbc9741871f4d5914": {
     "model_module": "@jupyter-widgets/controls",
     "model_module_version": "1.5.0",
     "model_name": "FloatProgressModel",
     "state": {
      "_dom_classes": [],
      "_model_module": "@jupyter-widgets/controls",
      "_model_module_version": "1.5.0",
      "_model_name": "FloatProgressModel",
      "_view_count": null,
      "_view_module": "@jupyter-widgets/controls",
      "_view_module_version": "1.5.0",
      "_view_name": "ProgressView",
      "bar_style": "success",
      "description": "",
      "description_tooltip": null,
      "layout": "IPY_MODEL_ec7bb19e9c9f44b1a41cfe3e28830794",
      "max": 466021,
      "min": 0,
      "orientation": "horizontal",
      "style": "IPY_MODEL_d3edafc26946489e9c973f64abfff288",
      "value": 466021
     }
    },
    "0b31477bcd1343f1a8e2f631ce1a3264": {
     "model_module": "@jupyter-widgets/controls",
     "model_module_version": "1.5.0",
     "model_name": "HTMLModel",
     "state": {
      "_dom_classes": [],
      "_model_module": "@jupyter-widgets/controls",
      "_model_module_version": "1.5.0",
      "_model_name": "HTMLModel",
      "_view_count": null,
      "_view_module": "@jupyter-widgets/controls",
      "_view_module_version": "1.5.0",
      "_view_name": "HTMLView",
      "description": "",
      "description_tooltip": null,
      "layout": "IPY_MODEL_228afedf420a486ab484c5e6de6be0d5",
      "placeholder": "​",
      "style": "IPY_MODEL_fa763922d6a44c8ea2fff113e419bb41",
      "value": " 4846/4846 [03:00&lt;00:00, 50.25it/s]"
     }
    },
    "101c5c90028c4fbba5d72a2fa77f333e": {
     "model_module": "@jupyter-widgets/controls",
     "model_module_version": "1.5.0",
     "model_name": "HTMLModel",
     "state": {
      "_dom_classes": [],
      "_model_module": "@jupyter-widgets/controls",
      "_model_module_version": "1.5.0",
      "_model_name": "HTMLModel",
      "_view_count": null,
      "_view_module": "@jupyter-widgets/controls",
      "_view_module_version": "1.5.0",
      "_view_name": "HTMLView",
      "description": "",
      "description_tooltip": null,
      "layout": "IPY_MODEL_d9b42e220b3842819e7503c2e5496550",
      "placeholder": "​",
      "style": "IPY_MODEL_ebb1df6970c948c29f2312a83fc899ea",
      "value": "Downloading: 100%"
     }
    },
    "1161b1d7c4ac40ceb6a417d91c810ffb": {
     "model_module": "@jupyter-widgets/base",
     "model_module_version": "1.2.0",
     "model_name": "LayoutModel",
     "state": {
      "_model_module": "@jupyter-widgets/base",
      "_model_module_version": "1.2.0",
      "_model_name": "LayoutModel",
      "_view_count": null,
      "_view_module": "@jupyter-widgets/base",
      "_view_module_version": "1.2.0",
      "_view_name": "LayoutView",
      "align_content": null,
      "align_items": null,
      "align_self": null,
      "border": null,
      "bottom": null,
      "display": null,
      "flex": null,
      "flex_flow": null,
      "grid_area": null,
      "grid_auto_columns": null,
      "grid_auto_flow": null,
      "grid_auto_rows": null,
      "grid_column": null,
      "grid_gap": null,
      "grid_row": null,
      "grid_template_areas": null,
      "grid_template_columns": null,
      "grid_template_rows": null,
      "height": null,
      "justify_content": null,
      "justify_items": null,
      "left": null,
      "margin": null,
      "max_height": null,
      "max_width": null,
      "min_height": null,
      "min_width": null,
      "object_fit": null,
      "object_position": null,
      "order": null,
      "overflow": null,
      "overflow_x": null,
      "overflow_y": null,
      "padding": null,
      "right": null,
      "top": null,
      "visibility": null,
      "width": null
     }
    },
    "134bad0cfa90442c907c7c60001ff790": {
     "model_module": "@jupyter-widgets/controls",
     "model_module_version": "1.5.0",
     "model_name": "FloatProgressModel",
     "state": {
      "_dom_classes": [],
      "_model_module": "@jupyter-widgets/controls",
      "_model_module_version": "1.5.0",
      "_model_name": "FloatProgressModel",
      "_view_count": null,
      "_view_module": "@jupyter-widgets/controls",
      "_view_module_version": "1.5.0",
      "_view_name": "ProgressView",
      "bar_style": "success",
      "description": "",
      "description_tooltip": null,
      "layout": "IPY_MODEL_831db242edc04c6585e87f658f683284",
      "max": 1175,
      "min": 0,
      "orientation": "horizontal",
      "style": "IPY_MODEL_4240423a7f7f4271a92b500085731272",
      "value": 1175
     }
    },
    "147ac6e1cb6b4410812fb0eae0dce723": {
     "model_module": "@jupyter-widgets/base",
     "model_module_version": "1.2.0",
     "model_name": "LayoutModel",
     "state": {
      "_model_module": "@jupyter-widgets/base",
      "_model_module_version": "1.2.0",
      "_model_name": "LayoutModel",
      "_view_count": null,
      "_view_module": "@jupyter-widgets/base",
      "_view_module_version": "1.2.0",
      "_view_name": "LayoutView",
      "align_content": null,
      "align_items": null,
      "align_self": null,
      "border": null,
      "bottom": null,
      "display": null,
      "flex": null,
      "flex_flow": null,
      "grid_area": null,
      "grid_auto_columns": null,
      "grid_auto_flow": null,
      "grid_auto_rows": null,
      "grid_column": null,
      "grid_gap": null,
      "grid_row": null,
      "grid_template_areas": null,
      "grid_template_columns": null,
      "grid_template_rows": null,
      "height": null,
      "justify_content": null,
      "justify_items": null,
      "left": null,
      "margin": null,
      "max_height": null,
      "max_width": null,
      "min_height": null,
      "min_width": null,
      "object_fit": null,
      "object_position": null,
      "order": null,
      "overflow": null,
      "overflow_x": null,
      "overflow_y": null,
      "padding": null,
      "right": null,
      "top": null,
      "visibility": null,
      "width": null
     }
    },
    "15a8d26a6ce44151ad71411cb866ad6d": {
     "model_module": "@jupyter-widgets/controls",
     "model_module_version": "1.5.0",
     "model_name": "HBoxModel",
     "state": {
      "_dom_classes": [],
      "_model_module": "@jupyter-widgets/controls",
      "_model_module_version": "1.5.0",
      "_model_name": "HBoxModel",
      "_view_count": null,
      "_view_module": "@jupyter-widgets/controls",
      "_view_module_version": "1.5.0",
      "_view_name": "HBoxView",
      "box_style": "",
      "children": [
       "IPY_MODEL_6c01a34b60024375a3b8764d1cf46b9c",
       "IPY_MODEL_8f61f8fcec784bf39b1518199e748a67",
       "IPY_MODEL_5d81d7306f014191b134de5f2b7b7cd1"
      ],
      "layout": "IPY_MODEL_307cc9a0c29242f6ac1da741643df78d"
     }
    },
    "19b0854b192844d09ad3337d5ac98ad4": {
     "model_module": "@jupyter-widgets/controls",
     "model_module_version": "1.5.0",
     "model_name": "HTMLModel",
     "state": {
      "_dom_classes": [],
      "_model_module": "@jupyter-widgets/controls",
      "_model_module_version": "1.5.0",
      "_model_name": "HTMLModel",
      "_view_count": null,
      "_view_module": "@jupyter-widgets/controls",
      "_view_module_version": "1.5.0",
      "_view_name": "HTMLView",
      "description": "",
      "description_tooltip": null,
      "layout": "IPY_MODEL_6a0cdbd344ed4b43b365c96223157bf5",
      "placeholder": "​",
      "style": "IPY_MODEL_76c03cf81a6c43619a5cdc4d44246323",
      "value": " 466k/466k [00:00&lt;00:00, 952kB/s]"
     }
    },
    "1a5dfb24b7d34eb6a1cd4b789396e27b": {
     "model_module": "@jupyter-widgets/controls",
     "model_module_version": "1.5.0",
     "model_name": "DescriptionStyleModel",
     "state": {
      "_model_module": "@jupyter-widgets/controls",
      "_model_module_version": "1.5.0",
      "_model_name": "DescriptionStyleModel",
      "_view_count": null,
      "_view_module": "@jupyter-widgets/base",
      "_view_module_version": "1.2.0",
      "_view_name": "StyleView",
      "description_width": ""
     }
    },
    "1b67d658af544d03a0ffc0972096d36e": {
     "model_module": "@jupyter-widgets/base",
     "model_module_version": "1.2.0",
     "model_name": "LayoutModel",
     "state": {
      "_model_module": "@jupyter-widgets/base",
      "_model_module_version": "1.2.0",
      "_model_name": "LayoutModel",
      "_view_count": null,
      "_view_module": "@jupyter-widgets/base",
      "_view_module_version": "1.2.0",
      "_view_name": "LayoutView",
      "align_content": null,
      "align_items": null,
      "align_self": null,
      "border": null,
      "bottom": null,
      "display": null,
      "flex": null,
      "flex_flow": null,
      "grid_area": null,
      "grid_auto_columns": null,
      "grid_auto_flow": null,
      "grid_auto_rows": null,
      "grid_column": null,
      "grid_gap": null,
      "grid_row": null,
      "grid_template_areas": null,
      "grid_template_columns": null,
      "grid_template_rows": null,
      "height": null,
      "justify_content": null,
      "justify_items": null,
      "left": null,
      "margin": null,
      "max_height": null,
      "max_width": null,
      "min_height": null,
      "min_width": null,
      "object_fit": null,
      "object_position": null,
      "order": null,
      "overflow": null,
      "overflow_x": null,
      "overflow_y": null,
      "padding": null,
      "right": null,
      "top": null,
      "visibility": null,
      "width": null
     }
    },
    "1bec5373e2894830827803fb58791a4a": {
     "model_module": "@jupyter-widgets/controls",
     "model_module_version": "1.5.0",
     "model_name": "HBoxModel",
     "state": {
      "_dom_classes": [],
      "_model_module": "@jupyter-widgets/controls",
      "_model_module_version": "1.5.0",
      "_model_name": "HBoxModel",
      "_view_count": null,
      "_view_module": "@jupyter-widgets/controls",
      "_view_module_version": "1.5.0",
      "_view_name": "HBoxView",
      "box_style": "",
      "children": [
       "IPY_MODEL_59542b08fc814837837fb3db165834d4",
       "IPY_MODEL_fb757ee80a7f44fab9b4b5a4fbdb42b0",
       "IPY_MODEL_59c3eb325442437c94065f7fcc12a449"
      ],
      "layout": "IPY_MODEL_8957beb3799a4c109e59b331a4b9dd94"
     }
    },
    "1c4679f5aea149e889f629da442b361e": {
     "model_module": "@jupyter-widgets/base",
     "model_module_version": "1.2.0",
     "model_name": "LayoutModel",
     "state": {
      "_model_module": "@jupyter-widgets/base",
      "_model_module_version": "1.2.0",
      "_model_name": "LayoutModel",
      "_view_count": null,
      "_view_module": "@jupyter-widgets/base",
      "_view_module_version": "1.2.0",
      "_view_name": "LayoutView",
      "align_content": null,
      "align_items": null,
      "align_self": null,
      "border": null,
      "bottom": null,
      "display": null,
      "flex": null,
      "flex_flow": null,
      "grid_area": null,
      "grid_auto_columns": null,
      "grid_auto_flow": null,
      "grid_auto_rows": null,
      "grid_column": null,
      "grid_gap": null,
      "grid_row": null,
      "grid_template_areas": null,
      "grid_template_columns": null,
      "grid_template_rows": null,
      "height": null,
      "justify_content": null,
      "justify_items": null,
      "left": null,
      "margin": null,
      "max_height": null,
      "max_width": null,
      "min_height": null,
      "min_width": null,
      "object_fit": null,
      "object_position": null,
      "order": null,
      "overflow": null,
      "overflow_x": null,
      "overflow_y": null,
      "padding": null,
      "right": null,
      "top": null,
      "visibility": null,
      "width": null
     }
    },
    "228afedf420a486ab484c5e6de6be0d5": {
     "model_module": "@jupyter-widgets/base",
     "model_module_version": "1.2.0",
     "model_name": "LayoutModel",
     "state": {
      "_model_module": "@jupyter-widgets/base",
      "_model_module_version": "1.2.0",
      "_model_name": "LayoutModel",
      "_view_count": null,
      "_view_module": "@jupyter-widgets/base",
      "_view_module_version": "1.2.0",
      "_view_name": "LayoutView",
      "align_content": null,
      "align_items": null,
      "align_self": null,
      "border": null,
      "bottom": null,
      "display": null,
      "flex": null,
      "flex_flow": null,
      "grid_area": null,
      "grid_auto_columns": null,
      "grid_auto_flow": null,
      "grid_auto_rows": null,
      "grid_column": null,
      "grid_gap": null,
      "grid_row": null,
      "grid_template_areas": null,
      "grid_template_columns": null,
      "grid_template_rows": null,
      "height": null,
      "justify_content": null,
      "justify_items": null,
      "left": null,
      "margin": null,
      "max_height": null,
      "max_width": null,
      "min_height": null,
      "min_width": null,
      "object_fit": null,
      "object_position": null,
      "order": null,
      "overflow": null,
      "overflow_x": null,
      "overflow_y": null,
      "padding": null,
      "right": null,
      "top": null,
      "visibility": null,
      "width": null
     }
    },
    "24d43919a4eb4b8993f930162e8104c6": {
     "model_module": "@jupyter-widgets/controls",
     "model_module_version": "1.5.0",
     "model_name": "HBoxModel",
     "state": {
      "_dom_classes": [],
      "_model_module": "@jupyter-widgets/controls",
      "_model_module_version": "1.5.0",
      "_model_name": "HBoxModel",
      "_view_count": null,
      "_view_module": "@jupyter-widgets/controls",
      "_view_module_version": "1.5.0",
      "_view_name": "HBoxView",
      "box_style": "",
      "children": [
       "IPY_MODEL_101c5c90028c4fbba5d72a2fa77f333e",
       "IPY_MODEL_fc4063a95b7b4afbb2631c75f11349c1",
       "IPY_MODEL_01ff6b14db5e403182d6af8274da7282"
      ],
      "layout": "IPY_MODEL_c7608fcfb0c7430ea40b2f2b7f938572"
     }
    },
    "2b9e3c7bfa3b4ed19a2bb4ec96514b3b": {
     "model_module": "@jupyter-widgets/base",
     "model_module_version": "1.2.0",
     "model_name": "LayoutModel",
     "state": {
      "_model_module": "@jupyter-widgets/base",
      "_model_module_version": "1.2.0",
      "_model_name": "LayoutModel",
      "_view_count": null,
      "_view_module": "@jupyter-widgets/base",
      "_view_module_version": "1.2.0",
      "_view_name": "LayoutView",
      "align_content": null,
      "align_items": null,
      "align_self": null,
      "border": null,
      "bottom": null,
      "display": null,
      "flex": null,
      "flex_flow": null,
      "grid_area": null,
      "grid_auto_columns": null,
      "grid_auto_flow": null,
      "grid_auto_rows": null,
      "grid_column": null,
      "grid_gap": null,
      "grid_row": null,
      "grid_template_areas": null,
      "grid_template_columns": null,
      "grid_template_rows": null,
      "height": null,
      "justify_content": null,
      "justify_items": null,
      "left": null,
      "margin": null,
      "max_height": null,
      "max_width": null,
      "min_height": null,
      "min_width": null,
      "object_fit": null,
      "object_position": null,
      "order": null,
      "overflow": null,
      "overflow_x": null,
      "overflow_y": null,
      "padding": null,
      "right": null,
      "top": null,
      "visibility": null,
      "width": null
     }
    },
    "307cc9a0c29242f6ac1da741643df78d": {
     "model_module": "@jupyter-widgets/base",
     "model_module_version": "1.2.0",
     "model_name": "LayoutModel",
     "state": {
      "_model_module": "@jupyter-widgets/base",
      "_model_module_version": "1.2.0",
      "_model_name": "LayoutModel",
      "_view_count": null,
      "_view_module": "@jupyter-widgets/base",
      "_view_module_version": "1.2.0",
      "_view_name": "LayoutView",
      "align_content": null,
      "align_items": null,
      "align_self": null,
      "border": null,
      "bottom": null,
      "display": null,
      "flex": null,
      "flex_flow": null,
      "grid_area": null,
      "grid_auto_columns": null,
      "grid_auto_flow": null,
      "grid_auto_rows": null,
      "grid_column": null,
      "grid_gap": null,
      "grid_row": null,
      "grid_template_areas": null,
      "grid_template_columns": null,
      "grid_template_rows": null,
      "height": null,
      "justify_content": null,
      "justify_items": null,
      "left": null,
      "margin": null,
      "max_height": null,
      "max_width": null,
      "min_height": null,
      "min_width": null,
      "object_fit": null,
      "object_position": null,
      "order": null,
      "overflow": null,
      "overflow_x": null,
      "overflow_y": null,
      "padding": null,
      "right": null,
      "top": null,
      "visibility": null,
      "width": null
     }
    },
    "35e278f7dc51413daeb118101614a22e": {
     "model_module": "@jupyter-widgets/controls",
     "model_module_version": "1.5.0",
     "model_name": "HBoxModel",
     "state": {
      "_dom_classes": [],
      "_model_module": "@jupyter-widgets/controls",
      "_model_module_version": "1.5.0",
      "_model_name": "HBoxModel",
      "_view_count": null,
      "_view_module": "@jupyter-widgets/controls",
      "_view_module_version": "1.5.0",
      "_view_name": "HBoxView",
      "box_style": "",
      "children": [
       "IPY_MODEL_02d9ef93f8b44ac5bfdbefe125e4d69d",
       "IPY_MODEL_041f57a57bd64e7786cbfec246a2cbd6",
       "IPY_MODEL_4581b2d584504e00b4332d0626b8d187"
      ],
      "layout": "IPY_MODEL_b3c43760c05749229f00ad05fc4c3dfe"
     }
    },
    "3684c0f23c044ec4826273be50634b8d": {
     "model_module": "@jupyter-widgets/base",
     "model_module_version": "1.2.0",
     "model_name": "LayoutModel",
     "state": {
      "_model_module": "@jupyter-widgets/base",
      "_model_module_version": "1.2.0",
      "_model_name": "LayoutModel",
      "_view_count": null,
      "_view_module": "@jupyter-widgets/base",
      "_view_module_version": "1.2.0",
      "_view_name": "LayoutView",
      "align_content": null,
      "align_items": null,
      "align_self": null,
      "border": null,
      "bottom": null,
      "display": null,
      "flex": null,
      "flex_flow": null,
      "grid_area": null,
      "grid_auto_columns": null,
      "grid_auto_flow": null,
      "grid_auto_rows": null,
      "grid_column": null,
      "grid_gap": null,
      "grid_row": null,
      "grid_template_areas": null,
      "grid_template_columns": null,
      "grid_template_rows": null,
      "height": null,
      "justify_content": null,
      "justify_items": null,
      "left": null,
      "margin": null,
      "max_height": null,
      "max_width": null,
      "min_height": null,
      "min_width": null,
      "object_fit": null,
      "object_position": null,
      "order": null,
      "overflow": null,
      "overflow_x": null,
      "overflow_y": null,
      "padding": null,
      "right": null,
      "top": null,
      "visibility": null,
      "width": null
     }
    },
    "36a14b6c93334ee3991d761ec08c0b6d": {
     "model_module": "@jupyter-widgets/controls",
     "model_module_version": "1.5.0",
     "model_name": "HBoxModel",
     "state": {
      "_dom_classes": [],
      "_model_module": "@jupyter-widgets/controls",
      "_model_module_version": "1.5.0",
      "_model_name": "HBoxModel",
      "_view_count": null,
      "_view_module": "@jupyter-widgets/controls",
      "_view_module_version": "1.5.0",
      "_view_name": "HBoxView",
      "box_style": "",
      "children": [
       "IPY_MODEL_efac8ec8b5a642ad83f0a7fba6dda4ae",
       "IPY_MODEL_3f492c2b92374161b8432fb9b08cc093",
       "IPY_MODEL_44098576d1014952940de4012c3fdc6d"
      ],
      "layout": "IPY_MODEL_d45b674637b24c718583c8665d2efdef"
     }
    },
    "3bba594da74f48249c8e3ee0652afe41": {
     "model_module": "@jupyter-widgets/controls",
     "model_module_version": "1.5.0",
     "model_name": "ProgressStyleModel",
     "state": {
      "_model_module": "@jupyter-widgets/controls",
      "_model_module_version": "1.5.0",
      "_model_name": "ProgressStyleModel",
      "_view_count": null,
      "_view_module": "@jupyter-widgets/base",
      "_view_module_version": "1.2.0",
      "_view_name": "StyleView",
      "bar_color": null,
      "description_width": ""
     }
    },
    "3f01bde548f24c798fd0041a6ead2615": {
     "model_module": "@jupyter-widgets/controls",
     "model_module_version": "1.5.0",
     "model_name": "HTMLModel",
     "state": {
      "_dom_classes": [],
      "_model_module": "@jupyter-widgets/controls",
      "_model_module_version": "1.5.0",
      "_model_name": "HTMLModel",
      "_view_count": null,
      "_view_module": "@jupyter-widgets/controls",
      "_view_module_version": "1.5.0",
      "_view_name": "HTMLView",
      "description": "",
      "description_tooltip": null,
      "layout": "IPY_MODEL_2b9e3c7bfa3b4ed19a2bb4ec96514b3b",
      "placeholder": "​",
      "style": "IPY_MODEL_610a9e9a8d054d0582e3b758111f5483",
      "value": "Downloading: 100%"
     }
    },
    "3f3cff58bc26475da5a50d576da8ebad": {
     "model_module": "@jupyter-widgets/controls",
     "model_module_version": "1.5.0",
     "model_name": "HBoxModel",
     "state": {
      "_dom_classes": [],
      "_model_module": "@jupyter-widgets/controls",
      "_model_module_version": "1.5.0",
      "_model_name": "HBoxModel",
      "_view_count": null,
      "_view_module": "@jupyter-widgets/controls",
      "_view_module_version": "1.5.0",
      "_view_name": "HBoxView",
      "box_style": "",
      "children": [
       "IPY_MODEL_3f01bde548f24c798fd0041a6ead2615",
       "IPY_MODEL_08908b29b104460cbc9741871f4d5914",
       "IPY_MODEL_19b0854b192844d09ad3337d5ac98ad4"
      ],
      "layout": "IPY_MODEL_9ff3944d44554345a84c1a1ba46e0de8"
     }
    },
    "3f492c2b92374161b8432fb9b08cc093": {
     "model_module": "@jupyter-widgets/controls",
     "model_module_version": "1.5.0",
     "model_name": "FloatProgressModel",
     "state": {
      "_dom_classes": [],
      "_model_module": "@jupyter-widgets/controls",
      "_model_module_version": "1.5.0",
      "_model_name": "FloatProgressModel",
      "_view_count": null,
      "_view_module": "@jupyter-widgets/controls",
      "_view_module_version": "1.5.0",
      "_view_name": "ProgressView",
      "bar_style": "success",
      "description": "",
      "description_tooltip": null,
      "layout": "IPY_MODEL_b6f78fff1c0e4943b06562a180821696",
      "max": 116,
      "min": 0,
      "orientation": "horizontal",
      "style": "IPY_MODEL_6223ef9a3c314ec9b5557b5c297be584",
      "value": 116
     }
    },
    "413bd7272a244d6dba57e5c218645806": {
     "model_module": "@jupyter-widgets/base",
     "model_module_version": "1.2.0",
     "model_name": "LayoutModel",
     "state": {
      "_model_module": "@jupyter-widgets/base",
      "_model_module_version": "1.2.0",
      "_model_name": "LayoutModel",
      "_view_count": null,
      "_view_module": "@jupyter-widgets/base",
      "_view_module_version": "1.2.0",
      "_view_name": "LayoutView",
      "align_content": null,
      "align_items": null,
      "align_self": null,
      "border": null,
      "bottom": null,
      "display": null,
      "flex": null,
      "flex_flow": null,
      "grid_area": null,
      "grid_auto_columns": null,
      "grid_auto_flow": null,
      "grid_auto_rows": null,
      "grid_column": null,
      "grid_gap": null,
      "grid_row": null,
      "grid_template_areas": null,
      "grid_template_columns": null,
      "grid_template_rows": null,
      "height": null,
      "justify_content": null,
      "justify_items": null,
      "left": null,
      "margin": null,
      "max_height": null,
      "max_width": null,
      "min_height": null,
      "min_width": null,
      "object_fit": null,
      "object_position": null,
      "order": null,
      "overflow": null,
      "overflow_x": null,
      "overflow_y": null,
      "padding": null,
      "right": null,
      "top": null,
      "visibility": null,
      "width": null
     }
    },
    "4240423a7f7f4271a92b500085731272": {
     "model_module": "@jupyter-widgets/controls",
     "model_module_version": "1.5.0",
     "model_name": "ProgressStyleModel",
     "state": {
      "_model_module": "@jupyter-widgets/controls",
      "_model_module_version": "1.5.0",
      "_model_name": "ProgressStyleModel",
      "_view_count": null,
      "_view_module": "@jupyter-widgets/base",
      "_view_module_version": "1.2.0",
      "_view_name": "StyleView",
      "bar_color": null,
      "description_width": ""
     }
    },
    "44098576d1014952940de4012c3fdc6d": {
     "model_module": "@jupyter-widgets/controls",
     "model_module_version": "1.5.0",
     "model_name": "HTMLModel",
     "state": {
      "_dom_classes": [],
      "_model_module": "@jupyter-widgets/controls",
      "_model_module_version": "1.5.0",
      "_model_name": "HTMLModel",
      "_view_count": null,
      "_view_module": "@jupyter-widgets/controls",
      "_view_module_version": "1.5.0",
      "_view_name": "HTMLView",
      "description": "",
      "description_tooltip": null,
      "layout": "IPY_MODEL_6bf1a3258b694a519a963734dda9fd86",
      "placeholder": "​",
      "style": "IPY_MODEL_854dd6e305a54ca18940d9a28ae34759",
      "value": " 116/116 [00:00&lt;00:00, 2.70kB/s]"
     }
    },
    "4581b2d584504e00b4332d0626b8d187": {
     "model_module": "@jupyter-widgets/controls",
     "model_module_version": "1.5.0",
     "model_name": "HTMLModel",
     "state": {
      "_dom_classes": [],
      "_model_module": "@jupyter-widgets/controls",
      "_model_module_version": "1.5.0",
      "_model_name": "HTMLModel",
      "_view_count": null,
      "_view_module": "@jupyter-widgets/controls",
      "_view_module_version": "1.5.0",
      "_view_name": "HTMLView",
      "description": "",
      "description_tooltip": null,
      "layout": "IPY_MODEL_8ffd7b681df9441bb901f3131eec8d64",
      "placeholder": "​",
      "style": "IPY_MODEL_91f5b8beaafa4673bae7b3cc7570c690",
      "value": " 438M/438M [00:07&lt;00:00, 63.2MB/s]"
     }
    },
    "46817e7104004f9aa41e9dc1cb5e16e5": {
     "model_module": "@jupyter-widgets/controls",
     "model_module_version": "1.5.0",
     "model_name": "FloatProgressModel",
     "state": {
      "_dom_classes": [],
      "_model_module": "@jupyter-widgets/controls",
      "_model_module_version": "1.5.0",
      "_model_name": "FloatProgressModel",
      "_view_count": null,
      "_view_module": "@jupyter-widgets/controls",
      "_view_module_version": "1.5.0",
      "_view_name": "ProgressView",
      "bar_style": "success",
      "description": "",
      "description_tooltip": null,
      "layout": "IPY_MODEL_9317aa07051b45128dbb047fd5f47bd1",
      "max": 4846,
      "min": 0,
      "orientation": "horizontal",
      "style": "IPY_MODEL_7e61460fd5704dc38dadb18c5c0754c4",
      "value": 4846
     }
    },
    "4dbeaf6742b84b329e2fdfaf3a43300d": {
     "model_module": "@jupyter-widgets/controls",
     "model_module_version": "1.5.0",
     "model_name": "HBoxModel",
     "state": {
      "_dom_classes": [],
      "_model_module": "@jupyter-widgets/controls",
      "_model_module_version": "1.5.0",
      "_model_name": "HBoxModel",
      "_view_count": null,
      "_view_module": "@jupyter-widgets/controls",
      "_view_module_version": "1.5.0",
      "_view_name": "HBoxView",
      "box_style": "",
      "children": [
       "IPY_MODEL_f74f13c12cc546a1af7b70ae54985356",
       "IPY_MODEL_46817e7104004f9aa41e9dc1cb5e16e5",
       "IPY_MODEL_0b31477bcd1343f1a8e2f631ce1a3264"
      ],
      "layout": "IPY_MODEL_5ba8e17a518040808736d454ccaa88aa"
     }
    },
    "4e31f36aaf2a46c7a80d290f536e7cfe": {
     "model_module": "@jupyter-widgets/base",
     "model_module_version": "1.2.0",
     "model_name": "LayoutModel",
     "state": {
      "_model_module": "@jupyter-widgets/base",
      "_model_module_version": "1.2.0",
      "_model_name": "LayoutModel",
      "_view_count": null,
      "_view_module": "@jupyter-widgets/base",
      "_view_module_version": "1.2.0",
      "_view_name": "LayoutView",
      "align_content": null,
      "align_items": null,
      "align_self": null,
      "border": null,
      "bottom": null,
      "display": null,
      "flex": null,
      "flex_flow": null,
      "grid_area": null,
      "grid_auto_columns": null,
      "grid_auto_flow": null,
      "grid_auto_rows": null,
      "grid_column": null,
      "grid_gap": null,
      "grid_row": null,
      "grid_template_areas": null,
      "grid_template_columns": null,
      "grid_template_rows": null,
      "height": null,
      "justify_content": null,
      "justify_items": null,
      "left": null,
      "margin": null,
      "max_height": null,
      "max_width": null,
      "min_height": null,
      "min_width": null,
      "object_fit": null,
      "object_position": null,
      "order": null,
      "overflow": null,
      "overflow_x": null,
      "overflow_y": null,
      "padding": null,
      "right": null,
      "top": null,
      "visibility": null,
      "width": null
     }
    },
    "51b215d43bee4e048de7f2b01400e923": {
     "model_module": "@jupyter-widgets/controls",
     "model_module_version": "1.5.0",
     "model_name": "DescriptionStyleModel",
     "state": {
      "_model_module": "@jupyter-widgets/controls",
      "_model_module_version": "1.5.0",
      "_model_name": "DescriptionStyleModel",
      "_view_count": null,
      "_view_module": "@jupyter-widgets/base",
      "_view_module_version": "1.2.0",
      "_view_name": "StyleView",
      "description_width": ""
     }
    },
    "535994abf42c47f4914c396b0f401833": {
     "model_module": "@jupyter-widgets/controls",
     "model_module_version": "1.5.0",
     "model_name": "DescriptionStyleModel",
     "state": {
      "_model_module": "@jupyter-widgets/controls",
      "_model_module_version": "1.5.0",
      "_model_name": "DescriptionStyleModel",
      "_view_count": null,
      "_view_module": "@jupyter-widgets/base",
      "_view_module_version": "1.2.0",
      "_view_name": "StyleView",
      "description_width": ""
     }
    },
    "57c4e76163b848aabf22a198cbf7acbd": {
     "model_module": "@jupyter-widgets/controls",
     "model_module_version": "1.5.0",
     "model_name": "DescriptionStyleModel",
     "state": {
      "_model_module": "@jupyter-widgets/controls",
      "_model_module_version": "1.5.0",
      "_model_name": "DescriptionStyleModel",
      "_view_count": null,
      "_view_module": "@jupyter-widgets/base",
      "_view_module_version": "1.2.0",
      "_view_name": "StyleView",
      "description_width": ""
     }
    },
    "59542b08fc814837837fb3db165834d4": {
     "model_module": "@jupyter-widgets/controls",
     "model_module_version": "1.5.0",
     "model_name": "HTMLModel",
     "state": {
      "_dom_classes": [],
      "_model_module": "@jupyter-widgets/controls",
      "_model_module_version": "1.5.0",
      "_model_name": "HTMLModel",
      "_view_count": null,
      "_view_module": "@jupyter-widgets/controls",
      "_view_module_version": "1.5.0",
      "_view_name": "HTMLView",
      "description": "",
      "description_tooltip": null,
      "layout": "IPY_MODEL_68a9520dc0dc4a8f9ba609f39b568124",
      "placeholder": "​",
      "style": "IPY_MODEL_ae2c022943314397bbe3efd94a010fb5",
      "value": "Downloading: 100%"
     }
    },
    "59c3eb325442437c94065f7fcc12a449": {
     "model_module": "@jupyter-widgets/controls",
     "model_module_version": "1.5.0",
     "model_name": "HTMLModel",
     "state": {
      "_dom_classes": [],
      "_model_module": "@jupyter-widgets/controls",
      "_model_module_version": "1.5.0",
      "_model_name": "HTMLModel",
      "_view_count": null,
      "_view_module": "@jupyter-widgets/controls",
      "_view_module_version": "1.5.0",
      "_view_name": "HTMLView",
      "description": "",
      "description_tooltip": null,
      "layout": "IPY_MODEL_d84ff5edc0b7429297564c2faee2d54f",
      "placeholder": "​",
      "style": "IPY_MODEL_6eb6892060914778b86e52543e6b0c9e",
      "value": " 571/571 [00:00&lt;00:00, 17.1kB/s]"
     }
    },
    "5a6b396903704df9b7083146f3db0a9d": {
     "model_module": "@jupyter-widgets/controls",
     "model_module_version": "1.5.0",
     "model_name": "FloatProgressModel",
     "state": {
      "_dom_classes": [],
      "_model_module": "@jupyter-widgets/controls",
      "_model_module_version": "1.5.0",
      "_model_name": "FloatProgressModel",
      "_view_count": null,
      "_view_module": "@jupyter-widgets/controls",
      "_view_module_version": "1.5.0",
      "_view_name": "ProgressView",
      "bar_style": "success",
      "description": "",
      "description_tooltip": null,
      "layout": "IPY_MODEL_d904c8d616794f0e99bd23c6a62cefeb",
      "max": 190,
      "min": 0,
      "orientation": "horizontal",
      "style": "IPY_MODEL_c236c4bbb41f45d59b38b36f81fedef4",
      "value": 190
     }
    },
    "5ba8e17a518040808736d454ccaa88aa": {
     "model_module": "@jupyter-widgets/base",
     "model_module_version": "1.2.0",
     "model_name": "LayoutModel",
     "state": {
      "_model_module": "@jupyter-widgets/base",
      "_model_module_version": "1.2.0",
      "_model_name": "LayoutModel",
      "_view_count": null,
      "_view_module": "@jupyter-widgets/base",
      "_view_module_version": "1.2.0",
      "_view_name": "LayoutView",
      "align_content": null,
      "align_items": null,
      "align_self": null,
      "border": null,
      "bottom": null,
      "display": null,
      "flex": null,
      "flex_flow": null,
      "grid_area": null,
      "grid_auto_columns": null,
      "grid_auto_flow": null,
      "grid_auto_rows": null,
      "grid_column": null,
      "grid_gap": null,
      "grid_row": null,
      "grid_template_areas": null,
      "grid_template_columns": null,
      "grid_template_rows": null,
      "height": null,
      "justify_content": null,
      "justify_items": null,
      "left": null,
      "margin": null,
      "max_height": null,
      "max_width": null,
      "min_height": null,
      "min_width": null,
      "object_fit": null,
      "object_position": null,
      "order": null,
      "overflow": null,
      "overflow_x": null,
      "overflow_y": null,
      "padding": null,
      "right": null,
      "top": null,
      "visibility": null,
      "width": null
     }
    },
    "5c06de79cdeb4a4f9e57b2d610196f79": {
     "model_module": "@jupyter-widgets/base",
     "model_module_version": "1.2.0",
     "model_name": "LayoutModel",
     "state": {
      "_model_module": "@jupyter-widgets/base",
      "_model_module_version": "1.2.0",
      "_model_name": "LayoutModel",
      "_view_count": null,
      "_view_module": "@jupyter-widgets/base",
      "_view_module_version": "1.2.0",
      "_view_name": "LayoutView",
      "align_content": null,
      "align_items": null,
      "align_self": null,
      "border": null,
      "bottom": null,
      "display": null,
      "flex": null,
      "flex_flow": null,
      "grid_area": null,
      "grid_auto_columns": null,
      "grid_auto_flow": null,
      "grid_auto_rows": null,
      "grid_column": null,
      "grid_gap": null,
      "grid_row": null,
      "grid_template_areas": null,
      "grid_template_columns": null,
      "grid_template_rows": null,
      "height": null,
      "justify_content": null,
      "justify_items": null,
      "left": null,
      "margin": null,
      "max_height": null,
      "max_width": null,
      "min_height": null,
      "min_width": null,
      "object_fit": null,
      "object_position": null,
      "order": null,
      "overflow": null,
      "overflow_x": null,
      "overflow_y": null,
      "padding": null,
      "right": null,
      "top": null,
      "visibility": null,
      "width": null
     }
    },
    "5cb29053e3ac4b5faa247573500a4b1d": {
     "model_module": "@jupyter-widgets/controls",
     "model_module_version": "1.5.0",
     "model_name": "HTMLModel",
     "state": {
      "_dom_classes": [],
      "_model_module": "@jupyter-widgets/controls",
      "_model_module_version": "1.5.0",
      "_model_name": "HTMLModel",
      "_view_count": null,
      "_view_module": "@jupyter-widgets/controls",
      "_view_module_version": "1.5.0",
      "_view_name": "HTMLView",
      "description": "",
      "description_tooltip": null,
      "layout": "IPY_MODEL_bb802df468284f26ad3809a858ebf338",
      "placeholder": "​",
      "style": "IPY_MODEL_b33fe491b70248a49733c7ae8b143efc",
      "value": "Downloading: 100%"
     }
    },
    "5d81d7306f014191b134de5f2b7b7cd1": {
     "model_module": "@jupyter-widgets/controls",
     "model_module_version": "1.5.0",
     "model_name": "HTMLModel",
     "state": {
      "_dom_classes": [],
      "_model_module": "@jupyter-widgets/controls",
      "_model_module_version": "1.5.0",
      "_model_name": "HTMLModel",
      "_view_count": null,
      "_view_module": "@jupyter-widgets/controls",
      "_view_module_version": "1.5.0",
      "_view_name": "HTMLView",
      "description": "",
      "description_tooltip": null,
      "layout": "IPY_MODEL_4e31f36aaf2a46c7a80d290f536e7cfe",
      "placeholder": "​",
      "style": "IPY_MODEL_d954233c123343d9bd43a5b7057915e0",
      "value": " 53.0/53.0 [00:00&lt;00:00, 1.46kB/s]"
     }
    },
    "5e0a6a5e418448268e2ba4c4471a0c59": {
     "model_module": "@jupyter-widgets/controls",
     "model_module_version": "1.5.0",
     "model_name": "DescriptionStyleModel",
     "state": {
      "_model_module": "@jupyter-widgets/controls",
      "_model_module_version": "1.5.0",
      "_model_name": "DescriptionStyleModel",
      "_view_count": null,
      "_view_module": "@jupyter-widgets/base",
      "_view_module_version": "1.2.0",
      "_view_name": "StyleView",
      "description_width": ""
     }
    },
    "610a9e9a8d054d0582e3b758111f5483": {
     "model_module": "@jupyter-widgets/controls",
     "model_module_version": "1.5.0",
     "model_name": "DescriptionStyleModel",
     "state": {
      "_model_module": "@jupyter-widgets/controls",
      "_model_module_version": "1.5.0",
      "_model_name": "DescriptionStyleModel",
      "_view_count": null,
      "_view_module": "@jupyter-widgets/base",
      "_view_module_version": "1.2.0",
      "_view_name": "StyleView",
      "description_width": ""
     }
    },
    "6223ef9a3c314ec9b5557b5c297be584": {
     "model_module": "@jupyter-widgets/controls",
     "model_module_version": "1.5.0",
     "model_name": "ProgressStyleModel",
     "state": {
      "_model_module": "@jupyter-widgets/controls",
      "_model_module_version": "1.5.0",
      "_model_name": "ProgressStyleModel",
      "_view_count": null,
      "_view_module": "@jupyter-widgets/base",
      "_view_module_version": "1.2.0",
      "_view_name": "StyleView",
      "bar_color": null,
      "description_width": ""
     }
    },
    "63990fb5f755425ab1eb99cd7f9716b3": {
     "model_module": "@jupyter-widgets/controls",
     "model_module_version": "1.5.0",
     "model_name": "DescriptionStyleModel",
     "state": {
      "_model_module": "@jupyter-widgets/controls",
      "_model_module_version": "1.5.0",
      "_model_name": "DescriptionStyleModel",
      "_view_count": null,
      "_view_module": "@jupyter-widgets/base",
      "_view_module_version": "1.2.0",
      "_view_name": "StyleView",
      "description_width": ""
     }
    },
    "63b919b98b434677929c5038f2e2dcda": {
     "model_module": "@jupyter-widgets/controls",
     "model_module_version": "1.5.0",
     "model_name": "ProgressStyleModel",
     "state": {
      "_model_module": "@jupyter-widgets/controls",
      "_model_module_version": "1.5.0",
      "_model_name": "ProgressStyleModel",
      "_view_count": null,
      "_view_module": "@jupyter-widgets/base",
      "_view_module_version": "1.2.0",
      "_view_name": "StyleView",
      "bar_color": null,
      "description_width": ""
     }
    },
    "6828a059d5194082b6c49df190802215": {
     "model_module": "@jupyter-widgets/controls",
     "model_module_version": "1.5.0",
     "model_name": "HTMLModel",
     "state": {
      "_dom_classes": [],
      "_model_module": "@jupyter-widgets/controls",
      "_model_module_version": "1.5.0",
      "_model_name": "HTMLModel",
      "_view_count": null,
      "_view_module": "@jupyter-widgets/controls",
      "_view_module_version": "1.5.0",
      "_view_name": "HTMLView",
      "description": "",
      "description_tooltip": null,
      "layout": "IPY_MODEL_d6f155d5e04647bdb5ce3c1ffe2beaa3",
      "placeholder": "​",
      "style": "IPY_MODEL_cb557c5bfc934944b1ce6eb721179d87",
      "value": " 10.6k/10.6k [00:00&lt;00:00, 347kB/s]"
     }
    },
    "68a9520dc0dc4a8f9ba609f39b568124": {
     "model_module": "@jupyter-widgets/base",
     "model_module_version": "1.2.0",
     "model_name": "LayoutModel",
     "state": {
      "_model_module": "@jupyter-widgets/base",
      "_model_module_version": "1.2.0",
      "_model_name": "LayoutModel",
      "_view_count": null,
      "_view_module": "@jupyter-widgets/base",
      "_view_module_version": "1.2.0",
      "_view_name": "LayoutView",
      "align_content": null,
      "align_items": null,
      "align_self": null,
      "border": null,
      "bottom": null,
      "display": null,
      "flex": null,
      "flex_flow": null,
      "grid_area": null,
      "grid_auto_columns": null,
      "grid_auto_flow": null,
      "grid_auto_rows": null,
      "grid_column": null,
      "grid_gap": null,
      "grid_row": null,
      "grid_template_areas": null,
      "grid_template_columns": null,
      "grid_template_rows": null,
      "height": null,
      "justify_content": null,
      "justify_items": null,
      "left": null,
      "margin": null,
      "max_height": null,
      "max_width": null,
      "min_height": null,
      "min_width": null,
      "object_fit": null,
      "object_position": null,
      "order": null,
      "overflow": null,
      "overflow_x": null,
      "overflow_y": null,
      "padding": null,
      "right": null,
      "top": null,
      "visibility": null,
      "width": null
     }
    },
    "69f1671a05ae48a698e9103ccb6645b4": {
     "model_module": "@jupyter-widgets/base",
     "model_module_version": "1.2.0",
     "model_name": "LayoutModel",
     "state": {
      "_model_module": "@jupyter-widgets/base",
      "_model_module_version": "1.2.0",
      "_model_name": "LayoutModel",
      "_view_count": null,
      "_view_module": "@jupyter-widgets/base",
      "_view_module_version": "1.2.0",
      "_view_name": "LayoutView",
      "align_content": null,
      "align_items": null,
      "align_self": null,
      "border": null,
      "bottom": null,
      "display": null,
      "flex": null,
      "flex_flow": null,
      "grid_area": null,
      "grid_auto_columns": null,
      "grid_auto_flow": null,
      "grid_auto_rows": null,
      "grid_column": null,
      "grid_gap": null,
      "grid_row": null,
      "grid_template_areas": null,
      "grid_template_columns": null,
      "grid_template_rows": null,
      "height": null,
      "justify_content": null,
      "justify_items": null,
      "left": null,
      "margin": null,
      "max_height": null,
      "max_width": null,
      "min_height": null,
      "min_width": null,
      "object_fit": null,
      "object_position": null,
      "order": null,
      "overflow": null,
      "overflow_x": null,
      "overflow_y": null,
      "padding": null,
      "right": null,
      "top": null,
      "visibility": null,
      "width": null
     }
    },
    "6a0cdbd344ed4b43b365c96223157bf5": {
     "model_module": "@jupyter-widgets/base",
     "model_module_version": "1.2.0",
     "model_name": "LayoutModel",
     "state": {
      "_model_module": "@jupyter-widgets/base",
      "_model_module_version": "1.2.0",
      "_model_name": "LayoutModel",
      "_view_count": null,
      "_view_module": "@jupyter-widgets/base",
      "_view_module_version": "1.2.0",
      "_view_name": "LayoutView",
      "align_content": null,
      "align_items": null,
      "align_self": null,
      "border": null,
      "bottom": null,
      "display": null,
      "flex": null,
      "flex_flow": null,
      "grid_area": null,
      "grid_auto_columns": null,
      "grid_auto_flow": null,
      "grid_auto_rows": null,
      "grid_column": null,
      "grid_gap": null,
      "grid_row": null,
      "grid_template_areas": null,
      "grid_template_columns": null,
      "grid_template_rows": null,
      "height": null,
      "justify_content": null,
      "justify_items": null,
      "left": null,
      "margin": null,
      "max_height": null,
      "max_width": null,
      "min_height": null,
      "min_width": null,
      "object_fit": null,
      "object_position": null,
      "order": null,
      "overflow": null,
      "overflow_x": null,
      "overflow_y": null,
      "padding": null,
      "right": null,
      "top": null,
      "visibility": null,
      "width": null
     }
    },
    "6bf1a3258b694a519a963734dda9fd86": {
     "model_module": "@jupyter-widgets/base",
     "model_module_version": "1.2.0",
     "model_name": "LayoutModel",
     "state": {
      "_model_module": "@jupyter-widgets/base",
      "_model_module_version": "1.2.0",
      "_model_name": "LayoutModel",
      "_view_count": null,
      "_view_module": "@jupyter-widgets/base",
      "_view_module_version": "1.2.0",
      "_view_name": "LayoutView",
      "align_content": null,
      "align_items": null,
      "align_self": null,
      "border": null,
      "bottom": null,
      "display": null,
      "flex": null,
      "flex_flow": null,
      "grid_area": null,
      "grid_auto_columns": null,
      "grid_auto_flow": null,
      "grid_auto_rows": null,
      "grid_column": null,
      "grid_gap": null,
      "grid_row": null,
      "grid_template_areas": null,
      "grid_template_columns": null,
      "grid_template_rows": null,
      "height": null,
      "justify_content": null,
      "justify_items": null,
      "left": null,
      "margin": null,
      "max_height": null,
      "max_width": null,
      "min_height": null,
      "min_width": null,
      "object_fit": null,
      "object_position": null,
      "order": null,
      "overflow": null,
      "overflow_x": null,
      "overflow_y": null,
      "padding": null,
      "right": null,
      "top": null,
      "visibility": null,
      "width": null
     }
    },
    "6c01a34b60024375a3b8764d1cf46b9c": {
     "model_module": "@jupyter-widgets/controls",
     "model_module_version": "1.5.0",
     "model_name": "HTMLModel",
     "state": {
      "_dom_classes": [],
      "_model_module": "@jupyter-widgets/controls",
      "_model_module_version": "1.5.0",
      "_model_name": "HTMLModel",
      "_view_count": null,
      "_view_module": "@jupyter-widgets/controls",
      "_view_module_version": "1.5.0",
      "_view_name": "HTMLView",
      "description": "",
      "description_tooltip": null,
      "layout": "IPY_MODEL_97df791d147d45cd83513c0d4e183c74",
      "placeholder": "​",
      "style": "IPY_MODEL_9371d5a9a0124b6a8c0f39650ad2cfda",
      "value": "Downloading: 100%"
     }
    },
    "6d7f826df0f74b90aee6cde8228b0560": {
     "model_module": "@jupyter-widgets/controls",
     "model_module_version": "1.5.0",
     "model_name": "HBoxModel",
     "state": {
      "_dom_classes": [],
      "_model_module": "@jupyter-widgets/controls",
      "_model_module_version": "1.5.0",
      "_model_name": "HBoxModel",
      "_view_count": null,
      "_view_module": "@jupyter-widgets/controls",
      "_view_module_version": "1.5.0",
      "_view_name": "HBoxView",
      "box_style": "",
      "children": [
       "IPY_MODEL_d8049376c9874d8bb9e5d26e04d81e86",
       "IPY_MODEL_5a6b396903704df9b7083146f3db0a9d",
       "IPY_MODEL_e58adb004d51400685670b4841205355"
      ],
      "layout": "IPY_MODEL_5c06de79cdeb4a4f9e57b2d610196f79"
     }
    },
    "6eb6892060914778b86e52543e6b0c9e": {
     "model_module": "@jupyter-widgets/controls",
     "model_module_version": "1.5.0",
     "model_name": "DescriptionStyleModel",
     "state": {
      "_model_module": "@jupyter-widgets/controls",
      "_model_module_version": "1.5.0",
      "_model_name": "DescriptionStyleModel",
      "_view_count": null,
      "_view_module": "@jupyter-widgets/base",
      "_view_module_version": "1.2.0",
      "_view_name": "StyleView",
      "description_width": ""
     }
    },
    "72745c0713b349d7893cc40ceda839ba": {
     "model_module": "@jupyter-widgets/controls",
     "model_module_version": "1.5.0",
     "model_name": "HTMLModel",
     "state": {
      "_dom_classes": [],
      "_model_module": "@jupyter-widgets/controls",
      "_model_module_version": "1.5.0",
      "_model_name": "HTMLModel",
      "_view_count": null,
      "_view_module": "@jupyter-widgets/controls",
      "_view_module_version": "1.5.0",
      "_view_name": "HTMLView",
      "description": "",
      "description_tooltip": null,
      "layout": "IPY_MODEL_7584c2070e7446cc911e02d4be5f4f7e",
      "placeholder": "​",
      "style": "IPY_MODEL_d12a869864ed486ea9d5f26c4ef9a37b",
      "value": " 13.1k/13.1k [00:00&lt;00:00, 222kB/s]"
     }
    },
    "734ed66158a24a82ba33dfe53dd0dfbb": {
     "model_module": "@jupyter-widgets/base",
     "model_module_version": "1.2.0",
     "model_name": "LayoutModel",
     "state": {
      "_model_module": "@jupyter-widgets/base",
      "_model_module_version": "1.2.0",
      "_model_name": "LayoutModel",
      "_view_count": null,
      "_view_module": "@jupyter-widgets/base",
      "_view_module_version": "1.2.0",
      "_view_name": "LayoutView",
      "align_content": null,
      "align_items": null,
      "align_self": null,
      "border": null,
      "bottom": null,
      "display": null,
      "flex": null,
      "flex_flow": null,
      "grid_area": null,
      "grid_auto_columns": null,
      "grid_auto_flow": null,
      "grid_auto_rows": null,
      "grid_column": null,
      "grid_gap": null,
      "grid_row": null,
      "grid_template_areas": null,
      "grid_template_columns": null,
      "grid_template_rows": null,
      "height": null,
      "justify_content": null,
      "justify_items": null,
      "left": null,
      "margin": null,
      "max_height": null,
      "max_width": null,
      "min_height": null,
      "min_width": null,
      "object_fit": null,
      "object_position": null,
      "order": null,
      "overflow": null,
      "overflow_x": null,
      "overflow_y": null,
      "padding": null,
      "right": null,
      "top": null,
      "visibility": null,
      "width": null
     }
    },
    "739a8fbec15d448888b4fe4a6396dc87": {
     "model_module": "@jupyter-widgets/base",
     "model_module_version": "1.2.0",
     "model_name": "LayoutModel",
     "state": {
      "_model_module": "@jupyter-widgets/base",
      "_model_module_version": "1.2.0",
      "_model_name": "LayoutModel",
      "_view_count": null,
      "_view_module": "@jupyter-widgets/base",
      "_view_module_version": "1.2.0",
      "_view_name": "LayoutView",
      "align_content": null,
      "align_items": null,
      "align_self": null,
      "border": null,
      "bottom": null,
      "display": null,
      "flex": null,
      "flex_flow": null,
      "grid_area": null,
      "grid_auto_columns": null,
      "grid_auto_flow": null,
      "grid_auto_rows": null,
      "grid_column": null,
      "grid_gap": null,
      "grid_row": null,
      "grid_template_areas": null,
      "grid_template_columns": null,
      "grid_template_rows": null,
      "height": null,
      "justify_content": null,
      "justify_items": null,
      "left": null,
      "margin": null,
      "max_height": null,
      "max_width": null,
      "min_height": null,
      "min_width": null,
      "object_fit": null,
      "object_position": null,
      "order": null,
      "overflow": null,
      "overflow_x": null,
      "overflow_y": null,
      "padding": null,
      "right": null,
      "top": null,
      "visibility": null,
      "width": null
     }
    },
    "7416cc410e3a4f5f90a3346cb06f3a80": {
     "model_module": "@jupyter-widgets/base",
     "model_module_version": "1.2.0",
     "model_name": "LayoutModel",
     "state": {
      "_model_module": "@jupyter-widgets/base",
      "_model_module_version": "1.2.0",
      "_model_name": "LayoutModel",
      "_view_count": null,
      "_view_module": "@jupyter-widgets/base",
      "_view_module_version": "1.2.0",
      "_view_name": "LayoutView",
      "align_content": null,
      "align_items": null,
      "align_self": null,
      "border": null,
      "bottom": null,
      "display": null,
      "flex": null,
      "flex_flow": null,
      "grid_area": null,
      "grid_auto_columns": null,
      "grid_auto_flow": null,
      "grid_auto_rows": null,
      "grid_column": null,
      "grid_gap": null,
      "grid_row": null,
      "grid_template_areas": null,
      "grid_template_columns": null,
      "grid_template_rows": null,
      "height": null,
      "justify_content": null,
      "justify_items": null,
      "left": null,
      "margin": null,
      "max_height": null,
      "max_width": null,
      "min_height": null,
      "min_width": null,
      "object_fit": null,
      "object_position": null,
      "order": null,
      "overflow": null,
      "overflow_x": null,
      "overflow_y": null,
      "padding": null,
      "right": null,
      "top": null,
      "visibility": null,
      "width": null
     }
    },
    "7584c2070e7446cc911e02d4be5f4f7e": {
     "model_module": "@jupyter-widgets/base",
     "model_module_version": "1.2.0",
     "model_name": "LayoutModel",
     "state": {
      "_model_module": "@jupyter-widgets/base",
      "_model_module_version": "1.2.0",
      "_model_name": "LayoutModel",
      "_view_count": null,
      "_view_module": "@jupyter-widgets/base",
      "_view_module_version": "1.2.0",
      "_view_name": "LayoutView",
      "align_content": null,
      "align_items": null,
      "align_self": null,
      "border": null,
      "bottom": null,
      "display": null,
      "flex": null,
      "flex_flow": null,
      "grid_area": null,
      "grid_auto_columns": null,
      "grid_auto_flow": null,
      "grid_auto_rows": null,
      "grid_column": null,
      "grid_gap": null,
      "grid_row": null,
      "grid_template_areas": null,
      "grid_template_columns": null,
      "grid_template_rows": null,
      "height": null,
      "justify_content": null,
      "justify_items": null,
      "left": null,
      "margin": null,
      "max_height": null,
      "max_width": null,
      "min_height": null,
      "min_width": null,
      "object_fit": null,
      "object_position": null,
      "order": null,
      "overflow": null,
      "overflow_x": null,
      "overflow_y": null,
      "padding": null,
      "right": null,
      "top": null,
      "visibility": null,
      "width": null
     }
    },
    "76c03cf81a6c43619a5cdc4d44246323": {
     "model_module": "@jupyter-widgets/controls",
     "model_module_version": "1.5.0",
     "model_name": "DescriptionStyleModel",
     "state": {
      "_model_module": "@jupyter-widgets/controls",
      "_model_module_version": "1.5.0",
      "_model_name": "DescriptionStyleModel",
      "_view_count": null,
      "_view_module": "@jupyter-widgets/base",
      "_view_module_version": "1.2.0",
      "_view_name": "StyleView",
      "description_width": ""
     }
    },
    "79b44ced1c8f41d7bf62817b81b4f1b1": {
     "model_module": "@jupyter-widgets/controls",
     "model_module_version": "1.5.0",
     "model_name": "HBoxModel",
     "state": {
      "_dom_classes": [],
      "_model_module": "@jupyter-widgets/controls",
      "_model_module_version": "1.5.0",
      "_model_name": "HBoxModel",
      "_view_count": null,
      "_view_module": "@jupyter-widgets/controls",
      "_view_module_version": "1.5.0",
      "_view_name": "HBoxView",
      "box_style": "",
      "children": [
       "IPY_MODEL_ad8b6b70303a43f7bfdb418adc79b200",
       "IPY_MODEL_ade9287291154e73aa254fb82e63be77",
       "IPY_MODEL_6828a059d5194082b6c49df190802215"
      ],
      "layout": "IPY_MODEL_69f1671a05ae48a698e9103ccb6645b4"
     }
    },
    "7ac9a43441f1445c8cf763b831762481": {
     "model_module": "@jupyter-widgets/controls",
     "model_module_version": "1.5.0",
     "model_name": "HTMLModel",
     "state": {
      "_dom_classes": [],
      "_model_module": "@jupyter-widgets/controls",
      "_model_module_version": "1.5.0",
      "_model_name": "HTMLModel",
      "_view_count": null,
      "_view_module": "@jupyter-widgets/controls",
      "_view_module_version": "1.5.0",
      "_view_name": "HTMLView",
      "description": "",
      "description_tooltip": null,
      "layout": "IPY_MODEL_7d33f560b281420a8c49ff4d04daf13f",
      "placeholder": "​",
      "style": "IPY_MODEL_ea8fa87209f841769e7ed83f72eb9a18",
      "value": " 239/239 [00:00&lt;00:00, 7.70kB/s]"
     }
    },
    "7d33f560b281420a8c49ff4d04daf13f": {
     "model_module": "@jupyter-widgets/base",
     "model_module_version": "1.2.0",
     "model_name": "LayoutModel",
     "state": {
      "_model_module": "@jupyter-widgets/base",
      "_model_module_version": "1.2.0",
      "_model_name": "LayoutModel",
      "_view_count": null,
      "_view_module": "@jupyter-widgets/base",
      "_view_module_version": "1.2.0",
      "_view_name": "LayoutView",
      "align_content": null,
      "align_items": null,
      "align_self": null,
      "border": null,
      "bottom": null,
      "display": null,
      "flex": null,
      "flex_flow": null,
      "grid_area": null,
      "grid_auto_columns": null,
      "grid_auto_flow": null,
      "grid_auto_rows": null,
      "grid_column": null,
      "grid_gap": null,
      "grid_row": null,
      "grid_template_areas": null,
      "grid_template_columns": null,
      "grid_template_rows": null,
      "height": null,
      "justify_content": null,
      "justify_items": null,
      "left": null,
      "margin": null,
      "max_height": null,
      "max_width": null,
      "min_height": null,
      "min_width": null,
      "object_fit": null,
      "object_position": null,
      "order": null,
      "overflow": null,
      "overflow_x": null,
      "overflow_y": null,
      "padding": null,
      "right": null,
      "top": null,
      "visibility": null,
      "width": null
     }
    },
    "7e61460fd5704dc38dadb18c5c0754c4": {
     "model_module": "@jupyter-widgets/controls",
     "model_module_version": "1.5.0",
     "model_name": "ProgressStyleModel",
     "state": {
      "_model_module": "@jupyter-widgets/controls",
      "_model_module_version": "1.5.0",
      "_model_name": "ProgressStyleModel",
      "_view_count": null,
      "_view_module": "@jupyter-widgets/base",
      "_view_module_version": "1.2.0",
      "_view_name": "StyleView",
      "bar_color": null,
      "description_width": ""
     }
    },
    "7f6d015bd17f4b27b9b5327cf0b2b178": {
     "model_module": "@jupyter-widgets/controls",
     "model_module_version": "1.5.0",
     "model_name": "DescriptionStyleModel",
     "state": {
      "_model_module": "@jupyter-widgets/controls",
      "_model_module_version": "1.5.0",
      "_model_name": "DescriptionStyleModel",
      "_view_count": null,
      "_view_module": "@jupyter-widgets/base",
      "_view_module_version": "1.2.0",
      "_view_name": "StyleView",
      "description_width": ""
     }
    },
    "7fa8317416fb46d4b0ea58f5f8fa89a3": {
     "model_module": "@jupyter-widgets/controls",
     "model_module_version": "1.5.0",
     "model_name": "ProgressStyleModel",
     "state": {
      "_model_module": "@jupyter-widgets/controls",
      "_model_module_version": "1.5.0",
      "_model_name": "ProgressStyleModel",
      "_view_count": null,
      "_view_module": "@jupyter-widgets/base",
      "_view_module_version": "1.2.0",
      "_view_name": "StyleView",
      "bar_color": null,
      "description_width": ""
     }
    },
    "7ff9d61d25f94325b033c1cb35b76dd8": {
     "model_module": "@jupyter-widgets/controls",
     "model_module_version": "1.5.0",
     "model_name": "HTMLModel",
     "state": {
      "_dom_classes": [],
      "_model_module": "@jupyter-widgets/controls",
      "_model_module_version": "1.5.0",
      "_model_name": "HTMLModel",
      "_view_count": null,
      "_view_module": "@jupyter-widgets/controls",
      "_view_module_version": "1.5.0",
      "_view_name": "HTMLView",
      "description": "",
      "description_tooltip": null,
      "layout": "IPY_MODEL_9b415d43ac434f8b8b9f5357ee505d8d",
      "placeholder": "​",
      "style": "IPY_MODEL_7f6d015bd17f4b27b9b5327cf0b2b178",
      "value": "Downloading: 100%"
     }
    },
    "8239dd9421e54e318607d6c64b69125d": {
     "model_module": "@jupyter-widgets/controls",
     "model_module_version": "1.5.0",
     "model_name": "DescriptionStyleModel",
     "state": {
      "_model_module": "@jupyter-widgets/controls",
      "_model_module_version": "1.5.0",
      "_model_name": "DescriptionStyleModel",
      "_view_count": null,
      "_view_module": "@jupyter-widgets/base",
      "_view_module_version": "1.2.0",
      "_view_name": "StyleView",
      "description_width": ""
     }
    },
    "8315f8809057407e95d8608180590bf6": {
     "model_module": "@jupyter-widgets/base",
     "model_module_version": "1.2.0",
     "model_name": "LayoutModel",
     "state": {
      "_model_module": "@jupyter-widgets/base",
      "_model_module_version": "1.2.0",
      "_model_name": "LayoutModel",
      "_view_count": null,
      "_view_module": "@jupyter-widgets/base",
      "_view_module_version": "1.2.0",
      "_view_name": "LayoutView",
      "align_content": null,
      "align_items": null,
      "align_self": null,
      "border": null,
      "bottom": null,
      "display": null,
      "flex": null,
      "flex_flow": null,
      "grid_area": null,
      "grid_auto_columns": null,
      "grid_auto_flow": null,
      "grid_auto_rows": null,
      "grid_column": null,
      "grid_gap": null,
      "grid_row": null,
      "grid_template_areas": null,
      "grid_template_columns": null,
      "grid_template_rows": null,
      "height": null,
      "justify_content": null,
      "justify_items": null,
      "left": null,
      "margin": null,
      "max_height": null,
      "max_width": null,
      "min_height": null,
      "min_width": null,
      "object_fit": null,
      "object_position": null,
      "order": null,
      "overflow": null,
      "overflow_x": null,
      "overflow_y": null,
      "padding": null,
      "right": null,
      "top": null,
      "visibility": null,
      "width": null
     }
    },
    "831db242edc04c6585e87f658f683284": {
     "model_module": "@jupyter-widgets/base",
     "model_module_version": "1.2.0",
     "model_name": "LayoutModel",
     "state": {
      "_model_module": "@jupyter-widgets/base",
      "_model_module_version": "1.2.0",
      "_model_name": "LayoutModel",
      "_view_count": null,
      "_view_module": "@jupyter-widgets/base",
      "_view_module_version": "1.2.0",
      "_view_name": "LayoutView",
      "align_content": null,
      "align_items": null,
      "align_self": null,
      "border": null,
      "bottom": null,
      "display": null,
      "flex": null,
      "flex_flow": null,
      "grid_area": null,
      "grid_auto_columns": null,
      "grid_auto_flow": null,
      "grid_auto_rows": null,
      "grid_column": null,
      "grid_gap": null,
      "grid_row": null,
      "grid_template_areas": null,
      "grid_template_columns": null,
      "grid_template_rows": null,
      "height": null,
      "justify_content": null,
      "justify_items": null,
      "left": null,
      "margin": null,
      "max_height": null,
      "max_width": null,
      "min_height": null,
      "min_width": null,
      "object_fit": null,
      "object_position": null,
      "order": null,
      "overflow": null,
      "overflow_x": null,
      "overflow_y": null,
      "padding": null,
      "right": null,
      "top": null,
      "visibility": null,
      "width": null
     }
    },
    "854dd6e305a54ca18940d9a28ae34759": {
     "model_module": "@jupyter-widgets/controls",
     "model_module_version": "1.5.0",
     "model_name": "DescriptionStyleModel",
     "state": {
      "_model_module": "@jupyter-widgets/controls",
      "_model_module_version": "1.5.0",
      "_model_name": "DescriptionStyleModel",
      "_view_count": null,
      "_view_module": "@jupyter-widgets/base",
      "_view_module_version": "1.2.0",
      "_view_name": "StyleView",
      "description_width": ""
     }
    },
    "85973d37e144454994332d4f3f1884f8": {
     "model_module": "@jupyter-widgets/controls",
     "model_module_version": "1.5.0",
     "model_name": "HTMLModel",
     "state": {
      "_dom_classes": [],
      "_model_module": "@jupyter-widgets/controls",
      "_model_module_version": "1.5.0",
      "_model_name": "HTMLModel",
      "_view_count": null,
      "_view_module": "@jupyter-widgets/controls",
      "_view_module_version": "1.5.0",
      "_view_name": "HTMLView",
      "description": "",
      "description_tooltip": null,
      "layout": "IPY_MODEL_9933ed1ec85e4eb89032c904db08ce61",
      "placeholder": "​",
      "style": "IPY_MODEL_57c4e76163b848aabf22a198cbf7acbd",
      "value": "Downloading: 100%"
     }
    },
    "884d6352e52743e491d4915c60c1af33": {
     "model_module": "@jupyter-widgets/controls",
     "model_module_version": "1.5.0",
     "model_name": "DescriptionStyleModel",
     "state": {
      "_model_module": "@jupyter-widgets/controls",
      "_model_module_version": "1.5.0",
      "_model_name": "DescriptionStyleModel",
      "_view_count": null,
      "_view_module": "@jupyter-widgets/base",
      "_view_module_version": "1.2.0",
      "_view_name": "StyleView",
      "description_width": ""
     }
    },
    "8957beb3799a4c109e59b331a4b9dd94": {
     "model_module": "@jupyter-widgets/base",
     "model_module_version": "1.2.0",
     "model_name": "LayoutModel",
     "state": {
      "_model_module": "@jupyter-widgets/base",
      "_model_module_version": "1.2.0",
      "_model_name": "LayoutModel",
      "_view_count": null,
      "_view_module": "@jupyter-widgets/base",
      "_view_module_version": "1.2.0",
      "_view_name": "LayoutView",
      "align_content": null,
      "align_items": null,
      "align_self": null,
      "border": null,
      "bottom": null,
      "display": null,
      "flex": null,
      "flex_flow": null,
      "grid_area": null,
      "grid_auto_columns": null,
      "grid_auto_flow": null,
      "grid_auto_rows": null,
      "grid_column": null,
      "grid_gap": null,
      "grid_row": null,
      "grid_template_areas": null,
      "grid_template_columns": null,
      "grid_template_rows": null,
      "height": null,
      "justify_content": null,
      "justify_items": null,
      "left": null,
      "margin": null,
      "max_height": null,
      "max_width": null,
      "min_height": null,
      "min_width": null,
      "object_fit": null,
      "object_position": null,
      "order": null,
      "overflow": null,
      "overflow_x": null,
      "overflow_y": null,
      "padding": null,
      "right": null,
      "top": null,
      "visibility": null,
      "width": null
     }
    },
    "8af427cef6f94f0da2c9d954d66e62af": {
     "model_module": "@jupyter-widgets/base",
     "model_module_version": "1.2.0",
     "model_name": "LayoutModel",
     "state": {
      "_model_module": "@jupyter-widgets/base",
      "_model_module_version": "1.2.0",
      "_model_name": "LayoutModel",
      "_view_count": null,
      "_view_module": "@jupyter-widgets/base",
      "_view_module_version": "1.2.0",
      "_view_name": "LayoutView",
      "align_content": null,
      "align_items": null,
      "align_self": null,
      "border": null,
      "bottom": null,
      "display": null,
      "flex": null,
      "flex_flow": null,
      "grid_area": null,
      "grid_auto_columns": null,
      "grid_auto_flow": null,
      "grid_auto_rows": null,
      "grid_column": null,
      "grid_gap": null,
      "grid_row": null,
      "grid_template_areas": null,
      "grid_template_columns": null,
      "grid_template_rows": null,
      "height": null,
      "justify_content": null,
      "justify_items": null,
      "left": null,
      "margin": null,
      "max_height": null,
      "max_width": null,
      "min_height": null,
      "min_width": null,
      "object_fit": null,
      "object_position": null,
      "order": null,
      "overflow": null,
      "overflow_x": null,
      "overflow_y": null,
      "padding": null,
      "right": null,
      "top": null,
      "visibility": null,
      "width": null
     }
    },
    "8b42955959354c60af4e62f07e554a82": {
     "model_module": "@jupyter-widgets/base",
     "model_module_version": "1.2.0",
     "model_name": "LayoutModel",
     "state": {
      "_model_module": "@jupyter-widgets/base",
      "_model_module_version": "1.2.0",
      "_model_name": "LayoutModel",
      "_view_count": null,
      "_view_module": "@jupyter-widgets/base",
      "_view_module_version": "1.2.0",
      "_view_name": "LayoutView",
      "align_content": null,
      "align_items": null,
      "align_self": null,
      "border": null,
      "bottom": null,
      "display": null,
      "flex": null,
      "flex_flow": null,
      "grid_area": null,
      "grid_auto_columns": null,
      "grid_auto_flow": null,
      "grid_auto_rows": null,
      "grid_column": null,
      "grid_gap": null,
      "grid_row": null,
      "grid_template_areas": null,
      "grid_template_columns": null,
      "grid_template_rows": null,
      "height": null,
      "justify_content": null,
      "justify_items": null,
      "left": null,
      "margin": null,
      "max_height": null,
      "max_width": null,
      "min_height": null,
      "min_width": null,
      "object_fit": null,
      "object_position": null,
      "order": null,
      "overflow": null,
      "overflow_x": null,
      "overflow_y": null,
      "padding": null,
      "right": null,
      "top": null,
      "visibility": null,
      "width": null
     }
    },
    "8b5ec78f6e954a5094ef4e1bb8e46212": {
     "model_module": "@jupyter-widgets/controls",
     "model_module_version": "1.5.0",
     "model_name": "DescriptionStyleModel",
     "state": {
      "_model_module": "@jupyter-widgets/controls",
      "_model_module_version": "1.5.0",
      "_model_name": "DescriptionStyleModel",
      "_view_count": null,
      "_view_module": "@jupyter-widgets/base",
      "_view_module_version": "1.2.0",
      "_view_name": "StyleView",
      "description_width": ""
     }
    },
    "8e5105f189284c1a95b6b429754233cd": {
     "model_module": "@jupyter-widgets/controls",
     "model_module_version": "1.5.0",
     "model_name": "ProgressStyleModel",
     "state": {
      "_model_module": "@jupyter-widgets/controls",
      "_model_module_version": "1.5.0",
      "_model_name": "ProgressStyleModel",
      "_view_count": null,
      "_view_module": "@jupyter-widgets/base",
      "_view_module_version": "1.2.0",
      "_view_name": "StyleView",
      "bar_color": null,
      "description_width": ""
     }
    },
    "8f61f8fcec784bf39b1518199e748a67": {
     "model_module": "@jupyter-widgets/controls",
     "model_module_version": "1.5.0",
     "model_name": "FloatProgressModel",
     "state": {
      "_dom_classes": [],
      "_model_module": "@jupyter-widgets/controls",
      "_model_module_version": "1.5.0",
      "_model_name": "FloatProgressModel",
      "_view_count": null,
      "_view_module": "@jupyter-widgets/controls",
      "_view_module_version": "1.5.0",
      "_view_name": "ProgressView",
      "bar_style": "success",
      "description": "",
      "description_tooltip": null,
      "layout": "IPY_MODEL_c29eded748004f238a642cb3e97d79fb",
      "max": 53,
      "min": 0,
      "orientation": "horizontal",
      "style": "IPY_MODEL_3bba594da74f48249c8e3ee0652afe41",
      "value": 53
     }
    },
    "8f91aca4cbc14f65b39d13818432cf45": {
     "model_module": "@jupyter-widgets/base",
     "model_module_version": "1.2.0",
     "model_name": "LayoutModel",
     "state": {
      "_model_module": "@jupyter-widgets/base",
      "_model_module_version": "1.2.0",
      "_model_name": "LayoutModel",
      "_view_count": null,
      "_view_module": "@jupyter-widgets/base",
      "_view_module_version": "1.2.0",
      "_view_name": "LayoutView",
      "align_content": null,
      "align_items": null,
      "align_self": null,
      "border": null,
      "bottom": null,
      "display": null,
      "flex": null,
      "flex_flow": null,
      "grid_area": null,
      "grid_auto_columns": null,
      "grid_auto_flow": null,
      "grid_auto_rows": null,
      "grid_column": null,
      "grid_gap": null,
      "grid_row": null,
      "grid_template_areas": null,
      "grid_template_columns": null,
      "grid_template_rows": null,
      "height": null,
      "justify_content": null,
      "justify_items": null,
      "left": null,
      "margin": null,
      "max_height": null,
      "max_width": null,
      "min_height": null,
      "min_width": null,
      "object_fit": null,
      "object_position": null,
      "order": null,
      "overflow": null,
      "overflow_x": null,
      "overflow_y": null,
      "padding": null,
      "right": null,
      "top": null,
      "visibility": null,
      "width": null
     }
    },
    "8fd09743e7d5405c89f104fdc6be3496": {
     "model_module": "@jupyter-widgets/controls",
     "model_module_version": "1.5.0",
     "model_name": "HBoxModel",
     "state": {
      "_dom_classes": [],
      "_model_module": "@jupyter-widgets/controls",
      "_model_module_version": "1.5.0",
      "_model_name": "HBoxModel",
      "_view_count": null,
      "_view_module": "@jupyter-widgets/controls",
      "_view_module_version": "1.5.0",
      "_view_name": "HBoxView",
      "box_style": "",
      "children": [
       "IPY_MODEL_7ff9d61d25f94325b033c1cb35b76dd8",
       "IPY_MODEL_90a64d45a12146c280199b23818c79a5",
       "IPY_MODEL_f95a79422018495da77b1b1c3aa83827"
      ],
      "layout": "IPY_MODEL_1161b1d7c4ac40ceb6a417d91c810ffb"
     }
    },
    "8ffd7b681df9441bb901f3131eec8d64": {
     "model_module": "@jupyter-widgets/base",
     "model_module_version": "1.2.0",
     "model_name": "LayoutModel",
     "state": {
      "_model_module": "@jupyter-widgets/base",
      "_model_module_version": "1.2.0",
      "_model_name": "LayoutModel",
      "_view_count": null,
      "_view_module": "@jupyter-widgets/base",
      "_view_module_version": "1.2.0",
      "_view_name": "LayoutView",
      "align_content": null,
      "align_items": null,
      "align_self": null,
      "border": null,
      "bottom": null,
      "display": null,
      "flex": null,
      "flex_flow": null,
      "grid_area": null,
      "grid_auto_columns": null,
      "grid_auto_flow": null,
      "grid_auto_rows": null,
      "grid_column": null,
      "grid_gap": null,
      "grid_row": null,
      "grid_template_areas": null,
      "grid_template_columns": null,
      "grid_template_rows": null,
      "height": null,
      "justify_content": null,
      "justify_items": null,
      "left": null,
      "margin": null,
      "max_height": null,
      "max_width": null,
      "min_height": null,
      "min_width": null,
      "object_fit": null,
      "object_position": null,
      "order": null,
      "overflow": null,
      "overflow_x": null,
      "overflow_y": null,
      "padding": null,
      "right": null,
      "top": null,
      "visibility": null,
      "width": null
     }
    },
    "90a64d45a12146c280199b23818c79a5": {
     "model_module": "@jupyter-widgets/controls",
     "model_module_version": "1.5.0",
     "model_name": "FloatProgressModel",
     "state": {
      "_dom_classes": [],
      "_model_module": "@jupyter-widgets/controls",
      "_model_module_version": "1.5.0",
      "_model_name": "FloatProgressModel",
      "_view_count": null,
      "_view_module": "@jupyter-widgets/controls",
      "_view_module_version": "1.5.0",
      "_view_name": "ProgressView",
      "bar_style": "success",
      "description": "",
      "description_tooltip": null,
      "layout": "IPY_MODEL_c57f5018a86e4cf2863f54a8dd7457b9",
      "max": 363,
      "min": 0,
      "orientation": "horizontal",
      "style": "IPY_MODEL_63b919b98b434677929c5038f2e2dcda",
      "value": 363
     }
    },
    "91f5b8beaafa4673bae7b3cc7570c690": {
     "model_module": "@jupyter-widgets/controls",
     "model_module_version": "1.5.0",
     "model_name": "DescriptionStyleModel",
     "state": {
      "_model_module": "@jupyter-widgets/controls",
      "_model_module_version": "1.5.0",
      "_model_name": "DescriptionStyleModel",
      "_view_count": null,
      "_view_module": "@jupyter-widgets/base",
      "_view_module_version": "1.2.0",
      "_view_name": "StyleView",
      "description_width": ""
     }
    },
    "9317aa07051b45128dbb047fd5f47bd1": {
     "model_module": "@jupyter-widgets/base",
     "model_module_version": "1.2.0",
     "model_name": "LayoutModel",
     "state": {
      "_model_module": "@jupyter-widgets/base",
      "_model_module_version": "1.2.0",
      "_model_name": "LayoutModel",
      "_view_count": null,
      "_view_module": "@jupyter-widgets/base",
      "_view_module_version": "1.2.0",
      "_view_name": "LayoutView",
      "align_content": null,
      "align_items": null,
      "align_self": null,
      "border": null,
      "bottom": null,
      "display": null,
      "flex": null,
      "flex_flow": null,
      "grid_area": null,
      "grid_auto_columns": null,
      "grid_auto_flow": null,
      "grid_auto_rows": null,
      "grid_column": null,
      "grid_gap": null,
      "grid_row": null,
      "grid_template_areas": null,
      "grid_template_columns": null,
      "grid_template_rows": null,
      "height": null,
      "justify_content": null,
      "justify_items": null,
      "left": null,
      "margin": null,
      "max_height": null,
      "max_width": null,
      "min_height": null,
      "min_width": null,
      "object_fit": null,
      "object_position": null,
      "order": null,
      "overflow": null,
      "overflow_x": null,
      "overflow_y": null,
      "padding": null,
      "right": null,
      "top": null,
      "visibility": null,
      "width": null
     }
    },
    "9371d5a9a0124b6a8c0f39650ad2cfda": {
     "model_module": "@jupyter-widgets/controls",
     "model_module_version": "1.5.0",
     "model_name": "DescriptionStyleModel",
     "state": {
      "_model_module": "@jupyter-widgets/controls",
      "_model_module_version": "1.5.0",
      "_model_name": "DescriptionStyleModel",
      "_view_count": null,
      "_view_module": "@jupyter-widgets/base",
      "_view_module_version": "1.2.0",
      "_view_name": "StyleView",
      "description_width": ""
     }
    },
    "95c77dbfc4814cdca322c39a15a2af2f": {
     "model_module": "@jupyter-widgets/controls",
     "model_module_version": "1.5.0",
     "model_name": "ProgressStyleModel",
     "state": {
      "_model_module": "@jupyter-widgets/controls",
      "_model_module_version": "1.5.0",
      "_model_name": "ProgressStyleModel",
      "_view_count": null,
      "_view_module": "@jupyter-widgets/base",
      "_view_module_version": "1.2.0",
      "_view_name": "StyleView",
      "bar_color": null,
      "description_width": ""
     }
    },
    "97df791d147d45cd83513c0d4e183c74": {
     "model_module": "@jupyter-widgets/base",
     "model_module_version": "1.2.0",
     "model_name": "LayoutModel",
     "state": {
      "_model_module": "@jupyter-widgets/base",
      "_model_module_version": "1.2.0",
      "_model_name": "LayoutModel",
      "_view_count": null,
      "_view_module": "@jupyter-widgets/base",
      "_view_module_version": "1.2.0",
      "_view_name": "LayoutView",
      "align_content": null,
      "align_items": null,
      "align_self": null,
      "border": null,
      "bottom": null,
      "display": null,
      "flex": null,
      "flex_flow": null,
      "grid_area": null,
      "grid_auto_columns": null,
      "grid_auto_flow": null,
      "grid_auto_rows": null,
      "grid_column": null,
      "grid_gap": null,
      "grid_row": null,
      "grid_template_areas": null,
      "grid_template_columns": null,
      "grid_template_rows": null,
      "height": null,
      "justify_content": null,
      "justify_items": null,
      "left": null,
      "margin": null,
      "max_height": null,
      "max_width": null,
      "min_height": null,
      "min_width": null,
      "object_fit": null,
      "object_position": null,
      "order": null,
      "overflow": null,
      "overflow_x": null,
      "overflow_y": null,
      "padding": null,
      "right": null,
      "top": null,
      "visibility": null,
      "width": null
     }
    },
    "98db026739014384aea9a3dfe1e8c488": {
     "model_module": "@jupyter-widgets/controls",
     "model_module_version": "1.5.0",
     "model_name": "FloatProgressModel",
     "state": {
      "_dom_classes": [],
      "_model_module": "@jupyter-widgets/controls",
      "_model_module_version": "1.5.0",
      "_model_name": "FloatProgressModel",
      "_view_count": null,
      "_view_module": "@jupyter-widgets/controls",
      "_view_module_version": "1.5.0",
      "_view_name": "ProgressView",
      "bar_style": "success",
      "description": "",
      "description_tooltip": null,
      "layout": "IPY_MODEL_7416cc410e3a4f5f90a3346cb06f3a80",
      "max": 239,
      "min": 0,
      "orientation": "horizontal",
      "style": "IPY_MODEL_c611330090544fb48aec7cf92efc8070",
      "value": 239
     }
    },
    "9933ed1ec85e4eb89032c904db08ce61": {
     "model_module": "@jupyter-widgets/base",
     "model_module_version": "1.2.0",
     "model_name": "LayoutModel",
     "state": {
      "_model_module": "@jupyter-widgets/base",
      "_model_module_version": "1.2.0",
      "_model_name": "LayoutModel",
      "_view_count": null,
      "_view_module": "@jupyter-widgets/base",
      "_view_module_version": "1.2.0",
      "_view_name": "LayoutView",
      "align_content": null,
      "align_items": null,
      "align_self": null,
      "border": null,
      "bottom": null,
      "display": null,
      "flex": null,
      "flex_flow": null,
      "grid_area": null,
      "grid_auto_columns": null,
      "grid_auto_flow": null,
      "grid_auto_rows": null,
      "grid_column": null,
      "grid_gap": null,
      "grid_row": null,
      "grid_template_areas": null,
      "grid_template_columns": null,
      "grid_template_rows": null,
      "height": null,
      "justify_content": null,
      "justify_items": null,
      "left": null,
      "margin": null,
      "max_height": null,
      "max_width": null,
      "min_height": null,
      "min_width": null,
      "object_fit": null,
      "object_position": null,
      "order": null,
      "overflow": null,
      "overflow_x": null,
      "overflow_y": null,
      "padding": null,
      "right": null,
      "top": null,
      "visibility": null,
      "width": null
     }
    },
    "99c15c34e80045eb876f7866bbe30d60": {
     "model_module": "@jupyter-widgets/controls",
     "model_module_version": "1.5.0",
     "model_name": "HTMLModel",
     "state": {
      "_dom_classes": [],
      "_model_module": "@jupyter-widgets/controls",
      "_model_module_version": "1.5.0",
      "_model_name": "HTMLModel",
      "_view_count": null,
      "_view_module": "@jupyter-widgets/controls",
      "_view_module_version": "1.5.0",
      "_view_name": "HTMLView",
      "description": "",
      "description_tooltip": null,
      "layout": "IPY_MODEL_03434e5ce7f84b1ab3dfbfe91027c4f7",
      "placeholder": "​",
      "style": "IPY_MODEL_8b5ec78f6e954a5094ef4e1bb8e46212",
      "value": "Downloading: 100%"
     }
    },
    "9ac3fdad04ca49d0bc804d030460f05b": {
     "model_module": "@jupyter-widgets/base",
     "model_module_version": "1.2.0",
     "model_name": "LayoutModel",
     "state": {
      "_model_module": "@jupyter-widgets/base",
      "_model_module_version": "1.2.0",
      "_model_name": "LayoutModel",
      "_view_count": null,
      "_view_module": "@jupyter-widgets/base",
      "_view_module_version": "1.2.0",
      "_view_name": "LayoutView",
      "align_content": null,
      "align_items": null,
      "align_self": null,
      "border": null,
      "bottom": null,
      "display": null,
      "flex": null,
      "flex_flow": null,
      "grid_area": null,
      "grid_auto_columns": null,
      "grid_auto_flow": null,
      "grid_auto_rows": null,
      "grid_column": null,
      "grid_gap": null,
      "grid_row": null,
      "grid_template_areas": null,
      "grid_template_columns": null,
      "grid_template_rows": null,
      "height": null,
      "justify_content": null,
      "justify_items": null,
      "left": null,
      "margin": null,
      "max_height": null,
      "max_width": null,
      "min_height": null,
      "min_width": null,
      "object_fit": null,
      "object_position": null,
      "order": null,
      "overflow": null,
      "overflow_x": null,
      "overflow_y": null,
      "padding": null,
      "right": null,
      "top": null,
      "visibility": null,
      "width": null
     }
    },
    "9b08a5edd9534e76ac012a4c7f6b8f48": {
     "model_module": "@jupyter-widgets/controls",
     "model_module_version": "1.5.0",
     "model_name": "HBoxModel",
     "state": {
      "_dom_classes": [],
      "_model_module": "@jupyter-widgets/controls",
      "_model_module_version": "1.5.0",
      "_model_name": "HBoxModel",
      "_view_count": null,
      "_view_module": "@jupyter-widgets/controls",
      "_view_module_version": "1.5.0",
      "_view_name": "HBoxView",
      "box_style": "",
      "children": [
       "IPY_MODEL_c86df4cf666e47cea738e4d8fcbcf413",
       "IPY_MODEL_134bad0cfa90442c907c7c60001ff790",
       "IPY_MODEL_cfedd6a41c874e2b8234afe218a48885"
      ],
      "layout": "IPY_MODEL_c513448bd85b4346a0d5cd3b3c0e11b8"
     }
    },
    "9b415d43ac434f8b8b9f5357ee505d8d": {
     "model_module": "@jupyter-widgets/base",
     "model_module_version": "1.2.0",
     "model_name": "LayoutModel",
     "state": {
      "_model_module": "@jupyter-widgets/base",
      "_model_module_version": "1.2.0",
      "_model_name": "LayoutModel",
      "_view_count": null,
      "_view_module": "@jupyter-widgets/base",
      "_view_module_version": "1.2.0",
      "_view_name": "LayoutView",
      "align_content": null,
      "align_items": null,
      "align_self": null,
      "border": null,
      "bottom": null,
      "display": null,
      "flex": null,
      "flex_flow": null,
      "grid_area": null,
      "grid_auto_columns": null,
      "grid_auto_flow": null,
      "grid_auto_rows": null,
      "grid_column": null,
      "grid_gap": null,
      "grid_row": null,
      "grid_template_areas": null,
      "grid_template_columns": null,
      "grid_template_rows": null,
      "height": null,
      "justify_content": null,
      "justify_items": null,
      "left": null,
      "margin": null,
      "max_height": null,
      "max_width": null,
      "min_height": null,
      "min_width": null,
      "object_fit": null,
      "object_position": null,
      "order": null,
      "overflow": null,
      "overflow_x": null,
      "overflow_y": null,
      "padding": null,
      "right": null,
      "top": null,
      "visibility": null,
      "width": null
     }
    },
    "9feb0ae384204049abb6823d48d79520": {
     "model_module": "@jupyter-widgets/controls",
     "model_module_version": "1.5.0",
     "model_name": "HBoxModel",
     "state": {
      "_dom_classes": [],
      "_model_module": "@jupyter-widgets/controls",
      "_model_module_version": "1.5.0",
      "_model_name": "HBoxModel",
      "_view_count": null,
      "_view_module": "@jupyter-widgets/controls",
      "_view_module_version": "1.5.0",
      "_view_name": "HBoxView",
      "box_style": "",
      "children": [
       "IPY_MODEL_99c15c34e80045eb876f7866bbe30d60",
       "IPY_MODEL_b8a3a5da3f0a4f938e708a249293ec82",
       "IPY_MODEL_d0addb59264f49e0a77349fe87bcd1fc"
      ],
      "layout": "IPY_MODEL_02c16c9a948b44d0b4d65312426cbad2"
     }
    },
    "9ff3944d44554345a84c1a1ba46e0de8": {
     "model_module": "@jupyter-widgets/base",
     "model_module_version": "1.2.0",
     "model_name": "LayoutModel",
     "state": {
      "_model_module": "@jupyter-widgets/base",
      "_model_module_version": "1.2.0",
      "_model_name": "LayoutModel",
      "_view_count": null,
      "_view_module": "@jupyter-widgets/base",
      "_view_module_version": "1.2.0",
      "_view_name": "LayoutView",
      "align_content": null,
      "align_items": null,
      "align_self": null,
      "border": null,
      "bottom": null,
      "display": null,
      "flex": null,
      "flex_flow": null,
      "grid_area": null,
      "grid_auto_columns": null,
      "grid_auto_flow": null,
      "grid_auto_rows": null,
      "grid_column": null,
      "grid_gap": null,
      "grid_row": null,
      "grid_template_areas": null,
      "grid_template_columns": null,
      "grid_template_rows": null,
      "height": null,
      "justify_content": null,
      "justify_items": null,
      "left": null,
      "margin": null,
      "max_height": null,
      "max_width": null,
      "min_height": null,
      "min_width": null,
      "object_fit": null,
      "object_position": null,
      "order": null,
      "overflow": null,
      "overflow_x": null,
      "overflow_y": null,
      "padding": null,
      "right": null,
      "top": null,
      "visibility": null,
      "width": null
     }
    },
    "a3adb2d5dab8444d8779161f4b195cfc": {
     "model_module": "@jupyter-widgets/base",
     "model_module_version": "1.2.0",
     "model_name": "LayoutModel",
     "state": {
      "_model_module": "@jupyter-widgets/base",
      "_model_module_version": "1.2.0",
      "_model_name": "LayoutModel",
      "_view_count": null,
      "_view_module": "@jupyter-widgets/base",
      "_view_module_version": "1.2.0",
      "_view_name": "LayoutView",
      "align_content": null,
      "align_items": null,
      "align_self": null,
      "border": null,
      "bottom": null,
      "display": null,
      "flex": null,
      "flex_flow": null,
      "grid_area": null,
      "grid_auto_columns": null,
      "grid_auto_flow": null,
      "grid_auto_rows": null,
      "grid_column": null,
      "grid_gap": null,
      "grid_row": null,
      "grid_template_areas": null,
      "grid_template_columns": null,
      "grid_template_rows": null,
      "height": null,
      "justify_content": null,
      "justify_items": null,
      "left": null,
      "margin": null,
      "max_height": null,
      "max_width": null,
      "min_height": null,
      "min_width": null,
      "object_fit": null,
      "object_position": null,
      "order": null,
      "overflow": null,
      "overflow_x": null,
      "overflow_y": null,
      "padding": null,
      "right": null,
      "top": null,
      "visibility": null,
      "width": null
     }
    },
    "a3bea12a103b4bd397ac90a8e4426648": {
     "model_module": "@jupyter-widgets/base",
     "model_module_version": "1.2.0",
     "model_name": "LayoutModel",
     "state": {
      "_model_module": "@jupyter-widgets/base",
      "_model_module_version": "1.2.0",
      "_model_name": "LayoutModel",
      "_view_count": null,
      "_view_module": "@jupyter-widgets/base",
      "_view_module_version": "1.2.0",
      "_view_name": "LayoutView",
      "align_content": null,
      "align_items": null,
      "align_self": null,
      "border": null,
      "bottom": null,
      "display": null,
      "flex": null,
      "flex_flow": null,
      "grid_area": null,
      "grid_auto_columns": null,
      "grid_auto_flow": null,
      "grid_auto_rows": null,
      "grid_column": null,
      "grid_gap": null,
      "grid_row": null,
      "grid_template_areas": null,
      "grid_template_columns": null,
      "grid_template_rows": null,
      "height": null,
      "justify_content": null,
      "justify_items": null,
      "left": null,
      "margin": null,
      "max_height": null,
      "max_width": null,
      "min_height": null,
      "min_width": null,
      "object_fit": null,
      "object_position": null,
      "order": null,
      "overflow": null,
      "overflow_x": null,
      "overflow_y": null,
      "padding": null,
      "right": null,
      "top": null,
      "visibility": null,
      "width": null
     }
    },
    "a60c060db0264456a0d1cef305204918": {
     "model_module": "@jupyter-widgets/controls",
     "model_module_version": "1.5.0",
     "model_name": "ProgressStyleModel",
     "state": {
      "_model_module": "@jupyter-widgets/controls",
      "_model_module_version": "1.5.0",
      "_model_name": "ProgressStyleModel",
      "_view_count": null,
      "_view_module": "@jupyter-widgets/base",
      "_view_module_version": "1.2.0",
      "_view_name": "StyleView",
      "bar_color": null,
      "description_width": ""
     }
    },
    "ad8b6b70303a43f7bfdb418adc79b200": {
     "model_module": "@jupyter-widgets/controls",
     "model_module_version": "1.5.0",
     "model_name": "HTMLModel",
     "state": {
      "_dom_classes": [],
      "_model_module": "@jupyter-widgets/controls",
      "_model_module_version": "1.5.0",
      "_model_name": "HTMLModel",
      "_view_count": null,
      "_view_module": "@jupyter-widgets/controls",
      "_view_module_version": "1.5.0",
      "_view_name": "HTMLView",
      "description": "",
      "description_tooltip": null,
      "layout": "IPY_MODEL_02a1e59961114b228b2c1c4d36d9fb6d",
      "placeholder": "​",
      "style": "IPY_MODEL_b6cbff40240043eebe3d3983cbddb887",
      "value": "Downloading: 100%"
     }
    },
    "ade9287291154e73aa254fb82e63be77": {
     "model_module": "@jupyter-widgets/controls",
     "model_module_version": "1.5.0",
     "model_name": "FloatProgressModel",
     "state": {
      "_dom_classes": [],
      "_model_module": "@jupyter-widgets/controls",
      "_model_module_version": "1.5.0",
      "_model_name": "FloatProgressModel",
      "_view_count": null,
      "_view_module": "@jupyter-widgets/controls",
      "_view_module_version": "1.5.0",
      "_view_name": "ProgressView",
      "bar_style": "success",
      "description": "",
      "description_tooltip": null,
      "layout": "IPY_MODEL_e4cfd0cc227f41f88a662ca9711b11a3",
      "max": 10571,
      "min": 0,
      "orientation": "horizontal",
      "style": "IPY_MODEL_e4d32daf2c4840acba38bf7420a13fa2",
      "value": 10571
     }
    },
    "ae2c022943314397bbe3efd94a010fb5": {
     "model_module": "@jupyter-widgets/controls",
     "model_module_version": "1.5.0",
     "model_name": "DescriptionStyleModel",
     "state": {
      "_model_module": "@jupyter-widgets/controls",
      "_model_module_version": "1.5.0",
      "_model_name": "DescriptionStyleModel",
      "_view_count": null,
      "_view_module": "@jupyter-widgets/base",
      "_view_module_version": "1.2.0",
      "_view_name": "StyleView",
      "description_width": ""
     }
    },
    "b15f12cec2244db081c1663a66f30536": {
     "model_module": "@jupyter-widgets/base",
     "model_module_version": "1.2.0",
     "model_name": "LayoutModel",
     "state": {
      "_model_module": "@jupyter-widgets/base",
      "_model_module_version": "1.2.0",
      "_model_name": "LayoutModel",
      "_view_count": null,
      "_view_module": "@jupyter-widgets/base",
      "_view_module_version": "1.2.0",
      "_view_name": "LayoutView",
      "align_content": null,
      "align_items": null,
      "align_self": null,
      "border": null,
      "bottom": null,
      "display": null,
      "flex": null,
      "flex_flow": null,
      "grid_area": null,
      "grid_auto_columns": null,
      "grid_auto_flow": null,
      "grid_auto_rows": null,
      "grid_column": null,
      "grid_gap": null,
      "grid_row": null,
      "grid_template_areas": null,
      "grid_template_columns": null,
      "grid_template_rows": null,
      "height": null,
      "justify_content": null,
      "justify_items": null,
      "left": null,
      "margin": null,
      "max_height": null,
      "max_width": null,
      "min_height": null,
      "min_width": null,
      "object_fit": null,
      "object_position": null,
      "order": null,
      "overflow": null,
      "overflow_x": null,
      "overflow_y": null,
      "padding": null,
      "right": null,
      "top": null,
      "visibility": null,
      "width": null
     }
    },
    "b24e7ef57d964b069c6a237834e285aa": {
     "model_module": "@jupyter-widgets/controls",
     "model_module_version": "1.5.0",
     "model_name": "DescriptionStyleModel",
     "state": {
      "_model_module": "@jupyter-widgets/controls",
      "_model_module_version": "1.5.0",
      "_model_name": "DescriptionStyleModel",
      "_view_count": null,
      "_view_module": "@jupyter-widgets/base",
      "_view_module_version": "1.2.0",
      "_view_name": "StyleView",
      "description_width": ""
     }
    },
    "b33fe491b70248a49733c7ae8b143efc": {
     "model_module": "@jupyter-widgets/controls",
     "model_module_version": "1.5.0",
     "model_name": "DescriptionStyleModel",
     "state": {
      "_model_module": "@jupyter-widgets/controls",
      "_model_module_version": "1.5.0",
      "_model_name": "DescriptionStyleModel",
      "_view_count": null,
      "_view_module": "@jupyter-widgets/base",
      "_view_module_version": "1.2.0",
      "_view_name": "StyleView",
      "description_width": ""
     }
    },
    "b3c43760c05749229f00ad05fc4c3dfe": {
     "model_module": "@jupyter-widgets/base",
     "model_module_version": "1.2.0",
     "model_name": "LayoutModel",
     "state": {
      "_model_module": "@jupyter-widgets/base",
      "_model_module_version": "1.2.0",
      "_model_name": "LayoutModel",
      "_view_count": null,
      "_view_module": "@jupyter-widgets/base",
      "_view_module_version": "1.2.0",
      "_view_name": "LayoutView",
      "align_content": null,
      "align_items": null,
      "align_self": null,
      "border": null,
      "bottom": null,
      "display": null,
      "flex": null,
      "flex_flow": null,
      "grid_area": null,
      "grid_auto_columns": null,
      "grid_auto_flow": null,
      "grid_auto_rows": null,
      "grid_column": null,
      "grid_gap": null,
      "grid_row": null,
      "grid_template_areas": null,
      "grid_template_columns": null,
      "grid_template_rows": null,
      "height": null,
      "justify_content": null,
      "justify_items": null,
      "left": null,
      "margin": null,
      "max_height": null,
      "max_width": null,
      "min_height": null,
      "min_width": null,
      "object_fit": null,
      "object_position": null,
      "order": null,
      "overflow": null,
      "overflow_x": null,
      "overflow_y": null,
      "padding": null,
      "right": null,
      "top": null,
      "visibility": null,
      "width": null
     }
    },
    "b5f648707b1b4001a0ec336ae3835cb4": {
     "model_module": "@jupyter-widgets/controls",
     "model_module_version": "1.5.0",
     "model_name": "FloatProgressModel",
     "state": {
      "_dom_classes": [],
      "_model_module": "@jupyter-widgets/controls",
      "_model_module_version": "1.5.0",
      "_model_name": "FloatProgressModel",
      "_view_count": null,
      "_view_module": "@jupyter-widgets/controls",
      "_view_module_version": "1.5.0",
      "_view_name": "ProgressView",
      "bar_style": "success",
      "description": "",
      "description_tooltip": null,
      "layout": "IPY_MODEL_1b67d658af544d03a0ffc0972096d36e",
      "max": 231536,
      "min": 0,
      "orientation": "horizontal",
      "style": "IPY_MODEL_7fa8317416fb46d4b0ea58f5f8fa89a3",
      "value": 231536
     }
    },
    "b6cbff40240043eebe3d3983cbddb887": {
     "model_module": "@jupyter-widgets/controls",
     "model_module_version": "1.5.0",
     "model_name": "DescriptionStyleModel",
     "state": {
      "_model_module": "@jupyter-widgets/controls",
      "_model_module_version": "1.5.0",
      "_model_name": "DescriptionStyleModel",
      "_view_count": null,
      "_view_module": "@jupyter-widgets/base",
      "_view_module_version": "1.2.0",
      "_view_name": "StyleView",
      "description_width": ""
     }
    },
    "b6f78fff1c0e4943b06562a180821696": {
     "model_module": "@jupyter-widgets/base",
     "model_module_version": "1.2.0",
     "model_name": "LayoutModel",
     "state": {
      "_model_module": "@jupyter-widgets/base",
      "_model_module_version": "1.2.0",
      "_model_name": "LayoutModel",
      "_view_count": null,
      "_view_module": "@jupyter-widgets/base",
      "_view_module_version": "1.2.0",
      "_view_name": "LayoutView",
      "align_content": null,
      "align_items": null,
      "align_self": null,
      "border": null,
      "bottom": null,
      "display": null,
      "flex": null,
      "flex_flow": null,
      "grid_area": null,
      "grid_auto_columns": null,
      "grid_auto_flow": null,
      "grid_auto_rows": null,
      "grid_column": null,
      "grid_gap": null,
      "grid_row": null,
      "grid_template_areas": null,
      "grid_template_columns": null,
      "grid_template_rows": null,
      "height": null,
      "justify_content": null,
      "justify_items": null,
      "left": null,
      "margin": null,
      "max_height": null,
      "max_width": null,
      "min_height": null,
      "min_width": null,
      "object_fit": null,
      "object_position": null,
      "order": null,
      "overflow": null,
      "overflow_x": null,
      "overflow_y": null,
      "padding": null,
      "right": null,
      "top": null,
      "visibility": null,
      "width": null
     }
    },
    "b8a3a5da3f0a4f938e708a249293ec82": {
     "model_module": "@jupyter-widgets/controls",
     "model_module_version": "1.5.0",
     "model_name": "FloatProgressModel",
     "state": {
      "_dom_classes": [],
      "_model_module": "@jupyter-widgets/controls",
      "_model_module_version": "1.5.0",
      "_model_name": "FloatProgressModel",
      "_view_count": null,
      "_view_module": "@jupyter-widgets/controls",
      "_view_module_version": "1.5.0",
      "_view_name": "ProgressView",
      "bar_style": "success",
      "description": "",
      "description_tooltip": null,
      "layout": "IPY_MODEL_e87fbdabb61948788c84d99c1591afa7",
      "max": 39265,
      "min": 0,
      "orientation": "horizontal",
      "style": "IPY_MODEL_95c77dbfc4814cdca322c39a15a2af2f",
      "value": 39265
     }
    },
    "ba7fc150a30945208618f116a10943c4": {
     "model_module": "@jupyter-widgets/base",
     "model_module_version": "1.2.0",
     "model_name": "LayoutModel",
     "state": {
      "_model_module": "@jupyter-widgets/base",
      "_model_module_version": "1.2.0",
      "_model_name": "LayoutModel",
      "_view_count": null,
      "_view_module": "@jupyter-widgets/base",
      "_view_module_version": "1.2.0",
      "_view_name": "LayoutView",
      "align_content": null,
      "align_items": null,
      "align_self": null,
      "border": null,
      "bottom": null,
      "display": null,
      "flex": null,
      "flex_flow": null,
      "grid_area": null,
      "grid_auto_columns": null,
      "grid_auto_flow": null,
      "grid_auto_rows": null,
      "grid_column": null,
      "grid_gap": null,
      "grid_row": null,
      "grid_template_areas": null,
      "grid_template_columns": null,
      "grid_template_rows": null,
      "height": null,
      "justify_content": null,
      "justify_items": null,
      "left": null,
      "margin": null,
      "max_height": null,
      "max_width": null,
      "min_height": null,
      "min_width": null,
      "object_fit": null,
      "object_position": null,
      "order": null,
      "overflow": null,
      "overflow_x": null,
      "overflow_y": null,
      "padding": null,
      "right": null,
      "top": null,
      "visibility": null,
      "width": null
     }
    },
    "bb7c1ef262e84a15967ba5f828ea7f67": {
     "model_module": "@jupyter-widgets/controls",
     "model_module_version": "1.5.0",
     "model_name": "ProgressStyleModel",
     "state": {
      "_model_module": "@jupyter-widgets/controls",
      "_model_module_version": "1.5.0",
      "_model_name": "ProgressStyleModel",
      "_view_count": null,
      "_view_module": "@jupyter-widgets/base",
      "_view_module_version": "1.2.0",
      "_view_name": "StyleView",
      "bar_color": null,
      "description_width": ""
     }
    },
    "bb802df468284f26ad3809a858ebf338": {
     "model_module": "@jupyter-widgets/base",
     "model_module_version": "1.2.0",
     "model_name": "LayoutModel",
     "state": {
      "_model_module": "@jupyter-widgets/base",
      "_model_module_version": "1.2.0",
      "_model_name": "LayoutModel",
      "_view_count": null,
      "_view_module": "@jupyter-widgets/base",
      "_view_module_version": "1.2.0",
      "_view_name": "LayoutView",
      "align_content": null,
      "align_items": null,
      "align_self": null,
      "border": null,
      "bottom": null,
      "display": null,
      "flex": null,
      "flex_flow": null,
      "grid_area": null,
      "grid_auto_columns": null,
      "grid_auto_flow": null,
      "grid_auto_rows": null,
      "grid_column": null,
      "grid_gap": null,
      "grid_row": null,
      "grid_template_areas": null,
      "grid_template_columns": null,
      "grid_template_rows": null,
      "height": null,
      "justify_content": null,
      "justify_items": null,
      "left": null,
      "margin": null,
      "max_height": null,
      "max_width": null,
      "min_height": null,
      "min_width": null,
      "object_fit": null,
      "object_position": null,
      "order": null,
      "overflow": null,
      "overflow_x": null,
      "overflow_y": null,
      "padding": null,
      "right": null,
      "top": null,
      "visibility": null,
      "width": null
     }
    },
    "c236c4bbb41f45d59b38b36f81fedef4": {
     "model_module": "@jupyter-widgets/controls",
     "model_module_version": "1.5.0",
     "model_name": "ProgressStyleModel",
     "state": {
      "_model_module": "@jupyter-widgets/controls",
      "_model_module_version": "1.5.0",
      "_model_name": "ProgressStyleModel",
      "_view_count": null,
      "_view_module": "@jupyter-widgets/base",
      "_view_module_version": "1.2.0",
      "_view_name": "StyleView",
      "bar_color": null,
      "description_width": ""
     }
    },
    "c29eded748004f238a642cb3e97d79fb": {
     "model_module": "@jupyter-widgets/base",
     "model_module_version": "1.2.0",
     "model_name": "LayoutModel",
     "state": {
      "_model_module": "@jupyter-widgets/base",
      "_model_module_version": "1.2.0",
      "_model_name": "LayoutModel",
      "_view_count": null,
      "_view_module": "@jupyter-widgets/base",
      "_view_module_version": "1.2.0",
      "_view_name": "LayoutView",
      "align_content": null,
      "align_items": null,
      "align_self": null,
      "border": null,
      "bottom": null,
      "display": null,
      "flex": null,
      "flex_flow": null,
      "grid_area": null,
      "grid_auto_columns": null,
      "grid_auto_flow": null,
      "grid_auto_rows": null,
      "grid_column": null,
      "grid_gap": null,
      "grid_row": null,
      "grid_template_areas": null,
      "grid_template_columns": null,
      "grid_template_rows": null,
      "height": null,
      "justify_content": null,
      "justify_items": null,
      "left": null,
      "margin": null,
      "max_height": null,
      "max_width": null,
      "min_height": null,
      "min_width": null,
      "object_fit": null,
      "object_position": null,
      "order": null,
      "overflow": null,
      "overflow_x": null,
      "overflow_y": null,
      "padding": null,
      "right": null,
      "top": null,
      "visibility": null,
      "width": null
     }
    },
    "c2fe65b3931743c49eeb4d3ad84b5d74": {
     "model_module": "@jupyter-widgets/base",
     "model_module_version": "1.2.0",
     "model_name": "LayoutModel",
     "state": {
      "_model_module": "@jupyter-widgets/base",
      "_model_module_version": "1.2.0",
      "_model_name": "LayoutModel",
      "_view_count": null,
      "_view_module": "@jupyter-widgets/base",
      "_view_module_version": "1.2.0",
      "_view_name": "LayoutView",
      "align_content": null,
      "align_items": null,
      "align_self": null,
      "border": null,
      "bottom": null,
      "display": null,
      "flex": null,
      "flex_flow": null,
      "grid_area": null,
      "grid_auto_columns": null,
      "grid_auto_flow": null,
      "grid_auto_rows": null,
      "grid_column": null,
      "grid_gap": null,
      "grid_row": null,
      "grid_template_areas": null,
      "grid_template_columns": null,
      "grid_template_rows": null,
      "height": null,
      "justify_content": null,
      "justify_items": null,
      "left": null,
      "margin": null,
      "max_height": null,
      "max_width": null,
      "min_height": null,
      "min_width": null,
      "object_fit": null,
      "object_position": null,
      "order": null,
      "overflow": null,
      "overflow_x": null,
      "overflow_y": null,
      "padding": null,
      "right": null,
      "top": null,
      "visibility": null,
      "width": null
     }
    },
    "c4e49add7b2d4246ab8f43466175eaf0": {
     "model_module": "@jupyter-widgets/controls",
     "model_module_version": "1.5.0",
     "model_name": "FloatProgressModel",
     "state": {
      "_dom_classes": [],
      "_model_module": "@jupyter-widgets/controls",
      "_model_module_version": "1.5.0",
      "_model_name": "FloatProgressModel",
      "_view_count": null,
      "_view_module": "@jupyter-widgets/controls",
      "_view_module_version": "1.5.0",
      "_view_name": "ProgressView",
      "bar_style": "success",
      "description": "",
      "description_tooltip": null,
      "layout": "IPY_MODEL_c2fe65b3931743c49eeb4d3ad84b5d74",
      "max": 13123,
      "min": 0,
      "orientation": "horizontal",
      "style": "IPY_MODEL_bb7c1ef262e84a15967ba5f828ea7f67",
      "value": 13123
     }
    },
    "c513448bd85b4346a0d5cd3b3c0e11b8": {
     "model_module": "@jupyter-widgets/base",
     "model_module_version": "1.2.0",
     "model_name": "LayoutModel",
     "state": {
      "_model_module": "@jupyter-widgets/base",
      "_model_module_version": "1.2.0",
      "_model_name": "LayoutModel",
      "_view_count": null,
      "_view_module": "@jupyter-widgets/base",
      "_view_module_version": "1.2.0",
      "_view_name": "LayoutView",
      "align_content": null,
      "align_items": null,
      "align_self": null,
      "border": null,
      "bottom": null,
      "display": null,
      "flex": null,
      "flex_flow": null,
      "grid_area": null,
      "grid_auto_columns": null,
      "grid_auto_flow": null,
      "grid_auto_rows": null,
      "grid_column": null,
      "grid_gap": null,
      "grid_row": null,
      "grid_template_areas": null,
      "grid_template_columns": null,
      "grid_template_rows": null,
      "height": null,
      "justify_content": null,
      "justify_items": null,
      "left": null,
      "margin": null,
      "max_height": null,
      "max_width": null,
      "min_height": null,
      "min_width": null,
      "object_fit": null,
      "object_position": null,
      "order": null,
      "overflow": null,
      "overflow_x": null,
      "overflow_y": null,
      "padding": null,
      "right": null,
      "top": null,
      "visibility": null,
      "width": null
     }
    },
    "c57f5018a86e4cf2863f54a8dd7457b9": {
     "model_module": "@jupyter-widgets/base",
     "model_module_version": "1.2.0",
     "model_name": "LayoutModel",
     "state": {
      "_model_module": "@jupyter-widgets/base",
      "_model_module_version": "1.2.0",
      "_model_name": "LayoutModel",
      "_view_count": null,
      "_view_module": "@jupyter-widgets/base",
      "_view_module_version": "1.2.0",
      "_view_name": "LayoutView",
      "align_content": null,
      "align_items": null,
      "align_self": null,
      "border": null,
      "bottom": null,
      "display": null,
      "flex": null,
      "flex_flow": null,
      "grid_area": null,
      "grid_auto_columns": null,
      "grid_auto_flow": null,
      "grid_auto_rows": null,
      "grid_column": null,
      "grid_gap": null,
      "grid_row": null,
      "grid_template_areas": null,
      "grid_template_columns": null,
      "grid_template_rows": null,
      "height": null,
      "justify_content": null,
      "justify_items": null,
      "left": null,
      "margin": null,
      "max_height": null,
      "max_width": null,
      "min_height": null,
      "min_width": null,
      "object_fit": null,
      "object_position": null,
      "order": null,
      "overflow": null,
      "overflow_x": null,
      "overflow_y": null,
      "padding": null,
      "right": null,
      "top": null,
      "visibility": null,
      "width": null
     }
    },
    "c611330090544fb48aec7cf92efc8070": {
     "model_module": "@jupyter-widgets/controls",
     "model_module_version": "1.5.0",
     "model_name": "ProgressStyleModel",
     "state": {
      "_model_module": "@jupyter-widgets/controls",
      "_model_module_version": "1.5.0",
      "_model_name": "ProgressStyleModel",
      "_view_count": null,
      "_view_module": "@jupyter-widgets/base",
      "_view_module_version": "1.2.0",
      "_view_name": "StyleView",
      "bar_color": null,
      "description_width": ""
     }
    },
    "c7608fcfb0c7430ea40b2f2b7f938572": {
     "model_module": "@jupyter-widgets/base",
     "model_module_version": "1.2.0",
     "model_name": "LayoutModel",
     "state": {
      "_model_module": "@jupyter-widgets/base",
      "_model_module_version": "1.2.0",
      "_model_name": "LayoutModel",
      "_view_count": null,
      "_view_module": "@jupyter-widgets/base",
      "_view_module_version": "1.2.0",
      "_view_name": "LayoutView",
      "align_content": null,
      "align_items": null,
      "align_self": null,
      "border": null,
      "bottom": null,
      "display": null,
      "flex": null,
      "flex_flow": null,
      "grid_area": null,
      "grid_auto_columns": null,
      "grid_auto_flow": null,
      "grid_auto_rows": null,
      "grid_column": null,
      "grid_gap": null,
      "grid_row": null,
      "grid_template_areas": null,
      "grid_template_columns": null,
      "grid_template_rows": null,
      "height": null,
      "justify_content": null,
      "justify_items": null,
      "left": null,
      "margin": null,
      "max_height": null,
      "max_width": null,
      "min_height": null,
      "min_width": null,
      "object_fit": null,
      "object_position": null,
      "order": null,
      "overflow": null,
      "overflow_x": null,
      "overflow_y": null,
      "padding": null,
      "right": null,
      "top": null,
      "visibility": null,
      "width": null
     }
    },
    "c86df4cf666e47cea738e4d8fcbcf413": {
     "model_module": "@jupyter-widgets/controls",
     "model_module_version": "1.5.0",
     "model_name": "HTMLModel",
     "state": {
      "_dom_classes": [],
      "_model_module": "@jupyter-widgets/controls",
      "_model_module_version": "1.5.0",
      "_model_name": "HTMLModel",
      "_view_count": null,
      "_view_module": "@jupyter-widgets/controls",
      "_view_module_version": "1.5.0",
      "_view_name": "HTMLView",
      "description": "",
      "description_tooltip": null,
      "layout": "IPY_MODEL_ba7fc150a30945208618f116a10943c4",
      "placeholder": "​",
      "style": "IPY_MODEL_f92b8f52d85545418f800c39daa0fe02",
      "value": "Downloading: 100%"
     }
    },
    "c89d7c95dc04407f8f2bf01df20b7f49": {
     "model_module": "@jupyter-widgets/controls",
     "model_module_version": "1.5.0",
     "model_name": "HTMLModel",
     "state": {
      "_dom_classes": [],
      "_model_module": "@jupyter-widgets/controls",
      "_model_module_version": "1.5.0",
      "_model_name": "HTMLModel",
      "_view_count": null,
      "_view_module": "@jupyter-widgets/controls",
      "_view_module_version": "1.5.0",
      "_view_name": "HTMLView",
      "description": "",
      "description_tooltip": null,
      "layout": "IPY_MODEL_8b42955959354c60af4e62f07e554a82",
      "placeholder": "​",
      "style": "IPY_MODEL_07be5aa3ba5b4bdfb731a9357194d67c",
      "value": " 232k/232k [00:00&lt;00:00, 896kB/s]"
     }
    },
    "c9f091ca7dfd42e8b1f032470a29e2c9": {
     "model_module": "@jupyter-widgets/controls",
     "model_module_version": "1.5.0",
     "model_name": "DescriptionStyleModel",
     "state": {
      "_model_module": "@jupyter-widgets/controls",
      "_model_module_version": "1.5.0",
      "_model_name": "DescriptionStyleModel",
      "_view_count": null,
      "_view_module": "@jupyter-widgets/base",
      "_view_module_version": "1.2.0",
      "_view_name": "StyleView",
      "description_width": ""
     }
    },
    "cb557c5bfc934944b1ce6eb721179d87": {
     "model_module": "@jupyter-widgets/controls",
     "model_module_version": "1.5.0",
     "model_name": "DescriptionStyleModel",
     "state": {
      "_model_module": "@jupyter-widgets/controls",
      "_model_module_version": "1.5.0",
      "_model_name": "DescriptionStyleModel",
      "_view_count": null,
      "_view_module": "@jupyter-widgets/base",
      "_view_module_version": "1.2.0",
      "_view_name": "StyleView",
      "description_width": ""
     }
    },
    "ccc6256aff7347ed847b7057dd8fd955": {
     "model_module": "@jupyter-widgets/controls",
     "model_module_version": "1.5.0",
     "model_name": "DescriptionStyleModel",
     "state": {
      "_model_module": "@jupyter-widgets/controls",
      "_model_module_version": "1.5.0",
      "_model_name": "DescriptionStyleModel",
      "_view_count": null,
      "_view_module": "@jupyter-widgets/base",
      "_view_module_version": "1.2.0",
      "_view_name": "StyleView",
      "description_width": ""
     }
    },
    "cccf223dbbce4ece9a52e8441673d0fa": {
     "model_module": "@jupyter-widgets/controls",
     "model_module_version": "1.5.0",
     "model_name": "HBoxModel",
     "state": {
      "_dom_classes": [],
      "_model_module": "@jupyter-widgets/controls",
      "_model_module_version": "1.5.0",
      "_model_name": "HBoxModel",
      "_view_count": null,
      "_view_module": "@jupyter-widgets/controls",
      "_view_module_version": "1.5.0",
      "_view_name": "HBoxView",
      "box_style": "",
      "children": [
       "IPY_MODEL_5cb29053e3ac4b5faa247573500a4b1d",
       "IPY_MODEL_b5f648707b1b4001a0ec336ae3835cb4",
       "IPY_MODEL_c89d7c95dc04407f8f2bf01df20b7f49"
      ],
      "layout": "IPY_MODEL_8f91aca4cbc14f65b39d13818432cf45"
     }
    },
    "cfedd6a41c874e2b8234afe218a48885": {
     "model_module": "@jupyter-widgets/controls",
     "model_module_version": "1.5.0",
     "model_name": "HTMLModel",
     "state": {
      "_dom_classes": [],
      "_model_module": "@jupyter-widgets/controls",
      "_model_module_version": "1.5.0",
      "_model_name": "HTMLModel",
      "_view_count": null,
      "_view_module": "@jupyter-widgets/controls",
      "_view_module_version": "1.5.0",
      "_view_name": "HTMLView",
      "description": "",
      "description_tooltip": null,
      "layout": "IPY_MODEL_b15f12cec2244db081c1663a66f30536",
      "placeholder": "​",
      "style": "IPY_MODEL_b24e7ef57d964b069c6a237834e285aa",
      "value": " 1.18k/1.18k [00:00&lt;00:00, 35.8kB/s]"
     }
    },
    "d09893bff19e4bf299bd19087fefead5": {
     "model_module": "@jupyter-widgets/base",
     "model_module_version": "1.2.0",
     "model_name": "LayoutModel",
     "state": {
      "_model_module": "@jupyter-widgets/base",
      "_model_module_version": "1.2.0",
      "_model_name": "LayoutModel",
      "_view_count": null,
      "_view_module": "@jupyter-widgets/base",
      "_view_module_version": "1.2.0",
      "_view_name": "LayoutView",
      "align_content": null,
      "align_items": null,
      "align_self": null,
      "border": null,
      "bottom": null,
      "display": null,
      "flex": null,
      "flex_flow": null,
      "grid_area": null,
      "grid_auto_columns": null,
      "grid_auto_flow": null,
      "grid_auto_rows": null,
      "grid_column": null,
      "grid_gap": null,
      "grid_row": null,
      "grid_template_areas": null,
      "grid_template_columns": null,
      "grid_template_rows": null,
      "height": null,
      "justify_content": null,
      "justify_items": null,
      "left": null,
      "margin": null,
      "max_height": null,
      "max_width": null,
      "min_height": null,
      "min_width": null,
      "object_fit": null,
      "object_position": null,
      "order": null,
      "overflow": null,
      "overflow_x": null,
      "overflow_y": null,
      "padding": null,
      "right": null,
      "top": null,
      "visibility": null,
      "width": null
     }
    },
    "d0addb59264f49e0a77349fe87bcd1fc": {
     "model_module": "@jupyter-widgets/controls",
     "model_module_version": "1.5.0",
     "model_name": "HTMLModel",
     "state": {
      "_dom_classes": [],
      "_model_module": "@jupyter-widgets/controls",
      "_model_module_version": "1.5.0",
      "_model_name": "HTMLModel",
      "_view_count": null,
      "_view_module": "@jupyter-widgets/controls",
      "_view_module_version": "1.5.0",
      "_view_name": "HTMLView",
      "description": "",
      "description_tooltip": null,
      "layout": "IPY_MODEL_e14906e7aa234ecea7f021b964a76f5d",
      "placeholder": "​",
      "style": "IPY_MODEL_535994abf42c47f4914c396b0f401833",
      "value": " 39.3k/39.3k [00:00&lt;00:00, 629kB/s]"
     }
    },
    "d12a869864ed486ea9d5f26c4ef9a37b": {
     "model_module": "@jupyter-widgets/controls",
     "model_module_version": "1.5.0",
     "model_name": "DescriptionStyleModel",
     "state": {
      "_model_module": "@jupyter-widgets/controls",
      "_model_module_version": "1.5.0",
      "_model_name": "DescriptionStyleModel",
      "_view_count": null,
      "_view_module": "@jupyter-widgets/base",
      "_view_module_version": "1.2.0",
      "_view_name": "StyleView",
      "description_width": ""
     }
    },
    "d3edafc26946489e9c973f64abfff288": {
     "model_module": "@jupyter-widgets/controls",
     "model_module_version": "1.5.0",
     "model_name": "ProgressStyleModel",
     "state": {
      "_model_module": "@jupyter-widgets/controls",
      "_model_module_version": "1.5.0",
      "_model_name": "ProgressStyleModel",
      "_view_count": null,
      "_view_module": "@jupyter-widgets/base",
      "_view_module_version": "1.2.0",
      "_view_name": "StyleView",
      "bar_color": null,
      "description_width": ""
     }
    },
    "d45b674637b24c718583c8665d2efdef": {
     "model_module": "@jupyter-widgets/base",
     "model_module_version": "1.2.0",
     "model_name": "LayoutModel",
     "state": {
      "_model_module": "@jupyter-widgets/base",
      "_model_module_version": "1.2.0",
      "_model_name": "LayoutModel",
      "_view_count": null,
      "_view_module": "@jupyter-widgets/base",
      "_view_module_version": "1.2.0",
      "_view_name": "LayoutView",
      "align_content": null,
      "align_items": null,
      "align_self": null,
      "border": null,
      "bottom": null,
      "display": null,
      "flex": null,
      "flex_flow": null,
      "grid_area": null,
      "grid_auto_columns": null,
      "grid_auto_flow": null,
      "grid_auto_rows": null,
      "grid_column": null,
      "grid_gap": null,
      "grid_row": null,
      "grid_template_areas": null,
      "grid_template_columns": null,
      "grid_template_rows": null,
      "height": null,
      "justify_content": null,
      "justify_items": null,
      "left": null,
      "margin": null,
      "max_height": null,
      "max_width": null,
      "min_height": null,
      "min_width": null,
      "object_fit": null,
      "object_position": null,
      "order": null,
      "overflow": null,
      "overflow_x": null,
      "overflow_y": null,
      "padding": null,
      "right": null,
      "top": null,
      "visibility": null,
      "width": null
     }
    },
    "d6366f655d5c44e2b4ae10a5ecb01884": {
     "model_module": "@jupyter-widgets/base",
     "model_module_version": "1.2.0",
     "model_name": "LayoutModel",
     "state": {
      "_model_module": "@jupyter-widgets/base",
      "_model_module_version": "1.2.0",
      "_model_name": "LayoutModel",
      "_view_count": null,
      "_view_module": "@jupyter-widgets/base",
      "_view_module_version": "1.2.0",
      "_view_name": "LayoutView",
      "align_content": null,
      "align_items": null,
      "align_self": null,
      "border": null,
      "bottom": null,
      "display": null,
      "flex": null,
      "flex_flow": null,
      "grid_area": null,
      "grid_auto_columns": null,
      "grid_auto_flow": null,
      "grid_auto_rows": null,
      "grid_column": null,
      "grid_gap": null,
      "grid_row": null,
      "grid_template_areas": null,
      "grid_template_columns": null,
      "grid_template_rows": null,
      "height": null,
      "justify_content": null,
      "justify_items": null,
      "left": null,
      "margin": null,
      "max_height": null,
      "max_width": null,
      "min_height": null,
      "min_width": null,
      "object_fit": null,
      "object_position": null,
      "order": null,
      "overflow": null,
      "overflow_x": null,
      "overflow_y": null,
      "padding": null,
      "right": null,
      "top": null,
      "visibility": null,
      "width": null
     }
    },
    "d6f155d5e04647bdb5ce3c1ffe2beaa3": {
     "model_module": "@jupyter-widgets/base",
     "model_module_version": "1.2.0",
     "model_name": "LayoutModel",
     "state": {
      "_model_module": "@jupyter-widgets/base",
      "_model_module_version": "1.2.0",
      "_model_name": "LayoutModel",
      "_view_count": null,
      "_view_module": "@jupyter-widgets/base",
      "_view_module_version": "1.2.0",
      "_view_name": "LayoutView",
      "align_content": null,
      "align_items": null,
      "align_self": null,
      "border": null,
      "bottom": null,
      "display": null,
      "flex": null,
      "flex_flow": null,
      "grid_area": null,
      "grid_auto_columns": null,
      "grid_auto_flow": null,
      "grid_auto_rows": null,
      "grid_column": null,
      "grid_gap": null,
      "grid_row": null,
      "grid_template_areas": null,
      "grid_template_columns": null,
      "grid_template_rows": null,
      "height": null,
      "justify_content": null,
      "justify_items": null,
      "left": null,
      "margin": null,
      "max_height": null,
      "max_width": null,
      "min_height": null,
      "min_width": null,
      "object_fit": null,
      "object_position": null,
      "order": null,
      "overflow": null,
      "overflow_x": null,
      "overflow_y": null,
      "padding": null,
      "right": null,
      "top": null,
      "visibility": null,
      "width": null
     }
    },
    "d8049376c9874d8bb9e5d26e04d81e86": {
     "model_module": "@jupyter-widgets/controls",
     "model_module_version": "1.5.0",
     "model_name": "HTMLModel",
     "state": {
      "_dom_classes": [],
      "_model_module": "@jupyter-widgets/controls",
      "_model_module_version": "1.5.0",
      "_model_name": "HTMLModel",
      "_view_count": null,
      "_view_module": "@jupyter-widgets/controls",
      "_view_module_version": "1.5.0",
      "_view_name": "HTMLView",
      "description": "",
      "description_tooltip": null,
      "layout": "IPY_MODEL_9ac3fdad04ca49d0bc804d030460f05b",
      "placeholder": "​",
      "style": "IPY_MODEL_8239dd9421e54e318607d6c64b69125d",
      "value": "Downloading: 100%"
     }
    },
    "d84ff5edc0b7429297564c2faee2d54f": {
     "model_module": "@jupyter-widgets/base",
     "model_module_version": "1.2.0",
     "model_name": "LayoutModel",
     "state": {
      "_model_module": "@jupyter-widgets/base",
      "_model_module_version": "1.2.0",
      "_model_name": "LayoutModel",
      "_view_count": null,
      "_view_module": "@jupyter-widgets/base",
      "_view_module_version": "1.2.0",
      "_view_name": "LayoutView",
      "align_content": null,
      "align_items": null,
      "align_self": null,
      "border": null,
      "bottom": null,
      "display": null,
      "flex": null,
      "flex_flow": null,
      "grid_area": null,
      "grid_auto_columns": null,
      "grid_auto_flow": null,
      "grid_auto_rows": null,
      "grid_column": null,
      "grid_gap": null,
      "grid_row": null,
      "grid_template_areas": null,
      "grid_template_columns": null,
      "grid_template_rows": null,
      "height": null,
      "justify_content": null,
      "justify_items": null,
      "left": null,
      "margin": null,
      "max_height": null,
      "max_width": null,
      "min_height": null,
      "min_width": null,
      "object_fit": null,
      "object_position": null,
      "order": null,
      "overflow": null,
      "overflow_x": null,
      "overflow_y": null,
      "padding": null,
      "right": null,
      "top": null,
      "visibility": null,
      "width": null
     }
    },
    "d904c8d616794f0e99bd23c6a62cefeb": {
     "model_module": "@jupyter-widgets/base",
     "model_module_version": "1.2.0",
     "model_name": "LayoutModel",
     "state": {
      "_model_module": "@jupyter-widgets/base",
      "_model_module_version": "1.2.0",
      "_model_name": "LayoutModel",
      "_view_count": null,
      "_view_module": "@jupyter-widgets/base",
      "_view_module_version": "1.2.0",
      "_view_name": "LayoutView",
      "align_content": null,
      "align_items": null,
      "align_self": null,
      "border": null,
      "bottom": null,
      "display": null,
      "flex": null,
      "flex_flow": null,
      "grid_area": null,
      "grid_auto_columns": null,
      "grid_auto_flow": null,
      "grid_auto_rows": null,
      "grid_column": null,
      "grid_gap": null,
      "grid_row": null,
      "grid_template_areas": null,
      "grid_template_columns": null,
      "grid_template_rows": null,
      "height": null,
      "justify_content": null,
      "justify_items": null,
      "left": null,
      "margin": null,
      "max_height": null,
      "max_width": null,
      "min_height": null,
      "min_width": null,
      "object_fit": null,
      "object_position": null,
      "order": null,
      "overflow": null,
      "overflow_x": null,
      "overflow_y": null,
      "padding": null,
      "right": null,
      "top": null,
      "visibility": null,
      "width": null
     }
    },
    "d954233c123343d9bd43a5b7057915e0": {
     "model_module": "@jupyter-widgets/controls",
     "model_module_version": "1.5.0",
     "model_name": "DescriptionStyleModel",
     "state": {
      "_model_module": "@jupyter-widgets/controls",
      "_model_module_version": "1.5.0",
      "_model_name": "DescriptionStyleModel",
      "_view_count": null,
      "_view_module": "@jupyter-widgets/base",
      "_view_module_version": "1.2.0",
      "_view_name": "StyleView",
      "description_width": ""
     }
    },
    "d9b42e220b3842819e7503c2e5496550": {
     "model_module": "@jupyter-widgets/base",
     "model_module_version": "1.2.0",
     "model_name": "LayoutModel",
     "state": {
      "_model_module": "@jupyter-widgets/base",
      "_model_module_version": "1.2.0",
      "_model_name": "LayoutModel",
      "_view_count": null,
      "_view_module": "@jupyter-widgets/base",
      "_view_module_version": "1.2.0",
      "_view_name": "LayoutView",
      "align_content": null,
      "align_items": null,
      "align_self": null,
      "border": null,
      "bottom": null,
      "display": null,
      "flex": null,
      "flex_flow": null,
      "grid_area": null,
      "grid_auto_columns": null,
      "grid_auto_flow": null,
      "grid_auto_rows": null,
      "grid_column": null,
      "grid_gap": null,
      "grid_row": null,
      "grid_template_areas": null,
      "grid_template_columns": null,
      "grid_template_rows": null,
      "height": null,
      "justify_content": null,
      "justify_items": null,
      "left": null,
      "margin": null,
      "max_height": null,
      "max_width": null,
      "min_height": null,
      "min_width": null,
      "object_fit": null,
      "object_position": null,
      "order": null,
      "overflow": null,
      "overflow_x": null,
      "overflow_y": null,
      "padding": null,
      "right": null,
      "top": null,
      "visibility": null,
      "width": null
     }
    },
    "dd28fefd41f5403fa38d12c4331fa508": {
     "model_module": "@jupyter-widgets/controls",
     "model_module_version": "1.5.0",
     "model_name": "HBoxModel",
     "state": {
      "_dom_classes": [],
      "_model_module": "@jupyter-widgets/controls",
      "_model_module_version": "1.5.0",
      "_model_name": "HBoxModel",
      "_view_count": null,
      "_view_module": "@jupyter-widgets/controls",
      "_view_module_version": "1.5.0",
      "_view_name": "HBoxView",
      "box_style": "",
      "children": [
       "IPY_MODEL_fb14048326114c72b92966228ea91e01",
       "IPY_MODEL_c4e49add7b2d4246ab8f43466175eaf0",
       "IPY_MODEL_72745c0713b349d7893cc40ceda839ba"
      ],
      "layout": "IPY_MODEL_739a8fbec15d448888b4fe4a6396dc87"
     }
    },
    "e14906e7aa234ecea7f021b964a76f5d": {
     "model_module": "@jupyter-widgets/base",
     "model_module_version": "1.2.0",
     "model_name": "LayoutModel",
     "state": {
      "_model_module": "@jupyter-widgets/base",
      "_model_module_version": "1.2.0",
      "_model_name": "LayoutModel",
      "_view_count": null,
      "_view_module": "@jupyter-widgets/base",
      "_view_module_version": "1.2.0",
      "_view_name": "LayoutView",
      "align_content": null,
      "align_items": null,
      "align_self": null,
      "border": null,
      "bottom": null,
      "display": null,
      "flex": null,
      "flex_flow": null,
      "grid_area": null,
      "grid_auto_columns": null,
      "grid_auto_flow": null,
      "grid_auto_rows": null,
      "grid_column": null,
      "grid_gap": null,
      "grid_row": null,
      "grid_template_areas": null,
      "grid_template_columns": null,
      "grid_template_rows": null,
      "height": null,
      "justify_content": null,
      "justify_items": null,
      "left": null,
      "margin": null,
      "max_height": null,
      "max_width": null,
      "min_height": null,
      "min_width": null,
      "object_fit": null,
      "object_position": null,
      "order": null,
      "overflow": null,
      "overflow_x": null,
      "overflow_y": null,
      "padding": null,
      "right": null,
      "top": null,
      "visibility": null,
      "width": null
     }
    },
    "e2ae5881f26e4520bb1cbd55492f2639": {
     "model_module": "@jupyter-widgets/controls",
     "model_module_version": "1.5.0",
     "model_name": "ProgressStyleModel",
     "state": {
      "_model_module": "@jupyter-widgets/controls",
      "_model_module_version": "1.5.0",
      "_model_name": "ProgressStyleModel",
      "_view_count": null,
      "_view_module": "@jupyter-widgets/base",
      "_view_module_version": "1.2.0",
      "_view_name": "StyleView",
      "bar_color": null,
      "description_width": ""
     }
    },
    "e4cfd0cc227f41f88a662ca9711b11a3": {
     "model_module": "@jupyter-widgets/base",
     "model_module_version": "1.2.0",
     "model_name": "LayoutModel",
     "state": {
      "_model_module": "@jupyter-widgets/base",
      "_model_module_version": "1.2.0",
      "_model_name": "LayoutModel",
      "_view_count": null,
      "_view_module": "@jupyter-widgets/base",
      "_view_module_version": "1.2.0",
      "_view_name": "LayoutView",
      "align_content": null,
      "align_items": null,
      "align_self": null,
      "border": null,
      "bottom": null,
      "display": null,
      "flex": null,
      "flex_flow": null,
      "grid_area": null,
      "grid_auto_columns": null,
      "grid_auto_flow": null,
      "grid_auto_rows": null,
      "grid_column": null,
      "grid_gap": null,
      "grid_row": null,
      "grid_template_areas": null,
      "grid_template_columns": null,
      "grid_template_rows": null,
      "height": null,
      "justify_content": null,
      "justify_items": null,
      "left": null,
      "margin": null,
      "max_height": null,
      "max_width": null,
      "min_height": null,
      "min_width": null,
      "object_fit": null,
      "object_position": null,
      "order": null,
      "overflow": null,
      "overflow_x": null,
      "overflow_y": null,
      "padding": null,
      "right": null,
      "top": null,
      "visibility": null,
      "width": null
     }
    },
    "e4d32daf2c4840acba38bf7420a13fa2": {
     "model_module": "@jupyter-widgets/controls",
     "model_module_version": "1.5.0",
     "model_name": "ProgressStyleModel",
     "state": {
      "_model_module": "@jupyter-widgets/controls",
      "_model_module_version": "1.5.0",
      "_model_name": "ProgressStyleModel",
      "_view_count": null,
      "_view_module": "@jupyter-widgets/base",
      "_view_module_version": "1.2.0",
      "_view_name": "StyleView",
      "bar_color": null,
      "description_width": ""
     }
    },
    "e58adb004d51400685670b4841205355": {
     "model_module": "@jupyter-widgets/controls",
     "model_module_version": "1.5.0",
     "model_name": "HTMLModel",
     "state": {
      "_dom_classes": [],
      "_model_module": "@jupyter-widgets/controls",
      "_model_module_version": "1.5.0",
      "_model_name": "HTMLModel",
      "_view_count": null,
      "_view_module": "@jupyter-widgets/controls",
      "_view_module_version": "1.5.0",
      "_view_name": "HTMLView",
      "description": "",
      "description_tooltip": null,
      "layout": "IPY_MODEL_1c4679f5aea149e889f629da442b361e",
      "placeholder": "​",
      "style": "IPY_MODEL_63990fb5f755425ab1eb99cd7f9716b3",
      "value": " 190/190 [00:00&lt;00:00, 6.39kB/s]"
     }
    },
    "e87fbdabb61948788c84d99c1591afa7": {
     "model_module": "@jupyter-widgets/base",
     "model_module_version": "1.2.0",
     "model_name": "LayoutModel",
     "state": {
      "_model_module": "@jupyter-widgets/base",
      "_model_module_version": "1.2.0",
      "_model_name": "LayoutModel",
      "_view_count": null,
      "_view_module": "@jupyter-widgets/base",
      "_view_module_version": "1.2.0",
      "_view_name": "LayoutView",
      "align_content": null,
      "align_items": null,
      "align_self": null,
      "border": null,
      "bottom": null,
      "display": null,
      "flex": null,
      "flex_flow": null,
      "grid_area": null,
      "grid_auto_columns": null,
      "grid_auto_flow": null,
      "grid_auto_rows": null,
      "grid_column": null,
      "grid_gap": null,
      "grid_row": null,
      "grid_template_areas": null,
      "grid_template_columns": null,
      "grid_template_rows": null,
      "height": null,
      "justify_content": null,
      "justify_items": null,
      "left": null,
      "margin": null,
      "max_height": null,
      "max_width": null,
      "min_height": null,
      "min_width": null,
      "object_fit": null,
      "object_position": null,
      "order": null,
      "overflow": null,
      "overflow_x": null,
      "overflow_y": null,
      "padding": null,
      "right": null,
      "top": null,
      "visibility": null,
      "width": null
     }
    },
    "ea8fa87209f841769e7ed83f72eb9a18": {
     "model_module": "@jupyter-widgets/controls",
     "model_module_version": "1.5.0",
     "model_name": "DescriptionStyleModel",
     "state": {
      "_model_module": "@jupyter-widgets/controls",
      "_model_module_version": "1.5.0",
      "_model_name": "DescriptionStyleModel",
      "_view_count": null,
      "_view_module": "@jupyter-widgets/base",
      "_view_module_version": "1.2.0",
      "_view_name": "StyleView",
      "description_width": ""
     }
    },
    "ebb1df6970c948c29f2312a83fc899ea": {
     "model_module": "@jupyter-widgets/controls",
     "model_module_version": "1.5.0",
     "model_name": "DescriptionStyleModel",
     "state": {
      "_model_module": "@jupyter-widgets/controls",
      "_model_module_version": "1.5.0",
      "_model_name": "DescriptionStyleModel",
      "_view_count": null,
      "_view_module": "@jupyter-widgets/base",
      "_view_module_version": "1.2.0",
      "_view_name": "StyleView",
      "description_width": ""
     }
    },
    "ec7bb19e9c9f44b1a41cfe3e28830794": {
     "model_module": "@jupyter-widgets/base",
     "model_module_version": "1.2.0",
     "model_name": "LayoutModel",
     "state": {
      "_model_module": "@jupyter-widgets/base",
      "_model_module_version": "1.2.0",
      "_model_name": "LayoutModel",
      "_view_count": null,
      "_view_module": "@jupyter-widgets/base",
      "_view_module_version": "1.2.0",
      "_view_name": "LayoutView",
      "align_content": null,
      "align_items": null,
      "align_self": null,
      "border": null,
      "bottom": null,
      "display": null,
      "flex": null,
      "flex_flow": null,
      "grid_area": null,
      "grid_auto_columns": null,
      "grid_auto_flow": null,
      "grid_auto_rows": null,
      "grid_column": null,
      "grid_gap": null,
      "grid_row": null,
      "grid_template_areas": null,
      "grid_template_columns": null,
      "grid_template_rows": null,
      "height": null,
      "justify_content": null,
      "justify_items": null,
      "left": null,
      "margin": null,
      "max_height": null,
      "max_width": null,
      "min_height": null,
      "min_width": null,
      "object_fit": null,
      "object_position": null,
      "order": null,
      "overflow": null,
      "overflow_x": null,
      "overflow_y": null,
      "padding": null,
      "right": null,
      "top": null,
      "visibility": null,
      "width": null
     }
    },
    "efac8ec8b5a642ad83f0a7fba6dda4ae": {
     "model_module": "@jupyter-widgets/controls",
     "model_module_version": "1.5.0",
     "model_name": "HTMLModel",
     "state": {
      "_dom_classes": [],
      "_model_module": "@jupyter-widgets/controls",
      "_model_module_version": "1.5.0",
      "_model_name": "HTMLModel",
      "_view_count": null,
      "_view_module": "@jupyter-widgets/controls",
      "_view_module_version": "1.5.0",
      "_view_name": "HTMLView",
      "description": "",
      "description_tooltip": null,
      "layout": "IPY_MODEL_147ac6e1cb6b4410812fb0eae0dce723",
      "placeholder": "​",
      "style": "IPY_MODEL_ccc6256aff7347ed847b7057dd8fd955",
      "value": "Downloading: 100%"
     }
    },
    "f74f13c12cc546a1af7b70ae54985356": {
     "model_module": "@jupyter-widgets/controls",
     "model_module_version": "1.5.0",
     "model_name": "HTMLModel",
     "state": {
      "_dom_classes": [],
      "_model_module": "@jupyter-widgets/controls",
      "_model_module_version": "1.5.0",
      "_model_name": "HTMLModel",
      "_view_count": null,
      "_view_module": "@jupyter-widgets/controls",
      "_view_module_version": "1.5.0",
      "_view_name": "HTMLView",
      "description": "",
      "description_tooltip": null,
      "layout": "IPY_MODEL_3684c0f23c044ec4826273be50634b8d",
      "placeholder": "​",
      "style": "IPY_MODEL_c9f091ca7dfd42e8b1f032470a29e2c9",
      "value": "Batches: 100%"
     }
    },
    "f92b8f52d85545418f800c39daa0fe02": {
     "model_module": "@jupyter-widgets/controls",
     "model_module_version": "1.5.0",
     "model_name": "DescriptionStyleModel",
     "state": {
      "_model_module": "@jupyter-widgets/controls",
      "_model_module_version": "1.5.0",
      "_model_name": "DescriptionStyleModel",
      "_view_count": null,
      "_view_module": "@jupyter-widgets/base",
      "_view_module_version": "1.2.0",
      "_view_name": "StyleView",
      "description_width": ""
     }
    },
    "f95a79422018495da77b1b1c3aa83827": {
     "model_module": "@jupyter-widgets/controls",
     "model_module_version": "1.5.0",
     "model_name": "HTMLModel",
     "state": {
      "_dom_classes": [],
      "_model_module": "@jupyter-widgets/controls",
      "_model_module_version": "1.5.0",
      "_model_name": "HTMLModel",
      "_view_count": null,
      "_view_module": "@jupyter-widgets/controls",
      "_view_module_version": "1.5.0",
      "_view_name": "HTMLView",
      "description": "",
      "description_tooltip": null,
      "layout": "IPY_MODEL_8315f8809057407e95d8608180590bf6",
      "placeholder": "​",
      "style": "IPY_MODEL_5e0a6a5e418448268e2ba4c4471a0c59",
      "value": " 363/363 [00:00&lt;00:00, 7.94kB/s]"
     }
    },
    "fa763922d6a44c8ea2fff113e419bb41": {
     "model_module": "@jupyter-widgets/controls",
     "model_module_version": "1.5.0",
     "model_name": "DescriptionStyleModel",
     "state": {
      "_model_module": "@jupyter-widgets/controls",
      "_model_module_version": "1.5.0",
      "_model_name": "DescriptionStyleModel",
      "_view_count": null,
      "_view_module": "@jupyter-widgets/base",
      "_view_module_version": "1.2.0",
      "_view_name": "StyleView",
      "description_width": ""
     }
    },
    "fb14048326114c72b92966228ea91e01": {
     "model_module": "@jupyter-widgets/controls",
     "model_module_version": "1.5.0",
     "model_name": "HTMLModel",
     "state": {
      "_dom_classes": [],
      "_model_module": "@jupyter-widgets/controls",
      "_model_module_version": "1.5.0",
      "_model_name": "HTMLModel",
      "_view_count": null,
      "_view_module": "@jupyter-widgets/controls",
      "_view_module_version": "1.5.0",
      "_view_name": "HTMLView",
      "description": "",
      "description_tooltip": null,
      "layout": "IPY_MODEL_a3adb2d5dab8444d8779161f4b195cfc",
      "placeholder": "​",
      "style": "IPY_MODEL_51b215d43bee4e048de7f2b01400e923",
      "value": "Downloading: 100%"
     }
    },
    "fb757ee80a7f44fab9b4b5a4fbdb42b0": {
     "model_module": "@jupyter-widgets/controls",
     "model_module_version": "1.5.0",
     "model_name": "FloatProgressModel",
     "state": {
      "_dom_classes": [],
      "_model_module": "@jupyter-widgets/controls",
      "_model_module_version": "1.5.0",
      "_model_name": "FloatProgressModel",
      "_view_count": null,
      "_view_module": "@jupyter-widgets/controls",
      "_view_module_version": "1.5.0",
      "_view_name": "ProgressView",
      "bar_style": "success",
      "description": "",
      "description_tooltip": null,
      "layout": "IPY_MODEL_a3bea12a103b4bd397ac90a8e4426648",
      "max": 571,
      "min": 0,
      "orientation": "horizontal",
      "style": "IPY_MODEL_8e5105f189284c1a95b6b429754233cd",
      "value": 571
     }
    },
    "fc4063a95b7b4afbb2631c75f11349c1": {
     "model_module": "@jupyter-widgets/controls",
     "model_module_version": "1.5.0",
     "model_name": "FloatProgressModel",
     "state": {
      "_dom_classes": [],
      "_model_module": "@jupyter-widgets/controls",
      "_model_module_version": "1.5.0",
      "_model_name": "FloatProgressModel",
      "_view_count": null,
      "_view_module": "@jupyter-widgets/controls",
      "_view_module_version": "1.5.0",
      "_view_name": "ProgressView",
      "bar_style": "success",
      "description": "",
      "description_tooltip": null,
      "layout": "IPY_MODEL_d6366f655d5c44e2b4ae10a5ecb01884",
      "max": 349,
      "min": 0,
      "orientation": "horizontal",
      "style": "IPY_MODEL_a60c060db0264456a0d1cef305204918",
      "value": 349
     }
    }
   }
  }
 },
 "nbformat": 4,
 "nbformat_minor": 1
}

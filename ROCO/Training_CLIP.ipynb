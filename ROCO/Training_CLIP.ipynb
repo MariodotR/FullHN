{
 "cells": [
  {
   "cell_type": "markdown",
   "metadata": {},
   "source": [
    "Resumen: \n",
    "\n",
    "Piero: El calculo de la matriz Rouge-L test + .zip cargarlo en servidor.\n",
    "\n",
    "Mario: ejecutar experimentos en el servidor, Incorporar validación y eliminar textos duplicados, verificar que el código funcione.\n",
    "\n",
    "\n"
   ]
  },
  {
   "cell_type": "code",
   "execution_count": 2,
   "metadata": {
    "ExecuteTime": {
     "end_time": "2024-07-12T07:30:58.237840Z",
     "start_time": "2024-07-12T07:30:53.055003Z"
    }
   },
   "outputs": [
    {
     "name": "stdout",
     "output_type": "stream",
     "text": [
      "Num GPUs Available:  0\n"
     ]
    }
   ],
   "source": [
    "import tensorflow as tf\n",
    "print(\"Num GPUs Available: \", len(tf.config.list_physical_devices('GPU')))"
   ]
  },
  {
   "cell_type": "code",
   "execution_count": 3,
   "metadata": {
    "ExecuteTime": {
     "end_time": "2024-07-12T07:30:58.269309Z",
     "start_time": "2024-07-12T07:30:58.256059Z"
    }
   },
   "outputs": [],
   "source": [
    "import random\n",
    "\n",
    "random.seed(0)"
   ]
  },
  {
   "cell_type": "markdown",
   "metadata": {
    "id": "15pHG-EZ3Kkz"
   },
   "source": [
    "## Data"
   ]
  },
  {
   "cell_type": "code",
   "execution_count": 4,
   "metadata": {
    "ExecuteTime": {
     "end_time": "2024-07-12T07:30:58.315275Z",
     "start_time": "2024-07-12T07:30:58.285783Z"
    }
   },
   "outputs": [],
   "source": [
    "import json as jsonmod\n",
    "import numpy as np\n",
    "import random\n",
    "import time\n",
    "import pickle\n",
    "from tqdm import tqdm\n",
    "import pandas as pd"
   ]
  },
  {
   "cell_type": "markdown",
   "metadata": {
    "id": "nMZLCWiL_qHR"
   },
   "source": [
    "dataset -> [ ... (imgid, [5 textos] )...]"
   ]
  },
  {
   "cell_type": "code",
   "execution_count": 47,
   "metadata": {
    "ExecuteTime": {
     "end_time": "2024-07-14T05:47:19.723085Z",
     "start_time": "2024-07-14T05:47:19.717103Z"
    }
   },
   "outputs": [
    {
     "name": "stdout",
     "output_type": "stream",
     "text": [
      "31 3\n"
     ]
    }
   ],
   "source": [
    "train_errors= [6188, 6348, 9369, 13475, 17862, 19678, 19938, 20339, 21050, 21204, 21411, 21731, 23560, 27405, 28359, 29971, 30386, 40425, 40560, 42465, 44088, 46072, 48325, 50466, 50719, 53736, 56448, 60110, 61449, 62136, 63143]\n",
    "\n",
    "test_errors=[4354, 5235, 6471]\n",
    "\n",
    "val_errors= [1015, 2451, 2899, 5055, 5819]\n",
    "\n",
    "print(len(train_errors), len(test_errors))"
   ]
  },
  {
   "cell_type": "code",
   "execution_count": 48,
   "metadata": {
    "ExecuteTime": {
     "end_time": "2024-07-14T05:47:22.229250Z",
     "start_time": "2024-07-14T05:47:21.905322Z"
    }
   },
   "outputs": [],
   "source": [
    "dataset= []\n",
    "df= pd.read_csv(\"ROCO/radiologytraindata.csv\")\n",
    "index=0\n",
    "for i in range(df.shape[0]):\n",
    "    if i not in train_errors:\n",
    "        dict_={\"split\": \"train\",\"imgid\": index, \"sentids\": [index] }\n",
    "        index+=1\n",
    "        dataset.append(dict_)\n",
    "df_v= pd.read_csv(\"ROCO/radiologyvaldata.csv\")\n",
    "c=1\n",
    "for i in range(df_v.shape[0]):\n",
    "    if i not in val_errors:\n",
    "        dict_={\"split\": \"val\",\"imgid\": c + index, \"sentids\": [c +index] }\n",
    "        c+=1\n",
    "        dataset.append(dict_)\n",
    "df_T= pd.read_csv(\"ROCO/radiologytestdata.csv\")\n",
    "c_=1\n",
    "for i in range(df_T.shape[0]):\n",
    "    if i not in test_errors:\n",
    "        dict_={\"split\": \"test\",\"imgid\": c_ + c + index, \"sentids\": [c_ +c+ index] }\n",
    "        c_+=1\n",
    "        dataset.append(dict_)"
   ]
  },
  {
   "cell_type": "code",
   "execution_count": 51,
   "metadata": {
    "ExecuteTime": {
     "end_time": "2024-07-14T05:48:49.248328Z",
     "start_time": "2024-07-14T05:48:49.229025Z"
    },
    "code_folding": [],
    "scrolled": false
   },
   "outputs": [
    {
     "ename": "IndentationError",
     "evalue": "expected an indented block after 'if' statement on line 28 (592475163.py, line 30)",
     "output_type": "error",
     "traceback": [
      "\u001b[1;36m  Cell \u001b[1;32mIn[51], line 30\u001b[1;36m\u001b[0m\n\u001b[1;33m    dataset_.append(dataset[i])\u001b[0m\n\u001b[1;37m    ^\u001b[0m\n\u001b[1;31mIndentationError\u001b[0m\u001b[1;31m:\u001b[0m expected an indented block after 'if' statement on line 28\n"
     ]
    }
   ],
   "source": [
    "all_val_indices_img,all_test_indices_img, all_val_indices_text,all_test_indices_text=[],[],[],[]\n",
    "all_train_indices_img,all_train_indices_text=[],[]\n",
    "for i in range(len(dataset)):\n",
    "  if dataset[i][\"split\"]==\"train\":\n",
    "    all_train_indices_img.append(dataset[i][\"imgid\"])\n",
    "    for t in dataset[i][\"sentids\"]:\n",
    "      all_train_indices_text.append(t)\n",
    "    \n",
    "  if dataset[i][\"split\"]==\"test\":\n",
    "    all_test_indices_img.append(dataset[i][\"imgid\"])\n",
    "    for t in dataset[i][\"sentids\"]:\n",
    "      all_test_indices_text.append(t)\n",
    "    \n",
    "  if dataset[i][\"split\"]==\"val\":\n",
    "    all_val_indices_img.append(dataset[i][\"imgid\"])\n",
    "    for t in dataset[i][\"sentids\"]:\n",
    "      all_val_indices_text.append(t)\n",
    "\n",
    "print(\"Train-Val-Test\")  \n",
    "print(len(all_train_indices_img), len(all_val_indices_img), len(all_test_indices_img))\n",
    "\n",
    "\n",
    "\n",
    "\n",
    "dataset_= []\n",
    "for i in range(len(dataset)):\n",
    "#solo test\n",
    "    if dataset[i][\"split\"]==\"test\":\n",
    "  #if dataset[i][\"split\"]!=\"test\":\n",
    "    dataset_.append(dataset[i])\n",
    "dataset= list(dataset_)\n",
    "\n",
    "train_indices=[]\n",
    "\n",
    "data_text=[] #querys train\n",
    "\n",
    " #dictionary ground truth retrieval img o text\n",
    "all_r_img, all_r_text= {},{} #train+val+test\n",
    "val_r_img, val_r_text, test_r_img, test_r_text= {},{},{},{} \n",
    "\n",
    "for i in range(len(dataset)):\n",
    "  if dataset[i][\"split\"]==\"train\":\n",
    "    train_indices.append(dataset[i][\"imgid\"])\n",
    "    for t in dataset[i][\"sentids\"]:\n",
    "      data_text.append(t)\n",
    "      all_r_text[dataset[i][\"imgid\"]]= dataset[i][\"sentids\"]\n",
    "      all_r_img[t]= dataset[i][\"imgid\"]\n",
    "\n",
    "\n",
    "  if dataset[i][\"split\"]==\"val\":\n",
    "\n",
    "    for t in dataset[i][\"sentids\"]:\n",
    "      val_r_text[dataset[i][\"imgid\"]]= dataset[i][\"sentids\"]\n",
    "      val_r_img[t]= dataset[i][\"imgid\"]\n",
    "\n",
    "      all_r_text[dataset[i][\"imgid\"]]= dataset[i][\"sentids\"]\n",
    "      all_r_img[t]= dataset[i][\"imgid\"]\n",
    "\n",
    "  if dataset[i][\"split\"]==\"test\":\n",
    "\n",
    "    for t in dataset[i][\"sentids\"]:\n",
    "      test_r_text[dataset[i][\"imgid\"]]= dataset[i][\"sentids\"]\n",
    "      test_r_img[t]= dataset[i][\"imgid\"]\n",
    "\n",
    "      all_r_text[dataset[i][\"imgid\"]]= dataset[i][\"sentids\"]\n",
    "      all_r_img[t]= dataset[i][\"imgid\"]\n",
    "\n",
    "\n",
    "print(\"Train-Val-Test\")\n",
    "print(\"img: \", len(train_indices),len(val_r_text.keys()), len(test_r_text.keys()))\n",
    "print(\"text: \",len(data_text), len(val_r_img.keys()), len(test_r_img.keys()))\n",
    "print(\"-\"*20)\n",
    "# captions order for modeling e.g: [id 999] ->[position 0] with .index\n",
    "universe_text= data_text+ list(val_r_img.keys())+list(test_r_img.keys()) \n",
    "#img order for modeling\n",
    "universe_img= train_indices+list(val_r_text.keys())+ list(test_r_text.keys())\n",
    "print(\"All Img-Text\")\n",
    "print(len(universe_img),len(universe_text))\n",
    "\n"
   ]
  },
  {
   "cell_type": "code",
   "execution_count": 50,
   "metadata": {
    "ExecuteTime": {
     "end_time": "2024-07-14T05:48:06.096463Z",
     "start_time": "2024-07-14T05:48:05.589695Z"
    }
   },
   "outputs": [
    {
     "name": "stdout",
     "output_type": "stream",
     "text": [
      "(65400, 512)\n",
      "(50, 512)\n",
      "(65419, 512)\n",
      "(8100, 512)\n",
      "(80, 512)\n",
      "(8175, 512)\n",
      "(8100, 512)\n",
      "(79, 512)\n",
      "(8176, 512)\n",
      "(65419, 512)\n",
      "(8175, 512)\n",
      "(8176, 512)\n",
      "(81770, 512) (81770, 512)\n"
     ]
    }
   ],
   "source": [
    "import sklearn.preprocessing\n",
    "\n",
    "textual_matrix_train= np.load(\"ROCO/ALL_R_CLIP_text.npy\")\n",
    "print(textual_matrix_train.shape)\n",
    "textual_matrix_train_last= np.load(\"ROCO/last_R_CLIP_text_.npy\")[-50:,:]\n",
    "print(textual_matrix_train_last.shape)\n",
    "textual_matrix_train= np.concatenate((textual_matrix_train,textual_matrix_train_last), axis=0)\n",
    "textual_matrix_train = np.delete(textual_matrix_train, train_errors, axis=0)\n",
    "print(textual_matrix_train.shape)\n",
    "\n",
    "textual_matrix_val= np.load(\"ROCO/validation_ALL_R_CLIP_text.npy\")\n",
    "print(textual_matrix_val.shape)\n",
    "textual_matrix_val_last= np.load(\"ROCO/last_validation_R_CLIP_text_.npy\")\n",
    "print(textual_matrix_val_last.shape)\n",
    "textual_matrix_val= np.concatenate((textual_matrix_val,textual_matrix_val_last), axis=0)\n",
    "textual_matrix_val = np.delete(textual_matrix_val, val_errors, axis=0)\n",
    "print(textual_matrix_val.shape)\n",
    "\n",
    "textual_matrix_test= np.load(\"ROCO/TEST_ALL_R_CLIP_text.npy\")\n",
    "print(textual_matrix_test.shape)\n",
    "textual_matrix_test_last= np.load(\"ROCO/last_T_R_CLIP_text_.npy\")\n",
    "print(textual_matrix_test_last.shape)\n",
    "textual_matrix_test= np.concatenate((textual_matrix_test,textual_matrix_test_last), axis=0)\n",
    "textual_matrix_test = np.delete(textual_matrix_test, test_errors, axis=0)\n",
    "print(textual_matrix_test.shape)\n",
    "\n",
    "\n",
    "textual_matrix= np.concatenate((textual_matrix_train,textual_matrix_val,textual_matrix_test), axis=0)\n",
    "\n",
    "\n",
    "v_matrix_train= np.load(\"ROCO/ALL_R_CLIP_imgs.npy\")\n",
    "\n",
    "print(v_matrix_train.shape)\n",
    "\n",
    "v_matrix_val= np.load(\"ROCO/validation_ALL_R_CLIP_imgs.npy\")\n",
    "\n",
    "print(v_matrix_val.shape)\n",
    "\n",
    "v_matrix_test= np.load(\"ROCO/TEST_ALL_R_CLIP_imgs.npy\")\n",
    "\n",
    "print(v_matrix_test.shape)\n",
    "\n",
    "\n",
    "visual_matrix= np.concatenate((v_matrix_train,v_matrix_val,v_matrix_test), axis=0)\n",
    "\n",
    "#visual_matrix=sklearn.preprocessing.normalize(visual_matrix[universe_img,:], norm='l2', axis=0) #visual_matrix[universe_img,:]/np.max(visual_matrix)\n",
    "#textual_matrix=textual_matrix[universe_text,:]#/np.max(textual_matrix)\n",
    "print(textual_matrix.shape, visual_matrix.shape)\n",
    "\n",
    "\n"
   ]
  },
  {
   "cell_type": "code",
   "execution_count": 79,
   "metadata": {
    "ExecuteTime": {
     "end_time": "2024-07-14T13:34:16.185691Z",
     "start_time": "2024-07-14T13:34:16.154660Z"
    }
   },
   "outputs": [],
   "source": [
    "import concurrent.futures\n",
    "from collections import defaultdict\n",
    "from scipy.sparse import csr_matrix\n",
    "import sklearn\n",
    "from sklearn.metrics.pairwise import cosine_similarity\n",
    "import sklearn.preprocessing\n",
    "import gc\n",
    "\n",
    "def get_batch_data(data, index, size):\n",
    "    \"\"\"\n",
    "    For minibatch training\n",
    "    \"\"\"\n",
    "  \n",
    "    column_1 = []\n",
    "    column_2 = []\n",
    "    for i in range(index, index + size):\n",
    "        line = data[i]\n",
    "        column_1.append(int(line[0]))#text\n",
    "        column_2.append(int(line[1]))#img\n",
    "    return np.array(column_1), np.array(column_2)\n",
    "\n",
    "\n",
    "_model = None\n",
    "_universe_query= None\n",
    "_retrieval= None\n",
    "evaluation_Q_= None\n",
    "_universe_value= None\n",
    "_list_rank= None\n",
    "_at_k= None\n",
    "evaluation_V_=None\n",
    "def evaluate_model(model, nDCG, split, retrieval): #i2i\n",
    "    \"\"\"\n",
    "    evaluate model\n",
    "    \"\"\"\n",
    "    global _model\n",
    "    global _universe_query\n",
    "    global _universe_value\n",
    "    global _retrieval\n",
    "    global evaluation_Q_\n",
    "    global _list_rank\n",
    "    global _at_k\n",
    "    global evaluation_V_\n",
    "\n",
    "    _list_rank= []\n",
    "    _retrieval=retrieval\n",
    "    _model = model\n",
    "    test_users = []\n",
    "    results=[]\n",
    "    output= []\n",
    "    _at_k=10\n",
    "\n",
    "    #-----------------------------------------------------------\n",
    "    if _retrieval==\"t2i\":\n",
    "      _universe_query= universe_text\n",
    "      _universe_value= universe_img\n",
    "      if split==\"val\":\n",
    "        evaluation_Q_= val_r_img\n",
    "        evaluation_V_= list(val_r_text.keys())\n",
    "      if split==\"test\": #test\n",
    "        evaluation_Q_= test_r_img\n",
    "        evaluation_V_= list(test_r_text.keys())\n",
    "      #output.append(t2i( _model,split))\n",
    "\n",
    "    else:  #i2t\n",
    "      _universe_query= universe_img\n",
    "      _universe_value= universe_text\n",
    "      if split==\"val\":\n",
    "        evaluation_Q_= val_r_text\n",
    "        evaluation_V_= list(val_r_img.keys())\n",
    "      else: #test\n",
    "        evaluation_Q_= test_r_text\n",
    "        evaluation_V_= list(test_r_img.keys())\n",
    "      #output.append(i2t( _model,split))\n",
    "    \n",
    "\n",
    "    evaluation_Q_num = len(evaluation_Q_.keys())\n",
    "    #print(\"evaluation_Q_num \",evaluation_Q_num, \"_universe_query \",len(_universe_query), \"evaluation_V_ \", len(evaluation_V_) )\n",
    "\n",
    "    result_acumulate= np.array([0.] * 3) # 3 metrics\n",
    "    for q in evaluation_Q_.keys():\n",
    "        result_acumulate+=eval_one_user(q,split) \n",
    "\n",
    "    ret = result_acumulate / evaluation_Q_num #avg \n",
    "    ret = list(ret)\n",
    "\n",
    "    results.append(ret)\n",
    "    output.append(results)\n",
    "\n",
    "    if nDCG: \n",
    "            ndcg_i2i= t2i( _model, split ,aux_mod=True)\n",
    "            print(ndcg_i2i)\n",
    "            ndcg_t2t=  t2t( _model,split) \n",
    "            print(ndcg_t2t)\n",
    "            ndcg_i2t=i2t( _model,split)\n",
    "            print(ndcg_i2t)\n",
    "            ndcg_t2i= t2i( _model, split)\n",
    "            print(ndcg_t2i)\n",
    "            output.append((ndcg_i2t,ndcg_t2i, ndcg_i2i,ndcg_t2t))\n",
    "\n",
    "    return output\n",
    "\n",
    "\n",
    "\n",
    "def eval_one_user(query,split):\n",
    "    \"\"\"\n",
    "    each evaluation\n",
    "    \"\"\"\n",
    "\n",
    "    rating = _model.predict(_universe_query.index(query), _retrieval,split)\n",
    "    #gc.collect()\n",
    "    if _retrieval==\"t2i\":\n",
    "      ground_truth = [ evaluation_Q_[query] ] #one img\n",
    "    else: #i2t\n",
    "      ground_truth =  evaluation_Q_[query] #list\n",
    "      #print(query)\n",
    "\n",
    "    rank_=np.argsort(-rating)\n",
    "    rank= [evaluation_V_[i]  for i in rank_[:_at_k]]\n",
    "\n",
    "    result = []\n",
    "    result.append(recall_at_k(rank, ground_truth, 1))\n",
    "    result.append(recall_at_k(rank, ground_truth, 5))\n",
    "    result.append(recall_at_k(rank, ground_truth, 10))\n",
    "\n",
    "\n",
    "    return np.array(result)\n",
    "\n",
    "\n",
    "\n",
    "def recall_at_k(rank, ground_truth, k):\n",
    "    \"\"\"\n",
    "    Recall\n",
    "    \"\"\"\n",
    "    #return 100 * len(set(rank[:k]) & set(ground_truth)) / len(ground_truth)\n",
    "    if len(set(rank[:k]) & set(ground_truth))>=1:\n",
    "        return 100\n",
    "    else:\n",
    "        return 0\n",
    "\n"
   ]
  },
  {
   "cell_type": "code",
   "execution_count": 80,
   "metadata": {
    "ExecuteTime": {
     "end_time": "2024-07-14T13:34:17.785036Z",
     "start_time": "2024-07-14T13:34:17.732005Z"
    }
   },
   "outputs": [],
   "source": [
    "\n",
    "    def calculate_diversity(_list_rank, len_q):\n",
    "        \"\"\" \n",
    "        max_= len(_universe_value)    \n",
    "        coverage= set()\n",
    "        label_binarizer = sklearn.preprocessing.LabelBinarizer()\n",
    "        label_binarizer.fit(range(max_))\n",
    "        list_=[]\n",
    "        dict_count={}\n",
    "        for rank in _list_rank: # each RANKING\n",
    "            coverage= coverage | set(rank)\n",
    "            list_.append( np.sum(label_binarizer.transform(rank),axis=0) )\n",
    "            for i in rank:\n",
    "                if i not in dict_count:\n",
    "                    dict_count[i]=1\n",
    "                else:\n",
    "                    dict_count[i]+=1\n",
    "        recs_content=csr_matrix(np.array(list_) )\n",
    "        #calculate similarity scores for all items in list\n",
    "        similarity = cosine_similarity(X=recs_content, dense_output=False)\n",
    "        #get indicies for upper right triangle w/o diagonal\n",
    "        upper_right = np.triu_indices(similarity.shape[0], k=1)\n",
    "        diversity_cos = np.mean(similarity[upper_right])\n",
    "\n",
    "        \"\"\"\n",
    "        _at_k=25\n",
    "        dict_count={}\n",
    "        print(\"novedad: \", _at_k, len_q )\n",
    "        for rank in _list_rank: # each RANKING\n",
    "            #coverage= coverage | set(rank)\n",
    "            #list_.append( np.sum(label_binarizer.transform(rank),axis=0) )\n",
    "            for i in rank:\n",
    "                if i not in dict_count:\n",
    "                    dict_count[i]=1\n",
    "                else:\n",
    "                    dict_count[i]+=1\n",
    "        #novelty-diver\n",
    "        nov=0\n",
    "        for rank in _list_rank: # each RANKING\n",
    "            self_information=0\n",
    "            for i in rank:\n",
    "                self_information += np.sum( -np.log2(dict_count[i]/len_q) )\n",
    "            nov+=self_information/_at_k #top\n",
    "            #\n",
    "\n",
    "        return (0., 0., nov/len_q) #(diversity_cos, len(coverage)/max_, nov/len(evaluation_Q_))\n",
    "\n",
    "    # (C) Mathieu Blondel, November 2013\n",
    "    # License: BSD 3 clause\n",
    "    #Original https://github.com/mesnico/TERAN/blob/master/evaluate_utils/dcg.py\n",
    "\n",
    "    import numpy as np\n",
    "    import os\n",
    "\n",
    "    class DCG:\n",
    "        def __init__(self, rank=25, relevance_methods=['rougeL'], split=\"val\"): # config, n_queries, split\n",
    "            self.rank = rank\n",
    "            self.relevance_methods = [\"RougeL\",\"PubMedBert\"]\n",
    "            RougeL= np.load(\"ROCO/similarity_matrix/rouge_matrix.npy\")\n",
    "            PubMedBert= np.load(\"ROCO/similarity_matrix/PubMedBERT_cosine.npy\")\n",
    "            self.npts=8176 \n",
    "            self.relevances = [RougeL,PubMedBert]\n",
    "            # una fila se lleva a una matriz de n_queries filas y lo que quede de columnas (en orden)\n",
    "        def compute_ndcg(self, query_id, sorted_indexes, fold_index=0, retrieval='t2i'):\n",
    "            \"\"\"\n",
    "            sorted_indexe: all sorted indices\n",
    "            query_id: image retrieval \\in [0,5000], sentence retrieval \\in [0,1000]\n",
    "            # npts: images.shape[0] // 5\n",
    "            fold_index= for 5fold cross-validation, only for MSCOCO\n",
    "            \"\"\"\n",
    "            sorted_indexes = sorted_indexes[:self.rank] #TOP@K\n",
    "            if retrieval == 't2i':\n",
    "                query_base = self.npts * fold_index #0\n",
    "                #caption query pertenece a  [0,5000] valores de relevancia en vector [0,1000] imagenes\n",
    "                # (5000,1000)\n",
    "                relevances = [r[query_base + query_id, fold_index * self.npts : (fold_index + 1) * self.npts] for r in self.relevances]\n",
    "            elif retrieval == 'i2t':\n",
    "                query_base = self.npts * fold_index #0\n",
    "                #  valores de relevancia en vector [0,5000] captions, image query pertenece a  [0,1000] \n",
    "                relevances = [r[fold_index * self.npts  : (fold_index + 1) * self.npts , query_base + query_id] for r in self.relevances]\n",
    "            ndcg_scores = [ ndcg_from_ranking(r, sorted_indexes)  for r in relevances]\n",
    "            out = {k: v for k, v in zip(self.relevance_methods, ndcg_scores)}\n",
    "            return out\n",
    "\n",
    "\n",
    "    def ndcg_from_ranking(y_true, ranking):\n",
    "\n",
    "        # El orden del muestreo es irrelevante en ndcg_from_ranking o dcg_score:\n",
    "        # [0.5, 0.3, 0.2], [2, 1, 0] == [0.2, 0.3, 0.5], [0, 1, 2]\n",
    "        # lo que importan es el mach (relevancia,posición del ranking)\n",
    "\n",
    "        \"\"\"Normalized discounted cumulative gain (NDCG) at rank k\n",
    "        Parameters\n",
    "        ----------\n",
    "        y_true : array-like, shape = [n_samples]\n",
    "            Ground truth (true relevance labels).\n",
    "        ranking : array-like, shape = [k]\n",
    "            Document indices, i.e.,\n",
    "                ranking[0] is the index of top-ranked document,\n",
    "                ranking[1] is the index of second-ranked document,\n",
    "                ...\n",
    "        k : int\n",
    "            Rank.\n",
    "        Returns\n",
    "        -------\n",
    "        NDCG @k : float\n",
    "        \"\"\"\n",
    "        k = len(ranking)\n",
    "        best_ranking = np.argsort(y_true)[::-1]#indices de mayor a menor valores\n",
    "        best = dcg_from_ranking(y_true, best_ranking[:k]) #el mejor posible \n",
    "        if best == 0:\n",
    "            return 0\n",
    "        return dcg_from_ranking(y_true, ranking) / best\n",
    "\n",
    "    def dcg_from_ranking(y_true, ranking):\n",
    "        #Por ejemplo en el caso binario:\n",
    "        #dcg_from_ranking([1, 0, 0], [2, 1, 0])=0.5= 0+0+1/log_2(4)\n",
    "        #dcg_from_ranking([1, 0, 0], [0, 1, 2])=1.0= 1/log_2(2)+0+0\n",
    "        #Además, corta solo para el top@K\n",
    "        \"\"\"Discounted cumulative gain (DCG) at rank k\n",
    "        Parameters\n",
    "        ----------\n",
    "        y_true : array-like, shape = [n_samples]\n",
    "            Ground truth (true relevance labels). #comunmente binario\n",
    "        ranking : array-like, shape = [k]\n",
    "            Document indices, i.e.,\n",
    "                ranking[0] is the index of top-ranked document,\n",
    "                ranking[1] is the index of second-ranked document,\n",
    "                ...\n",
    "        k : int\n",
    "            Rank.\n",
    "        Returns\n",
    "        -------\n",
    "        DCG @k : float\n",
    "        \"\"\"\n",
    "        y_true = np.asarray(y_true)\n",
    "        ranking = np.asarray(ranking)\n",
    "        #ordena y toma el subconjunto de los valores de y_true con respecto al ranking asociado\n",
    "        rel = y_true[ranking] #normalmente esta es binaria\n",
    "        gains = 2 ** rel - 1 #en el caso continuo, [0,1] y no {0,1}\n",
    "        discounts = np.log2(np.arange(len(ranking)) + 2)\n",
    "        return np.sum(gains / discounts)#div pointwise\n",
    "\n",
    "\n",
    "    #Original https://github.com/mesnico/TERAN/blob/master/evaluation.py\n",
    "\n",
    "\n",
    "    #n_queries= 5000 #img son 1000 files son 5000000==5000*1000\n",
    "\n",
    "\n",
    "    def i2t( model, split, n_ndcg=True, d_n=True, top=25):\n",
    "        \"\"\"\n",
    "        TEXT RETRIEVAL\n",
    "\n",
    "        model: Dado un img query el modelo debe dar el ranking asociado (largo 5000, de 0 a 4999) en orden de aparición!!!\n",
    "        splt: \"val\" or \"test\"\n",
    "        n_ndcg: novelty ndcg\n",
    "        d_n: other list metrics diversity and novelty of lists\n",
    "        \"\"\"\n",
    "        output=[]\n",
    "\n",
    "        if split==\"val\":\n",
    "          eval_indices= list(val_r_text.keys()) #img\n",
    "          all_indices= all_val_indices_img #original order  \n",
    "          eval_values= list(val_r_img.keys()) #text\n",
    "          all_values= all_val_indices_text #original order\n",
    "        else:#test\n",
    "          eval_indices= list(test_r_text.keys()) #img\n",
    "          all_indices= all_test_indices_img #original order \n",
    "          eval_values= list(test_r_img.keys())#text\n",
    "          all_values= all_test_indices_text #original order\n",
    "\n",
    "\n",
    "\n",
    "        ndcg_scorer = DCG(rank=top, relevance_methods=['rougeL', 'spice'], split=split)\n",
    "        rougel_ndcgs = np.zeros(ndcg_scorer.npts)\n",
    "        spice_ndcgs = np.zeros(ndcg_scorer.npts)\n",
    "        div_rankings=[]\n",
    "\n",
    "        nov_rankings= []\n",
    "\n",
    "\n",
    "        for index in range(len(eval_indices)): #range(npts): #each QUERY\n",
    "            rating= model.predict( universe_img.index(eval_indices[index]) , \"i2t\", split)      \n",
    "            if d_n:\n",
    "                rank_=np.argsort(-rating)\n",
    "                div_rankings.append( rank_[:top] )\n",
    "            # positions in order wrt rating (only for evaluation)    \n",
    "            indices_= np.argsort( -np.array( rating) ) \n",
    "            # get original position (in order by the model)\n",
    "            inds= [all_values.index(eval_values[i]) for i in indices_] #order of values = eval_values\n",
    "            rougel_ndcgs[index], spice_ndcgs[index] = ndcg_scorer.compute_ndcg(all_indices.index(eval_indices[index]), inds,retrieval='i2t').values()\n",
    "\n",
    "            if n_ndcg:\n",
    "                nov_rankings.append(inds)\n",
    "\n",
    "\n",
    "        mean_rougel_ndcg = np.mean(rougel_ndcgs[rougel_ndcgs != 0])\n",
    "        mean_spice_ndcg = np.mean(spice_ndcgs[spice_ndcgs != 0])\n",
    "        output.append( (mean_rougel_ndcg, mean_spice_ndcg) )\n",
    "\n",
    "        if n_ndcg:\n",
    "            eval_indices_all=[all_indices.index(i) for i in eval_indices]\n",
    "            rankings={k: v for k, v in zip(eval_indices_all,nov_rankings)}\n",
    "\n",
    "            myAlpha = AlphaNDCG(rankings= rankings, retrieval= \"i2t\",ndcg_scorer=ndcg_scorer, method=\"rougeL\")\n",
    "            novedad_rougeL=myAlpha.calculate()\n",
    "\n",
    "            myAlpha = AlphaNDCG(rankings= rankings, retrieval= \"i2t\",ndcg_scorer=ndcg_scorer, method=\"spice\")\n",
    "            novedad_spice=myAlpha.calculate()\n",
    "\n",
    "            output.append((novedad_rougeL,novedad_spice))\n",
    "        if d_n:\n",
    "            cos_div,coverage,nov= calculate_diversity(div_rankings, len(eval_indices))\n",
    "            output.append((coverage,cos_div,nov))\n",
    "\n",
    "        return output\n",
    "\n",
    "\n",
    "    def t2i( model,split,n_ndcg=True, d_n=True, aux_mod=False,top=25):\n",
    "        #aux_mod for i2i\n",
    "        output=[]\n",
    "        if split==\"val\":\n",
    "          eval_indices= list(val_r_img.keys()) #text\n",
    "          all_indices= all_val_indices_text \n",
    "          eval_values= len(val_r_text.keys()) #img\n",
    "          all_values= all_val_indices_img \n",
    "        else:\n",
    "          eval_indices= list(test_r_img.keys())\n",
    "          all_indices= all_test_indices_text  \n",
    "          eval_values= list(test_r_text.keys())\n",
    "          all_values= all_test_indices_img \n",
    "\n",
    "\n",
    "        ndcg_scorer = DCG( rank=top, relevance_methods=['rougeL', 'spice'],split=split)\n",
    "        rougel_ndcgs = np.zeros(ndcg_scorer.npts)\n",
    "        spice_ndcgs = np.zeros(ndcg_scorer.npts)\n",
    "\n",
    "        nov_rankings= []\n",
    "        div_rankings=[]\n",
    "\n",
    "\n",
    "        for index in range( len(eval_indices) ): \n",
    "\n",
    "            if aux_mod==False: #t2i\n",
    "                rating= model.predict( universe_text.index(eval_indices[index ]), \"t2i\", split)\n",
    "                #i2i\n",
    "            else:#t->i-> retrieval: each t have a diferent rel wrt each grup of images.\n",
    "                rating= model.predict( universe_img.index(eval_values[index]) , \"i2i\",split)\n",
    "\n",
    "            if d_n:\n",
    "                rank_=np.argsort(-rating)\n",
    "                div_rankings.append( rank_[:top] )\n",
    "\n",
    "            indices_= np.argsort( -np.array(rating) ) \n",
    "            inds= [all_values.index(eval_values[j]) for j in indices_] \n",
    "            rougel_ndcgs[ index ], spice_ndcgs[ index ] = ndcg_scorer.compute_ndcg(all_indices.index(eval_indices[ index ]), inds, retrieval='t2i').values()\n",
    "            if n_ndcg:\n",
    "                nov_rankings.append(inds)\n",
    "\n",
    "\n",
    "\n",
    "        mean_rougel_ndcg = np.mean(rougel_ndcgs[rougel_ndcgs != 0])\n",
    "        mean_spice_ndcg = np.mean(spice_ndcgs[spice_ndcgs != 0])\n",
    "        output.append((mean_rougel_ndcg, mean_spice_ndcg))\n",
    "\n",
    "        if n_ndcg:\n",
    "            eval_indices_all=[all_indices.index(i) for i in eval_indices]\n",
    "            rankings={k: v for k, v in zip( eval_indices_all, nov_rankings)}\n",
    "            myAlpha = AlphaNDCG(rankings= rankings, retrieval= \"t2i\",ndcg_scorer=ndcg_scorer, method=\"rougeL\")\n",
    "            novedad_rougeL=myAlpha.calculate()\n",
    "            myAlpha = AlphaNDCG(rankings= rankings, retrieval= \"t2i\",ndcg_scorer=ndcg_scorer, method=\"spice\")\n",
    "            novedad_spice=myAlpha.calculate()\n",
    "            output.append((novedad_rougeL,novedad_spice))\n",
    "\n",
    "        if d_n:\n",
    "            cos_div,coverage,nov= calculate_diversity(div_rankings, len(eval_indices))\n",
    "            output.append((coverage,cos_div,nov))  \n",
    "        return output\n",
    "\n",
    "\n",
    "    def t2t( model, split,n_ndcg=True, d_n=True,top=25):\n",
    "\n",
    "        output=[]\n",
    "\n",
    "        if split==\"val\":\n",
    "          #eval_indices= list(val_r_text.keys()) #img\n",
    "          all_indices= all_val_indices_img #img \n",
    "          all= all_val_indices_text \n",
    "          eval_dic= val_r_img\n",
    "        else:\n",
    "          #eval_indices= list(test_r_text.keys()) #img\n",
    "          all_indices= all_test_indices_img #img \n",
    "          all= all_test_indices_text\n",
    "          eval_dic= test_r_img\n",
    "\n",
    "        eval_values= list(eval_dic.keys()) # texts\n",
    "\n",
    "\n",
    "        ndcg_scorer = DCG( rank=top, relevance_methods=['rougeL', 'spice'], split=split)\n",
    "        rougel_ndcgs = np.zeros(ndcg_scorer.npts)\n",
    "        spice_ndcgs = np.zeros(ndcg_scorer.npts)\n",
    "        querys=[]\n",
    "\n",
    "        nov_rankings= []\n",
    "        div_rankings=[]\n",
    "        for index in range( len(eval_values)): \n",
    "            rating= model.predict( universe_text.index(eval_values[index]) , \"t2t\",split)\n",
    "            if d_n:\n",
    "                rank_=np.argsort(-rating)\n",
    "                div_rankings.append( rank_[:top] )\n",
    "\n",
    "\n",
    "            indices_= np.argsort( -np.array(rating) ) \n",
    "            inds= [all.index(eval_values[i]) for i in indices_] \n",
    "            #t->i->index\n",
    "            img_query_from_text=all_indices.index(eval_dic[eval_values[index]]) \n",
    "            querys.append(img_query_from_text)\n",
    "            rougel_ndcgs[index], spice_ndcgs[index] = ndcg_scorer.compute_ndcg( img_query_from_text, inds,retrieval='i2t').values()\n",
    "            if n_ndcg:\n",
    "                nov_rankings.append(inds)\n",
    "\n",
    "\n",
    "        mean_rougel_ndcg = np.mean(rougel_ndcgs[rougel_ndcgs != 0])\n",
    "        mean_spice_ndcg = np.mean(spice_ndcgs[spice_ndcgs != 0])\n",
    "        output.append((mean_rougel_ndcg, mean_spice_ndcg))\n",
    "\n",
    "        if n_ndcg:\n",
    "            rankings={k: v for k, v in zip(querys,nov_rankings)}\n",
    "            myAlpha = AlphaNDCG(rankings= rankings, retrieval= \"i2t\",ndcg_scorer=ndcg_scorer, method=\"rougeL\")\n",
    "            novedad_rougeL=myAlpha.calculate()\n",
    "            myAlpha = AlphaNDCG(rankings= rankings, retrieval= \"i2t\",ndcg_scorer=ndcg_scorer, method=\"spice\")\n",
    "            novedad_spice=myAlpha.calculate()\n",
    "            output.append((novedad_rougeL,novedad_spice))\n",
    "\n",
    "        if d_n:\n",
    "            cos_div,coverage,nov= calculate_diversity(div_rankings, len(eval_values))\n",
    "            output.append((coverage,cos_div,nov)) \n",
    "        return output\n",
    "    \n",
    "    class AlphaNDCG(object):\n",
    "     def __init__(self, alpha=0.5, top=25,rankings=None,  retrieval= \"i2t\",ndcg_scorer=None, method= None):\n",
    "      self.alpha = alpha\n",
    "      self.fold_index=0\n",
    "      self.retrieval= retrieval\n",
    "      self.all_rankings= rankings\n",
    "      self.ndcg_scorer= ndcg_scorer\n",
    "      self.mode= ['rougeL', 'spice'].index(method)\n",
    "      self.top= top\n",
    "      self.npts= self.ndcg_scorer.npts\n",
    "\n",
    "\n",
    "     def relevance(self, query_id):\n",
    "\n",
    "\n",
    "        if self.retrieval == 't2i':\n",
    "                    query_base = self.npts  * self.fold_index #0\n",
    "                    relevances = [r[query_base + query_id, self.fold_index * self.npts : (self.fold_index + 1) * self.npts] for r in self.ndcg_scorer.relevances]\n",
    "        if self.retrieval == 'i2t':\n",
    "                    query_base = self.npts * self.fold_index #0\n",
    "                    relevances = [r[self.fold_index * self.npts  : (self.fold_index + 1) * self.npts , query_base + query_id] for r in self.ndcg_scorer.relevances]\n",
    "\n",
    "        return relevances[self.mode]\n",
    "\n",
    "\n",
    "     def top_querys(self, query_id,querys_a_ordenar):   \n",
    "\n",
    "        if self.retrieval == 't2i':\n",
    "            value_retrieval= \"i2t\" #value=img pasa a ser query para retrieval de text\n",
    "        if self.retrieval == 'i2t':\n",
    "            value_retrieval= \"t2i\"\n",
    "\n",
    "        if value_retrieval == 't2i': #retrieval img quer\n",
    "                    query_base = self.npts  * self.fold_index #0\n",
    "                    relevances = [r[query_base + query_id, self.fold_index * self.npts : (self.fold_index + 1) * self.npts] for r in self.ndcg_scorer.relevances]\n",
    "        if value_retrieval == 'i2t':\n",
    "                    query_base = self.npts * self.fold_index #0\n",
    "                    relevances = [r[self.fold_index * self.npts  : (self.fold_index + 1) * self.npts , query_base + query_id] for r in self.ndcg_scorer.relevances]\n",
    "\n",
    "\n",
    "        return sorted(querys_a_ordenar, key=lambda x: list(relevances[self.mode])[x], reverse= True)[:self.top] \n",
    "\n",
    "\n",
    "\n",
    "     def ideal_value(self):\n",
    "       # normalizarion with top most relevant per query \n",
    "      ndcg=0\n",
    "      for query in self.all_rankings: # each ranking\n",
    "       ranking= np.argsort(-self.relevance(query))[:self.top] #top by relevance\n",
    "       metric=0\n",
    "       i=1\n",
    "\n",
    "       for value in ranking: #each value\n",
    "            if i==1: #first \n",
    "                sum_numerator=self.relevance(query)[value]\n",
    "                rel_ac= self.relevance(query)[value]\n",
    "            else:\n",
    "                sum_numerator+=self.relevance(query)[value]  * ( (1 - self.alpha)**rel_ac )\n",
    "                rel_ac+= self.relevance(query)[value]\n",
    "\n",
    "            metric+= sum_numerator/np.log2(i+1)\n",
    "            i+=1\n",
    "\n",
    "       ndcg+=metric\n",
    "\n",
    "      return ndcg/ len(self.all_rankings) #mean\n",
    "\n",
    "\n",
    "\n",
    "     def calculate(self):\n",
    "      ndcg=0\n",
    "      normalization= self.ideal_value()\n",
    "\n",
    "      for query in self.all_rankings: # each ranking\n",
    "        ranking= self.all_rankings[query][:self.top]\n",
    "        metric=0\n",
    "        i=1\n",
    "        for value in ranking: #each value\n",
    "         if i==1:\n",
    "            sum_numerator=self.relevance(query)[value]\n",
    "            rel_ac= self.relevance(query)[value]\n",
    "         else:\n",
    "            sum_numerator+=self.relevance(query)[value]  * ( (1 - self.alpha)**rel_ac )\n",
    "            rel_ac+= self.relevance(query)[value]\n",
    "\n",
    "         metric+= sum_numerator/np.log2(i+1)\n",
    "         i+=1\n",
    "\n",
    "        ndcg+=metric/ normalization\n",
    "\n",
    "      return ndcg/ len(self.all_rankings) #mean\n",
    "\n",
    " "
   ]
  },
  {
   "cell_type": "code",
   "execution_count": 95,
   "metadata": {
    "ExecuteTime": {
     "end_time": "2024-07-16T07:08:00.112720Z",
     "start_time": "2024-07-16T07:08:00.055196Z"
    },
    "code_folding": []
   },
   "outputs": [],
   "source": [
    "path= \"ROCO\"\n",
    "class Net(object):\n",
    "        def __init__(self, visual_matrix, textual_matrix,factor, margen,mode , reg,pretrain=False):\n",
    "            self.factor= factor\n",
    "            self.reg= reg\n",
    "            self.batch_size =  64 #VSE+\n",
    "            self.epochs = 30 \n",
    "            self.optimizer = tf.keras.optimizers.Adam(learning_rate=0.0002)\n",
    "            self.estimator=\"Linear\"\n",
    "            self.DIS_MODEL_FILE= path+\"/\"+self.estimator+\"/\"+mode+\"/\"+str(margen)+\"_\"+str(factor)+\"_\"+str(self.batch_size)+\"_\"+str(self.reg)\n",
    "            print(self.DIS_MODEL_FILE)\n",
    "            self.mode= mode\n",
    "            self.alpha=margen\n",
    "            self.phase= \"train\"\n",
    "            \n",
    "                \n",
    "            if self.estimator==\"Linear\":\n",
    "\n",
    "                layer_name = 'Visual_Enconder'\n",
    "    \n",
    "                v_input = tf.keras.Input(shape=(visual_matrix.shape[1],))\n",
    "\n",
    "                v_output = tf.keras.layers.Dense(units=self.factor, use_bias=False )(v_input)\n",
    "                v_output= tf.keras.layers.UnitNormalization()(v_output) #tf.math.l2_normalize(v_output)  #\n",
    "\n",
    "                self.visual_encoder = tf.keras.Model(inputs=[v_input], outputs=v_output)\n",
    "\n",
    "\n",
    "                layer_name = 'Textual_Enconder'\n",
    "                t_input = tf.keras.Input(shape=(textual_matrix.shape[1],))\n",
    "                t_output = tf.keras.layers.Dense(units=self.factor,use_bias=False )(t_input)\n",
    "                t_output= tf.keras.layers.UnitNormalization()(t_output) #tf.math.l2_normalize(t_output)  #\n",
    "\n",
    "                self.text_encoder= tf.keras.Model(inputs=[t_input], outputs=t_output)\n",
    "\n",
    "\n",
    "            if pretrain: \n",
    "\n",
    "                self.visual_encoder= tf.keras.models.load_model(self.DIS_MODEL_FILE+'visual_encoder_tf')\n",
    "                self.text_encoder= tf.keras.models.load_model(self.DIS_MODEL_FILE+'text_encoder_tf')\n",
    "                print(\"pre train\")\n",
    "            \n",
    "            \n",
    "            i_input = tf.keras.Input(shape=(visual_matrix.shape[1],), name=\"i\")\n",
    "            i_n_input = tf.keras.Input(shape=(visual_matrix.shape[1],), name=\"i_n\")\n",
    "            c_input = tf.keras.Input(shape=(textual_matrix.shape[1],), name=\"c\")\n",
    "            c_n_input = tf.keras.Input(shape=(textual_matrix.shape[1],), name=\"c_n\")\n",
    "\n",
    "             \n",
    "            i_emb = self.visual_encoder(i_input) \n",
    "            i_n_emb = self.visual_encoder(i_n_input)\n",
    "            c_emb = self.text_encoder(c_input)\n",
    "            c_n_emb = self.text_encoder(c_n_input)\n",
    "            \n",
    "            \n",
    "            \n",
    "            i_c= tf.keras.layers.Dot(axes=1)([i_emb, c_emb]) #self.similarity([i_emb,c_emb])\n",
    "            i_c_n= tf.keras.layers.Dot(axes=1)([i_emb, c_n_emb]) #self.similarity([i_emb,c_n_emb])\n",
    "            i_n_c= tf.keras.layers.Dot(axes=1)([i_n_emb, c_emb]) #self.similarity([i_n_emb,c_emb])\n",
    "            \n",
    "            \n",
    "            \n",
    "            i_n_i= tf.keras.layers.Dot(axes=1)([i_n_emb, i_emb]) #self.similarity([i_n_emb,i_emb])\n",
    "            c_n_c=tf.keras.layers.Dot(axes=1)([c_n_emb, c_emb]) #self.similarity([c_n_emb,c_emb])\n",
    "            i_n_c_n= tf.keras.layers.Dot(axes=1)([i_n_emb, c_n_emb]) #self.similarity([i_n_emb,c_n_emb])\n",
    "            \n",
    "            sim= ( i_c,i_c_n,i_n_c, i_n_i, c_n_c,i_n_c_n)\n",
    "            \n",
    "            \n",
    "\n",
    "\n",
    "            self.model =  tf.keras.Model(inputs=[i_input, i_n_input, c_input,c_n_input], outputs=sim)\n",
    "            \n",
    "\n",
    "            self.visual_encoder.compile(optimizer=self.optimizer)\n",
    "            self.text_encoder.compile(optimizer=self.optimizer)\n",
    "            self.model.compile(optimizer=self.optimizer)\n",
    "\n",
    "        \n",
    "\n",
    "        def loss(self,input_img, img_negative, input_text,text_negative,mask_s_p):\n",
    "\n",
    "          i_input = tf.nn.embedding_lookup(visual_matrix, input_img) #[_,1280]\n",
    "          i_n_input = tf.nn.embedding_lookup(visual_matrix, img_negative) #[_,1280]\n",
    "          c_input = tf.nn.embedding_lookup(textual_matrix, input_text) #[_,1280]\n",
    "          c_n_input = tf.nn.embedding_lookup(textual_matrix, text_negative) #[_,1280]\n",
    "          (i_c,i_c_n,i_n_c,i_n_i ,c_n_c,i_n_c_n) = self.model([i_input, i_n_input, c_input,c_n_input])\n",
    "          \n",
    "          elements=np.array([[0,0],[0,0]])\n",
    "          errors=np.array([[0,0],[0,0]])\n",
    "          if self.phase==\"test\": \n",
    "              elements= (i_c, i_n_c, i_c_n, i_n_i , c_n_c, i_n_c_n)   \n",
    "              e_1=np.array((elements[0]>elements[3]+self.alpha)).sum() #i_c>i_i_n\n",
    "              e_2=np.array((elements[0]>elements[4]+self.alpha)).sum() #i_c>c_c_n\n",
    "              e_3=np.array((elements[0]>elements[5]+self.alpha)).sum() #i_c>i_n_c_n\n",
    "              errors= (e_1,e_2,e_3)\n",
    "            \n",
    "          if self.mode==\"F_HN\": #full hard negative  \n",
    "              i2t_t2i_loss= tf.reduce_mean(tf.maximum(self.alpha - i_c+i_c_n, 0) )+ tf.reduce_mean(tf.maximum(self.alpha - i_c+i_n_c, 0) )\n",
    "              v_c_loss=tf.reduce_mean(tf.maximum(self.alpha- i_c+i_n_i, 0) )\n",
    "              t_c_loss= tf.reduce_mean(tf.maximum(self.alpha - i_c+c_n_c, 0) )\n",
    "              s_p_loss= tf.reduce_mean(tf.multiply(mask_s_p,tf.maximum(self.alpha - i_c+i_n_c_n, 0)))\n",
    "\n",
    "              losses= i2t_t2i_loss + self.reg*(v_c_loss + t_c_loss+ s_p_loss)\n",
    "                \n",
    "          if self.mode==\"HN\" or self.mode==\"random\": # hard negative\n",
    "              i2t_t2i_loss= tf.reduce_mean(tf.maximum(self.alpha - i_c+i_c_n, 0) )+ tf.reduce_mean(tf.maximum(self.alpha - i_c+i_n_c, 0) )\n",
    "              losses= i2t_t2i_loss \n",
    "              \n",
    "            \n",
    "          if self.mode==\"M_HN\": # margen hard negative\n",
    "              i2t_t2i_loss= tf.reduce_mean(tf.maximum(i_n_i - i_c+i_c_n, 0) )+ tf.reduce_mean(tf.maximum(c_n_c - i_c+i_n_c, 0) )\n",
    "              #i2t_t2i_loss= tf.reduce_mean(tf.maximum(c_n_c - i_c+i_c_n, 0) )+ tf.reduce_mean(tf.maximum(i_n_i - i_c+i_n_c, 0) )\n",
    "\n",
    "              losses= i2t_t2i_loss \n",
    "          \n",
    "          return losses,elements,errors\n",
    "        \n",
    "\n",
    "        def predict(self,query, retrieval,split):\n",
    "            if type(query) is not list:\n",
    "                query= [query]\n",
    "            if retrieval==\"t2i\":\n",
    "                c_input = self.text_encoder(tf.nn.embedding_lookup(textual_matrix, query))\n",
    "                if split==\"val\":\n",
    "                    i_eval= self.visual_encoder(visual_matrix[ self.val_indices_])\n",
    "                if split==\"test\":\n",
    "                    i_eval= self.visual_encoder(visual_matrix[self.test_indices_])\n",
    "                if split==\"train\":\n",
    "                    i_eval=self.visual_encoder(visual_matrix[self.train_indices_]) \n",
    "                \n",
    "                rating= tf.matmul(i_eval, tf.transpose(c_input))\n",
    "            \n",
    "            if retrieval==\"i2t\": \n",
    "                i_input = self.visual_encoder(tf.nn.embedding_lookup(visual_matrix, query))\n",
    "                if split==\"val\":\n",
    "                    c_eval= self.text_encoder(textual_matrix[self.data_text_Val])\n",
    "                if split==\"test\":\n",
    "                    c_eval= self.text_encoder(textual_matrix[self.data_text_Test])\n",
    "                if split==\"train\":\n",
    "                    c_eval=self.text_encoder(textual_matrix[self.data_text_])                \n",
    "        \n",
    "                rating= tf.matmul(i_input, tf.transpose(c_eval) )\n",
    "\n",
    "            if retrieval==\"i2i\":\n",
    "                if split==\"test\":\n",
    "                    i_query = self.visual_encoder(tf.nn.embedding_lookup(visual_matrix, query))\n",
    "                    i_eval=  self.visual_encoder(visual_matrix[self.test_indices_]) \n",
    "                    rating= tf.matmul(i_query, tf.transpose(i_eval) )\n",
    "            if retrieval==\"t2t\":\n",
    "                if split==\"test\":\n",
    "                    c_query = self.text_encoder(tf.nn.embedding_lookup(textual_matrix, query))\n",
    "                    c_eval= self.text_encoder(textual_matrix[self.data_text_Test])\n",
    "                    rating= tf.matmul(c_eval , tf.transpose(c_query)  )\n",
    "\n",
    "            return np.reshape(rating, [-1])        \n",
    "                \n",
    "\n",
    "        def save(self, model_time, loss_c,recalls,epoch, best_recall ):\n",
    "          with open(self.DIS_MODEL_FILE+'train.txt', 'w') as f:\n",
    "            f.write(\"training time of model: %fs\" % (model_time) + \"\\n\")\n",
    "            f.write(\"finish epoch %s\" % epoch + \"with recall %s\" % best_recall  + \"\\n\")\n",
    "          np.save(self.DIS_MODEL_FILE+\"Loss_recalls.npy\", np.array([loss_c,recalls],dtype=object))\n",
    "          \n",
    "          self.visual_encoder.save(self.DIS_MODEL_FILE+'visual_encoder_tf',save_format='tf')\n",
    "          self.text_encoder.save(self.DIS_MODEL_FILE+'text_encoder_tf',save_format='tf')\n",
    "\n",
    "\n",
    "        def training(self):\n",
    "           \n",
    "            \n",
    "            data = []\n",
    "            self.data_text_=[]\n",
    "\n",
    "            self.val_indices_=  [ universe_img.index(i) for i in val_r_text.keys() ]\n",
    "            self.train_indices_= [universe_img.index(i) for i in train_indices]\n",
    "            self.data_text_Val=  [ universe_text.index(i) for i in val_r_img.keys() ]\n",
    "\n",
    "            for i in self.train_indices_:\n",
    "                for t in all_r_text[ train_indices[self.train_indices_.index(i)] ]:\n",
    "                    data.append([ universe_text.index(t), i ]) # [texto, img]\n",
    "                    self.data_text_.append(universe_text.index(t))\n",
    "    \n",
    "\n",
    "            recalls=[]\n",
    "            loss_c=[]\n",
    "            best_recall= 0\n",
    "            start_time = time.time() \n",
    "\n",
    "            train_size = len(data)\n",
    "            c_images= len(self.train_indices_)\n",
    "            \n",
    "                \n",
    "\n",
    "            for epoch in range(self.epochs):\n",
    "                \n",
    "        \n",
    "                if epoch>=15:\n",
    "                    self.optimizer.learning_rate.assign(0.00002)\n",
    "                    \n",
    "                print(\"epoch: %d\" % epoch)\n",
    "                np.random.shuffle(data)\n",
    "                index = 0\n",
    "                loss_c_=[]\n",
    "                loss_elements=[]\n",
    "                loss_errores=[]\n",
    "                \n",
    "\n",
    "                while index + self.batch_size < train_size:\n",
    "                    #print((index + self.batch_size)/train_size)\n",
    "                    input_text, input_img = get_batch_data(data, index,self.batch_size)  \n",
    "                    index += self.batch_size\n",
    "                    mask_s_p= [0]*self.batch_size\n",
    "                    \n",
    "                    \n",
    "                    if self.mode==\"random\": #train quitando - minibatch (positivos)\n",
    "                      text_negative= np.random.choice( list( set( self.data_text_ )- set(input_text) ) , self.batch_size, replace=False)\n",
    "                      img_negative= np.random.choice(list( set(self.train_indices_) - set(input_img) ), self.batch_size, replace=False)\n",
    "                    \n",
    "                    else: \n",
    "                        img_negative,text_negative=[],[] #negatives\n",
    "                        \n",
    "                        rating= np.array( self.predict( list(input_text) ,\"t2i\", \"train\"), dtype=float)\n",
    "                        gc.collect() \n",
    "                        rating_text= np.array(self.predict( list(input_img) ,\"i2t\", \"train\"), dtype=float)\n",
    "                        gc.collect()\n",
    "                        \n",
    "                        for i_ in range(self.batch_size):\n",
    "                            ratings_batch= rating[c_images*i_:c_images*(i_+1)] # t2i query minibatch\n",
    "                            ratings_text_batch= rating_text[c_images*i_:c_images*(i_+1)]  # i2t query minibatch\n",
    "                    \n",
    "                            ratings_batch[train_indices.index(universe_img[input_img[i_]])]= - np.infty\n",
    "                            five_text= all_r_text[all_r_img[ universe_text[input_text[i_]]] ]\n",
    "                            ratings_text_batch[ [ data_text.index(j) for j in five_text ] ]= - np.infty\n",
    "\n",
    "                            img_negative.append(self.train_indices_[np.argmax(ratings_batch)])\n",
    "                            text_negative.append(self.data_text_[np.argmax(ratings_text_batch)])\n",
    "                                             #sp condition\n",
    "                            if  self.mode==\"F_HN\" and all_r_img[ universe_text[text_negative[-1] ]]  == universe_img[img_negative[-1]] :\n",
    "                                mask_s_p[i_]=1\n",
    "                            del ratings_batch\n",
    "                            del ratings_text_batch\n",
    "                    \n",
    "                    with tf.GradientTape() as tape:\n",
    "                            losses, elements, errors= self.loss(input_img, img_negative, input_text,text_negative, mask_s_p)\n",
    "                            loss_elements.append( [np.mean(i,axis=0) for i in elements ] )\n",
    "                            loss_errores.append(errors)\n",
    "                            \n",
    "                    grads = tape.gradient(losses, self.model.trainable_variables)\n",
    "                    self.optimizer.apply_gradients(zip(grads, self.model.trainable_variables))\n",
    "                    \n",
    "                    \n",
    "                #print(time.time() - start_time)\n",
    "\n",
    "                \n",
    "                loss_c.append(( losses.numpy(), np.mean(loss_elements,axis=0),  np.sum(loss_errores,axis=0)))\n",
    "\n",
    "                if  epoch%5 ==0 or epoch==29:\n",
    "                    print(\"validation\")\n",
    "                    r_t2i= evaluate_model(self,nDCG=False, split=\"val\", retrieval=\"t2i\")[0][0]\n",
    "                    r_i2t= evaluate_model(self,nDCG=False, split=\"val\", retrieval=\"i2t\")[0][0]\n",
    "\n",
    "                    r_sum=np.sum(r_t2i)  +  np.sum(r_i2t) \n",
    "\n",
    "\n",
    "                    print( \"Recall t2i-i2t: \", list(r_t2i)+list(r_i2t))\n",
    "                    recalls.append((r_t2i,r_i2t, r_sum))\n",
    "\n",
    "                    if r_sum-np.sum(best_recall)>0.1:\n",
    "                        best_recall=list(r_t2i)+list(r_i2t)\n",
    "                        wait_for = 0\n",
    "                        self.save( start_time , loss_c,recalls,epoch,best_recall)\n",
    "\n",
    "                    else:\n",
    "                        wait_for += 1\n",
    "                        if wait_for == 3 +1:\n",
    "                          print(\"break train\")\n",
    "                          break\n",
    "        def inference(self):\n",
    "            self.test_indices_= [universe_img.index(i) for i in test_r_text.keys()]\n",
    "            self.data_text_Test= [universe_text.index(i) for i in test_r_img.keys()]\n",
    "\n",
    "            print(\"inference\")\n",
    "            results= evaluate_model(self, nDCG=False, split=\"test\", retrieval=\"i2t\")\n",
    "            print(results)\n",
    "            results_2= evaluate_model(self, nDCG=True, split=\"test\", retrieval=\"t2i\")\n",
    "            np.save(self.DIS_MODEL_FILE+\"test_metrics.npy\", np.array([results,results_2], dtype=object) )\n",
    "            print(results_2)"
   ]
  },
  {
   "cell_type": "markdown",
   "metadata": {},
   "source": [
    "F_HN con *10 de lr  0.0002, 0.002 batch size 512\n",
    "\n",
    "/0.3_1024_256 con /10 lr 0.00002, 0.0002 "
   ]
  },
  {
   "cell_type": "code",
   "execution_count": 96,
   "metadata": {
    "ExecuteTime": {
     "end_time": "2024-07-17T00:04:27.831341Z",
     "start_time": "2024-07-16T07:08:03.064438Z"
    },
    "scrolled": false
   },
   "outputs": [
    {
     "name": "stdout",
     "output_type": "stream",
     "text": [
      "ROCO/Linear/F_HN/0.3_1024_64_1\n",
      "epoch: 0\n",
      "validation\n"
     ]
    },
    {
     "name": "stderr",
     "output_type": "stream",
     "text": [
      "WARNING:absl:Found untraced functions such as _update_step_xla while saving (showing 1 of 1). These functions will not be directly callable after loading.\n"
     ]
    },
    {
     "name": "stdout",
     "output_type": "stream",
     "text": [
      "Recall t2i-i2t:  [3.840978593272171, 12.892966360856269, 20.34250764525994, 3.0091743119266057, 10.324159021406729, 16.73394495412844]\n",
      "INFO:tensorflow:Assets written to: ROCO/Linear/F_HN/0.3_1024_64_1visual_encoder_tf\\assets\n"
     ]
    },
    {
     "name": "stderr",
     "output_type": "stream",
     "text": [
      "INFO:tensorflow:Assets written to: ROCO/Linear/F_HN/0.3_1024_64_1visual_encoder_tf\\assets\n",
      "WARNING:absl:Found untraced functions such as _update_step_xla while saving (showing 1 of 1). These functions will not be directly callable after loading.\n"
     ]
    },
    {
     "name": "stdout",
     "output_type": "stream",
     "text": [
      "INFO:tensorflow:Assets written to: ROCO/Linear/F_HN/0.3_1024_64_1text_encoder_tf\\assets\n"
     ]
    },
    {
     "name": "stderr",
     "output_type": "stream",
     "text": [
      "INFO:tensorflow:Assets written to: ROCO/Linear/F_HN/0.3_1024_64_1text_encoder_tf\\assets\n"
     ]
    },
    {
     "name": "stdout",
     "output_type": "stream",
     "text": [
      "epoch: 1\n",
      "epoch: 2\n",
      "epoch: 3\n",
      "epoch: 4\n",
      "epoch: 5\n",
      "validation\n"
     ]
    },
    {
     "name": "stderr",
     "output_type": "stream",
     "text": [
      "WARNING:absl:Found untraced functions such as _update_step_xla while saving (showing 1 of 1). These functions will not be directly callable after loading.\n"
     ]
    },
    {
     "name": "stdout",
     "output_type": "stream",
     "text": [
      "Recall t2i-i2t:  [5.149847094801223, 15.97553516819572, 23.779816513761467, 3.510703363914373, 11.64525993883792, 18.39755351681957]\n",
      "INFO:tensorflow:Assets written to: ROCO/Linear/F_HN/0.3_1024_64_1visual_encoder_tf\\assets\n"
     ]
    },
    {
     "name": "stderr",
     "output_type": "stream",
     "text": [
      "INFO:tensorflow:Assets written to: ROCO/Linear/F_HN/0.3_1024_64_1visual_encoder_tf\\assets\n",
      "WARNING:absl:Found untraced functions such as _update_step_xla while saving (showing 1 of 1). These functions will not be directly callable after loading.\n"
     ]
    },
    {
     "name": "stdout",
     "output_type": "stream",
     "text": [
      "INFO:tensorflow:Assets written to: ROCO/Linear/F_HN/0.3_1024_64_1text_encoder_tf\\assets\n"
     ]
    },
    {
     "name": "stderr",
     "output_type": "stream",
     "text": [
      "INFO:tensorflow:Assets written to: ROCO/Linear/F_HN/0.3_1024_64_1text_encoder_tf\\assets\n"
     ]
    },
    {
     "name": "stdout",
     "output_type": "stream",
     "text": [
      "epoch: 6\n",
      "epoch: 7\n",
      "epoch: 8\n",
      "epoch: 9\n",
      "epoch: 10\n",
      "validation\n"
     ]
    },
    {
     "name": "stderr",
     "output_type": "stream",
     "text": [
      "WARNING:absl:Found untraced functions such as _update_step_xla while saving (showing 1 of 1). These functions will not be directly callable after loading.\n"
     ]
    },
    {
     "name": "stdout",
     "output_type": "stream",
     "text": [
      "Recall t2i-i2t:  [5.516819571865444, 16.415902140672785, 24.868501529051986, 3.5596330275229358, 11.889908256880734, 19.2782874617737]\n",
      "INFO:tensorflow:Assets written to: ROCO/Linear/F_HN/0.3_1024_64_1visual_encoder_tf\\assets\n"
     ]
    },
    {
     "name": "stderr",
     "output_type": "stream",
     "text": [
      "INFO:tensorflow:Assets written to: ROCO/Linear/F_HN/0.3_1024_64_1visual_encoder_tf\\assets\n",
      "WARNING:absl:Found untraced functions such as _update_step_xla while saving (showing 1 of 1). These functions will not be directly callable after loading.\n"
     ]
    },
    {
     "name": "stdout",
     "output_type": "stream",
     "text": [
      "INFO:tensorflow:Assets written to: ROCO/Linear/F_HN/0.3_1024_64_1text_encoder_tf\\assets\n"
     ]
    },
    {
     "name": "stderr",
     "output_type": "stream",
     "text": [
      "INFO:tensorflow:Assets written to: ROCO/Linear/F_HN/0.3_1024_64_1text_encoder_tf\\assets\n"
     ]
    },
    {
     "name": "stdout",
     "output_type": "stream",
     "text": [
      "epoch: 11\n",
      "epoch: 12\n",
      "epoch: 13\n",
      "epoch: 14\n",
      "epoch: 15\n",
      "validation\n"
     ]
    },
    {
     "name": "stderr",
     "output_type": "stream",
     "text": [
      "WARNING:absl:Found untraced functions such as _update_step_xla while saving (showing 1 of 1). These functions will not be directly callable after loading.\n"
     ]
    },
    {
     "name": "stdout",
     "output_type": "stream",
     "text": [
      "Recall t2i-i2t:  [5.651376146788991, 16.844036697247706, 24.795107033639145, 3.7308868501529053, 12.305810397553516, 19.327217125382262]\n",
      "INFO:tensorflow:Assets written to: ROCO/Linear/F_HN/0.3_1024_64_1visual_encoder_tf\\assets\n"
     ]
    },
    {
     "name": "stderr",
     "output_type": "stream",
     "text": [
      "INFO:tensorflow:Assets written to: ROCO/Linear/F_HN/0.3_1024_64_1visual_encoder_tf\\assets\n",
      "WARNING:absl:Found untraced functions such as _update_step_xla while saving (showing 1 of 1). These functions will not be directly callable after loading.\n"
     ]
    },
    {
     "name": "stdout",
     "output_type": "stream",
     "text": [
      "INFO:tensorflow:Assets written to: ROCO/Linear/F_HN/0.3_1024_64_1text_encoder_tf\\assets\n"
     ]
    },
    {
     "name": "stderr",
     "output_type": "stream",
     "text": [
      "INFO:tensorflow:Assets written to: ROCO/Linear/F_HN/0.3_1024_64_1text_encoder_tf\\assets\n"
     ]
    },
    {
     "name": "stdout",
     "output_type": "stream",
     "text": [
      "epoch: 16\n",
      "epoch: 17\n",
      "epoch: 18\n",
      "epoch: 19\n",
      "epoch: 20\n",
      "validation\n"
     ]
    },
    {
     "name": "stderr",
     "output_type": "stream",
     "text": [
      "WARNING:absl:Found untraced functions such as _update_step_xla while saving (showing 1 of 1). These functions will not be directly callable after loading.\n"
     ]
    },
    {
     "name": "stdout",
     "output_type": "stream",
     "text": [
      "Recall t2i-i2t:  [5.712538226299694, 16.954128440366972, 25.027522935779817, 3.63302752293578, 12.232415902140673, 19.204892966360855]\n",
      "INFO:tensorflow:Assets written to: ROCO/Linear/F_HN/0.3_1024_64_1visual_encoder_tf\\assets\n"
     ]
    },
    {
     "name": "stderr",
     "output_type": "stream",
     "text": [
      "INFO:tensorflow:Assets written to: ROCO/Linear/F_HN/0.3_1024_64_1visual_encoder_tf\\assets\n",
      "WARNING:absl:Found untraced functions such as _update_step_xla while saving (showing 1 of 1). These functions will not be directly callable after loading.\n"
     ]
    },
    {
     "name": "stdout",
     "output_type": "stream",
     "text": [
      "INFO:tensorflow:Assets written to: ROCO/Linear/F_HN/0.3_1024_64_1text_encoder_tf\\assets\n"
     ]
    },
    {
     "name": "stderr",
     "output_type": "stream",
     "text": [
      "INFO:tensorflow:Assets written to: ROCO/Linear/F_HN/0.3_1024_64_1text_encoder_tf\\assets\n"
     ]
    },
    {
     "name": "stdout",
     "output_type": "stream",
     "text": [
      "epoch: 21\n",
      "epoch: 22\n",
      "epoch: 23\n",
      "epoch: 24\n",
      "epoch: 25\n",
      "validation\n"
     ]
    },
    {
     "name": "stderr",
     "output_type": "stream",
     "text": [
      "WARNING:absl:Found untraced functions such as _update_step_xla while saving (showing 1 of 1). These functions will not be directly callable after loading.\n"
     ]
    },
    {
     "name": "stdout",
     "output_type": "stream",
     "text": [
      "Recall t2i-i2t:  [5.834862385321101, 17.10091743119266, 25.1131498470948, 3.6452599388379205, 12.207951070336392, 19.25382262996942]\n",
      "INFO:tensorflow:Assets written to: ROCO/Linear/F_HN/0.3_1024_64_1visual_encoder_tf\\assets\n"
     ]
    },
    {
     "name": "stderr",
     "output_type": "stream",
     "text": [
      "INFO:tensorflow:Assets written to: ROCO/Linear/F_HN/0.3_1024_64_1visual_encoder_tf\\assets\n",
      "WARNING:absl:Found untraced functions such as _update_step_xla while saving (showing 1 of 1). These functions will not be directly callable after loading.\n"
     ]
    },
    {
     "name": "stdout",
     "output_type": "stream",
     "text": [
      "INFO:tensorflow:Assets written to: ROCO/Linear/F_HN/0.3_1024_64_1text_encoder_tf\\assets\n"
     ]
    },
    {
     "name": "stderr",
     "output_type": "stream",
     "text": [
      "INFO:tensorflow:Assets written to: ROCO/Linear/F_HN/0.3_1024_64_1text_encoder_tf\\assets\n"
     ]
    },
    {
     "name": "stdout",
     "output_type": "stream",
     "text": [
      "epoch: 26\n",
      "epoch: 27\n",
      "epoch: 28\n",
      "epoch: 29\n",
      "validation\n",
      "Recall t2i-i2t:  [5.859327217125382, 16.978593272171253, 25.027522935779817, 3.694189602446483, 12.318042813455657, 19.2782874617737]\n"
     ]
    }
   ],
   "source": [
    "net =  Net(visual_matrix,textual_matrix,1024,0.3,\"F_HN\", 1) \n",
    "net.training()"
   ]
  },
  {
   "cell_type": "code",
   "execution_count": 94,
   "metadata": {
    "ExecuteTime": {
     "end_time": "2024-07-16T01:04:54.827339Z",
     "start_time": "2024-07-15T08:25:59.736357Z"
    },
    "scrolled": true
   },
   "outputs": [
    {
     "name": "stdout",
     "output_type": "stream",
     "text": [
      "ROCO/Linear/F_HN/0.3_1024_512_0.0001\n",
      "epoch: 0\n",
      "validation\n"
     ]
    },
    {
     "name": "stderr",
     "output_type": "stream",
     "text": [
      "WARNING:absl:Found untraced functions such as _update_step_xla while saving (showing 1 of 1). These functions will not be directly callable after loading.\n"
     ]
    },
    {
     "name": "stdout",
     "output_type": "stream",
     "text": [
      "Recall t2i-i2t:  [2.1529051987767582, 7.131498470948012, 12.452599388379205, 2.6299694189602447, 9.284403669724771, 15.327217125382264]\n",
      "INFO:tensorflow:Assets written to: ROCO/Linear/F_HN/0.3_1024_512_0.0001visual_encoder_tf\\assets\n"
     ]
    },
    {
     "name": "stderr",
     "output_type": "stream",
     "text": [
      "INFO:tensorflow:Assets written to: ROCO/Linear/F_HN/0.3_1024_512_0.0001visual_encoder_tf\\assets\n",
      "WARNING:absl:Found untraced functions such as _update_step_xla while saving (showing 1 of 1). These functions will not be directly callable after loading.\n"
     ]
    },
    {
     "name": "stdout",
     "output_type": "stream",
     "text": [
      "INFO:tensorflow:Assets written to: ROCO/Linear/F_HN/0.3_1024_512_0.0001text_encoder_tf\\assets\n"
     ]
    },
    {
     "name": "stderr",
     "output_type": "stream",
     "text": [
      "INFO:tensorflow:Assets written to: ROCO/Linear/F_HN/0.3_1024_512_0.0001text_encoder_tf\\assets\n"
     ]
    },
    {
     "name": "stdout",
     "output_type": "stream",
     "text": [
      "epoch: 1\n",
      "epoch: 2\n",
      "epoch: 3\n",
      "epoch: 4\n",
      "epoch: 5\n",
      "validation\n"
     ]
    },
    {
     "name": "stderr",
     "output_type": "stream",
     "text": [
      "WARNING:absl:Found untraced functions such as _update_step_xla while saving (showing 1 of 1). These functions will not be directly callable after loading.\n"
     ]
    },
    {
     "name": "stdout",
     "output_type": "stream",
     "text": [
      "Recall t2i-i2t:  [2.7522935779816513, 9.076452599388379, 14.593272171253822, 3.5718654434250765, 11.98776758409786, 18.92354740061162]\n",
      "INFO:tensorflow:Assets written to: ROCO/Linear/F_HN/0.3_1024_512_0.0001visual_encoder_tf\\assets\n"
     ]
    },
    {
     "name": "stderr",
     "output_type": "stream",
     "text": [
      "INFO:tensorflow:Assets written to: ROCO/Linear/F_HN/0.3_1024_512_0.0001visual_encoder_tf\\assets\n",
      "WARNING:absl:Found untraced functions such as _update_step_xla while saving (showing 1 of 1). These functions will not be directly callable after loading.\n"
     ]
    },
    {
     "name": "stdout",
     "output_type": "stream",
     "text": [
      "INFO:tensorflow:Assets written to: ROCO/Linear/F_HN/0.3_1024_512_0.0001text_encoder_tf\\assets\n"
     ]
    },
    {
     "name": "stderr",
     "output_type": "stream",
     "text": [
      "INFO:tensorflow:Assets written to: ROCO/Linear/F_HN/0.3_1024_512_0.0001text_encoder_tf\\assets\n"
     ]
    },
    {
     "name": "stdout",
     "output_type": "stream",
     "text": [
      "epoch: 6\n",
      "epoch: 7\n",
      "epoch: 8\n",
      "epoch: 9\n",
      "epoch: 10\n",
      "validation\n"
     ]
    },
    {
     "name": "stderr",
     "output_type": "stream",
     "text": [
      "WARNING:absl:Found untraced functions such as _update_step_xla while saving (showing 1 of 1). These functions will not be directly callable after loading.\n"
     ]
    },
    {
     "name": "stdout",
     "output_type": "stream",
     "text": [
      "Recall t2i-i2t:  [3.363914373088685, 10.299694189602446, 16.085626911314986, 4.036697247706422, 13.296636085626911, 20.171253822629968]\n",
      "INFO:tensorflow:Assets written to: ROCO/Linear/F_HN/0.3_1024_512_0.0001visual_encoder_tf\\assets\n"
     ]
    },
    {
     "name": "stderr",
     "output_type": "stream",
     "text": [
      "INFO:tensorflow:Assets written to: ROCO/Linear/F_HN/0.3_1024_512_0.0001visual_encoder_tf\\assets\n",
      "WARNING:absl:Found untraced functions such as _update_step_xla while saving (showing 1 of 1). These functions will not be directly callable after loading.\n"
     ]
    },
    {
     "name": "stdout",
     "output_type": "stream",
     "text": [
      "INFO:tensorflow:Assets written to: ROCO/Linear/F_HN/0.3_1024_512_0.0001text_encoder_tf\\assets\n"
     ]
    },
    {
     "name": "stderr",
     "output_type": "stream",
     "text": [
      "INFO:tensorflow:Assets written to: ROCO/Linear/F_HN/0.3_1024_512_0.0001text_encoder_tf\\assets\n"
     ]
    },
    {
     "name": "stdout",
     "output_type": "stream",
     "text": [
      "epoch: 11\n",
      "epoch: 12\n",
      "epoch: 13\n",
      "epoch: 14\n",
      "epoch: 15\n",
      "validation\n"
     ]
    },
    {
     "name": "stderr",
     "output_type": "stream",
     "text": [
      "WARNING:absl:Found untraced functions such as _update_step_xla while saving (showing 1 of 1). These functions will not be directly callable after loading.\n"
     ]
    },
    {
     "name": "stdout",
     "output_type": "stream",
     "text": [
      "Recall t2i-i2t:  [3.522935779816514, 10.140672782874617, 16.232415902140673, 4.146788990825688, 13.431192660550458, 20.53822629969419]\n",
      "INFO:tensorflow:Assets written to: ROCO/Linear/F_HN/0.3_1024_512_0.0001visual_encoder_tf\\assets\n"
     ]
    },
    {
     "name": "stderr",
     "output_type": "stream",
     "text": [
      "INFO:tensorflow:Assets written to: ROCO/Linear/F_HN/0.3_1024_512_0.0001visual_encoder_tf\\assets\n",
      "WARNING:absl:Found untraced functions such as _update_step_xla while saving (showing 1 of 1). These functions will not be directly callable after loading.\n"
     ]
    },
    {
     "name": "stdout",
     "output_type": "stream",
     "text": [
      "INFO:tensorflow:Assets written to: ROCO/Linear/F_HN/0.3_1024_512_0.0001text_encoder_tf\\assets\n"
     ]
    },
    {
     "name": "stderr",
     "output_type": "stream",
     "text": [
      "INFO:tensorflow:Assets written to: ROCO/Linear/F_HN/0.3_1024_512_0.0001text_encoder_tf\\assets\n"
     ]
    },
    {
     "name": "stdout",
     "output_type": "stream",
     "text": [
      "epoch: 16\n",
      "epoch: 17\n",
      "epoch: 18\n",
      "epoch: 19\n",
      "epoch: 20\n",
      "validation\n"
     ]
    },
    {
     "name": "stderr",
     "output_type": "stream",
     "text": [
      "WARNING:absl:Found untraced functions such as _update_step_xla while saving (showing 1 of 1). These functions will not be directly callable after loading.\n"
     ]
    },
    {
     "name": "stdout",
     "output_type": "stream",
     "text": [
      "Recall t2i-i2t:  [3.474006116207951, 10.238532110091743, 16.513761467889907, 4.269113149847095, 13.480122324159021, 20.90519877675841]\n",
      "INFO:tensorflow:Assets written to: ROCO/Linear/F_HN/0.3_1024_512_0.0001visual_encoder_tf\\assets\n"
     ]
    },
    {
     "name": "stderr",
     "output_type": "stream",
     "text": [
      "INFO:tensorflow:Assets written to: ROCO/Linear/F_HN/0.3_1024_512_0.0001visual_encoder_tf\\assets\n",
      "WARNING:absl:Found untraced functions such as _update_step_xla while saving (showing 1 of 1). These functions will not be directly callable after loading.\n"
     ]
    },
    {
     "name": "stdout",
     "output_type": "stream",
     "text": [
      "INFO:tensorflow:Assets written to: ROCO/Linear/F_HN/0.3_1024_512_0.0001text_encoder_tf\\assets\n"
     ]
    },
    {
     "name": "stderr",
     "output_type": "stream",
     "text": [
      "INFO:tensorflow:Assets written to: ROCO/Linear/F_HN/0.3_1024_512_0.0001text_encoder_tf\\assets\n"
     ]
    },
    {
     "name": "stdout",
     "output_type": "stream",
     "text": [
      "epoch: 21\n",
      "epoch: 22\n",
      "epoch: 23\n",
      "epoch: 24\n",
      "epoch: 25\n",
      "validation\n",
      "Recall t2i-i2t:  [3.474006116207951, 10.140672782874617, 16.477064220183486, 4.293577981651376, 13.492354740061161, 20.795107033639145]\n",
      "epoch: 26\n",
      "epoch: 27\n",
      "epoch: 28\n",
      "epoch: 29\n",
      "validation\n"
     ]
    },
    {
     "name": "stderr",
     "output_type": "stream",
     "text": [
      "WARNING:absl:Found untraced functions such as _update_step_xla while saving (showing 1 of 1). These functions will not be directly callable after loading.\n"
     ]
    },
    {
     "name": "stdout",
     "output_type": "stream",
     "text": [
      "Recall t2i-i2t:  [3.4862385321100917, 10.287461773700306, 16.53822629969419, 4.3058103975535165, 13.45565749235474, 21.08868501529052]\n",
      "INFO:tensorflow:Assets written to: ROCO/Linear/F_HN/0.3_1024_512_0.0001visual_encoder_tf\\assets\n"
     ]
    },
    {
     "name": "stderr",
     "output_type": "stream",
     "text": [
      "INFO:tensorflow:Assets written to: ROCO/Linear/F_HN/0.3_1024_512_0.0001visual_encoder_tf\\assets\n",
      "WARNING:absl:Found untraced functions such as _update_step_xla while saving (showing 1 of 1). These functions will not be directly callable after loading.\n"
     ]
    },
    {
     "name": "stdout",
     "output_type": "stream",
     "text": [
      "INFO:tensorflow:Assets written to: ROCO/Linear/F_HN/0.3_1024_512_0.0001text_encoder_tf\\assets\n"
     ]
    },
    {
     "name": "stderr",
     "output_type": "stream",
     "text": [
      "INFO:tensorflow:Assets written to: ROCO/Linear/F_HN/0.3_1024_512_0.0001text_encoder_tf\\assets\n"
     ]
    },
    {
     "name": "stdout",
     "output_type": "stream",
     "text": [
      "ROCO/Linear/F_HN/0.3_1024_512_0.001\n",
      "epoch: 0\n",
      "validation\n"
     ]
    },
    {
     "name": "stderr",
     "output_type": "stream",
     "text": [
      "WARNING:absl:Found untraced functions such as _update_step_xla while saving (showing 1 of 1). These functions will not be directly callable after loading.\n"
     ]
    },
    {
     "name": "stdout",
     "output_type": "stream",
     "text": [
      "Recall t2i-i2t:  [1.9938837920489296, 7.131498470948012, 12.17125382262997, 2.434250764525994, 9.308868501529052, 15.62079510703364]\n",
      "INFO:tensorflow:Assets written to: ROCO/Linear/F_HN/0.3_1024_512_0.001visual_encoder_tf\\assets\n"
     ]
    },
    {
     "name": "stderr",
     "output_type": "stream",
     "text": [
      "INFO:tensorflow:Assets written to: ROCO/Linear/F_HN/0.3_1024_512_0.001visual_encoder_tf\\assets\n",
      "WARNING:absl:Found untraced functions such as _update_step_xla while saving (showing 1 of 1). These functions will not be directly callable after loading.\n"
     ]
    },
    {
     "name": "stdout",
     "output_type": "stream",
     "text": [
      "INFO:tensorflow:Assets written to: ROCO/Linear/F_HN/0.3_1024_512_0.001text_encoder_tf\\assets\n"
     ]
    },
    {
     "name": "stderr",
     "output_type": "stream",
     "text": [
      "INFO:tensorflow:Assets written to: ROCO/Linear/F_HN/0.3_1024_512_0.001text_encoder_tf\\assets\n"
     ]
    },
    {
     "name": "stdout",
     "output_type": "stream",
     "text": [
      "epoch: 1\n",
      "epoch: 2\n",
      "epoch: 3\n",
      "epoch: 4\n",
      "epoch: 5\n",
      "validation\n"
     ]
    },
    {
     "name": "stderr",
     "output_type": "stream",
     "text": [
      "WARNING:absl:Found untraced functions such as _update_step_xla while saving (showing 1 of 1). These functions will not be directly callable after loading.\n"
     ]
    },
    {
     "name": "stdout",
     "output_type": "stream",
     "text": [
      "Recall t2i-i2t:  [2.7889908256880735, 9.45565749235474, 15.082568807339449, 3.6574923547400613, 11.963302752293577, 19.155963302752294]\n",
      "INFO:tensorflow:Assets written to: ROCO/Linear/F_HN/0.3_1024_512_0.001visual_encoder_tf\\assets\n"
     ]
    },
    {
     "name": "stderr",
     "output_type": "stream",
     "text": [
      "INFO:tensorflow:Assets written to: ROCO/Linear/F_HN/0.3_1024_512_0.001visual_encoder_tf\\assets\n",
      "WARNING:absl:Found untraced functions such as _update_step_xla while saving (showing 1 of 1). These functions will not be directly callable after loading.\n"
     ]
    },
    {
     "name": "stdout",
     "output_type": "stream",
     "text": [
      "INFO:tensorflow:Assets written to: ROCO/Linear/F_HN/0.3_1024_512_0.001text_encoder_tf\\assets\n"
     ]
    },
    {
     "name": "stderr",
     "output_type": "stream",
     "text": [
      "INFO:tensorflow:Assets written to: ROCO/Linear/F_HN/0.3_1024_512_0.001text_encoder_tf\\assets\n"
     ]
    },
    {
     "name": "stdout",
     "output_type": "stream",
     "text": [
      "epoch: 6\n",
      "epoch: 7\n",
      "epoch: 8\n",
      "epoch: 9\n",
      "epoch: 10\n",
      "validation\n"
     ]
    },
    {
     "name": "stderr",
     "output_type": "stream",
     "text": [
      "WARNING:absl:Found untraced functions such as _update_step_xla while saving (showing 1 of 1). These functions will not be directly callable after loading.\n"
     ]
    },
    {
     "name": "stdout",
     "output_type": "stream",
     "text": [
      "Recall t2i-i2t:  [3.1192660550458715, 9.932721712538227, 16.232415902140673, 3.81651376146789, 12.513761467889909, 19.877675840978593]\n",
      "INFO:tensorflow:Assets written to: ROCO/Linear/F_HN/0.3_1024_512_0.001visual_encoder_tf\\assets\n"
     ]
    },
    {
     "name": "stderr",
     "output_type": "stream",
     "text": [
      "INFO:tensorflow:Assets written to: ROCO/Linear/F_HN/0.3_1024_512_0.001visual_encoder_tf\\assets\n",
      "WARNING:absl:Found untraced functions such as _update_step_xla while saving (showing 1 of 1). These functions will not be directly callable after loading.\n"
     ]
    },
    {
     "name": "stdout",
     "output_type": "stream",
     "text": [
      "INFO:tensorflow:Assets written to: ROCO/Linear/F_HN/0.3_1024_512_0.001text_encoder_tf\\assets\n"
     ]
    },
    {
     "name": "stderr",
     "output_type": "stream",
     "text": [
      "INFO:tensorflow:Assets written to: ROCO/Linear/F_HN/0.3_1024_512_0.001text_encoder_tf\\assets\n"
     ]
    },
    {
     "name": "stdout",
     "output_type": "stream",
     "text": [
      "epoch: 11\n",
      "epoch: 12\n",
      "epoch: 13\n",
      "epoch: 14\n",
      "epoch: 15\n",
      "validation\n"
     ]
    },
    {
     "name": "stderr",
     "output_type": "stream",
     "text": [
      "WARNING:absl:Found untraced functions such as _update_step_xla while saving (showing 1 of 1). These functions will not be directly callable after loading.\n"
     ]
    },
    {
     "name": "stdout",
     "output_type": "stream",
     "text": [
      "Recall t2i-i2t:  [3.09480122324159, 10.483180428134556, 16.34250764525994, 4.330275229357798, 13.308868501529052, 20.452599388379205]\n",
      "INFO:tensorflow:Assets written to: ROCO/Linear/F_HN/0.3_1024_512_0.001visual_encoder_tf\\assets\n"
     ]
    },
    {
     "name": "stderr",
     "output_type": "stream",
     "text": [
      "INFO:tensorflow:Assets written to: ROCO/Linear/F_HN/0.3_1024_512_0.001visual_encoder_tf\\assets\n",
      "WARNING:absl:Found untraced functions such as _update_step_xla while saving (showing 1 of 1). These functions will not be directly callable after loading.\n"
     ]
    },
    {
     "name": "stdout",
     "output_type": "stream",
     "text": [
      "INFO:tensorflow:Assets written to: ROCO/Linear/F_HN/0.3_1024_512_0.001text_encoder_tf\\assets\n"
     ]
    },
    {
     "name": "stderr",
     "output_type": "stream",
     "text": [
      "INFO:tensorflow:Assets written to: ROCO/Linear/F_HN/0.3_1024_512_0.001text_encoder_tf\\assets\n"
     ]
    },
    {
     "name": "stdout",
     "output_type": "stream",
     "text": [
      "epoch: 16\n",
      "epoch: 17\n",
      "epoch: 18\n",
      "epoch: 19\n",
      "epoch: 20\n",
      "validation\n"
     ]
    },
    {
     "name": "stderr",
     "output_type": "stream",
     "text": [
      "WARNING:absl:Found untraced functions such as _update_step_xla while saving (showing 1 of 1). These functions will not be directly callable after loading.\n"
     ]
    },
    {
     "name": "stdout",
     "output_type": "stream",
     "text": [
      "Recall t2i-i2t:  [3.1926605504587156, 10.507645259938839, 16.74617737003058, 4.146788990825688, 13.247706422018348, 20.69724770642202]\n",
      "INFO:tensorflow:Assets written to: ROCO/Linear/F_HN/0.3_1024_512_0.001visual_encoder_tf\\assets\n"
     ]
    },
    {
     "name": "stderr",
     "output_type": "stream",
     "text": [
      "INFO:tensorflow:Assets written to: ROCO/Linear/F_HN/0.3_1024_512_0.001visual_encoder_tf\\assets\n",
      "WARNING:absl:Found untraced functions such as _update_step_xla while saving (showing 1 of 1). These functions will not be directly callable after loading.\n"
     ]
    },
    {
     "name": "stdout",
     "output_type": "stream",
     "text": [
      "INFO:tensorflow:Assets written to: ROCO/Linear/F_HN/0.3_1024_512_0.001text_encoder_tf\\assets\n"
     ]
    },
    {
     "name": "stderr",
     "output_type": "stream",
     "text": [
      "INFO:tensorflow:Assets written to: ROCO/Linear/F_HN/0.3_1024_512_0.001text_encoder_tf\\assets\n"
     ]
    },
    {
     "name": "stdout",
     "output_type": "stream",
     "text": [
      "epoch: 21\n",
      "epoch: 22\n",
      "epoch: 23\n",
      "epoch: 24\n",
      "epoch: 25\n",
      "validation\n"
     ]
    },
    {
     "name": "stderr",
     "output_type": "stream",
     "text": [
      "WARNING:absl:Found untraced functions such as _update_step_xla while saving (showing 1 of 1). These functions will not be directly callable after loading.\n"
     ]
    },
    {
     "name": "stdout",
     "output_type": "stream",
     "text": [
      "Recall t2i-i2t:  [3.253822629969419, 10.434250764525993, 16.69724770642202, 4.281345565749236, 13.46788990825688, 20.70948012232416]\n",
      "INFO:tensorflow:Assets written to: ROCO/Linear/F_HN/0.3_1024_512_0.001visual_encoder_tf\\assets\n"
     ]
    },
    {
     "name": "stderr",
     "output_type": "stream",
     "text": [
      "INFO:tensorflow:Assets written to: ROCO/Linear/F_HN/0.3_1024_512_0.001visual_encoder_tf\\assets\n",
      "WARNING:absl:Found untraced functions such as _update_step_xla while saving (showing 1 of 1). These functions will not be directly callable after loading.\n"
     ]
    },
    {
     "name": "stdout",
     "output_type": "stream",
     "text": [
      "INFO:tensorflow:Assets written to: ROCO/Linear/F_HN/0.3_1024_512_0.001text_encoder_tf\\assets\n"
     ]
    },
    {
     "name": "stderr",
     "output_type": "stream",
     "text": [
      "INFO:tensorflow:Assets written to: ROCO/Linear/F_HN/0.3_1024_512_0.001text_encoder_tf\\assets\n"
     ]
    },
    {
     "name": "stdout",
     "output_type": "stream",
     "text": [
      "epoch: 26\n",
      "epoch: 27\n",
      "epoch: 28\n",
      "epoch: 29\n",
      "validation\n"
     ]
    },
    {
     "name": "stderr",
     "output_type": "stream",
     "text": [
      "WARNING:absl:Found untraced functions such as _update_step_xla while saving (showing 1 of 1). These functions will not be directly callable after loading.\n"
     ]
    },
    {
     "name": "stdout",
     "output_type": "stream",
     "text": [
      "Recall t2i-i2t:  [3.3516819571865444, 10.568807339449542, 16.660550458715598, 4.17125382262997, 13.577981651376147, 20.807339449541285]\n",
      "INFO:tensorflow:Assets written to: ROCO/Linear/F_HN/0.3_1024_512_0.001visual_encoder_tf\\assets\n"
     ]
    },
    {
     "name": "stderr",
     "output_type": "stream",
     "text": [
      "INFO:tensorflow:Assets written to: ROCO/Linear/F_HN/0.3_1024_512_0.001visual_encoder_tf\\assets\n",
      "WARNING:absl:Found untraced functions such as _update_step_xla while saving (showing 1 of 1). These functions will not be directly callable after loading.\n"
     ]
    },
    {
     "name": "stdout",
     "output_type": "stream",
     "text": [
      "INFO:tensorflow:Assets written to: ROCO/Linear/F_HN/0.3_1024_512_0.001text_encoder_tf\\assets\n"
     ]
    },
    {
     "name": "stderr",
     "output_type": "stream",
     "text": [
      "INFO:tensorflow:Assets written to: ROCO/Linear/F_HN/0.3_1024_512_0.001text_encoder_tf\\assets\n"
     ]
    },
    {
     "name": "stdout",
     "output_type": "stream",
     "text": [
      "ROCO/Linear/F_HN/0.3_1024_512_0.01\n",
      "epoch: 0\n",
      "validation\n",
      "Recall t2i-i2t:  [2.1162079510703364, 7.327217125382263, 12.477064220183486, 2.6666666666666665, 9.247706422018348, 15.155963302752294]\n"
     ]
    },
    {
     "name": "stderr",
     "output_type": "stream",
     "text": [
      "WARNING:absl:Found untraced functions such as _update_step_xla while saving (showing 1 of 1). These functions will not be directly callable after loading.\n"
     ]
    },
    {
     "name": "stdout",
     "output_type": "stream",
     "text": [
      "INFO:tensorflow:Assets written to: ROCO/Linear/F_HN/0.3_1024_512_0.01visual_encoder_tf\\assets\n"
     ]
    },
    {
     "name": "stderr",
     "output_type": "stream",
     "text": [
      "INFO:tensorflow:Assets written to: ROCO/Linear/F_HN/0.3_1024_512_0.01visual_encoder_tf\\assets\n",
      "WARNING:absl:Found untraced functions such as _update_step_xla while saving (showing 1 of 1). These functions will not be directly callable after loading.\n"
     ]
    },
    {
     "name": "stdout",
     "output_type": "stream",
     "text": [
      "INFO:tensorflow:Assets written to: ROCO/Linear/F_HN/0.3_1024_512_0.01text_encoder_tf\\assets\n"
     ]
    },
    {
     "name": "stderr",
     "output_type": "stream",
     "text": [
      "INFO:tensorflow:Assets written to: ROCO/Linear/F_HN/0.3_1024_512_0.01text_encoder_tf\\assets\n"
     ]
    },
    {
     "name": "stdout",
     "output_type": "stream",
     "text": [
      "epoch: 1\n",
      "epoch: 2\n",
      "epoch: 3\n",
      "epoch: 4\n",
      "epoch: 5\n",
      "validation\n"
     ]
    },
    {
     "name": "stderr",
     "output_type": "stream",
     "text": [
      "WARNING:absl:Found untraced functions such as _update_step_xla while saving (showing 1 of 1). These functions will not be directly callable after loading.\n"
     ]
    },
    {
     "name": "stdout",
     "output_type": "stream",
     "text": [
      "Recall t2i-i2t:  [2.691131498470948, 9.357798165137615, 15.119266055045872, 3.620795107033639, 12.207951070336392, 19.143730886850154]\n",
      "INFO:tensorflow:Assets written to: ROCO/Linear/F_HN/0.3_1024_512_0.01visual_encoder_tf\\assets\n"
     ]
    },
    {
     "name": "stderr",
     "output_type": "stream",
     "text": [
      "INFO:tensorflow:Assets written to: ROCO/Linear/F_HN/0.3_1024_512_0.01visual_encoder_tf\\assets\n",
      "WARNING:absl:Found untraced functions such as _update_step_xla while saving (showing 1 of 1). These functions will not be directly callable after loading.\n"
     ]
    },
    {
     "name": "stdout",
     "output_type": "stream",
     "text": [
      "INFO:tensorflow:Assets written to: ROCO/Linear/F_HN/0.3_1024_512_0.01text_encoder_tf\\assets\n"
     ]
    },
    {
     "name": "stderr",
     "output_type": "stream",
     "text": [
      "INFO:tensorflow:Assets written to: ROCO/Linear/F_HN/0.3_1024_512_0.01text_encoder_tf\\assets\n"
     ]
    },
    {
     "name": "stdout",
     "output_type": "stream",
     "text": [
      "epoch: 6\n",
      "epoch: 7\n",
      "epoch: 8\n",
      "epoch: 9\n",
      "epoch: 10\n",
      "validation\n"
     ]
    },
    {
     "name": "stderr",
     "output_type": "stream",
     "text": [
      "WARNING:absl:Found untraced functions such as _update_step_xla while saving (showing 1 of 1). These functions will not be directly callable after loading.\n"
     ]
    },
    {
     "name": "stdout",
     "output_type": "stream",
     "text": [
      "Recall t2i-i2t:  [2.7522935779816513, 9.957186544342507, 16.02446483180428, 3.914373088685015, 12.844036697247706, 19.425076452599388]\n",
      "INFO:tensorflow:Assets written to: ROCO/Linear/F_HN/0.3_1024_512_0.01visual_encoder_tf\\assets\n"
     ]
    },
    {
     "name": "stderr",
     "output_type": "stream",
     "text": [
      "INFO:tensorflow:Assets written to: ROCO/Linear/F_HN/0.3_1024_512_0.01visual_encoder_tf\\assets\n",
      "WARNING:absl:Found untraced functions such as _update_step_xla while saving (showing 1 of 1). These functions will not be directly callable after loading.\n"
     ]
    },
    {
     "name": "stdout",
     "output_type": "stream",
     "text": [
      "INFO:tensorflow:Assets written to: ROCO/Linear/F_HN/0.3_1024_512_0.01text_encoder_tf\\assets\n"
     ]
    },
    {
     "name": "stderr",
     "output_type": "stream",
     "text": [
      "INFO:tensorflow:Assets written to: ROCO/Linear/F_HN/0.3_1024_512_0.01text_encoder_tf\\assets\n"
     ]
    },
    {
     "name": "stdout",
     "output_type": "stream",
     "text": [
      "epoch: 11\n",
      "epoch: 12\n",
      "epoch: 13\n",
      "epoch: 14\n",
      "epoch: 15\n",
      "validation\n"
     ]
    },
    {
     "name": "stderr",
     "output_type": "stream",
     "text": [
      "WARNING:absl:Found untraced functions such as _update_step_xla while saving (showing 1 of 1). These functions will not be directly callable after loading.\n"
     ]
    },
    {
     "name": "stdout",
     "output_type": "stream",
     "text": [
      "Recall t2i-i2t:  [3.1559633027522938, 10.495412844036696, 16.672782874617738, 4.048929663608563, 13.4434250764526, 20.489296636085626]\n",
      "INFO:tensorflow:Assets written to: ROCO/Linear/F_HN/0.3_1024_512_0.01visual_encoder_tf\\assets\n"
     ]
    },
    {
     "name": "stderr",
     "output_type": "stream",
     "text": [
      "INFO:tensorflow:Assets written to: ROCO/Linear/F_HN/0.3_1024_512_0.01visual_encoder_tf\\assets\n",
      "WARNING:absl:Found untraced functions such as _update_step_xla while saving (showing 1 of 1). These functions will not be directly callable after loading.\n"
     ]
    },
    {
     "name": "stdout",
     "output_type": "stream",
     "text": [
      "INFO:tensorflow:Assets written to: ROCO/Linear/F_HN/0.3_1024_512_0.01text_encoder_tf\\assets\n"
     ]
    },
    {
     "name": "stderr",
     "output_type": "stream",
     "text": [
      "INFO:tensorflow:Assets written to: ROCO/Linear/F_HN/0.3_1024_512_0.01text_encoder_tf\\assets\n"
     ]
    },
    {
     "name": "stdout",
     "output_type": "stream",
     "text": [
      "epoch: 16\n",
      "epoch: 17\n",
      "epoch: 18\n",
      "epoch: 19\n",
      "epoch: 20\n",
      "validation\n"
     ]
    },
    {
     "name": "stderr",
     "output_type": "stream",
     "text": [
      "WARNING:absl:Found untraced functions such as _update_step_xla while saving (showing 1 of 1). These functions will not be directly callable after loading.\n"
     ]
    },
    {
     "name": "stdout",
     "output_type": "stream",
     "text": [
      "Recall t2i-i2t:  [3.1926605504587156, 10.434250764525993, 16.966360856269112, 4.159021406727828, 13.749235474006117, 20.53822629969419]\n",
      "INFO:tensorflow:Assets written to: ROCO/Linear/F_HN/0.3_1024_512_0.01visual_encoder_tf\\assets\n"
     ]
    },
    {
     "name": "stderr",
     "output_type": "stream",
     "text": [
      "INFO:tensorflow:Assets written to: ROCO/Linear/F_HN/0.3_1024_512_0.01visual_encoder_tf\\assets\n",
      "WARNING:absl:Found untraced functions such as _update_step_xla while saving (showing 1 of 1). These functions will not be directly callable after loading.\n"
     ]
    },
    {
     "name": "stdout",
     "output_type": "stream",
     "text": [
      "INFO:tensorflow:Assets written to: ROCO/Linear/F_HN/0.3_1024_512_0.01text_encoder_tf\\assets\n"
     ]
    },
    {
     "name": "stderr",
     "output_type": "stream",
     "text": [
      "INFO:tensorflow:Assets written to: ROCO/Linear/F_HN/0.3_1024_512_0.01text_encoder_tf\\assets\n"
     ]
    },
    {
     "name": "stdout",
     "output_type": "stream",
     "text": [
      "epoch: 21\n",
      "epoch: 22\n",
      "epoch: 23\n",
      "epoch: 24\n",
      "epoch: 25\n",
      "validation\n",
      "Recall t2i-i2t:  [3.229357798165138, 10.617737003058105, 16.819571865443425, 4.269113149847095, 13.700305810397554, 20.489296636085626]\n",
      "epoch: 26\n",
      "epoch: 27\n",
      "epoch: 28\n",
      "epoch: 29\n",
      "validation\n",
      "Recall t2i-i2t:  [3.229357798165138, 10.53211009174312, 16.831804281345565, 4.17125382262997, 13.577981651376147, 20.587155963302752]\n",
      "ROCO/Linear/F_HN/0.3_1024_512_0.1\n",
      "epoch: 0\n",
      "validation\n"
     ]
    },
    {
     "name": "stderr",
     "output_type": "stream",
     "text": [
      "WARNING:absl:Found untraced functions such as _update_step_xla while saving (showing 1 of 1). These functions will not be directly callable after loading.\n"
     ]
    },
    {
     "name": "stdout",
     "output_type": "stream",
     "text": [
      "Recall t2i-i2t:  [1.9204892966360856, 6.666666666666667, 11.241590214067278, 2.3486238532110093, 8.587155963302752, 14.470948012232416]\n",
      "INFO:tensorflow:Assets written to: ROCO/Linear/F_HN/0.3_1024_512_0.1visual_encoder_tf\\assets\n"
     ]
    },
    {
     "name": "stderr",
     "output_type": "stream",
     "text": [
      "INFO:tensorflow:Assets written to: ROCO/Linear/F_HN/0.3_1024_512_0.1visual_encoder_tf\\assets\n",
      "WARNING:absl:Found untraced functions such as _update_step_xla while saving (showing 1 of 1). These functions will not be directly callable after loading.\n"
     ]
    },
    {
     "name": "stdout",
     "output_type": "stream",
     "text": [
      "INFO:tensorflow:Assets written to: ROCO/Linear/F_HN/0.3_1024_512_0.1text_encoder_tf\\assets\n"
     ]
    },
    {
     "name": "stderr",
     "output_type": "stream",
     "text": [
      "INFO:tensorflow:Assets written to: ROCO/Linear/F_HN/0.3_1024_512_0.1text_encoder_tf\\assets\n"
     ]
    },
    {
     "name": "stdout",
     "output_type": "stream",
     "text": [
      "epoch: 1\n",
      "epoch: 2\n",
      "epoch: 3\n",
      "epoch: 4\n",
      "epoch: 5\n",
      "validation\n"
     ]
    },
    {
     "name": "stderr",
     "output_type": "stream",
     "text": [
      "WARNING:absl:Found untraced functions such as _update_step_xla while saving (showing 1 of 1). These functions will not be directly callable after loading.\n"
     ]
    },
    {
     "name": "stdout",
     "output_type": "stream",
     "text": [
      "Recall t2i-i2t:  [3.070336391437309, 10.103975535168196, 15.938837920489297, 3.229357798165138, 11.26605504587156, 17.896024464831804]\n",
      "INFO:tensorflow:Assets written to: ROCO/Linear/F_HN/0.3_1024_512_0.1visual_encoder_tf\\assets\n"
     ]
    },
    {
     "name": "stderr",
     "output_type": "stream",
     "text": [
      "INFO:tensorflow:Assets written to: ROCO/Linear/F_HN/0.3_1024_512_0.1visual_encoder_tf\\assets\n",
      "WARNING:absl:Found untraced functions such as _update_step_xla while saving (showing 1 of 1). These functions will not be directly callable after loading.\n"
     ]
    },
    {
     "name": "stdout",
     "output_type": "stream",
     "text": [
      "INFO:tensorflow:Assets written to: ROCO/Linear/F_HN/0.3_1024_512_0.1text_encoder_tf\\assets\n"
     ]
    },
    {
     "name": "stderr",
     "output_type": "stream",
     "text": [
      "INFO:tensorflow:Assets written to: ROCO/Linear/F_HN/0.3_1024_512_0.1text_encoder_tf\\assets\n"
     ]
    },
    {
     "name": "stdout",
     "output_type": "stream",
     "text": [
      "epoch: 6\n",
      "epoch: 7\n",
      "epoch: 8\n",
      "epoch: 9\n",
      "epoch: 10\n",
      "validation\n"
     ]
    },
    {
     "name": "stderr",
     "output_type": "stream",
     "text": [
      "WARNING:absl:Found untraced functions such as _update_step_xla while saving (showing 1 of 1). These functions will not be directly callable after loading.\n"
     ]
    },
    {
     "name": "stdout",
     "output_type": "stream",
     "text": [
      "Recall t2i-i2t:  [3.4862385321100917, 11.180428134556575, 17.07645259938838, 3.926605504587156, 11.877675840978593, 18.813455657492355]\n",
      "INFO:tensorflow:Assets written to: ROCO/Linear/F_HN/0.3_1024_512_0.1visual_encoder_tf\\assets\n"
     ]
    },
    {
     "name": "stderr",
     "output_type": "stream",
     "text": [
      "INFO:tensorflow:Assets written to: ROCO/Linear/F_HN/0.3_1024_512_0.1visual_encoder_tf\\assets\n",
      "WARNING:absl:Found untraced functions such as _update_step_xla while saving (showing 1 of 1). These functions will not be directly callable after loading.\n"
     ]
    },
    {
     "name": "stdout",
     "output_type": "stream",
     "text": [
      "INFO:tensorflow:Assets written to: ROCO/Linear/F_HN/0.3_1024_512_0.1text_encoder_tf\\assets\n"
     ]
    },
    {
     "name": "stderr",
     "output_type": "stream",
     "text": [
      "INFO:tensorflow:Assets written to: ROCO/Linear/F_HN/0.3_1024_512_0.1text_encoder_tf\\assets\n"
     ]
    },
    {
     "name": "stdout",
     "output_type": "stream",
     "text": [
      "epoch: 11\n",
      "epoch: 12\n",
      "epoch: 13\n",
      "epoch: 14\n",
      "epoch: 15\n",
      "validation\n"
     ]
    },
    {
     "name": "stderr",
     "output_type": "stream",
     "text": [
      "WARNING:absl:Found untraced functions such as _update_step_xla while saving (showing 1 of 1). These functions will not be directly callable after loading.\n"
     ]
    },
    {
     "name": "stdout",
     "output_type": "stream",
     "text": [
      "Recall t2i-i2t:  [3.63302752293578, 11.779816513761467, 18.214067278287462, 4.0244648318042815, 12.207951070336392, 19.229357798165136]\n",
      "INFO:tensorflow:Assets written to: ROCO/Linear/F_HN/0.3_1024_512_0.1visual_encoder_tf\\assets\n"
     ]
    },
    {
     "name": "stderr",
     "output_type": "stream",
     "text": [
      "INFO:tensorflow:Assets written to: ROCO/Linear/F_HN/0.3_1024_512_0.1visual_encoder_tf\\assets\n",
      "WARNING:absl:Found untraced functions such as _update_step_xla while saving (showing 1 of 1). These functions will not be directly callable after loading.\n"
     ]
    },
    {
     "name": "stdout",
     "output_type": "stream",
     "text": [
      "INFO:tensorflow:Assets written to: ROCO/Linear/F_HN/0.3_1024_512_0.1text_encoder_tf\\assets\n"
     ]
    },
    {
     "name": "stderr",
     "output_type": "stream",
     "text": [
      "INFO:tensorflow:Assets written to: ROCO/Linear/F_HN/0.3_1024_512_0.1text_encoder_tf\\assets\n"
     ]
    },
    {
     "name": "stdout",
     "output_type": "stream",
     "text": [
      "epoch: 16\n",
      "epoch: 17\n",
      "epoch: 18\n",
      "epoch: 19\n",
      "epoch: 20\n",
      "validation\n"
     ]
    },
    {
     "name": "stderr",
     "output_type": "stream",
     "text": [
      "WARNING:absl:Found untraced functions such as _update_step_xla while saving (showing 1 of 1). These functions will not be directly callable after loading.\n"
     ]
    },
    {
     "name": "stdout",
     "output_type": "stream",
     "text": [
      "Recall t2i-i2t:  [3.6574923547400613, 11.694189602446484, 18.36085626911315, 4.085626911314985, 12.305810397553516, 19.09480122324159]\n",
      "INFO:tensorflow:Assets written to: ROCO/Linear/F_HN/0.3_1024_512_0.1visual_encoder_tf\\assets\n"
     ]
    },
    {
     "name": "stderr",
     "output_type": "stream",
     "text": [
      "INFO:tensorflow:Assets written to: ROCO/Linear/F_HN/0.3_1024_512_0.1visual_encoder_tf\\assets\n",
      "WARNING:absl:Found untraced functions such as _update_step_xla while saving (showing 1 of 1). These functions will not be directly callable after loading.\n"
     ]
    },
    {
     "name": "stdout",
     "output_type": "stream",
     "text": [
      "INFO:tensorflow:Assets written to: ROCO/Linear/F_HN/0.3_1024_512_0.1text_encoder_tf\\assets\n"
     ]
    },
    {
     "name": "stderr",
     "output_type": "stream",
     "text": [
      "INFO:tensorflow:Assets written to: ROCO/Linear/F_HN/0.3_1024_512_0.1text_encoder_tf\\assets\n"
     ]
    },
    {
     "name": "stdout",
     "output_type": "stream",
     "text": [
      "epoch: 21\n",
      "epoch: 22\n",
      "epoch: 23\n",
      "epoch: 24\n",
      "epoch: 25\n",
      "validation\n"
     ]
    },
    {
     "name": "stderr",
     "output_type": "stream",
     "text": [
      "WARNING:absl:Found untraced functions such as _update_step_xla while saving (showing 1 of 1). These functions will not be directly callable after loading.\n"
     ]
    },
    {
     "name": "stdout",
     "output_type": "stream",
     "text": [
      "Recall t2i-i2t:  [3.7308868501529053, 12.0, 18.458715596330276, 4.146788990825688, 12.34250764525994, 19.058103975535168]\n",
      "INFO:tensorflow:Assets written to: ROCO/Linear/F_HN/0.3_1024_512_0.1visual_encoder_tf\\assets\n"
     ]
    },
    {
     "name": "stderr",
     "output_type": "stream",
     "text": [
      "INFO:tensorflow:Assets written to: ROCO/Linear/F_HN/0.3_1024_512_0.1visual_encoder_tf\\assets\n",
      "WARNING:absl:Found untraced functions such as _update_step_xla while saving (showing 1 of 1). These functions will not be directly callable after loading.\n"
     ]
    },
    {
     "name": "stdout",
     "output_type": "stream",
     "text": [
      "INFO:tensorflow:Assets written to: ROCO/Linear/F_HN/0.3_1024_512_0.1text_encoder_tf\\assets\n"
     ]
    },
    {
     "name": "stderr",
     "output_type": "stream",
     "text": [
      "INFO:tensorflow:Assets written to: ROCO/Linear/F_HN/0.3_1024_512_0.1text_encoder_tf\\assets\n"
     ]
    },
    {
     "name": "stdout",
     "output_type": "stream",
     "text": [
      "epoch: 26\n",
      "epoch: 27\n",
      "epoch: 28\n",
      "epoch: 29\n",
      "validation\n",
      "Recall t2i-i2t:  [3.6819571865443423, 11.926605504587156, 18.605504587155963, 4.0244648318042815, 12.477064220183486, 19.033639143730888]\n"
     ]
    }
   ],
   "source": [
    "for reg in [0.0001,0.001,0.01,0.1]:\n",
    "    net =  Net(visual_matrix,textual_matrix,1024,0.3,\"F_HN\", reg) \n",
    "    net.training()"
   ]
  },
  {
   "cell_type": "code",
   "execution_count": 82,
   "metadata": {
    "ExecuteTime": {
     "end_time": "2024-07-14T13:34:28.449344Z",
     "start_time": "2024-07-14T13:34:28.431163Z"
    }
   },
   "outputs": [],
   "source": [
    "class zshot(object):\n",
    "    def __init__(self):\n",
    "            print(\"ok\")\n",
    "            \n",
    "    def predict(self,query, retrieval,split):\n",
    "            if type(query) is not list:\n",
    "                query= [query]\n",
    "            if retrieval==\"t2i\":\n",
    "                c_input = tf.nn.embedding_lookup(textual_matrix, query)\n",
    "                if split==\"test\":\n",
    "                    i_eval= visual_matrix[self.test_indices_]\n",
    "                \n",
    "                rating= tf.matmul(i_eval, tf.transpose(c_input))\n",
    "            \n",
    "            if retrieval==\"i2t\": \n",
    "                i_input = tf.nn.embedding_lookup(visual_matrix, query)\n",
    "                if split==\"test\":\n",
    "                    c_eval= textual_matrix[self.data_text_Test]            \n",
    "        \n",
    "                rating= tf.matmul(i_input, tf.transpose(c_eval) )\n",
    "\n",
    "            if retrieval==\"i2i\":\n",
    "                if split==\"test\":\n",
    "                    i_query = tf.nn.embedding_lookup(visual_matrix, query)\n",
    "                    i_eval=  visual_matrix[self.test_indices_]\n",
    "                    rating= tf.matmul(i_query, tf.transpose(i_eval) )\n",
    "            if retrieval==\"t2t\":\n",
    "                if split==\"test\":\n",
    "                    c_query = tf.nn.embedding_lookup(textual_matrix, query)\n",
    "                    c_eval= textual_matrix[self.data_text_Test]\n",
    "                    rating= tf.matmul(c_eval , tf.transpose(c_query)  )\n",
    "\n",
    "            return np.reshape(rating, [-1]) \n",
    "        \n",
    "    def inference(self):\n",
    "        self.test_indices_= [universe_img.index(i) for i in test_r_text.keys()]\n",
    "        self.data_text_Test= [universe_text.index(i) for i in test_r_img.keys()]\n",
    "\n",
    "        print(\"inference\")\n",
    "        #results= evaluate_model(self, nDCG=False, split=\"test\", retrieval=\"i2t\")\n",
    "        #print(results)\n",
    "        results= evaluate_model(self, nDCG=True, split=\"test\", retrieval=\"t2i\")\n",
    "        np.save(\"ZS_ROCO_test_metrics.npy\", np.array([results], dtype=object) )\n",
    "        print(results)"
   ]
  },
  {
   "cell_type": "code",
   "execution_count": 89,
   "metadata": {
    "ExecuteTime": {
     "end_time": "2024-07-15T07:58:46.105491Z",
     "start_time": "2024-07-15T05:52:35.960719Z"
    },
    "scrolled": false
   },
   "outputs": [
    {
     "name": "stdout",
     "output_type": "stream",
     "text": [
      "ROCO/Linear/random/0.3_1024_512\n",
      "inference\n",
      "[[[0.03669275929549902, 0.09784735812133072, 0.2079256360078278]]]\n",
      "novedad:  25 8176\n",
      "[(0.5922726576209263, 0.6656448239672312), (0.8519166220671717, 0.9303335519638007), (0.0, 0.0, 7.9968252935706055)]\n",
      "novedad:  25 8176\n",
      "[(0.7188564752022013, 0.8259122077651647), (0.9200992759338698, 0.9711945174598398), (0.0, 0.0, 7.780870660164208)]\n"
     ]
    },
    {
     "ename": "KeyboardInterrupt",
     "evalue": "",
     "output_type": "error",
     "traceback": [
      "\u001b[1;31m---------------------------------------------------------------------------\u001b[0m",
      "\u001b[1;31mKeyboardInterrupt\u001b[0m                         Traceback (most recent call last)",
      "Cell \u001b[1;32mIn[89], line 6\u001b[0m\n\u001b[0;32m      4\u001b[0m \u001b[38;5;28;01mfor\u001b[39;00m name_model \u001b[38;5;129;01min\u001b[39;00m [\u001b[38;5;124m\"\u001b[39m\u001b[38;5;124mrandom\u001b[39m\u001b[38;5;124m\"\u001b[39m, \u001b[38;5;124m\"\u001b[39m\u001b[38;5;124mHN\u001b[39m\u001b[38;5;124m\"\u001b[39m,\u001b[38;5;124m\"\u001b[39m\u001b[38;5;124mM_HN\u001b[39m\u001b[38;5;124m\"\u001b[39m]:\n\u001b[0;32m      5\u001b[0m     net \u001b[38;5;241m=\u001b[39m  Net(visual_matrix,textual_matrix,\u001b[38;5;241m1024\u001b[39m,\u001b[38;5;241m0.3\u001b[39m,name_model) \n\u001b[1;32m----> 6\u001b[0m     \u001b[43mnet\u001b[49m\u001b[38;5;241;43m.\u001b[39;49m\u001b[43minference\u001b[49m\u001b[43m(\u001b[49m\u001b[43m)\u001b[49m\n",
      "Cell \u001b[1;32mIn[88], line 285\u001b[0m, in \u001b[0;36mNet.inference\u001b[1;34m(self)\u001b[0m\n\u001b[0;32m    283\u001b[0m results\u001b[38;5;241m=\u001b[39m evaluate_model(\u001b[38;5;28mself\u001b[39m, nDCG\u001b[38;5;241m=\u001b[39m\u001b[38;5;28;01mFalse\u001b[39;00m, split\u001b[38;5;241m=\u001b[39m\u001b[38;5;124m\"\u001b[39m\u001b[38;5;124mtest\u001b[39m\u001b[38;5;124m\"\u001b[39m, retrieval\u001b[38;5;241m=\u001b[39m\u001b[38;5;124m\"\u001b[39m\u001b[38;5;124mi2t\u001b[39m\u001b[38;5;124m\"\u001b[39m)\n\u001b[0;32m    284\u001b[0m \u001b[38;5;28mprint\u001b[39m(results)\n\u001b[1;32m--> 285\u001b[0m results_2\u001b[38;5;241m=\u001b[39m \u001b[43mevaluate_model\u001b[49m\u001b[43m(\u001b[49m\u001b[38;5;28;43mself\u001b[39;49m\u001b[43m,\u001b[49m\u001b[43m \u001b[49m\u001b[43mnDCG\u001b[49m\u001b[38;5;241;43m=\u001b[39;49m\u001b[38;5;28;43;01mTrue\u001b[39;49;00m\u001b[43m,\u001b[49m\u001b[43m \u001b[49m\u001b[43msplit\u001b[49m\u001b[38;5;241;43m=\u001b[39;49m\u001b[38;5;124;43m\"\u001b[39;49m\u001b[38;5;124;43mtest\u001b[39;49m\u001b[38;5;124;43m\"\u001b[39;49m\u001b[43m,\u001b[49m\u001b[43m \u001b[49m\u001b[43mretrieval\u001b[49m\u001b[38;5;241;43m=\u001b[39;49m\u001b[38;5;124;43m\"\u001b[39;49m\u001b[38;5;124;43mt2i\u001b[39;49m\u001b[38;5;124;43m\"\u001b[39;49m\u001b[43m)\u001b[49m\n\u001b[0;32m    286\u001b[0m np\u001b[38;5;241m.\u001b[39msave(\u001b[38;5;28mself\u001b[39m\u001b[38;5;241m.\u001b[39mDIS_MODEL_FILE\u001b[38;5;241m+\u001b[39m\u001b[38;5;124m\"\u001b[39m\u001b[38;5;124mtest_metrics.npy\u001b[39m\u001b[38;5;124m\"\u001b[39m, np\u001b[38;5;241m.\u001b[39marray([results,results_2], dtype\u001b[38;5;241m=\u001b[39m\u001b[38;5;28mobject\u001b[39m) )\n\u001b[0;32m    287\u001b[0m \u001b[38;5;28mprint\u001b[39m(results_2)\n",
      "Cell \u001b[1;32mIn[79], line 94\u001b[0m, in \u001b[0;36mevaluate_model\u001b[1;34m(model, nDCG, split, retrieval)\u001b[0m\n\u001b[0;32m     92\u001b[0m ndcg_t2t\u001b[38;5;241m=\u001b[39m  t2t( _model,split) \n\u001b[0;32m     93\u001b[0m \u001b[38;5;28mprint\u001b[39m(ndcg_t2t)\n\u001b[1;32m---> 94\u001b[0m ndcg_i2t\u001b[38;5;241m=\u001b[39m\u001b[43mi2t\u001b[49m\u001b[43m(\u001b[49m\u001b[43m \u001b[49m\u001b[43m_model\u001b[49m\u001b[43m,\u001b[49m\u001b[43msplit\u001b[49m\u001b[43m)\u001b[49m\n\u001b[0;32m     95\u001b[0m \u001b[38;5;28mprint\u001b[39m(ndcg_i2t)\n\u001b[0;32m     96\u001b[0m ndcg_t2i\u001b[38;5;241m=\u001b[39m t2i( _model, split)\n",
      "Cell \u001b[1;32mIn[80], line 190\u001b[0m, in \u001b[0;36mi2t\u001b[1;34m(model, split, n_ndcg, d_n, top)\u001b[0m\n\u001b[0;32m    188\u001b[0m indices_\u001b[38;5;241m=\u001b[39m np\u001b[38;5;241m.\u001b[39margsort( \u001b[38;5;241m-\u001b[39mnp\u001b[38;5;241m.\u001b[39marray( rating) ) \n\u001b[0;32m    189\u001b[0m \u001b[38;5;66;03m# get original position (in order by the model)\u001b[39;00m\n\u001b[1;32m--> 190\u001b[0m inds\u001b[38;5;241m=\u001b[39m [all_values\u001b[38;5;241m.\u001b[39mindex(eval_values[i]) \u001b[38;5;28;01mfor\u001b[39;00m i \u001b[38;5;129;01min\u001b[39;00m indices_] \u001b[38;5;66;03m#order of values = eval_values\u001b[39;00m\n\u001b[0;32m    191\u001b[0m rougel_ndcgs[index], spice_ndcgs[index] \u001b[38;5;241m=\u001b[39m ndcg_scorer\u001b[38;5;241m.\u001b[39mcompute_ndcg(all_indices\u001b[38;5;241m.\u001b[39mindex(eval_indices[index]), inds,retrieval\u001b[38;5;241m=\u001b[39m\u001b[38;5;124m'\u001b[39m\u001b[38;5;124mi2t\u001b[39m\u001b[38;5;124m'\u001b[39m)\u001b[38;5;241m.\u001b[39mvalues()\n\u001b[0;32m    193\u001b[0m \u001b[38;5;28;01mif\u001b[39;00m n_ndcg:\n",
      "Cell \u001b[1;32mIn[80], line 190\u001b[0m, in \u001b[0;36m<listcomp>\u001b[1;34m(.0)\u001b[0m\n\u001b[0;32m    188\u001b[0m indices_\u001b[38;5;241m=\u001b[39m np\u001b[38;5;241m.\u001b[39margsort( \u001b[38;5;241m-\u001b[39mnp\u001b[38;5;241m.\u001b[39marray( rating) ) \n\u001b[0;32m    189\u001b[0m \u001b[38;5;66;03m# get original position (in order by the model)\u001b[39;00m\n\u001b[1;32m--> 190\u001b[0m inds\u001b[38;5;241m=\u001b[39m [all_values\u001b[38;5;241m.\u001b[39mindex(eval_values[i]) \u001b[38;5;28;01mfor\u001b[39;00m i \u001b[38;5;129;01min\u001b[39;00m indices_] \u001b[38;5;66;03m#order of values = eval_values\u001b[39;00m\n\u001b[0;32m    191\u001b[0m rougel_ndcgs[index], spice_ndcgs[index] \u001b[38;5;241m=\u001b[39m ndcg_scorer\u001b[38;5;241m.\u001b[39mcompute_ndcg(all_indices\u001b[38;5;241m.\u001b[39mindex(eval_indices[index]), inds,retrieval\u001b[38;5;241m=\u001b[39m\u001b[38;5;124m'\u001b[39m\u001b[38;5;124mi2t\u001b[39m\u001b[38;5;124m'\u001b[39m)\u001b[38;5;241m.\u001b[39mvalues()\n\u001b[0;32m    193\u001b[0m \u001b[38;5;28;01mif\u001b[39;00m n_ndcg:\n",
      "\u001b[1;31mKeyboardInterrupt\u001b[0m: "
     ]
    }
   ],
   "source": [
    "#net =  zshot() \n",
    "#net.inference()\n",
    "\n",
    "for name_model in [\"random\", \"HN\",\"M_HN\"]:\n",
    "    net =  Net(visual_matrix,textual_matrix,1024,0.3,name_model) \n",
    "    net.inference()"
   ]
  }
 ],
 "metadata": {
  "accelerator": "GPU",
  "colab": {
   "collapsed_sections": [
    "ha_Jccsmx4I9"
   ],
   "machine_shape": "hm",
   "provenance": [],
   "toc_visible": true
  },
  "gpuClass": "standard",
  "kernelspec": {
   "display_name": "Python 3 (ipykernel)",
   "language": "python",
   "name": "python3"
  },
  "language_info": {
   "codemirror_mode": {
    "name": "ipython",
    "version": 3
   },
   "file_extension": ".py",
   "mimetype": "text/x-python",
   "name": "python",
   "nbconvert_exporter": "python",
   "pygments_lexer": "ipython3",
   "version": "3.10.9"
  },
  "toc": {
   "base_numbering": 1,
   "nav_menu": {
    "height": "342.003px",
    "width": "348.977px"
   },
   "number_sections": false,
   "sideBar": false,
   "skip_h1_title": false,
   "title_cell": "Table of Contents",
   "title_sidebar": "Contents",
   "toc_cell": false,
   "toc_position": {
    "height": "553.938px",
    "left": "29px",
    "top": "154px",
    "width": "159px"
   },
   "toc_section_display": false,
   "toc_window_display": false
  },
  "varInspector": {
   "cols": {
    "lenName": 16,
    "lenType": 16,
    "lenVar": 40
   },
   "kernels_config": {
    "python": {
     "delete_cmd_postfix": "",
     "delete_cmd_prefix": "del ",
     "library": "var_list.py",
     "varRefreshCmd": "print(var_dic_list())"
    },
    "r": {
     "delete_cmd_postfix": ") ",
     "delete_cmd_prefix": "rm(",
     "library": "var_list.r",
     "varRefreshCmd": "cat(var_dic_list()) "
    }
   },
   "types_to_exclude": [
    "module",
    "function",
    "builtin_function_or_method",
    "instance",
    "_Feature"
   ],
   "window_display": false
  },
  "widgets": {
   "application/vnd.jupyter.widget-state+json": {
    "01ff6b14db5e403182d6af8274da7282": {
     "model_module": "@jupyter-widgets/controls",
     "model_module_version": "1.5.0",
     "model_name": "HTMLModel",
     "state": {
      "_dom_classes": [],
      "_model_module": "@jupyter-widgets/controls",
      "_model_module_version": "1.5.0",
      "_model_name": "HTMLModel",
      "_view_count": null,
      "_view_module": "@jupyter-widgets/controls",
      "_view_module_version": "1.5.0",
      "_view_name": "HTMLView",
      "description": "",
      "description_tooltip": null,
      "layout": "IPY_MODEL_413bd7272a244d6dba57e5c218645806",
      "placeholder": "​",
      "style": "IPY_MODEL_884d6352e52743e491d4915c60c1af33",
      "value": " 349/349 [00:00&lt;00:00, 11.7kB/s]"
     }
    },
    "02a1e59961114b228b2c1c4d36d9fb6d": {
     "model_module": "@jupyter-widgets/base",
     "model_module_version": "1.2.0",
     "model_name": "LayoutModel",
     "state": {
      "_model_module": "@jupyter-widgets/base",
      "_model_module_version": "1.2.0",
      "_model_name": "LayoutModel",
      "_view_count": null,
      "_view_module": "@jupyter-widgets/base",
      "_view_module_version": "1.2.0",
      "_view_name": "LayoutView",
      "align_content": null,
      "align_items": null,
      "align_self": null,
      "border": null,
      "bottom": null,
      "display": null,
      "flex": null,
      "flex_flow": null,
      "grid_area": null,
      "grid_auto_columns": null,
      "grid_auto_flow": null,
      "grid_auto_rows": null,
      "grid_column": null,
      "grid_gap": null,
      "grid_row": null,
      "grid_template_areas": null,
      "grid_template_columns": null,
      "grid_template_rows": null,
      "height": null,
      "justify_content": null,
      "justify_items": null,
      "left": null,
      "margin": null,
      "max_height": null,
      "max_width": null,
      "min_height": null,
      "min_width": null,
      "object_fit": null,
      "object_position": null,
      "order": null,
      "overflow": null,
      "overflow_x": null,
      "overflow_y": null,
      "padding": null,
      "right": null,
      "top": null,
      "visibility": null,
      "width": null
     }
    },
    "02c16c9a948b44d0b4d65312426cbad2": {
     "model_module": "@jupyter-widgets/base",
     "model_module_version": "1.2.0",
     "model_name": "LayoutModel",
     "state": {
      "_model_module": "@jupyter-widgets/base",
      "_model_module_version": "1.2.0",
      "_model_name": "LayoutModel",
      "_view_count": null,
      "_view_module": "@jupyter-widgets/base",
      "_view_module_version": "1.2.0",
      "_view_name": "LayoutView",
      "align_content": null,
      "align_items": null,
      "align_self": null,
      "border": null,
      "bottom": null,
      "display": null,
      "flex": null,
      "flex_flow": null,
      "grid_area": null,
      "grid_auto_columns": null,
      "grid_auto_flow": null,
      "grid_auto_rows": null,
      "grid_column": null,
      "grid_gap": null,
      "grid_row": null,
      "grid_template_areas": null,
      "grid_template_columns": null,
      "grid_template_rows": null,
      "height": null,
      "justify_content": null,
      "justify_items": null,
      "left": null,
      "margin": null,
      "max_height": null,
      "max_width": null,
      "min_height": null,
      "min_width": null,
      "object_fit": null,
      "object_position": null,
      "order": null,
      "overflow": null,
      "overflow_x": null,
      "overflow_y": null,
      "padding": null,
      "right": null,
      "top": null,
      "visibility": null,
      "width": null
     }
    },
    "02d9ef93f8b44ac5bfdbefe125e4d69d": {
     "model_module": "@jupyter-widgets/controls",
     "model_module_version": "1.5.0",
     "model_name": "HTMLModel",
     "state": {
      "_dom_classes": [],
      "_model_module": "@jupyter-widgets/controls",
      "_model_module_version": "1.5.0",
      "_model_name": "HTMLModel",
      "_view_count": null,
      "_view_module": "@jupyter-widgets/controls",
      "_view_module_version": "1.5.0",
      "_view_name": "HTMLView",
      "description": "",
      "description_tooltip": null,
      "layout": "IPY_MODEL_d09893bff19e4bf299bd19087fefead5",
      "placeholder": "​",
      "style": "IPY_MODEL_1a5dfb24b7d34eb6a1cd4b789396e27b",
      "value": "Downloading: 100%"
     }
    },
    "03434e5ce7f84b1ab3dfbfe91027c4f7": {
     "model_module": "@jupyter-widgets/base",
     "model_module_version": "1.2.0",
     "model_name": "LayoutModel",
     "state": {
      "_model_module": "@jupyter-widgets/base",
      "_model_module_version": "1.2.0",
      "_model_name": "LayoutModel",
      "_view_count": null,
      "_view_module": "@jupyter-widgets/base",
      "_view_module_version": "1.2.0",
      "_view_name": "LayoutView",
      "align_content": null,
      "align_items": null,
      "align_self": null,
      "border": null,
      "bottom": null,
      "display": null,
      "flex": null,
      "flex_flow": null,
      "grid_area": null,
      "grid_auto_columns": null,
      "grid_auto_flow": null,
      "grid_auto_rows": null,
      "grid_column": null,
      "grid_gap": null,
      "grid_row": null,
      "grid_template_areas": null,
      "grid_template_columns": null,
      "grid_template_rows": null,
      "height": null,
      "justify_content": null,
      "justify_items": null,
      "left": null,
      "margin": null,
      "max_height": null,
      "max_width": null,
      "min_height": null,
      "min_width": null,
      "object_fit": null,
      "object_position": null,
      "order": null,
      "overflow": null,
      "overflow_x": null,
      "overflow_y": null,
      "padding": null,
      "right": null,
      "top": null,
      "visibility": null,
      "width": null
     }
    },
    "03a79f94aaf840e19bd08839bfca3314": {
     "model_module": "@jupyter-widgets/controls",
     "model_module_version": "1.5.0",
     "model_name": "HBoxModel",
     "state": {
      "_dom_classes": [],
      "_model_module": "@jupyter-widgets/controls",
      "_model_module_version": "1.5.0",
      "_model_name": "HBoxModel",
      "_view_count": null,
      "_view_module": "@jupyter-widgets/controls",
      "_view_module_version": "1.5.0",
      "_view_name": "HBoxView",
      "box_style": "",
      "children": [
       "IPY_MODEL_85973d37e144454994332d4f3f1884f8",
       "IPY_MODEL_98db026739014384aea9a3dfe1e8c488",
       "IPY_MODEL_7ac9a43441f1445c8cf763b831762481"
      ],
      "layout": "IPY_MODEL_734ed66158a24a82ba33dfe53dd0dfbb"
     }
    },
    "041f57a57bd64e7786cbfec246a2cbd6": {
     "model_module": "@jupyter-widgets/controls",
     "model_module_version": "1.5.0",
     "model_name": "FloatProgressModel",
     "state": {
      "_dom_classes": [],
      "_model_module": "@jupyter-widgets/controls",
      "_model_module_version": "1.5.0",
      "_model_name": "FloatProgressModel",
      "_view_count": null,
      "_view_module": "@jupyter-widgets/controls",
      "_view_module_version": "1.5.0",
      "_view_name": "ProgressView",
      "bar_style": "success",
      "description": "",
      "description_tooltip": null,
      "layout": "IPY_MODEL_8af427cef6f94f0da2c9d954d66e62af",
      "max": 438011953,
      "min": 0,
      "orientation": "horizontal",
      "style": "IPY_MODEL_e2ae5881f26e4520bb1cbd55492f2639",
      "value": 438011953
     }
    },
    "07be5aa3ba5b4bdfb731a9357194d67c": {
     "model_module": "@jupyter-widgets/controls",
     "model_module_version": "1.5.0",
     "model_name": "DescriptionStyleModel",
     "state": {
      "_model_module": "@jupyter-widgets/controls",
      "_model_module_version": "1.5.0",
      "_model_name": "DescriptionStyleModel",
      "_view_count": null,
      "_view_module": "@jupyter-widgets/base",
      "_view_module_version": "1.2.0",
      "_view_name": "StyleView",
      "description_width": ""
     }
    },
    "08908b29b104460cbc9741871f4d5914": {
     "model_module": "@jupyter-widgets/controls",
     "model_module_version": "1.5.0",
     "model_name": "FloatProgressModel",
     "state": {
      "_dom_classes": [],
      "_model_module": "@jupyter-widgets/controls",
      "_model_module_version": "1.5.0",
      "_model_name": "FloatProgressModel",
      "_view_count": null,
      "_view_module": "@jupyter-widgets/controls",
      "_view_module_version": "1.5.0",
      "_view_name": "ProgressView",
      "bar_style": "success",
      "description": "",
      "description_tooltip": null,
      "layout": "IPY_MODEL_ec7bb19e9c9f44b1a41cfe3e28830794",
      "max": 466021,
      "min": 0,
      "orientation": "horizontal",
      "style": "IPY_MODEL_d3edafc26946489e9c973f64abfff288",
      "value": 466021
     }
    },
    "0b31477bcd1343f1a8e2f631ce1a3264": {
     "model_module": "@jupyter-widgets/controls",
     "model_module_version": "1.5.0",
     "model_name": "HTMLModel",
     "state": {
      "_dom_classes": [],
      "_model_module": "@jupyter-widgets/controls",
      "_model_module_version": "1.5.0",
      "_model_name": "HTMLModel",
      "_view_count": null,
      "_view_module": "@jupyter-widgets/controls",
      "_view_module_version": "1.5.0",
      "_view_name": "HTMLView",
      "description": "",
      "description_tooltip": null,
      "layout": "IPY_MODEL_228afedf420a486ab484c5e6de6be0d5",
      "placeholder": "​",
      "style": "IPY_MODEL_fa763922d6a44c8ea2fff113e419bb41",
      "value": " 4846/4846 [03:00&lt;00:00, 50.25it/s]"
     }
    },
    "101c5c90028c4fbba5d72a2fa77f333e": {
     "model_module": "@jupyter-widgets/controls",
     "model_module_version": "1.5.0",
     "model_name": "HTMLModel",
     "state": {
      "_dom_classes": [],
      "_model_module": "@jupyter-widgets/controls",
      "_model_module_version": "1.5.0",
      "_model_name": "HTMLModel",
      "_view_count": null,
      "_view_module": "@jupyter-widgets/controls",
      "_view_module_version": "1.5.0",
      "_view_name": "HTMLView",
      "description": "",
      "description_tooltip": null,
      "layout": "IPY_MODEL_d9b42e220b3842819e7503c2e5496550",
      "placeholder": "​",
      "style": "IPY_MODEL_ebb1df6970c948c29f2312a83fc899ea",
      "value": "Downloading: 100%"
     }
    },
    "1161b1d7c4ac40ceb6a417d91c810ffb": {
     "model_module": "@jupyter-widgets/base",
     "model_module_version": "1.2.0",
     "model_name": "LayoutModel",
     "state": {
      "_model_module": "@jupyter-widgets/base",
      "_model_module_version": "1.2.0",
      "_model_name": "LayoutModel",
      "_view_count": null,
      "_view_module": "@jupyter-widgets/base",
      "_view_module_version": "1.2.0",
      "_view_name": "LayoutView",
      "align_content": null,
      "align_items": null,
      "align_self": null,
      "border": null,
      "bottom": null,
      "display": null,
      "flex": null,
      "flex_flow": null,
      "grid_area": null,
      "grid_auto_columns": null,
      "grid_auto_flow": null,
      "grid_auto_rows": null,
      "grid_column": null,
      "grid_gap": null,
      "grid_row": null,
      "grid_template_areas": null,
      "grid_template_columns": null,
      "grid_template_rows": null,
      "height": null,
      "justify_content": null,
      "justify_items": null,
      "left": null,
      "margin": null,
      "max_height": null,
      "max_width": null,
      "min_height": null,
      "min_width": null,
      "object_fit": null,
      "object_position": null,
      "order": null,
      "overflow": null,
      "overflow_x": null,
      "overflow_y": null,
      "padding": null,
      "right": null,
      "top": null,
      "visibility": null,
      "width": null
     }
    },
    "134bad0cfa90442c907c7c60001ff790": {
     "model_module": "@jupyter-widgets/controls",
     "model_module_version": "1.5.0",
     "model_name": "FloatProgressModel",
     "state": {
      "_dom_classes": [],
      "_model_module": "@jupyter-widgets/controls",
      "_model_module_version": "1.5.0",
      "_model_name": "FloatProgressModel",
      "_view_count": null,
      "_view_module": "@jupyter-widgets/controls",
      "_view_module_version": "1.5.0",
      "_view_name": "ProgressView",
      "bar_style": "success",
      "description": "",
      "description_tooltip": null,
      "layout": "IPY_MODEL_831db242edc04c6585e87f658f683284",
      "max": 1175,
      "min": 0,
      "orientation": "horizontal",
      "style": "IPY_MODEL_4240423a7f7f4271a92b500085731272",
      "value": 1175
     }
    },
    "147ac6e1cb6b4410812fb0eae0dce723": {
     "model_module": "@jupyter-widgets/base",
     "model_module_version": "1.2.0",
     "model_name": "LayoutModel",
     "state": {
      "_model_module": "@jupyter-widgets/base",
      "_model_module_version": "1.2.0",
      "_model_name": "LayoutModel",
      "_view_count": null,
      "_view_module": "@jupyter-widgets/base",
      "_view_module_version": "1.2.0",
      "_view_name": "LayoutView",
      "align_content": null,
      "align_items": null,
      "align_self": null,
      "border": null,
      "bottom": null,
      "display": null,
      "flex": null,
      "flex_flow": null,
      "grid_area": null,
      "grid_auto_columns": null,
      "grid_auto_flow": null,
      "grid_auto_rows": null,
      "grid_column": null,
      "grid_gap": null,
      "grid_row": null,
      "grid_template_areas": null,
      "grid_template_columns": null,
      "grid_template_rows": null,
      "height": null,
      "justify_content": null,
      "justify_items": null,
      "left": null,
      "margin": null,
      "max_height": null,
      "max_width": null,
      "min_height": null,
      "min_width": null,
      "object_fit": null,
      "object_position": null,
      "order": null,
      "overflow": null,
      "overflow_x": null,
      "overflow_y": null,
      "padding": null,
      "right": null,
      "top": null,
      "visibility": null,
      "width": null
     }
    },
    "15a8d26a6ce44151ad71411cb866ad6d": {
     "model_module": "@jupyter-widgets/controls",
     "model_module_version": "1.5.0",
     "model_name": "HBoxModel",
     "state": {
      "_dom_classes": [],
      "_model_module": "@jupyter-widgets/controls",
      "_model_module_version": "1.5.0",
      "_model_name": "HBoxModel",
      "_view_count": null,
      "_view_module": "@jupyter-widgets/controls",
      "_view_module_version": "1.5.0",
      "_view_name": "HBoxView",
      "box_style": "",
      "children": [
       "IPY_MODEL_6c01a34b60024375a3b8764d1cf46b9c",
       "IPY_MODEL_8f61f8fcec784bf39b1518199e748a67",
       "IPY_MODEL_5d81d7306f014191b134de5f2b7b7cd1"
      ],
      "layout": "IPY_MODEL_307cc9a0c29242f6ac1da741643df78d"
     }
    },
    "19b0854b192844d09ad3337d5ac98ad4": {
     "model_module": "@jupyter-widgets/controls",
     "model_module_version": "1.5.0",
     "model_name": "HTMLModel",
     "state": {
      "_dom_classes": [],
      "_model_module": "@jupyter-widgets/controls",
      "_model_module_version": "1.5.0",
      "_model_name": "HTMLModel",
      "_view_count": null,
      "_view_module": "@jupyter-widgets/controls",
      "_view_module_version": "1.5.0",
      "_view_name": "HTMLView",
      "description": "",
      "description_tooltip": null,
      "layout": "IPY_MODEL_6a0cdbd344ed4b43b365c96223157bf5",
      "placeholder": "​",
      "style": "IPY_MODEL_76c03cf81a6c43619a5cdc4d44246323",
      "value": " 466k/466k [00:00&lt;00:00, 952kB/s]"
     }
    },
    "1a5dfb24b7d34eb6a1cd4b789396e27b": {
     "model_module": "@jupyter-widgets/controls",
     "model_module_version": "1.5.0",
     "model_name": "DescriptionStyleModel",
     "state": {
      "_model_module": "@jupyter-widgets/controls",
      "_model_module_version": "1.5.0",
      "_model_name": "DescriptionStyleModel",
      "_view_count": null,
      "_view_module": "@jupyter-widgets/base",
      "_view_module_version": "1.2.0",
      "_view_name": "StyleView",
      "description_width": ""
     }
    },
    "1b67d658af544d03a0ffc0972096d36e": {
     "model_module": "@jupyter-widgets/base",
     "model_module_version": "1.2.0",
     "model_name": "LayoutModel",
     "state": {
      "_model_module": "@jupyter-widgets/base",
      "_model_module_version": "1.2.0",
      "_model_name": "LayoutModel",
      "_view_count": null,
      "_view_module": "@jupyter-widgets/base",
      "_view_module_version": "1.2.0",
      "_view_name": "LayoutView",
      "align_content": null,
      "align_items": null,
      "align_self": null,
      "border": null,
      "bottom": null,
      "display": null,
      "flex": null,
      "flex_flow": null,
      "grid_area": null,
      "grid_auto_columns": null,
      "grid_auto_flow": null,
      "grid_auto_rows": null,
      "grid_column": null,
      "grid_gap": null,
      "grid_row": null,
      "grid_template_areas": null,
      "grid_template_columns": null,
      "grid_template_rows": null,
      "height": null,
      "justify_content": null,
      "justify_items": null,
      "left": null,
      "margin": null,
      "max_height": null,
      "max_width": null,
      "min_height": null,
      "min_width": null,
      "object_fit": null,
      "object_position": null,
      "order": null,
      "overflow": null,
      "overflow_x": null,
      "overflow_y": null,
      "padding": null,
      "right": null,
      "top": null,
      "visibility": null,
      "width": null
     }
    },
    "1bec5373e2894830827803fb58791a4a": {
     "model_module": "@jupyter-widgets/controls",
     "model_module_version": "1.5.0",
     "model_name": "HBoxModel",
     "state": {
      "_dom_classes": [],
      "_model_module": "@jupyter-widgets/controls",
      "_model_module_version": "1.5.0",
      "_model_name": "HBoxModel",
      "_view_count": null,
      "_view_module": "@jupyter-widgets/controls",
      "_view_module_version": "1.5.0",
      "_view_name": "HBoxView",
      "box_style": "",
      "children": [
       "IPY_MODEL_59542b08fc814837837fb3db165834d4",
       "IPY_MODEL_fb757ee80a7f44fab9b4b5a4fbdb42b0",
       "IPY_MODEL_59c3eb325442437c94065f7fcc12a449"
      ],
      "layout": "IPY_MODEL_8957beb3799a4c109e59b331a4b9dd94"
     }
    },
    "1c4679f5aea149e889f629da442b361e": {
     "model_module": "@jupyter-widgets/base",
     "model_module_version": "1.2.0",
     "model_name": "LayoutModel",
     "state": {
      "_model_module": "@jupyter-widgets/base",
      "_model_module_version": "1.2.0",
      "_model_name": "LayoutModel",
      "_view_count": null,
      "_view_module": "@jupyter-widgets/base",
      "_view_module_version": "1.2.0",
      "_view_name": "LayoutView",
      "align_content": null,
      "align_items": null,
      "align_self": null,
      "border": null,
      "bottom": null,
      "display": null,
      "flex": null,
      "flex_flow": null,
      "grid_area": null,
      "grid_auto_columns": null,
      "grid_auto_flow": null,
      "grid_auto_rows": null,
      "grid_column": null,
      "grid_gap": null,
      "grid_row": null,
      "grid_template_areas": null,
      "grid_template_columns": null,
      "grid_template_rows": null,
      "height": null,
      "justify_content": null,
      "justify_items": null,
      "left": null,
      "margin": null,
      "max_height": null,
      "max_width": null,
      "min_height": null,
      "min_width": null,
      "object_fit": null,
      "object_position": null,
      "order": null,
      "overflow": null,
      "overflow_x": null,
      "overflow_y": null,
      "padding": null,
      "right": null,
      "top": null,
      "visibility": null,
      "width": null
     }
    },
    "228afedf420a486ab484c5e6de6be0d5": {
     "model_module": "@jupyter-widgets/base",
     "model_module_version": "1.2.0",
     "model_name": "LayoutModel",
     "state": {
      "_model_module": "@jupyter-widgets/base",
      "_model_module_version": "1.2.0",
      "_model_name": "LayoutModel",
      "_view_count": null,
      "_view_module": "@jupyter-widgets/base",
      "_view_module_version": "1.2.0",
      "_view_name": "LayoutView",
      "align_content": null,
      "align_items": null,
      "align_self": null,
      "border": null,
      "bottom": null,
      "display": null,
      "flex": null,
      "flex_flow": null,
      "grid_area": null,
      "grid_auto_columns": null,
      "grid_auto_flow": null,
      "grid_auto_rows": null,
      "grid_column": null,
      "grid_gap": null,
      "grid_row": null,
      "grid_template_areas": null,
      "grid_template_columns": null,
      "grid_template_rows": null,
      "height": null,
      "justify_content": null,
      "justify_items": null,
      "left": null,
      "margin": null,
      "max_height": null,
      "max_width": null,
      "min_height": null,
      "min_width": null,
      "object_fit": null,
      "object_position": null,
      "order": null,
      "overflow": null,
      "overflow_x": null,
      "overflow_y": null,
      "padding": null,
      "right": null,
      "top": null,
      "visibility": null,
      "width": null
     }
    },
    "24d43919a4eb4b8993f930162e8104c6": {
     "model_module": "@jupyter-widgets/controls",
     "model_module_version": "1.5.0",
     "model_name": "HBoxModel",
     "state": {
      "_dom_classes": [],
      "_model_module": "@jupyter-widgets/controls",
      "_model_module_version": "1.5.0",
      "_model_name": "HBoxModel",
      "_view_count": null,
      "_view_module": "@jupyter-widgets/controls",
      "_view_module_version": "1.5.0",
      "_view_name": "HBoxView",
      "box_style": "",
      "children": [
       "IPY_MODEL_101c5c90028c4fbba5d72a2fa77f333e",
       "IPY_MODEL_fc4063a95b7b4afbb2631c75f11349c1",
       "IPY_MODEL_01ff6b14db5e403182d6af8274da7282"
      ],
      "layout": "IPY_MODEL_c7608fcfb0c7430ea40b2f2b7f938572"
     }
    },
    "2b9e3c7bfa3b4ed19a2bb4ec96514b3b": {
     "model_module": "@jupyter-widgets/base",
     "model_module_version": "1.2.0",
     "model_name": "LayoutModel",
     "state": {
      "_model_module": "@jupyter-widgets/base",
      "_model_module_version": "1.2.0",
      "_model_name": "LayoutModel",
      "_view_count": null,
      "_view_module": "@jupyter-widgets/base",
      "_view_module_version": "1.2.0",
      "_view_name": "LayoutView",
      "align_content": null,
      "align_items": null,
      "align_self": null,
      "border": null,
      "bottom": null,
      "display": null,
      "flex": null,
      "flex_flow": null,
      "grid_area": null,
      "grid_auto_columns": null,
      "grid_auto_flow": null,
      "grid_auto_rows": null,
      "grid_column": null,
      "grid_gap": null,
      "grid_row": null,
      "grid_template_areas": null,
      "grid_template_columns": null,
      "grid_template_rows": null,
      "height": null,
      "justify_content": null,
      "justify_items": null,
      "left": null,
      "margin": null,
      "max_height": null,
      "max_width": null,
      "min_height": null,
      "min_width": null,
      "object_fit": null,
      "object_position": null,
      "order": null,
      "overflow": null,
      "overflow_x": null,
      "overflow_y": null,
      "padding": null,
      "right": null,
      "top": null,
      "visibility": null,
      "width": null
     }
    },
    "307cc9a0c29242f6ac1da741643df78d": {
     "model_module": "@jupyter-widgets/base",
     "model_module_version": "1.2.0",
     "model_name": "LayoutModel",
     "state": {
      "_model_module": "@jupyter-widgets/base",
      "_model_module_version": "1.2.0",
      "_model_name": "LayoutModel",
      "_view_count": null,
      "_view_module": "@jupyter-widgets/base",
      "_view_module_version": "1.2.0",
      "_view_name": "LayoutView",
      "align_content": null,
      "align_items": null,
      "align_self": null,
      "border": null,
      "bottom": null,
      "display": null,
      "flex": null,
      "flex_flow": null,
      "grid_area": null,
      "grid_auto_columns": null,
      "grid_auto_flow": null,
      "grid_auto_rows": null,
      "grid_column": null,
      "grid_gap": null,
      "grid_row": null,
      "grid_template_areas": null,
      "grid_template_columns": null,
      "grid_template_rows": null,
      "height": null,
      "justify_content": null,
      "justify_items": null,
      "left": null,
      "margin": null,
      "max_height": null,
      "max_width": null,
      "min_height": null,
      "min_width": null,
      "object_fit": null,
      "object_position": null,
      "order": null,
      "overflow": null,
      "overflow_x": null,
      "overflow_y": null,
      "padding": null,
      "right": null,
      "top": null,
      "visibility": null,
      "width": null
     }
    },
    "35e278f7dc51413daeb118101614a22e": {
     "model_module": "@jupyter-widgets/controls",
     "model_module_version": "1.5.0",
     "model_name": "HBoxModel",
     "state": {
      "_dom_classes": [],
      "_model_module": "@jupyter-widgets/controls",
      "_model_module_version": "1.5.0",
      "_model_name": "HBoxModel",
      "_view_count": null,
      "_view_module": "@jupyter-widgets/controls",
      "_view_module_version": "1.5.0",
      "_view_name": "HBoxView",
      "box_style": "",
      "children": [
       "IPY_MODEL_02d9ef93f8b44ac5bfdbefe125e4d69d",
       "IPY_MODEL_041f57a57bd64e7786cbfec246a2cbd6",
       "IPY_MODEL_4581b2d584504e00b4332d0626b8d187"
      ],
      "layout": "IPY_MODEL_b3c43760c05749229f00ad05fc4c3dfe"
     }
    },
    "3684c0f23c044ec4826273be50634b8d": {
     "model_module": "@jupyter-widgets/base",
     "model_module_version": "1.2.0",
     "model_name": "LayoutModel",
     "state": {
      "_model_module": "@jupyter-widgets/base",
      "_model_module_version": "1.2.0",
      "_model_name": "LayoutModel",
      "_view_count": null,
      "_view_module": "@jupyter-widgets/base",
      "_view_module_version": "1.2.0",
      "_view_name": "LayoutView",
      "align_content": null,
      "align_items": null,
      "align_self": null,
      "border": null,
      "bottom": null,
      "display": null,
      "flex": null,
      "flex_flow": null,
      "grid_area": null,
      "grid_auto_columns": null,
      "grid_auto_flow": null,
      "grid_auto_rows": null,
      "grid_column": null,
      "grid_gap": null,
      "grid_row": null,
      "grid_template_areas": null,
      "grid_template_columns": null,
      "grid_template_rows": null,
      "height": null,
      "justify_content": null,
      "justify_items": null,
      "left": null,
      "margin": null,
      "max_height": null,
      "max_width": null,
      "min_height": null,
      "min_width": null,
      "object_fit": null,
      "object_position": null,
      "order": null,
      "overflow": null,
      "overflow_x": null,
      "overflow_y": null,
      "padding": null,
      "right": null,
      "top": null,
      "visibility": null,
      "width": null
     }
    },
    "36a14b6c93334ee3991d761ec08c0b6d": {
     "model_module": "@jupyter-widgets/controls",
     "model_module_version": "1.5.0",
     "model_name": "HBoxModel",
     "state": {
      "_dom_classes": [],
      "_model_module": "@jupyter-widgets/controls",
      "_model_module_version": "1.5.0",
      "_model_name": "HBoxModel",
      "_view_count": null,
      "_view_module": "@jupyter-widgets/controls",
      "_view_module_version": "1.5.0",
      "_view_name": "HBoxView",
      "box_style": "",
      "children": [
       "IPY_MODEL_efac8ec8b5a642ad83f0a7fba6dda4ae",
       "IPY_MODEL_3f492c2b92374161b8432fb9b08cc093",
       "IPY_MODEL_44098576d1014952940de4012c3fdc6d"
      ],
      "layout": "IPY_MODEL_d45b674637b24c718583c8665d2efdef"
     }
    },
    "3bba594da74f48249c8e3ee0652afe41": {
     "model_module": "@jupyter-widgets/controls",
     "model_module_version": "1.5.0",
     "model_name": "ProgressStyleModel",
     "state": {
      "_model_module": "@jupyter-widgets/controls",
      "_model_module_version": "1.5.0",
      "_model_name": "ProgressStyleModel",
      "_view_count": null,
      "_view_module": "@jupyter-widgets/base",
      "_view_module_version": "1.2.0",
      "_view_name": "StyleView",
      "bar_color": null,
      "description_width": ""
     }
    },
    "3f01bde548f24c798fd0041a6ead2615": {
     "model_module": "@jupyter-widgets/controls",
     "model_module_version": "1.5.0",
     "model_name": "HTMLModel",
     "state": {
      "_dom_classes": [],
      "_model_module": "@jupyter-widgets/controls",
      "_model_module_version": "1.5.0",
      "_model_name": "HTMLModel",
      "_view_count": null,
      "_view_module": "@jupyter-widgets/controls",
      "_view_module_version": "1.5.0",
      "_view_name": "HTMLView",
      "description": "",
      "description_tooltip": null,
      "layout": "IPY_MODEL_2b9e3c7bfa3b4ed19a2bb4ec96514b3b",
      "placeholder": "​",
      "style": "IPY_MODEL_610a9e9a8d054d0582e3b758111f5483",
      "value": "Downloading: 100%"
     }
    },
    "3f3cff58bc26475da5a50d576da8ebad": {
     "model_module": "@jupyter-widgets/controls",
     "model_module_version": "1.5.0",
     "model_name": "HBoxModel",
     "state": {
      "_dom_classes": [],
      "_model_module": "@jupyter-widgets/controls",
      "_model_module_version": "1.5.0",
      "_model_name": "HBoxModel",
      "_view_count": null,
      "_view_module": "@jupyter-widgets/controls",
      "_view_module_version": "1.5.0",
      "_view_name": "HBoxView",
      "box_style": "",
      "children": [
       "IPY_MODEL_3f01bde548f24c798fd0041a6ead2615",
       "IPY_MODEL_08908b29b104460cbc9741871f4d5914",
       "IPY_MODEL_19b0854b192844d09ad3337d5ac98ad4"
      ],
      "layout": "IPY_MODEL_9ff3944d44554345a84c1a1ba46e0de8"
     }
    },
    "3f492c2b92374161b8432fb9b08cc093": {
     "model_module": "@jupyter-widgets/controls",
     "model_module_version": "1.5.0",
     "model_name": "FloatProgressModel",
     "state": {
      "_dom_classes": [],
      "_model_module": "@jupyter-widgets/controls",
      "_model_module_version": "1.5.0",
      "_model_name": "FloatProgressModel",
      "_view_count": null,
      "_view_module": "@jupyter-widgets/controls",
      "_view_module_version": "1.5.0",
      "_view_name": "ProgressView",
      "bar_style": "success",
      "description": "",
      "description_tooltip": null,
      "layout": "IPY_MODEL_b6f78fff1c0e4943b06562a180821696",
      "max": 116,
      "min": 0,
      "orientation": "horizontal",
      "style": "IPY_MODEL_6223ef9a3c314ec9b5557b5c297be584",
      "value": 116
     }
    },
    "413bd7272a244d6dba57e5c218645806": {
     "model_module": "@jupyter-widgets/base",
     "model_module_version": "1.2.0",
     "model_name": "LayoutModel",
     "state": {
      "_model_module": "@jupyter-widgets/base",
      "_model_module_version": "1.2.0",
      "_model_name": "LayoutModel",
      "_view_count": null,
      "_view_module": "@jupyter-widgets/base",
      "_view_module_version": "1.2.0",
      "_view_name": "LayoutView",
      "align_content": null,
      "align_items": null,
      "align_self": null,
      "border": null,
      "bottom": null,
      "display": null,
      "flex": null,
      "flex_flow": null,
      "grid_area": null,
      "grid_auto_columns": null,
      "grid_auto_flow": null,
      "grid_auto_rows": null,
      "grid_column": null,
      "grid_gap": null,
      "grid_row": null,
      "grid_template_areas": null,
      "grid_template_columns": null,
      "grid_template_rows": null,
      "height": null,
      "justify_content": null,
      "justify_items": null,
      "left": null,
      "margin": null,
      "max_height": null,
      "max_width": null,
      "min_height": null,
      "min_width": null,
      "object_fit": null,
      "object_position": null,
      "order": null,
      "overflow": null,
      "overflow_x": null,
      "overflow_y": null,
      "padding": null,
      "right": null,
      "top": null,
      "visibility": null,
      "width": null
     }
    },
    "4240423a7f7f4271a92b500085731272": {
     "model_module": "@jupyter-widgets/controls",
     "model_module_version": "1.5.0",
     "model_name": "ProgressStyleModel",
     "state": {
      "_model_module": "@jupyter-widgets/controls",
      "_model_module_version": "1.5.0",
      "_model_name": "ProgressStyleModel",
      "_view_count": null,
      "_view_module": "@jupyter-widgets/base",
      "_view_module_version": "1.2.0",
      "_view_name": "StyleView",
      "bar_color": null,
      "description_width": ""
     }
    },
    "44098576d1014952940de4012c3fdc6d": {
     "model_module": "@jupyter-widgets/controls",
     "model_module_version": "1.5.0",
     "model_name": "HTMLModel",
     "state": {
      "_dom_classes": [],
      "_model_module": "@jupyter-widgets/controls",
      "_model_module_version": "1.5.0",
      "_model_name": "HTMLModel",
      "_view_count": null,
      "_view_module": "@jupyter-widgets/controls",
      "_view_module_version": "1.5.0",
      "_view_name": "HTMLView",
      "description": "",
      "description_tooltip": null,
      "layout": "IPY_MODEL_6bf1a3258b694a519a963734dda9fd86",
      "placeholder": "​",
      "style": "IPY_MODEL_854dd6e305a54ca18940d9a28ae34759",
      "value": " 116/116 [00:00&lt;00:00, 2.70kB/s]"
     }
    },
    "4581b2d584504e00b4332d0626b8d187": {
     "model_module": "@jupyter-widgets/controls",
     "model_module_version": "1.5.0",
     "model_name": "HTMLModel",
     "state": {
      "_dom_classes": [],
      "_model_module": "@jupyter-widgets/controls",
      "_model_module_version": "1.5.0",
      "_model_name": "HTMLModel",
      "_view_count": null,
      "_view_module": "@jupyter-widgets/controls",
      "_view_module_version": "1.5.0",
      "_view_name": "HTMLView",
      "description": "",
      "description_tooltip": null,
      "layout": "IPY_MODEL_8ffd7b681df9441bb901f3131eec8d64",
      "placeholder": "​",
      "style": "IPY_MODEL_91f5b8beaafa4673bae7b3cc7570c690",
      "value": " 438M/438M [00:07&lt;00:00, 63.2MB/s]"
     }
    },
    "46817e7104004f9aa41e9dc1cb5e16e5": {
     "model_module": "@jupyter-widgets/controls",
     "model_module_version": "1.5.0",
     "model_name": "FloatProgressModel",
     "state": {
      "_dom_classes": [],
      "_model_module": "@jupyter-widgets/controls",
      "_model_module_version": "1.5.0",
      "_model_name": "FloatProgressModel",
      "_view_count": null,
      "_view_module": "@jupyter-widgets/controls",
      "_view_module_version": "1.5.0",
      "_view_name": "ProgressView",
      "bar_style": "success",
      "description": "",
      "description_tooltip": null,
      "layout": "IPY_MODEL_9317aa07051b45128dbb047fd5f47bd1",
      "max": 4846,
      "min": 0,
      "orientation": "horizontal",
      "style": "IPY_MODEL_7e61460fd5704dc38dadb18c5c0754c4",
      "value": 4846
     }
    },
    "4dbeaf6742b84b329e2fdfaf3a43300d": {
     "model_module": "@jupyter-widgets/controls",
     "model_module_version": "1.5.0",
     "model_name": "HBoxModel",
     "state": {
      "_dom_classes": [],
      "_model_module": "@jupyter-widgets/controls",
      "_model_module_version": "1.5.0",
      "_model_name": "HBoxModel",
      "_view_count": null,
      "_view_module": "@jupyter-widgets/controls",
      "_view_module_version": "1.5.0",
      "_view_name": "HBoxView",
      "box_style": "",
      "children": [
       "IPY_MODEL_f74f13c12cc546a1af7b70ae54985356",
       "IPY_MODEL_46817e7104004f9aa41e9dc1cb5e16e5",
       "IPY_MODEL_0b31477bcd1343f1a8e2f631ce1a3264"
      ],
      "layout": "IPY_MODEL_5ba8e17a518040808736d454ccaa88aa"
     }
    },
    "4e31f36aaf2a46c7a80d290f536e7cfe": {
     "model_module": "@jupyter-widgets/base",
     "model_module_version": "1.2.0",
     "model_name": "LayoutModel",
     "state": {
      "_model_module": "@jupyter-widgets/base",
      "_model_module_version": "1.2.0",
      "_model_name": "LayoutModel",
      "_view_count": null,
      "_view_module": "@jupyter-widgets/base",
      "_view_module_version": "1.2.0",
      "_view_name": "LayoutView",
      "align_content": null,
      "align_items": null,
      "align_self": null,
      "border": null,
      "bottom": null,
      "display": null,
      "flex": null,
      "flex_flow": null,
      "grid_area": null,
      "grid_auto_columns": null,
      "grid_auto_flow": null,
      "grid_auto_rows": null,
      "grid_column": null,
      "grid_gap": null,
      "grid_row": null,
      "grid_template_areas": null,
      "grid_template_columns": null,
      "grid_template_rows": null,
      "height": null,
      "justify_content": null,
      "justify_items": null,
      "left": null,
      "margin": null,
      "max_height": null,
      "max_width": null,
      "min_height": null,
      "min_width": null,
      "object_fit": null,
      "object_position": null,
      "order": null,
      "overflow": null,
      "overflow_x": null,
      "overflow_y": null,
      "padding": null,
      "right": null,
      "top": null,
      "visibility": null,
      "width": null
     }
    },
    "51b215d43bee4e048de7f2b01400e923": {
     "model_module": "@jupyter-widgets/controls",
     "model_module_version": "1.5.0",
     "model_name": "DescriptionStyleModel",
     "state": {
      "_model_module": "@jupyter-widgets/controls",
      "_model_module_version": "1.5.0",
      "_model_name": "DescriptionStyleModel",
      "_view_count": null,
      "_view_module": "@jupyter-widgets/base",
      "_view_module_version": "1.2.0",
      "_view_name": "StyleView",
      "description_width": ""
     }
    },
    "535994abf42c47f4914c396b0f401833": {
     "model_module": "@jupyter-widgets/controls",
     "model_module_version": "1.5.0",
     "model_name": "DescriptionStyleModel",
     "state": {
      "_model_module": "@jupyter-widgets/controls",
      "_model_module_version": "1.5.0",
      "_model_name": "DescriptionStyleModel",
      "_view_count": null,
      "_view_module": "@jupyter-widgets/base",
      "_view_module_version": "1.2.0",
      "_view_name": "StyleView",
      "description_width": ""
     }
    },
    "57c4e76163b848aabf22a198cbf7acbd": {
     "model_module": "@jupyter-widgets/controls",
     "model_module_version": "1.5.0",
     "model_name": "DescriptionStyleModel",
     "state": {
      "_model_module": "@jupyter-widgets/controls",
      "_model_module_version": "1.5.0",
      "_model_name": "DescriptionStyleModel",
      "_view_count": null,
      "_view_module": "@jupyter-widgets/base",
      "_view_module_version": "1.2.0",
      "_view_name": "StyleView",
      "description_width": ""
     }
    },
    "59542b08fc814837837fb3db165834d4": {
     "model_module": "@jupyter-widgets/controls",
     "model_module_version": "1.5.0",
     "model_name": "HTMLModel",
     "state": {
      "_dom_classes": [],
      "_model_module": "@jupyter-widgets/controls",
      "_model_module_version": "1.5.0",
      "_model_name": "HTMLModel",
      "_view_count": null,
      "_view_module": "@jupyter-widgets/controls",
      "_view_module_version": "1.5.0",
      "_view_name": "HTMLView",
      "description": "",
      "description_tooltip": null,
      "layout": "IPY_MODEL_68a9520dc0dc4a8f9ba609f39b568124",
      "placeholder": "​",
      "style": "IPY_MODEL_ae2c022943314397bbe3efd94a010fb5",
      "value": "Downloading: 100%"
     }
    },
    "59c3eb325442437c94065f7fcc12a449": {
     "model_module": "@jupyter-widgets/controls",
     "model_module_version": "1.5.0",
     "model_name": "HTMLModel",
     "state": {
      "_dom_classes": [],
      "_model_module": "@jupyter-widgets/controls",
      "_model_module_version": "1.5.0",
      "_model_name": "HTMLModel",
      "_view_count": null,
      "_view_module": "@jupyter-widgets/controls",
      "_view_module_version": "1.5.0",
      "_view_name": "HTMLView",
      "description": "",
      "description_tooltip": null,
      "layout": "IPY_MODEL_d84ff5edc0b7429297564c2faee2d54f",
      "placeholder": "​",
      "style": "IPY_MODEL_6eb6892060914778b86e52543e6b0c9e",
      "value": " 571/571 [00:00&lt;00:00, 17.1kB/s]"
     }
    },
    "5a6b396903704df9b7083146f3db0a9d": {
     "model_module": "@jupyter-widgets/controls",
     "model_module_version": "1.5.0",
     "model_name": "FloatProgressModel",
     "state": {
      "_dom_classes": [],
      "_model_module": "@jupyter-widgets/controls",
      "_model_module_version": "1.5.0",
      "_model_name": "FloatProgressModel",
      "_view_count": null,
      "_view_module": "@jupyter-widgets/controls",
      "_view_module_version": "1.5.0",
      "_view_name": "ProgressView",
      "bar_style": "success",
      "description": "",
      "description_tooltip": null,
      "layout": "IPY_MODEL_d904c8d616794f0e99bd23c6a62cefeb",
      "max": 190,
      "min": 0,
      "orientation": "horizontal",
      "style": "IPY_MODEL_c236c4bbb41f45d59b38b36f81fedef4",
      "value": 190
     }
    },
    "5ba8e17a518040808736d454ccaa88aa": {
     "model_module": "@jupyter-widgets/base",
     "model_module_version": "1.2.0",
     "model_name": "LayoutModel",
     "state": {
      "_model_module": "@jupyter-widgets/base",
      "_model_module_version": "1.2.0",
      "_model_name": "LayoutModel",
      "_view_count": null,
      "_view_module": "@jupyter-widgets/base",
      "_view_module_version": "1.2.0",
      "_view_name": "LayoutView",
      "align_content": null,
      "align_items": null,
      "align_self": null,
      "border": null,
      "bottom": null,
      "display": null,
      "flex": null,
      "flex_flow": null,
      "grid_area": null,
      "grid_auto_columns": null,
      "grid_auto_flow": null,
      "grid_auto_rows": null,
      "grid_column": null,
      "grid_gap": null,
      "grid_row": null,
      "grid_template_areas": null,
      "grid_template_columns": null,
      "grid_template_rows": null,
      "height": null,
      "justify_content": null,
      "justify_items": null,
      "left": null,
      "margin": null,
      "max_height": null,
      "max_width": null,
      "min_height": null,
      "min_width": null,
      "object_fit": null,
      "object_position": null,
      "order": null,
      "overflow": null,
      "overflow_x": null,
      "overflow_y": null,
      "padding": null,
      "right": null,
      "top": null,
      "visibility": null,
      "width": null
     }
    },
    "5c06de79cdeb4a4f9e57b2d610196f79": {
     "model_module": "@jupyter-widgets/base",
     "model_module_version": "1.2.0",
     "model_name": "LayoutModel",
     "state": {
      "_model_module": "@jupyter-widgets/base",
      "_model_module_version": "1.2.0",
      "_model_name": "LayoutModel",
      "_view_count": null,
      "_view_module": "@jupyter-widgets/base",
      "_view_module_version": "1.2.0",
      "_view_name": "LayoutView",
      "align_content": null,
      "align_items": null,
      "align_self": null,
      "border": null,
      "bottom": null,
      "display": null,
      "flex": null,
      "flex_flow": null,
      "grid_area": null,
      "grid_auto_columns": null,
      "grid_auto_flow": null,
      "grid_auto_rows": null,
      "grid_column": null,
      "grid_gap": null,
      "grid_row": null,
      "grid_template_areas": null,
      "grid_template_columns": null,
      "grid_template_rows": null,
      "height": null,
      "justify_content": null,
      "justify_items": null,
      "left": null,
      "margin": null,
      "max_height": null,
      "max_width": null,
      "min_height": null,
      "min_width": null,
      "object_fit": null,
      "object_position": null,
      "order": null,
      "overflow": null,
      "overflow_x": null,
      "overflow_y": null,
      "padding": null,
      "right": null,
      "top": null,
      "visibility": null,
      "width": null
     }
    },
    "5cb29053e3ac4b5faa247573500a4b1d": {
     "model_module": "@jupyter-widgets/controls",
     "model_module_version": "1.5.0",
     "model_name": "HTMLModel",
     "state": {
      "_dom_classes": [],
      "_model_module": "@jupyter-widgets/controls",
      "_model_module_version": "1.5.0",
      "_model_name": "HTMLModel",
      "_view_count": null,
      "_view_module": "@jupyter-widgets/controls",
      "_view_module_version": "1.5.0",
      "_view_name": "HTMLView",
      "description": "",
      "description_tooltip": null,
      "layout": "IPY_MODEL_bb802df468284f26ad3809a858ebf338",
      "placeholder": "​",
      "style": "IPY_MODEL_b33fe491b70248a49733c7ae8b143efc",
      "value": "Downloading: 100%"
     }
    },
    "5d81d7306f014191b134de5f2b7b7cd1": {
     "model_module": "@jupyter-widgets/controls",
     "model_module_version": "1.5.0",
     "model_name": "HTMLModel",
     "state": {
      "_dom_classes": [],
      "_model_module": "@jupyter-widgets/controls",
      "_model_module_version": "1.5.0",
      "_model_name": "HTMLModel",
      "_view_count": null,
      "_view_module": "@jupyter-widgets/controls",
      "_view_module_version": "1.5.0",
      "_view_name": "HTMLView",
      "description": "",
      "description_tooltip": null,
      "layout": "IPY_MODEL_4e31f36aaf2a46c7a80d290f536e7cfe",
      "placeholder": "​",
      "style": "IPY_MODEL_d954233c123343d9bd43a5b7057915e0",
      "value": " 53.0/53.0 [00:00&lt;00:00, 1.46kB/s]"
     }
    },
    "5e0a6a5e418448268e2ba4c4471a0c59": {
     "model_module": "@jupyter-widgets/controls",
     "model_module_version": "1.5.0",
     "model_name": "DescriptionStyleModel",
     "state": {
      "_model_module": "@jupyter-widgets/controls",
      "_model_module_version": "1.5.0",
      "_model_name": "DescriptionStyleModel",
      "_view_count": null,
      "_view_module": "@jupyter-widgets/base",
      "_view_module_version": "1.2.0",
      "_view_name": "StyleView",
      "description_width": ""
     }
    },
    "610a9e9a8d054d0582e3b758111f5483": {
     "model_module": "@jupyter-widgets/controls",
     "model_module_version": "1.5.0",
     "model_name": "DescriptionStyleModel",
     "state": {
      "_model_module": "@jupyter-widgets/controls",
      "_model_module_version": "1.5.0",
      "_model_name": "DescriptionStyleModel",
      "_view_count": null,
      "_view_module": "@jupyter-widgets/base",
      "_view_module_version": "1.2.0",
      "_view_name": "StyleView",
      "description_width": ""
     }
    },
    "6223ef9a3c314ec9b5557b5c297be584": {
     "model_module": "@jupyter-widgets/controls",
     "model_module_version": "1.5.0",
     "model_name": "ProgressStyleModel",
     "state": {
      "_model_module": "@jupyter-widgets/controls",
      "_model_module_version": "1.5.0",
      "_model_name": "ProgressStyleModel",
      "_view_count": null,
      "_view_module": "@jupyter-widgets/base",
      "_view_module_version": "1.2.0",
      "_view_name": "StyleView",
      "bar_color": null,
      "description_width": ""
     }
    },
    "63990fb5f755425ab1eb99cd7f9716b3": {
     "model_module": "@jupyter-widgets/controls",
     "model_module_version": "1.5.0",
     "model_name": "DescriptionStyleModel",
     "state": {
      "_model_module": "@jupyter-widgets/controls",
      "_model_module_version": "1.5.0",
      "_model_name": "DescriptionStyleModel",
      "_view_count": null,
      "_view_module": "@jupyter-widgets/base",
      "_view_module_version": "1.2.0",
      "_view_name": "StyleView",
      "description_width": ""
     }
    },
    "63b919b98b434677929c5038f2e2dcda": {
     "model_module": "@jupyter-widgets/controls",
     "model_module_version": "1.5.0",
     "model_name": "ProgressStyleModel",
     "state": {
      "_model_module": "@jupyter-widgets/controls",
      "_model_module_version": "1.5.0",
      "_model_name": "ProgressStyleModel",
      "_view_count": null,
      "_view_module": "@jupyter-widgets/base",
      "_view_module_version": "1.2.0",
      "_view_name": "StyleView",
      "bar_color": null,
      "description_width": ""
     }
    },
    "6828a059d5194082b6c49df190802215": {
     "model_module": "@jupyter-widgets/controls",
     "model_module_version": "1.5.0",
     "model_name": "HTMLModel",
     "state": {
      "_dom_classes": [],
      "_model_module": "@jupyter-widgets/controls",
      "_model_module_version": "1.5.0",
      "_model_name": "HTMLModel",
      "_view_count": null,
      "_view_module": "@jupyter-widgets/controls",
      "_view_module_version": "1.5.0",
      "_view_name": "HTMLView",
      "description": "",
      "description_tooltip": null,
      "layout": "IPY_MODEL_d6f155d5e04647bdb5ce3c1ffe2beaa3",
      "placeholder": "​",
      "style": "IPY_MODEL_cb557c5bfc934944b1ce6eb721179d87",
      "value": " 10.6k/10.6k [00:00&lt;00:00, 347kB/s]"
     }
    },
    "68a9520dc0dc4a8f9ba609f39b568124": {
     "model_module": "@jupyter-widgets/base",
     "model_module_version": "1.2.0",
     "model_name": "LayoutModel",
     "state": {
      "_model_module": "@jupyter-widgets/base",
      "_model_module_version": "1.2.0",
      "_model_name": "LayoutModel",
      "_view_count": null,
      "_view_module": "@jupyter-widgets/base",
      "_view_module_version": "1.2.0",
      "_view_name": "LayoutView",
      "align_content": null,
      "align_items": null,
      "align_self": null,
      "border": null,
      "bottom": null,
      "display": null,
      "flex": null,
      "flex_flow": null,
      "grid_area": null,
      "grid_auto_columns": null,
      "grid_auto_flow": null,
      "grid_auto_rows": null,
      "grid_column": null,
      "grid_gap": null,
      "grid_row": null,
      "grid_template_areas": null,
      "grid_template_columns": null,
      "grid_template_rows": null,
      "height": null,
      "justify_content": null,
      "justify_items": null,
      "left": null,
      "margin": null,
      "max_height": null,
      "max_width": null,
      "min_height": null,
      "min_width": null,
      "object_fit": null,
      "object_position": null,
      "order": null,
      "overflow": null,
      "overflow_x": null,
      "overflow_y": null,
      "padding": null,
      "right": null,
      "top": null,
      "visibility": null,
      "width": null
     }
    },
    "69f1671a05ae48a698e9103ccb6645b4": {
     "model_module": "@jupyter-widgets/base",
     "model_module_version": "1.2.0",
     "model_name": "LayoutModel",
     "state": {
      "_model_module": "@jupyter-widgets/base",
      "_model_module_version": "1.2.0",
      "_model_name": "LayoutModel",
      "_view_count": null,
      "_view_module": "@jupyter-widgets/base",
      "_view_module_version": "1.2.0",
      "_view_name": "LayoutView",
      "align_content": null,
      "align_items": null,
      "align_self": null,
      "border": null,
      "bottom": null,
      "display": null,
      "flex": null,
      "flex_flow": null,
      "grid_area": null,
      "grid_auto_columns": null,
      "grid_auto_flow": null,
      "grid_auto_rows": null,
      "grid_column": null,
      "grid_gap": null,
      "grid_row": null,
      "grid_template_areas": null,
      "grid_template_columns": null,
      "grid_template_rows": null,
      "height": null,
      "justify_content": null,
      "justify_items": null,
      "left": null,
      "margin": null,
      "max_height": null,
      "max_width": null,
      "min_height": null,
      "min_width": null,
      "object_fit": null,
      "object_position": null,
      "order": null,
      "overflow": null,
      "overflow_x": null,
      "overflow_y": null,
      "padding": null,
      "right": null,
      "top": null,
      "visibility": null,
      "width": null
     }
    },
    "6a0cdbd344ed4b43b365c96223157bf5": {
     "model_module": "@jupyter-widgets/base",
     "model_module_version": "1.2.0",
     "model_name": "LayoutModel",
     "state": {
      "_model_module": "@jupyter-widgets/base",
      "_model_module_version": "1.2.0",
      "_model_name": "LayoutModel",
      "_view_count": null,
      "_view_module": "@jupyter-widgets/base",
      "_view_module_version": "1.2.0",
      "_view_name": "LayoutView",
      "align_content": null,
      "align_items": null,
      "align_self": null,
      "border": null,
      "bottom": null,
      "display": null,
      "flex": null,
      "flex_flow": null,
      "grid_area": null,
      "grid_auto_columns": null,
      "grid_auto_flow": null,
      "grid_auto_rows": null,
      "grid_column": null,
      "grid_gap": null,
      "grid_row": null,
      "grid_template_areas": null,
      "grid_template_columns": null,
      "grid_template_rows": null,
      "height": null,
      "justify_content": null,
      "justify_items": null,
      "left": null,
      "margin": null,
      "max_height": null,
      "max_width": null,
      "min_height": null,
      "min_width": null,
      "object_fit": null,
      "object_position": null,
      "order": null,
      "overflow": null,
      "overflow_x": null,
      "overflow_y": null,
      "padding": null,
      "right": null,
      "top": null,
      "visibility": null,
      "width": null
     }
    },
    "6bf1a3258b694a519a963734dda9fd86": {
     "model_module": "@jupyter-widgets/base",
     "model_module_version": "1.2.0",
     "model_name": "LayoutModel",
     "state": {
      "_model_module": "@jupyter-widgets/base",
      "_model_module_version": "1.2.0",
      "_model_name": "LayoutModel",
      "_view_count": null,
      "_view_module": "@jupyter-widgets/base",
      "_view_module_version": "1.2.0",
      "_view_name": "LayoutView",
      "align_content": null,
      "align_items": null,
      "align_self": null,
      "border": null,
      "bottom": null,
      "display": null,
      "flex": null,
      "flex_flow": null,
      "grid_area": null,
      "grid_auto_columns": null,
      "grid_auto_flow": null,
      "grid_auto_rows": null,
      "grid_column": null,
      "grid_gap": null,
      "grid_row": null,
      "grid_template_areas": null,
      "grid_template_columns": null,
      "grid_template_rows": null,
      "height": null,
      "justify_content": null,
      "justify_items": null,
      "left": null,
      "margin": null,
      "max_height": null,
      "max_width": null,
      "min_height": null,
      "min_width": null,
      "object_fit": null,
      "object_position": null,
      "order": null,
      "overflow": null,
      "overflow_x": null,
      "overflow_y": null,
      "padding": null,
      "right": null,
      "top": null,
      "visibility": null,
      "width": null
     }
    },
    "6c01a34b60024375a3b8764d1cf46b9c": {
     "model_module": "@jupyter-widgets/controls",
     "model_module_version": "1.5.0",
     "model_name": "HTMLModel",
     "state": {
      "_dom_classes": [],
      "_model_module": "@jupyter-widgets/controls",
      "_model_module_version": "1.5.0",
      "_model_name": "HTMLModel",
      "_view_count": null,
      "_view_module": "@jupyter-widgets/controls",
      "_view_module_version": "1.5.0",
      "_view_name": "HTMLView",
      "description": "",
      "description_tooltip": null,
      "layout": "IPY_MODEL_97df791d147d45cd83513c0d4e183c74",
      "placeholder": "​",
      "style": "IPY_MODEL_9371d5a9a0124b6a8c0f39650ad2cfda",
      "value": "Downloading: 100%"
     }
    },
    "6d7f826df0f74b90aee6cde8228b0560": {
     "model_module": "@jupyter-widgets/controls",
     "model_module_version": "1.5.0",
     "model_name": "HBoxModel",
     "state": {
      "_dom_classes": [],
      "_model_module": "@jupyter-widgets/controls",
      "_model_module_version": "1.5.0",
      "_model_name": "HBoxModel",
      "_view_count": null,
      "_view_module": "@jupyter-widgets/controls",
      "_view_module_version": "1.5.0",
      "_view_name": "HBoxView",
      "box_style": "",
      "children": [
       "IPY_MODEL_d8049376c9874d8bb9e5d26e04d81e86",
       "IPY_MODEL_5a6b396903704df9b7083146f3db0a9d",
       "IPY_MODEL_e58adb004d51400685670b4841205355"
      ],
      "layout": "IPY_MODEL_5c06de79cdeb4a4f9e57b2d610196f79"
     }
    },
    "6eb6892060914778b86e52543e6b0c9e": {
     "model_module": "@jupyter-widgets/controls",
     "model_module_version": "1.5.0",
     "model_name": "DescriptionStyleModel",
     "state": {
      "_model_module": "@jupyter-widgets/controls",
      "_model_module_version": "1.5.0",
      "_model_name": "DescriptionStyleModel",
      "_view_count": null,
      "_view_module": "@jupyter-widgets/base",
      "_view_module_version": "1.2.0",
      "_view_name": "StyleView",
      "description_width": ""
     }
    },
    "72745c0713b349d7893cc40ceda839ba": {
     "model_module": "@jupyter-widgets/controls",
     "model_module_version": "1.5.0",
     "model_name": "HTMLModel",
     "state": {
      "_dom_classes": [],
      "_model_module": "@jupyter-widgets/controls",
      "_model_module_version": "1.5.0",
      "_model_name": "HTMLModel",
      "_view_count": null,
      "_view_module": "@jupyter-widgets/controls",
      "_view_module_version": "1.5.0",
      "_view_name": "HTMLView",
      "description": "",
      "description_tooltip": null,
      "layout": "IPY_MODEL_7584c2070e7446cc911e02d4be5f4f7e",
      "placeholder": "​",
      "style": "IPY_MODEL_d12a869864ed486ea9d5f26c4ef9a37b",
      "value": " 13.1k/13.1k [00:00&lt;00:00, 222kB/s]"
     }
    },
    "734ed66158a24a82ba33dfe53dd0dfbb": {
     "model_module": "@jupyter-widgets/base",
     "model_module_version": "1.2.0",
     "model_name": "LayoutModel",
     "state": {
      "_model_module": "@jupyter-widgets/base",
      "_model_module_version": "1.2.0",
      "_model_name": "LayoutModel",
      "_view_count": null,
      "_view_module": "@jupyter-widgets/base",
      "_view_module_version": "1.2.0",
      "_view_name": "LayoutView",
      "align_content": null,
      "align_items": null,
      "align_self": null,
      "border": null,
      "bottom": null,
      "display": null,
      "flex": null,
      "flex_flow": null,
      "grid_area": null,
      "grid_auto_columns": null,
      "grid_auto_flow": null,
      "grid_auto_rows": null,
      "grid_column": null,
      "grid_gap": null,
      "grid_row": null,
      "grid_template_areas": null,
      "grid_template_columns": null,
      "grid_template_rows": null,
      "height": null,
      "justify_content": null,
      "justify_items": null,
      "left": null,
      "margin": null,
      "max_height": null,
      "max_width": null,
      "min_height": null,
      "min_width": null,
      "object_fit": null,
      "object_position": null,
      "order": null,
      "overflow": null,
      "overflow_x": null,
      "overflow_y": null,
      "padding": null,
      "right": null,
      "top": null,
      "visibility": null,
      "width": null
     }
    },
    "739a8fbec15d448888b4fe4a6396dc87": {
     "model_module": "@jupyter-widgets/base",
     "model_module_version": "1.2.0",
     "model_name": "LayoutModel",
     "state": {
      "_model_module": "@jupyter-widgets/base",
      "_model_module_version": "1.2.0",
      "_model_name": "LayoutModel",
      "_view_count": null,
      "_view_module": "@jupyter-widgets/base",
      "_view_module_version": "1.2.0",
      "_view_name": "LayoutView",
      "align_content": null,
      "align_items": null,
      "align_self": null,
      "border": null,
      "bottom": null,
      "display": null,
      "flex": null,
      "flex_flow": null,
      "grid_area": null,
      "grid_auto_columns": null,
      "grid_auto_flow": null,
      "grid_auto_rows": null,
      "grid_column": null,
      "grid_gap": null,
      "grid_row": null,
      "grid_template_areas": null,
      "grid_template_columns": null,
      "grid_template_rows": null,
      "height": null,
      "justify_content": null,
      "justify_items": null,
      "left": null,
      "margin": null,
      "max_height": null,
      "max_width": null,
      "min_height": null,
      "min_width": null,
      "object_fit": null,
      "object_position": null,
      "order": null,
      "overflow": null,
      "overflow_x": null,
      "overflow_y": null,
      "padding": null,
      "right": null,
      "top": null,
      "visibility": null,
      "width": null
     }
    },
    "7416cc410e3a4f5f90a3346cb06f3a80": {
     "model_module": "@jupyter-widgets/base",
     "model_module_version": "1.2.0",
     "model_name": "LayoutModel",
     "state": {
      "_model_module": "@jupyter-widgets/base",
      "_model_module_version": "1.2.0",
      "_model_name": "LayoutModel",
      "_view_count": null,
      "_view_module": "@jupyter-widgets/base",
      "_view_module_version": "1.2.0",
      "_view_name": "LayoutView",
      "align_content": null,
      "align_items": null,
      "align_self": null,
      "border": null,
      "bottom": null,
      "display": null,
      "flex": null,
      "flex_flow": null,
      "grid_area": null,
      "grid_auto_columns": null,
      "grid_auto_flow": null,
      "grid_auto_rows": null,
      "grid_column": null,
      "grid_gap": null,
      "grid_row": null,
      "grid_template_areas": null,
      "grid_template_columns": null,
      "grid_template_rows": null,
      "height": null,
      "justify_content": null,
      "justify_items": null,
      "left": null,
      "margin": null,
      "max_height": null,
      "max_width": null,
      "min_height": null,
      "min_width": null,
      "object_fit": null,
      "object_position": null,
      "order": null,
      "overflow": null,
      "overflow_x": null,
      "overflow_y": null,
      "padding": null,
      "right": null,
      "top": null,
      "visibility": null,
      "width": null
     }
    },
    "7584c2070e7446cc911e02d4be5f4f7e": {
     "model_module": "@jupyter-widgets/base",
     "model_module_version": "1.2.0",
     "model_name": "LayoutModel",
     "state": {
      "_model_module": "@jupyter-widgets/base",
      "_model_module_version": "1.2.0",
      "_model_name": "LayoutModel",
      "_view_count": null,
      "_view_module": "@jupyter-widgets/base",
      "_view_module_version": "1.2.0",
      "_view_name": "LayoutView",
      "align_content": null,
      "align_items": null,
      "align_self": null,
      "border": null,
      "bottom": null,
      "display": null,
      "flex": null,
      "flex_flow": null,
      "grid_area": null,
      "grid_auto_columns": null,
      "grid_auto_flow": null,
      "grid_auto_rows": null,
      "grid_column": null,
      "grid_gap": null,
      "grid_row": null,
      "grid_template_areas": null,
      "grid_template_columns": null,
      "grid_template_rows": null,
      "height": null,
      "justify_content": null,
      "justify_items": null,
      "left": null,
      "margin": null,
      "max_height": null,
      "max_width": null,
      "min_height": null,
      "min_width": null,
      "object_fit": null,
      "object_position": null,
      "order": null,
      "overflow": null,
      "overflow_x": null,
      "overflow_y": null,
      "padding": null,
      "right": null,
      "top": null,
      "visibility": null,
      "width": null
     }
    },
    "76c03cf81a6c43619a5cdc4d44246323": {
     "model_module": "@jupyter-widgets/controls",
     "model_module_version": "1.5.0",
     "model_name": "DescriptionStyleModel",
     "state": {
      "_model_module": "@jupyter-widgets/controls",
      "_model_module_version": "1.5.0",
      "_model_name": "DescriptionStyleModel",
      "_view_count": null,
      "_view_module": "@jupyter-widgets/base",
      "_view_module_version": "1.2.0",
      "_view_name": "StyleView",
      "description_width": ""
     }
    },
    "79b44ced1c8f41d7bf62817b81b4f1b1": {
     "model_module": "@jupyter-widgets/controls",
     "model_module_version": "1.5.0",
     "model_name": "HBoxModel",
     "state": {
      "_dom_classes": [],
      "_model_module": "@jupyter-widgets/controls",
      "_model_module_version": "1.5.0",
      "_model_name": "HBoxModel",
      "_view_count": null,
      "_view_module": "@jupyter-widgets/controls",
      "_view_module_version": "1.5.0",
      "_view_name": "HBoxView",
      "box_style": "",
      "children": [
       "IPY_MODEL_ad8b6b70303a43f7bfdb418adc79b200",
       "IPY_MODEL_ade9287291154e73aa254fb82e63be77",
       "IPY_MODEL_6828a059d5194082b6c49df190802215"
      ],
      "layout": "IPY_MODEL_69f1671a05ae48a698e9103ccb6645b4"
     }
    },
    "7ac9a43441f1445c8cf763b831762481": {
     "model_module": "@jupyter-widgets/controls",
     "model_module_version": "1.5.0",
     "model_name": "HTMLModel",
     "state": {
      "_dom_classes": [],
      "_model_module": "@jupyter-widgets/controls",
      "_model_module_version": "1.5.0",
      "_model_name": "HTMLModel",
      "_view_count": null,
      "_view_module": "@jupyter-widgets/controls",
      "_view_module_version": "1.5.0",
      "_view_name": "HTMLView",
      "description": "",
      "description_tooltip": null,
      "layout": "IPY_MODEL_7d33f560b281420a8c49ff4d04daf13f",
      "placeholder": "​",
      "style": "IPY_MODEL_ea8fa87209f841769e7ed83f72eb9a18",
      "value": " 239/239 [00:00&lt;00:00, 7.70kB/s]"
     }
    },
    "7d33f560b281420a8c49ff4d04daf13f": {
     "model_module": "@jupyter-widgets/base",
     "model_module_version": "1.2.0",
     "model_name": "LayoutModel",
     "state": {
      "_model_module": "@jupyter-widgets/base",
      "_model_module_version": "1.2.0",
      "_model_name": "LayoutModel",
      "_view_count": null,
      "_view_module": "@jupyter-widgets/base",
      "_view_module_version": "1.2.0",
      "_view_name": "LayoutView",
      "align_content": null,
      "align_items": null,
      "align_self": null,
      "border": null,
      "bottom": null,
      "display": null,
      "flex": null,
      "flex_flow": null,
      "grid_area": null,
      "grid_auto_columns": null,
      "grid_auto_flow": null,
      "grid_auto_rows": null,
      "grid_column": null,
      "grid_gap": null,
      "grid_row": null,
      "grid_template_areas": null,
      "grid_template_columns": null,
      "grid_template_rows": null,
      "height": null,
      "justify_content": null,
      "justify_items": null,
      "left": null,
      "margin": null,
      "max_height": null,
      "max_width": null,
      "min_height": null,
      "min_width": null,
      "object_fit": null,
      "object_position": null,
      "order": null,
      "overflow": null,
      "overflow_x": null,
      "overflow_y": null,
      "padding": null,
      "right": null,
      "top": null,
      "visibility": null,
      "width": null
     }
    },
    "7e61460fd5704dc38dadb18c5c0754c4": {
     "model_module": "@jupyter-widgets/controls",
     "model_module_version": "1.5.0",
     "model_name": "ProgressStyleModel",
     "state": {
      "_model_module": "@jupyter-widgets/controls",
      "_model_module_version": "1.5.0",
      "_model_name": "ProgressStyleModel",
      "_view_count": null,
      "_view_module": "@jupyter-widgets/base",
      "_view_module_version": "1.2.0",
      "_view_name": "StyleView",
      "bar_color": null,
      "description_width": ""
     }
    },
    "7f6d015bd17f4b27b9b5327cf0b2b178": {
     "model_module": "@jupyter-widgets/controls",
     "model_module_version": "1.5.0",
     "model_name": "DescriptionStyleModel",
     "state": {
      "_model_module": "@jupyter-widgets/controls",
      "_model_module_version": "1.5.0",
      "_model_name": "DescriptionStyleModel",
      "_view_count": null,
      "_view_module": "@jupyter-widgets/base",
      "_view_module_version": "1.2.0",
      "_view_name": "StyleView",
      "description_width": ""
     }
    },
    "7fa8317416fb46d4b0ea58f5f8fa89a3": {
     "model_module": "@jupyter-widgets/controls",
     "model_module_version": "1.5.0",
     "model_name": "ProgressStyleModel",
     "state": {
      "_model_module": "@jupyter-widgets/controls",
      "_model_module_version": "1.5.0",
      "_model_name": "ProgressStyleModel",
      "_view_count": null,
      "_view_module": "@jupyter-widgets/base",
      "_view_module_version": "1.2.0",
      "_view_name": "StyleView",
      "bar_color": null,
      "description_width": ""
     }
    },
    "7ff9d61d25f94325b033c1cb35b76dd8": {
     "model_module": "@jupyter-widgets/controls",
     "model_module_version": "1.5.0",
     "model_name": "HTMLModel",
     "state": {
      "_dom_classes": [],
      "_model_module": "@jupyter-widgets/controls",
      "_model_module_version": "1.5.0",
      "_model_name": "HTMLModel",
      "_view_count": null,
      "_view_module": "@jupyter-widgets/controls",
      "_view_module_version": "1.5.0",
      "_view_name": "HTMLView",
      "description": "",
      "description_tooltip": null,
      "layout": "IPY_MODEL_9b415d43ac434f8b8b9f5357ee505d8d",
      "placeholder": "​",
      "style": "IPY_MODEL_7f6d015bd17f4b27b9b5327cf0b2b178",
      "value": "Downloading: 100%"
     }
    },
    "8239dd9421e54e318607d6c64b69125d": {
     "model_module": "@jupyter-widgets/controls",
     "model_module_version": "1.5.0",
     "model_name": "DescriptionStyleModel",
     "state": {
      "_model_module": "@jupyter-widgets/controls",
      "_model_module_version": "1.5.0",
      "_model_name": "DescriptionStyleModel",
      "_view_count": null,
      "_view_module": "@jupyter-widgets/base",
      "_view_module_version": "1.2.0",
      "_view_name": "StyleView",
      "description_width": ""
     }
    },
    "8315f8809057407e95d8608180590bf6": {
     "model_module": "@jupyter-widgets/base",
     "model_module_version": "1.2.0",
     "model_name": "LayoutModel",
     "state": {
      "_model_module": "@jupyter-widgets/base",
      "_model_module_version": "1.2.0",
      "_model_name": "LayoutModel",
      "_view_count": null,
      "_view_module": "@jupyter-widgets/base",
      "_view_module_version": "1.2.0",
      "_view_name": "LayoutView",
      "align_content": null,
      "align_items": null,
      "align_self": null,
      "border": null,
      "bottom": null,
      "display": null,
      "flex": null,
      "flex_flow": null,
      "grid_area": null,
      "grid_auto_columns": null,
      "grid_auto_flow": null,
      "grid_auto_rows": null,
      "grid_column": null,
      "grid_gap": null,
      "grid_row": null,
      "grid_template_areas": null,
      "grid_template_columns": null,
      "grid_template_rows": null,
      "height": null,
      "justify_content": null,
      "justify_items": null,
      "left": null,
      "margin": null,
      "max_height": null,
      "max_width": null,
      "min_height": null,
      "min_width": null,
      "object_fit": null,
      "object_position": null,
      "order": null,
      "overflow": null,
      "overflow_x": null,
      "overflow_y": null,
      "padding": null,
      "right": null,
      "top": null,
      "visibility": null,
      "width": null
     }
    },
    "831db242edc04c6585e87f658f683284": {
     "model_module": "@jupyter-widgets/base",
     "model_module_version": "1.2.0",
     "model_name": "LayoutModel",
     "state": {
      "_model_module": "@jupyter-widgets/base",
      "_model_module_version": "1.2.0",
      "_model_name": "LayoutModel",
      "_view_count": null,
      "_view_module": "@jupyter-widgets/base",
      "_view_module_version": "1.2.0",
      "_view_name": "LayoutView",
      "align_content": null,
      "align_items": null,
      "align_self": null,
      "border": null,
      "bottom": null,
      "display": null,
      "flex": null,
      "flex_flow": null,
      "grid_area": null,
      "grid_auto_columns": null,
      "grid_auto_flow": null,
      "grid_auto_rows": null,
      "grid_column": null,
      "grid_gap": null,
      "grid_row": null,
      "grid_template_areas": null,
      "grid_template_columns": null,
      "grid_template_rows": null,
      "height": null,
      "justify_content": null,
      "justify_items": null,
      "left": null,
      "margin": null,
      "max_height": null,
      "max_width": null,
      "min_height": null,
      "min_width": null,
      "object_fit": null,
      "object_position": null,
      "order": null,
      "overflow": null,
      "overflow_x": null,
      "overflow_y": null,
      "padding": null,
      "right": null,
      "top": null,
      "visibility": null,
      "width": null
     }
    },
    "854dd6e305a54ca18940d9a28ae34759": {
     "model_module": "@jupyter-widgets/controls",
     "model_module_version": "1.5.0",
     "model_name": "DescriptionStyleModel",
     "state": {
      "_model_module": "@jupyter-widgets/controls",
      "_model_module_version": "1.5.0",
      "_model_name": "DescriptionStyleModel",
      "_view_count": null,
      "_view_module": "@jupyter-widgets/base",
      "_view_module_version": "1.2.0",
      "_view_name": "StyleView",
      "description_width": ""
     }
    },
    "85973d37e144454994332d4f3f1884f8": {
     "model_module": "@jupyter-widgets/controls",
     "model_module_version": "1.5.0",
     "model_name": "HTMLModel",
     "state": {
      "_dom_classes": [],
      "_model_module": "@jupyter-widgets/controls",
      "_model_module_version": "1.5.0",
      "_model_name": "HTMLModel",
      "_view_count": null,
      "_view_module": "@jupyter-widgets/controls",
      "_view_module_version": "1.5.0",
      "_view_name": "HTMLView",
      "description": "",
      "description_tooltip": null,
      "layout": "IPY_MODEL_9933ed1ec85e4eb89032c904db08ce61",
      "placeholder": "​",
      "style": "IPY_MODEL_57c4e76163b848aabf22a198cbf7acbd",
      "value": "Downloading: 100%"
     }
    },
    "884d6352e52743e491d4915c60c1af33": {
     "model_module": "@jupyter-widgets/controls",
     "model_module_version": "1.5.0",
     "model_name": "DescriptionStyleModel",
     "state": {
      "_model_module": "@jupyter-widgets/controls",
      "_model_module_version": "1.5.0",
      "_model_name": "DescriptionStyleModel",
      "_view_count": null,
      "_view_module": "@jupyter-widgets/base",
      "_view_module_version": "1.2.0",
      "_view_name": "StyleView",
      "description_width": ""
     }
    },
    "8957beb3799a4c109e59b331a4b9dd94": {
     "model_module": "@jupyter-widgets/base",
     "model_module_version": "1.2.0",
     "model_name": "LayoutModel",
     "state": {
      "_model_module": "@jupyter-widgets/base",
      "_model_module_version": "1.2.0",
      "_model_name": "LayoutModel",
      "_view_count": null,
      "_view_module": "@jupyter-widgets/base",
      "_view_module_version": "1.2.0",
      "_view_name": "LayoutView",
      "align_content": null,
      "align_items": null,
      "align_self": null,
      "border": null,
      "bottom": null,
      "display": null,
      "flex": null,
      "flex_flow": null,
      "grid_area": null,
      "grid_auto_columns": null,
      "grid_auto_flow": null,
      "grid_auto_rows": null,
      "grid_column": null,
      "grid_gap": null,
      "grid_row": null,
      "grid_template_areas": null,
      "grid_template_columns": null,
      "grid_template_rows": null,
      "height": null,
      "justify_content": null,
      "justify_items": null,
      "left": null,
      "margin": null,
      "max_height": null,
      "max_width": null,
      "min_height": null,
      "min_width": null,
      "object_fit": null,
      "object_position": null,
      "order": null,
      "overflow": null,
      "overflow_x": null,
      "overflow_y": null,
      "padding": null,
      "right": null,
      "top": null,
      "visibility": null,
      "width": null
     }
    },
    "8af427cef6f94f0da2c9d954d66e62af": {
     "model_module": "@jupyter-widgets/base",
     "model_module_version": "1.2.0",
     "model_name": "LayoutModel",
     "state": {
      "_model_module": "@jupyter-widgets/base",
      "_model_module_version": "1.2.0",
      "_model_name": "LayoutModel",
      "_view_count": null,
      "_view_module": "@jupyter-widgets/base",
      "_view_module_version": "1.2.0",
      "_view_name": "LayoutView",
      "align_content": null,
      "align_items": null,
      "align_self": null,
      "border": null,
      "bottom": null,
      "display": null,
      "flex": null,
      "flex_flow": null,
      "grid_area": null,
      "grid_auto_columns": null,
      "grid_auto_flow": null,
      "grid_auto_rows": null,
      "grid_column": null,
      "grid_gap": null,
      "grid_row": null,
      "grid_template_areas": null,
      "grid_template_columns": null,
      "grid_template_rows": null,
      "height": null,
      "justify_content": null,
      "justify_items": null,
      "left": null,
      "margin": null,
      "max_height": null,
      "max_width": null,
      "min_height": null,
      "min_width": null,
      "object_fit": null,
      "object_position": null,
      "order": null,
      "overflow": null,
      "overflow_x": null,
      "overflow_y": null,
      "padding": null,
      "right": null,
      "top": null,
      "visibility": null,
      "width": null
     }
    },
    "8b42955959354c60af4e62f07e554a82": {
     "model_module": "@jupyter-widgets/base",
     "model_module_version": "1.2.0",
     "model_name": "LayoutModel",
     "state": {
      "_model_module": "@jupyter-widgets/base",
      "_model_module_version": "1.2.0",
      "_model_name": "LayoutModel",
      "_view_count": null,
      "_view_module": "@jupyter-widgets/base",
      "_view_module_version": "1.2.0",
      "_view_name": "LayoutView",
      "align_content": null,
      "align_items": null,
      "align_self": null,
      "border": null,
      "bottom": null,
      "display": null,
      "flex": null,
      "flex_flow": null,
      "grid_area": null,
      "grid_auto_columns": null,
      "grid_auto_flow": null,
      "grid_auto_rows": null,
      "grid_column": null,
      "grid_gap": null,
      "grid_row": null,
      "grid_template_areas": null,
      "grid_template_columns": null,
      "grid_template_rows": null,
      "height": null,
      "justify_content": null,
      "justify_items": null,
      "left": null,
      "margin": null,
      "max_height": null,
      "max_width": null,
      "min_height": null,
      "min_width": null,
      "object_fit": null,
      "object_position": null,
      "order": null,
      "overflow": null,
      "overflow_x": null,
      "overflow_y": null,
      "padding": null,
      "right": null,
      "top": null,
      "visibility": null,
      "width": null
     }
    },
    "8b5ec78f6e954a5094ef4e1bb8e46212": {
     "model_module": "@jupyter-widgets/controls",
     "model_module_version": "1.5.0",
     "model_name": "DescriptionStyleModel",
     "state": {
      "_model_module": "@jupyter-widgets/controls",
      "_model_module_version": "1.5.0",
      "_model_name": "DescriptionStyleModel",
      "_view_count": null,
      "_view_module": "@jupyter-widgets/base",
      "_view_module_version": "1.2.0",
      "_view_name": "StyleView",
      "description_width": ""
     }
    },
    "8e5105f189284c1a95b6b429754233cd": {
     "model_module": "@jupyter-widgets/controls",
     "model_module_version": "1.5.0",
     "model_name": "ProgressStyleModel",
     "state": {
      "_model_module": "@jupyter-widgets/controls",
      "_model_module_version": "1.5.0",
      "_model_name": "ProgressStyleModel",
      "_view_count": null,
      "_view_module": "@jupyter-widgets/base",
      "_view_module_version": "1.2.0",
      "_view_name": "StyleView",
      "bar_color": null,
      "description_width": ""
     }
    },
    "8f61f8fcec784bf39b1518199e748a67": {
     "model_module": "@jupyter-widgets/controls",
     "model_module_version": "1.5.0",
     "model_name": "FloatProgressModel",
     "state": {
      "_dom_classes": [],
      "_model_module": "@jupyter-widgets/controls",
      "_model_module_version": "1.5.0",
      "_model_name": "FloatProgressModel",
      "_view_count": null,
      "_view_module": "@jupyter-widgets/controls",
      "_view_module_version": "1.5.0",
      "_view_name": "ProgressView",
      "bar_style": "success",
      "description": "",
      "description_tooltip": null,
      "layout": "IPY_MODEL_c29eded748004f238a642cb3e97d79fb",
      "max": 53,
      "min": 0,
      "orientation": "horizontal",
      "style": "IPY_MODEL_3bba594da74f48249c8e3ee0652afe41",
      "value": 53
     }
    },
    "8f91aca4cbc14f65b39d13818432cf45": {
     "model_module": "@jupyter-widgets/base",
     "model_module_version": "1.2.0",
     "model_name": "LayoutModel",
     "state": {
      "_model_module": "@jupyter-widgets/base",
      "_model_module_version": "1.2.0",
      "_model_name": "LayoutModel",
      "_view_count": null,
      "_view_module": "@jupyter-widgets/base",
      "_view_module_version": "1.2.0",
      "_view_name": "LayoutView",
      "align_content": null,
      "align_items": null,
      "align_self": null,
      "border": null,
      "bottom": null,
      "display": null,
      "flex": null,
      "flex_flow": null,
      "grid_area": null,
      "grid_auto_columns": null,
      "grid_auto_flow": null,
      "grid_auto_rows": null,
      "grid_column": null,
      "grid_gap": null,
      "grid_row": null,
      "grid_template_areas": null,
      "grid_template_columns": null,
      "grid_template_rows": null,
      "height": null,
      "justify_content": null,
      "justify_items": null,
      "left": null,
      "margin": null,
      "max_height": null,
      "max_width": null,
      "min_height": null,
      "min_width": null,
      "object_fit": null,
      "object_position": null,
      "order": null,
      "overflow": null,
      "overflow_x": null,
      "overflow_y": null,
      "padding": null,
      "right": null,
      "top": null,
      "visibility": null,
      "width": null
     }
    },
    "8fd09743e7d5405c89f104fdc6be3496": {
     "model_module": "@jupyter-widgets/controls",
     "model_module_version": "1.5.0",
     "model_name": "HBoxModel",
     "state": {
      "_dom_classes": [],
      "_model_module": "@jupyter-widgets/controls",
      "_model_module_version": "1.5.0",
      "_model_name": "HBoxModel",
      "_view_count": null,
      "_view_module": "@jupyter-widgets/controls",
      "_view_module_version": "1.5.0",
      "_view_name": "HBoxView",
      "box_style": "",
      "children": [
       "IPY_MODEL_7ff9d61d25f94325b033c1cb35b76dd8",
       "IPY_MODEL_90a64d45a12146c280199b23818c79a5",
       "IPY_MODEL_f95a79422018495da77b1b1c3aa83827"
      ],
      "layout": "IPY_MODEL_1161b1d7c4ac40ceb6a417d91c810ffb"
     }
    },
    "8ffd7b681df9441bb901f3131eec8d64": {
     "model_module": "@jupyter-widgets/base",
     "model_module_version": "1.2.0",
     "model_name": "LayoutModel",
     "state": {
      "_model_module": "@jupyter-widgets/base",
      "_model_module_version": "1.2.0",
      "_model_name": "LayoutModel",
      "_view_count": null,
      "_view_module": "@jupyter-widgets/base",
      "_view_module_version": "1.2.0",
      "_view_name": "LayoutView",
      "align_content": null,
      "align_items": null,
      "align_self": null,
      "border": null,
      "bottom": null,
      "display": null,
      "flex": null,
      "flex_flow": null,
      "grid_area": null,
      "grid_auto_columns": null,
      "grid_auto_flow": null,
      "grid_auto_rows": null,
      "grid_column": null,
      "grid_gap": null,
      "grid_row": null,
      "grid_template_areas": null,
      "grid_template_columns": null,
      "grid_template_rows": null,
      "height": null,
      "justify_content": null,
      "justify_items": null,
      "left": null,
      "margin": null,
      "max_height": null,
      "max_width": null,
      "min_height": null,
      "min_width": null,
      "object_fit": null,
      "object_position": null,
      "order": null,
      "overflow": null,
      "overflow_x": null,
      "overflow_y": null,
      "padding": null,
      "right": null,
      "top": null,
      "visibility": null,
      "width": null
     }
    },
    "90a64d45a12146c280199b23818c79a5": {
     "model_module": "@jupyter-widgets/controls",
     "model_module_version": "1.5.0",
     "model_name": "FloatProgressModel",
     "state": {
      "_dom_classes": [],
      "_model_module": "@jupyter-widgets/controls",
      "_model_module_version": "1.5.0",
      "_model_name": "FloatProgressModel",
      "_view_count": null,
      "_view_module": "@jupyter-widgets/controls",
      "_view_module_version": "1.5.0",
      "_view_name": "ProgressView",
      "bar_style": "success",
      "description": "",
      "description_tooltip": null,
      "layout": "IPY_MODEL_c57f5018a86e4cf2863f54a8dd7457b9",
      "max": 363,
      "min": 0,
      "orientation": "horizontal",
      "style": "IPY_MODEL_63b919b98b434677929c5038f2e2dcda",
      "value": 363
     }
    },
    "91f5b8beaafa4673bae7b3cc7570c690": {
     "model_module": "@jupyter-widgets/controls",
     "model_module_version": "1.5.0",
     "model_name": "DescriptionStyleModel",
     "state": {
      "_model_module": "@jupyter-widgets/controls",
      "_model_module_version": "1.5.0",
      "_model_name": "DescriptionStyleModel",
      "_view_count": null,
      "_view_module": "@jupyter-widgets/base",
      "_view_module_version": "1.2.0",
      "_view_name": "StyleView",
      "description_width": ""
     }
    },
    "9317aa07051b45128dbb047fd5f47bd1": {
     "model_module": "@jupyter-widgets/base",
     "model_module_version": "1.2.0",
     "model_name": "LayoutModel",
     "state": {
      "_model_module": "@jupyter-widgets/base",
      "_model_module_version": "1.2.0",
      "_model_name": "LayoutModel",
      "_view_count": null,
      "_view_module": "@jupyter-widgets/base",
      "_view_module_version": "1.2.0",
      "_view_name": "LayoutView",
      "align_content": null,
      "align_items": null,
      "align_self": null,
      "border": null,
      "bottom": null,
      "display": null,
      "flex": null,
      "flex_flow": null,
      "grid_area": null,
      "grid_auto_columns": null,
      "grid_auto_flow": null,
      "grid_auto_rows": null,
      "grid_column": null,
      "grid_gap": null,
      "grid_row": null,
      "grid_template_areas": null,
      "grid_template_columns": null,
      "grid_template_rows": null,
      "height": null,
      "justify_content": null,
      "justify_items": null,
      "left": null,
      "margin": null,
      "max_height": null,
      "max_width": null,
      "min_height": null,
      "min_width": null,
      "object_fit": null,
      "object_position": null,
      "order": null,
      "overflow": null,
      "overflow_x": null,
      "overflow_y": null,
      "padding": null,
      "right": null,
      "top": null,
      "visibility": null,
      "width": null
     }
    },
    "9371d5a9a0124b6a8c0f39650ad2cfda": {
     "model_module": "@jupyter-widgets/controls",
     "model_module_version": "1.5.0",
     "model_name": "DescriptionStyleModel",
     "state": {
      "_model_module": "@jupyter-widgets/controls",
      "_model_module_version": "1.5.0",
      "_model_name": "DescriptionStyleModel",
      "_view_count": null,
      "_view_module": "@jupyter-widgets/base",
      "_view_module_version": "1.2.0",
      "_view_name": "StyleView",
      "description_width": ""
     }
    },
    "95c77dbfc4814cdca322c39a15a2af2f": {
     "model_module": "@jupyter-widgets/controls",
     "model_module_version": "1.5.0",
     "model_name": "ProgressStyleModel",
     "state": {
      "_model_module": "@jupyter-widgets/controls",
      "_model_module_version": "1.5.0",
      "_model_name": "ProgressStyleModel",
      "_view_count": null,
      "_view_module": "@jupyter-widgets/base",
      "_view_module_version": "1.2.0",
      "_view_name": "StyleView",
      "bar_color": null,
      "description_width": ""
     }
    },
    "97df791d147d45cd83513c0d4e183c74": {
     "model_module": "@jupyter-widgets/base",
     "model_module_version": "1.2.0",
     "model_name": "LayoutModel",
     "state": {
      "_model_module": "@jupyter-widgets/base",
      "_model_module_version": "1.2.0",
      "_model_name": "LayoutModel",
      "_view_count": null,
      "_view_module": "@jupyter-widgets/base",
      "_view_module_version": "1.2.0",
      "_view_name": "LayoutView",
      "align_content": null,
      "align_items": null,
      "align_self": null,
      "border": null,
      "bottom": null,
      "display": null,
      "flex": null,
      "flex_flow": null,
      "grid_area": null,
      "grid_auto_columns": null,
      "grid_auto_flow": null,
      "grid_auto_rows": null,
      "grid_column": null,
      "grid_gap": null,
      "grid_row": null,
      "grid_template_areas": null,
      "grid_template_columns": null,
      "grid_template_rows": null,
      "height": null,
      "justify_content": null,
      "justify_items": null,
      "left": null,
      "margin": null,
      "max_height": null,
      "max_width": null,
      "min_height": null,
      "min_width": null,
      "object_fit": null,
      "object_position": null,
      "order": null,
      "overflow": null,
      "overflow_x": null,
      "overflow_y": null,
      "padding": null,
      "right": null,
      "top": null,
      "visibility": null,
      "width": null
     }
    },
    "98db026739014384aea9a3dfe1e8c488": {
     "model_module": "@jupyter-widgets/controls",
     "model_module_version": "1.5.0",
     "model_name": "FloatProgressModel",
     "state": {
      "_dom_classes": [],
      "_model_module": "@jupyter-widgets/controls",
      "_model_module_version": "1.5.0",
      "_model_name": "FloatProgressModel",
      "_view_count": null,
      "_view_module": "@jupyter-widgets/controls",
      "_view_module_version": "1.5.0",
      "_view_name": "ProgressView",
      "bar_style": "success",
      "description": "",
      "description_tooltip": null,
      "layout": "IPY_MODEL_7416cc410e3a4f5f90a3346cb06f3a80",
      "max": 239,
      "min": 0,
      "orientation": "horizontal",
      "style": "IPY_MODEL_c611330090544fb48aec7cf92efc8070",
      "value": 239
     }
    },
    "9933ed1ec85e4eb89032c904db08ce61": {
     "model_module": "@jupyter-widgets/base",
     "model_module_version": "1.2.0",
     "model_name": "LayoutModel",
     "state": {
      "_model_module": "@jupyter-widgets/base",
      "_model_module_version": "1.2.0",
      "_model_name": "LayoutModel",
      "_view_count": null,
      "_view_module": "@jupyter-widgets/base",
      "_view_module_version": "1.2.0",
      "_view_name": "LayoutView",
      "align_content": null,
      "align_items": null,
      "align_self": null,
      "border": null,
      "bottom": null,
      "display": null,
      "flex": null,
      "flex_flow": null,
      "grid_area": null,
      "grid_auto_columns": null,
      "grid_auto_flow": null,
      "grid_auto_rows": null,
      "grid_column": null,
      "grid_gap": null,
      "grid_row": null,
      "grid_template_areas": null,
      "grid_template_columns": null,
      "grid_template_rows": null,
      "height": null,
      "justify_content": null,
      "justify_items": null,
      "left": null,
      "margin": null,
      "max_height": null,
      "max_width": null,
      "min_height": null,
      "min_width": null,
      "object_fit": null,
      "object_position": null,
      "order": null,
      "overflow": null,
      "overflow_x": null,
      "overflow_y": null,
      "padding": null,
      "right": null,
      "top": null,
      "visibility": null,
      "width": null
     }
    },
    "99c15c34e80045eb876f7866bbe30d60": {
     "model_module": "@jupyter-widgets/controls",
     "model_module_version": "1.5.0",
     "model_name": "HTMLModel",
     "state": {
      "_dom_classes": [],
      "_model_module": "@jupyter-widgets/controls",
      "_model_module_version": "1.5.0",
      "_model_name": "HTMLModel",
      "_view_count": null,
      "_view_module": "@jupyter-widgets/controls",
      "_view_module_version": "1.5.0",
      "_view_name": "HTMLView",
      "description": "",
      "description_tooltip": null,
      "layout": "IPY_MODEL_03434e5ce7f84b1ab3dfbfe91027c4f7",
      "placeholder": "​",
      "style": "IPY_MODEL_8b5ec78f6e954a5094ef4e1bb8e46212",
      "value": "Downloading: 100%"
     }
    },
    "9ac3fdad04ca49d0bc804d030460f05b": {
     "model_module": "@jupyter-widgets/base",
     "model_module_version": "1.2.0",
     "model_name": "LayoutModel",
     "state": {
      "_model_module": "@jupyter-widgets/base",
      "_model_module_version": "1.2.0",
      "_model_name": "LayoutModel",
      "_view_count": null,
      "_view_module": "@jupyter-widgets/base",
      "_view_module_version": "1.2.0",
      "_view_name": "LayoutView",
      "align_content": null,
      "align_items": null,
      "align_self": null,
      "border": null,
      "bottom": null,
      "display": null,
      "flex": null,
      "flex_flow": null,
      "grid_area": null,
      "grid_auto_columns": null,
      "grid_auto_flow": null,
      "grid_auto_rows": null,
      "grid_column": null,
      "grid_gap": null,
      "grid_row": null,
      "grid_template_areas": null,
      "grid_template_columns": null,
      "grid_template_rows": null,
      "height": null,
      "justify_content": null,
      "justify_items": null,
      "left": null,
      "margin": null,
      "max_height": null,
      "max_width": null,
      "min_height": null,
      "min_width": null,
      "object_fit": null,
      "object_position": null,
      "order": null,
      "overflow": null,
      "overflow_x": null,
      "overflow_y": null,
      "padding": null,
      "right": null,
      "top": null,
      "visibility": null,
      "width": null
     }
    },
    "9b08a5edd9534e76ac012a4c7f6b8f48": {
     "model_module": "@jupyter-widgets/controls",
     "model_module_version": "1.5.0",
     "model_name": "HBoxModel",
     "state": {
      "_dom_classes": [],
      "_model_module": "@jupyter-widgets/controls",
      "_model_module_version": "1.5.0",
      "_model_name": "HBoxModel",
      "_view_count": null,
      "_view_module": "@jupyter-widgets/controls",
      "_view_module_version": "1.5.0",
      "_view_name": "HBoxView",
      "box_style": "",
      "children": [
       "IPY_MODEL_c86df4cf666e47cea738e4d8fcbcf413",
       "IPY_MODEL_134bad0cfa90442c907c7c60001ff790",
       "IPY_MODEL_cfedd6a41c874e2b8234afe218a48885"
      ],
      "layout": "IPY_MODEL_c513448bd85b4346a0d5cd3b3c0e11b8"
     }
    },
    "9b415d43ac434f8b8b9f5357ee505d8d": {
     "model_module": "@jupyter-widgets/base",
     "model_module_version": "1.2.0",
     "model_name": "LayoutModel",
     "state": {
      "_model_module": "@jupyter-widgets/base",
      "_model_module_version": "1.2.0",
      "_model_name": "LayoutModel",
      "_view_count": null,
      "_view_module": "@jupyter-widgets/base",
      "_view_module_version": "1.2.0",
      "_view_name": "LayoutView",
      "align_content": null,
      "align_items": null,
      "align_self": null,
      "border": null,
      "bottom": null,
      "display": null,
      "flex": null,
      "flex_flow": null,
      "grid_area": null,
      "grid_auto_columns": null,
      "grid_auto_flow": null,
      "grid_auto_rows": null,
      "grid_column": null,
      "grid_gap": null,
      "grid_row": null,
      "grid_template_areas": null,
      "grid_template_columns": null,
      "grid_template_rows": null,
      "height": null,
      "justify_content": null,
      "justify_items": null,
      "left": null,
      "margin": null,
      "max_height": null,
      "max_width": null,
      "min_height": null,
      "min_width": null,
      "object_fit": null,
      "object_position": null,
      "order": null,
      "overflow": null,
      "overflow_x": null,
      "overflow_y": null,
      "padding": null,
      "right": null,
      "top": null,
      "visibility": null,
      "width": null
     }
    },
    "9feb0ae384204049abb6823d48d79520": {
     "model_module": "@jupyter-widgets/controls",
     "model_module_version": "1.5.0",
     "model_name": "HBoxModel",
     "state": {
      "_dom_classes": [],
      "_model_module": "@jupyter-widgets/controls",
      "_model_module_version": "1.5.0",
      "_model_name": "HBoxModel",
      "_view_count": null,
      "_view_module": "@jupyter-widgets/controls",
      "_view_module_version": "1.5.0",
      "_view_name": "HBoxView",
      "box_style": "",
      "children": [
       "IPY_MODEL_99c15c34e80045eb876f7866bbe30d60",
       "IPY_MODEL_b8a3a5da3f0a4f938e708a249293ec82",
       "IPY_MODEL_d0addb59264f49e0a77349fe87bcd1fc"
      ],
      "layout": "IPY_MODEL_02c16c9a948b44d0b4d65312426cbad2"
     }
    },
    "9ff3944d44554345a84c1a1ba46e0de8": {
     "model_module": "@jupyter-widgets/base",
     "model_module_version": "1.2.0",
     "model_name": "LayoutModel",
     "state": {
      "_model_module": "@jupyter-widgets/base",
      "_model_module_version": "1.2.0",
      "_model_name": "LayoutModel",
      "_view_count": null,
      "_view_module": "@jupyter-widgets/base",
      "_view_module_version": "1.2.0",
      "_view_name": "LayoutView",
      "align_content": null,
      "align_items": null,
      "align_self": null,
      "border": null,
      "bottom": null,
      "display": null,
      "flex": null,
      "flex_flow": null,
      "grid_area": null,
      "grid_auto_columns": null,
      "grid_auto_flow": null,
      "grid_auto_rows": null,
      "grid_column": null,
      "grid_gap": null,
      "grid_row": null,
      "grid_template_areas": null,
      "grid_template_columns": null,
      "grid_template_rows": null,
      "height": null,
      "justify_content": null,
      "justify_items": null,
      "left": null,
      "margin": null,
      "max_height": null,
      "max_width": null,
      "min_height": null,
      "min_width": null,
      "object_fit": null,
      "object_position": null,
      "order": null,
      "overflow": null,
      "overflow_x": null,
      "overflow_y": null,
      "padding": null,
      "right": null,
      "top": null,
      "visibility": null,
      "width": null
     }
    },
    "a3adb2d5dab8444d8779161f4b195cfc": {
     "model_module": "@jupyter-widgets/base",
     "model_module_version": "1.2.0",
     "model_name": "LayoutModel",
     "state": {
      "_model_module": "@jupyter-widgets/base",
      "_model_module_version": "1.2.0",
      "_model_name": "LayoutModel",
      "_view_count": null,
      "_view_module": "@jupyter-widgets/base",
      "_view_module_version": "1.2.0",
      "_view_name": "LayoutView",
      "align_content": null,
      "align_items": null,
      "align_self": null,
      "border": null,
      "bottom": null,
      "display": null,
      "flex": null,
      "flex_flow": null,
      "grid_area": null,
      "grid_auto_columns": null,
      "grid_auto_flow": null,
      "grid_auto_rows": null,
      "grid_column": null,
      "grid_gap": null,
      "grid_row": null,
      "grid_template_areas": null,
      "grid_template_columns": null,
      "grid_template_rows": null,
      "height": null,
      "justify_content": null,
      "justify_items": null,
      "left": null,
      "margin": null,
      "max_height": null,
      "max_width": null,
      "min_height": null,
      "min_width": null,
      "object_fit": null,
      "object_position": null,
      "order": null,
      "overflow": null,
      "overflow_x": null,
      "overflow_y": null,
      "padding": null,
      "right": null,
      "top": null,
      "visibility": null,
      "width": null
     }
    },
    "a3bea12a103b4bd397ac90a8e4426648": {
     "model_module": "@jupyter-widgets/base",
     "model_module_version": "1.2.0",
     "model_name": "LayoutModel",
     "state": {
      "_model_module": "@jupyter-widgets/base",
      "_model_module_version": "1.2.0",
      "_model_name": "LayoutModel",
      "_view_count": null,
      "_view_module": "@jupyter-widgets/base",
      "_view_module_version": "1.2.0",
      "_view_name": "LayoutView",
      "align_content": null,
      "align_items": null,
      "align_self": null,
      "border": null,
      "bottom": null,
      "display": null,
      "flex": null,
      "flex_flow": null,
      "grid_area": null,
      "grid_auto_columns": null,
      "grid_auto_flow": null,
      "grid_auto_rows": null,
      "grid_column": null,
      "grid_gap": null,
      "grid_row": null,
      "grid_template_areas": null,
      "grid_template_columns": null,
      "grid_template_rows": null,
      "height": null,
      "justify_content": null,
      "justify_items": null,
      "left": null,
      "margin": null,
      "max_height": null,
      "max_width": null,
      "min_height": null,
      "min_width": null,
      "object_fit": null,
      "object_position": null,
      "order": null,
      "overflow": null,
      "overflow_x": null,
      "overflow_y": null,
      "padding": null,
      "right": null,
      "top": null,
      "visibility": null,
      "width": null
     }
    },
    "a60c060db0264456a0d1cef305204918": {
     "model_module": "@jupyter-widgets/controls",
     "model_module_version": "1.5.0",
     "model_name": "ProgressStyleModel",
     "state": {
      "_model_module": "@jupyter-widgets/controls",
      "_model_module_version": "1.5.0",
      "_model_name": "ProgressStyleModel",
      "_view_count": null,
      "_view_module": "@jupyter-widgets/base",
      "_view_module_version": "1.2.0",
      "_view_name": "StyleView",
      "bar_color": null,
      "description_width": ""
     }
    },
    "ad8b6b70303a43f7bfdb418adc79b200": {
     "model_module": "@jupyter-widgets/controls",
     "model_module_version": "1.5.0",
     "model_name": "HTMLModel",
     "state": {
      "_dom_classes": [],
      "_model_module": "@jupyter-widgets/controls",
      "_model_module_version": "1.5.0",
      "_model_name": "HTMLModel",
      "_view_count": null,
      "_view_module": "@jupyter-widgets/controls",
      "_view_module_version": "1.5.0",
      "_view_name": "HTMLView",
      "description": "",
      "description_tooltip": null,
      "layout": "IPY_MODEL_02a1e59961114b228b2c1c4d36d9fb6d",
      "placeholder": "​",
      "style": "IPY_MODEL_b6cbff40240043eebe3d3983cbddb887",
      "value": "Downloading: 100%"
     }
    },
    "ade9287291154e73aa254fb82e63be77": {
     "model_module": "@jupyter-widgets/controls",
     "model_module_version": "1.5.0",
     "model_name": "FloatProgressModel",
     "state": {
      "_dom_classes": [],
      "_model_module": "@jupyter-widgets/controls",
      "_model_module_version": "1.5.0",
      "_model_name": "FloatProgressModel",
      "_view_count": null,
      "_view_module": "@jupyter-widgets/controls",
      "_view_module_version": "1.5.0",
      "_view_name": "ProgressView",
      "bar_style": "success",
      "description": "",
      "description_tooltip": null,
      "layout": "IPY_MODEL_e4cfd0cc227f41f88a662ca9711b11a3",
      "max": 10571,
      "min": 0,
      "orientation": "horizontal",
      "style": "IPY_MODEL_e4d32daf2c4840acba38bf7420a13fa2",
      "value": 10571
     }
    },
    "ae2c022943314397bbe3efd94a010fb5": {
     "model_module": "@jupyter-widgets/controls",
     "model_module_version": "1.5.0",
     "model_name": "DescriptionStyleModel",
     "state": {
      "_model_module": "@jupyter-widgets/controls",
      "_model_module_version": "1.5.0",
      "_model_name": "DescriptionStyleModel",
      "_view_count": null,
      "_view_module": "@jupyter-widgets/base",
      "_view_module_version": "1.2.0",
      "_view_name": "StyleView",
      "description_width": ""
     }
    },
    "b15f12cec2244db081c1663a66f30536": {
     "model_module": "@jupyter-widgets/base",
     "model_module_version": "1.2.0",
     "model_name": "LayoutModel",
     "state": {
      "_model_module": "@jupyter-widgets/base",
      "_model_module_version": "1.2.0",
      "_model_name": "LayoutModel",
      "_view_count": null,
      "_view_module": "@jupyter-widgets/base",
      "_view_module_version": "1.2.0",
      "_view_name": "LayoutView",
      "align_content": null,
      "align_items": null,
      "align_self": null,
      "border": null,
      "bottom": null,
      "display": null,
      "flex": null,
      "flex_flow": null,
      "grid_area": null,
      "grid_auto_columns": null,
      "grid_auto_flow": null,
      "grid_auto_rows": null,
      "grid_column": null,
      "grid_gap": null,
      "grid_row": null,
      "grid_template_areas": null,
      "grid_template_columns": null,
      "grid_template_rows": null,
      "height": null,
      "justify_content": null,
      "justify_items": null,
      "left": null,
      "margin": null,
      "max_height": null,
      "max_width": null,
      "min_height": null,
      "min_width": null,
      "object_fit": null,
      "object_position": null,
      "order": null,
      "overflow": null,
      "overflow_x": null,
      "overflow_y": null,
      "padding": null,
      "right": null,
      "top": null,
      "visibility": null,
      "width": null
     }
    },
    "b24e7ef57d964b069c6a237834e285aa": {
     "model_module": "@jupyter-widgets/controls",
     "model_module_version": "1.5.0",
     "model_name": "DescriptionStyleModel",
     "state": {
      "_model_module": "@jupyter-widgets/controls",
      "_model_module_version": "1.5.0",
      "_model_name": "DescriptionStyleModel",
      "_view_count": null,
      "_view_module": "@jupyter-widgets/base",
      "_view_module_version": "1.2.0",
      "_view_name": "StyleView",
      "description_width": ""
     }
    },
    "b33fe491b70248a49733c7ae8b143efc": {
     "model_module": "@jupyter-widgets/controls",
     "model_module_version": "1.5.0",
     "model_name": "DescriptionStyleModel",
     "state": {
      "_model_module": "@jupyter-widgets/controls",
      "_model_module_version": "1.5.0",
      "_model_name": "DescriptionStyleModel",
      "_view_count": null,
      "_view_module": "@jupyter-widgets/base",
      "_view_module_version": "1.2.0",
      "_view_name": "StyleView",
      "description_width": ""
     }
    },
    "b3c43760c05749229f00ad05fc4c3dfe": {
     "model_module": "@jupyter-widgets/base",
     "model_module_version": "1.2.0",
     "model_name": "LayoutModel",
     "state": {
      "_model_module": "@jupyter-widgets/base",
      "_model_module_version": "1.2.0",
      "_model_name": "LayoutModel",
      "_view_count": null,
      "_view_module": "@jupyter-widgets/base",
      "_view_module_version": "1.2.0",
      "_view_name": "LayoutView",
      "align_content": null,
      "align_items": null,
      "align_self": null,
      "border": null,
      "bottom": null,
      "display": null,
      "flex": null,
      "flex_flow": null,
      "grid_area": null,
      "grid_auto_columns": null,
      "grid_auto_flow": null,
      "grid_auto_rows": null,
      "grid_column": null,
      "grid_gap": null,
      "grid_row": null,
      "grid_template_areas": null,
      "grid_template_columns": null,
      "grid_template_rows": null,
      "height": null,
      "justify_content": null,
      "justify_items": null,
      "left": null,
      "margin": null,
      "max_height": null,
      "max_width": null,
      "min_height": null,
      "min_width": null,
      "object_fit": null,
      "object_position": null,
      "order": null,
      "overflow": null,
      "overflow_x": null,
      "overflow_y": null,
      "padding": null,
      "right": null,
      "top": null,
      "visibility": null,
      "width": null
     }
    },
    "b5f648707b1b4001a0ec336ae3835cb4": {
     "model_module": "@jupyter-widgets/controls",
     "model_module_version": "1.5.0",
     "model_name": "FloatProgressModel",
     "state": {
      "_dom_classes": [],
      "_model_module": "@jupyter-widgets/controls",
      "_model_module_version": "1.5.0",
      "_model_name": "FloatProgressModel",
      "_view_count": null,
      "_view_module": "@jupyter-widgets/controls",
      "_view_module_version": "1.5.0",
      "_view_name": "ProgressView",
      "bar_style": "success",
      "description": "",
      "description_tooltip": null,
      "layout": "IPY_MODEL_1b67d658af544d03a0ffc0972096d36e",
      "max": 231536,
      "min": 0,
      "orientation": "horizontal",
      "style": "IPY_MODEL_7fa8317416fb46d4b0ea58f5f8fa89a3",
      "value": 231536
     }
    },
    "b6cbff40240043eebe3d3983cbddb887": {
     "model_module": "@jupyter-widgets/controls",
     "model_module_version": "1.5.0",
     "model_name": "DescriptionStyleModel",
     "state": {
      "_model_module": "@jupyter-widgets/controls",
      "_model_module_version": "1.5.0",
      "_model_name": "DescriptionStyleModel",
      "_view_count": null,
      "_view_module": "@jupyter-widgets/base",
      "_view_module_version": "1.2.0",
      "_view_name": "StyleView",
      "description_width": ""
     }
    },
    "b6f78fff1c0e4943b06562a180821696": {
     "model_module": "@jupyter-widgets/base",
     "model_module_version": "1.2.0",
     "model_name": "LayoutModel",
     "state": {
      "_model_module": "@jupyter-widgets/base",
      "_model_module_version": "1.2.0",
      "_model_name": "LayoutModel",
      "_view_count": null,
      "_view_module": "@jupyter-widgets/base",
      "_view_module_version": "1.2.0",
      "_view_name": "LayoutView",
      "align_content": null,
      "align_items": null,
      "align_self": null,
      "border": null,
      "bottom": null,
      "display": null,
      "flex": null,
      "flex_flow": null,
      "grid_area": null,
      "grid_auto_columns": null,
      "grid_auto_flow": null,
      "grid_auto_rows": null,
      "grid_column": null,
      "grid_gap": null,
      "grid_row": null,
      "grid_template_areas": null,
      "grid_template_columns": null,
      "grid_template_rows": null,
      "height": null,
      "justify_content": null,
      "justify_items": null,
      "left": null,
      "margin": null,
      "max_height": null,
      "max_width": null,
      "min_height": null,
      "min_width": null,
      "object_fit": null,
      "object_position": null,
      "order": null,
      "overflow": null,
      "overflow_x": null,
      "overflow_y": null,
      "padding": null,
      "right": null,
      "top": null,
      "visibility": null,
      "width": null
     }
    },
    "b8a3a5da3f0a4f938e708a249293ec82": {
     "model_module": "@jupyter-widgets/controls",
     "model_module_version": "1.5.0",
     "model_name": "FloatProgressModel",
     "state": {
      "_dom_classes": [],
      "_model_module": "@jupyter-widgets/controls",
      "_model_module_version": "1.5.0",
      "_model_name": "FloatProgressModel",
      "_view_count": null,
      "_view_module": "@jupyter-widgets/controls",
      "_view_module_version": "1.5.0",
      "_view_name": "ProgressView",
      "bar_style": "success",
      "description": "",
      "description_tooltip": null,
      "layout": "IPY_MODEL_e87fbdabb61948788c84d99c1591afa7",
      "max": 39265,
      "min": 0,
      "orientation": "horizontal",
      "style": "IPY_MODEL_95c77dbfc4814cdca322c39a15a2af2f",
      "value": 39265
     }
    },
    "ba7fc150a30945208618f116a10943c4": {
     "model_module": "@jupyter-widgets/base",
     "model_module_version": "1.2.0",
     "model_name": "LayoutModel",
     "state": {
      "_model_module": "@jupyter-widgets/base",
      "_model_module_version": "1.2.0",
      "_model_name": "LayoutModel",
      "_view_count": null,
      "_view_module": "@jupyter-widgets/base",
      "_view_module_version": "1.2.0",
      "_view_name": "LayoutView",
      "align_content": null,
      "align_items": null,
      "align_self": null,
      "border": null,
      "bottom": null,
      "display": null,
      "flex": null,
      "flex_flow": null,
      "grid_area": null,
      "grid_auto_columns": null,
      "grid_auto_flow": null,
      "grid_auto_rows": null,
      "grid_column": null,
      "grid_gap": null,
      "grid_row": null,
      "grid_template_areas": null,
      "grid_template_columns": null,
      "grid_template_rows": null,
      "height": null,
      "justify_content": null,
      "justify_items": null,
      "left": null,
      "margin": null,
      "max_height": null,
      "max_width": null,
      "min_height": null,
      "min_width": null,
      "object_fit": null,
      "object_position": null,
      "order": null,
      "overflow": null,
      "overflow_x": null,
      "overflow_y": null,
      "padding": null,
      "right": null,
      "top": null,
      "visibility": null,
      "width": null
     }
    },
    "bb7c1ef262e84a15967ba5f828ea7f67": {
     "model_module": "@jupyter-widgets/controls",
     "model_module_version": "1.5.0",
     "model_name": "ProgressStyleModel",
     "state": {
      "_model_module": "@jupyter-widgets/controls",
      "_model_module_version": "1.5.0",
      "_model_name": "ProgressStyleModel",
      "_view_count": null,
      "_view_module": "@jupyter-widgets/base",
      "_view_module_version": "1.2.0",
      "_view_name": "StyleView",
      "bar_color": null,
      "description_width": ""
     }
    },
    "bb802df468284f26ad3809a858ebf338": {
     "model_module": "@jupyter-widgets/base",
     "model_module_version": "1.2.0",
     "model_name": "LayoutModel",
     "state": {
      "_model_module": "@jupyter-widgets/base",
      "_model_module_version": "1.2.0",
      "_model_name": "LayoutModel",
      "_view_count": null,
      "_view_module": "@jupyter-widgets/base",
      "_view_module_version": "1.2.0",
      "_view_name": "LayoutView",
      "align_content": null,
      "align_items": null,
      "align_self": null,
      "border": null,
      "bottom": null,
      "display": null,
      "flex": null,
      "flex_flow": null,
      "grid_area": null,
      "grid_auto_columns": null,
      "grid_auto_flow": null,
      "grid_auto_rows": null,
      "grid_column": null,
      "grid_gap": null,
      "grid_row": null,
      "grid_template_areas": null,
      "grid_template_columns": null,
      "grid_template_rows": null,
      "height": null,
      "justify_content": null,
      "justify_items": null,
      "left": null,
      "margin": null,
      "max_height": null,
      "max_width": null,
      "min_height": null,
      "min_width": null,
      "object_fit": null,
      "object_position": null,
      "order": null,
      "overflow": null,
      "overflow_x": null,
      "overflow_y": null,
      "padding": null,
      "right": null,
      "top": null,
      "visibility": null,
      "width": null
     }
    },
    "c236c4bbb41f45d59b38b36f81fedef4": {
     "model_module": "@jupyter-widgets/controls",
     "model_module_version": "1.5.0",
     "model_name": "ProgressStyleModel",
     "state": {
      "_model_module": "@jupyter-widgets/controls",
      "_model_module_version": "1.5.0",
      "_model_name": "ProgressStyleModel",
      "_view_count": null,
      "_view_module": "@jupyter-widgets/base",
      "_view_module_version": "1.2.0",
      "_view_name": "StyleView",
      "bar_color": null,
      "description_width": ""
     }
    },
    "c29eded748004f238a642cb3e97d79fb": {
     "model_module": "@jupyter-widgets/base",
     "model_module_version": "1.2.0",
     "model_name": "LayoutModel",
     "state": {
      "_model_module": "@jupyter-widgets/base",
      "_model_module_version": "1.2.0",
      "_model_name": "LayoutModel",
      "_view_count": null,
      "_view_module": "@jupyter-widgets/base",
      "_view_module_version": "1.2.0",
      "_view_name": "LayoutView",
      "align_content": null,
      "align_items": null,
      "align_self": null,
      "border": null,
      "bottom": null,
      "display": null,
      "flex": null,
      "flex_flow": null,
      "grid_area": null,
      "grid_auto_columns": null,
      "grid_auto_flow": null,
      "grid_auto_rows": null,
      "grid_column": null,
      "grid_gap": null,
      "grid_row": null,
      "grid_template_areas": null,
      "grid_template_columns": null,
      "grid_template_rows": null,
      "height": null,
      "justify_content": null,
      "justify_items": null,
      "left": null,
      "margin": null,
      "max_height": null,
      "max_width": null,
      "min_height": null,
      "min_width": null,
      "object_fit": null,
      "object_position": null,
      "order": null,
      "overflow": null,
      "overflow_x": null,
      "overflow_y": null,
      "padding": null,
      "right": null,
      "top": null,
      "visibility": null,
      "width": null
     }
    },
    "c2fe65b3931743c49eeb4d3ad84b5d74": {
     "model_module": "@jupyter-widgets/base",
     "model_module_version": "1.2.0",
     "model_name": "LayoutModel",
     "state": {
      "_model_module": "@jupyter-widgets/base",
      "_model_module_version": "1.2.0",
      "_model_name": "LayoutModel",
      "_view_count": null,
      "_view_module": "@jupyter-widgets/base",
      "_view_module_version": "1.2.0",
      "_view_name": "LayoutView",
      "align_content": null,
      "align_items": null,
      "align_self": null,
      "border": null,
      "bottom": null,
      "display": null,
      "flex": null,
      "flex_flow": null,
      "grid_area": null,
      "grid_auto_columns": null,
      "grid_auto_flow": null,
      "grid_auto_rows": null,
      "grid_column": null,
      "grid_gap": null,
      "grid_row": null,
      "grid_template_areas": null,
      "grid_template_columns": null,
      "grid_template_rows": null,
      "height": null,
      "justify_content": null,
      "justify_items": null,
      "left": null,
      "margin": null,
      "max_height": null,
      "max_width": null,
      "min_height": null,
      "min_width": null,
      "object_fit": null,
      "object_position": null,
      "order": null,
      "overflow": null,
      "overflow_x": null,
      "overflow_y": null,
      "padding": null,
      "right": null,
      "top": null,
      "visibility": null,
      "width": null
     }
    },
    "c4e49add7b2d4246ab8f43466175eaf0": {
     "model_module": "@jupyter-widgets/controls",
     "model_module_version": "1.5.0",
     "model_name": "FloatProgressModel",
     "state": {
      "_dom_classes": [],
      "_model_module": "@jupyter-widgets/controls",
      "_model_module_version": "1.5.0",
      "_model_name": "FloatProgressModel",
      "_view_count": null,
      "_view_module": "@jupyter-widgets/controls",
      "_view_module_version": "1.5.0",
      "_view_name": "ProgressView",
      "bar_style": "success",
      "description": "",
      "description_tooltip": null,
      "layout": "IPY_MODEL_c2fe65b3931743c49eeb4d3ad84b5d74",
      "max": 13123,
      "min": 0,
      "orientation": "horizontal",
      "style": "IPY_MODEL_bb7c1ef262e84a15967ba5f828ea7f67",
      "value": 13123
     }
    },
    "c513448bd85b4346a0d5cd3b3c0e11b8": {
     "model_module": "@jupyter-widgets/base",
     "model_module_version": "1.2.0",
     "model_name": "LayoutModel",
     "state": {
      "_model_module": "@jupyter-widgets/base",
      "_model_module_version": "1.2.0",
      "_model_name": "LayoutModel",
      "_view_count": null,
      "_view_module": "@jupyter-widgets/base",
      "_view_module_version": "1.2.0",
      "_view_name": "LayoutView",
      "align_content": null,
      "align_items": null,
      "align_self": null,
      "border": null,
      "bottom": null,
      "display": null,
      "flex": null,
      "flex_flow": null,
      "grid_area": null,
      "grid_auto_columns": null,
      "grid_auto_flow": null,
      "grid_auto_rows": null,
      "grid_column": null,
      "grid_gap": null,
      "grid_row": null,
      "grid_template_areas": null,
      "grid_template_columns": null,
      "grid_template_rows": null,
      "height": null,
      "justify_content": null,
      "justify_items": null,
      "left": null,
      "margin": null,
      "max_height": null,
      "max_width": null,
      "min_height": null,
      "min_width": null,
      "object_fit": null,
      "object_position": null,
      "order": null,
      "overflow": null,
      "overflow_x": null,
      "overflow_y": null,
      "padding": null,
      "right": null,
      "top": null,
      "visibility": null,
      "width": null
     }
    },
    "c57f5018a86e4cf2863f54a8dd7457b9": {
     "model_module": "@jupyter-widgets/base",
     "model_module_version": "1.2.0",
     "model_name": "LayoutModel",
     "state": {
      "_model_module": "@jupyter-widgets/base",
      "_model_module_version": "1.2.0",
      "_model_name": "LayoutModel",
      "_view_count": null,
      "_view_module": "@jupyter-widgets/base",
      "_view_module_version": "1.2.0",
      "_view_name": "LayoutView",
      "align_content": null,
      "align_items": null,
      "align_self": null,
      "border": null,
      "bottom": null,
      "display": null,
      "flex": null,
      "flex_flow": null,
      "grid_area": null,
      "grid_auto_columns": null,
      "grid_auto_flow": null,
      "grid_auto_rows": null,
      "grid_column": null,
      "grid_gap": null,
      "grid_row": null,
      "grid_template_areas": null,
      "grid_template_columns": null,
      "grid_template_rows": null,
      "height": null,
      "justify_content": null,
      "justify_items": null,
      "left": null,
      "margin": null,
      "max_height": null,
      "max_width": null,
      "min_height": null,
      "min_width": null,
      "object_fit": null,
      "object_position": null,
      "order": null,
      "overflow": null,
      "overflow_x": null,
      "overflow_y": null,
      "padding": null,
      "right": null,
      "top": null,
      "visibility": null,
      "width": null
     }
    },
    "c611330090544fb48aec7cf92efc8070": {
     "model_module": "@jupyter-widgets/controls",
     "model_module_version": "1.5.0",
     "model_name": "ProgressStyleModel",
     "state": {
      "_model_module": "@jupyter-widgets/controls",
      "_model_module_version": "1.5.0",
      "_model_name": "ProgressStyleModel",
      "_view_count": null,
      "_view_module": "@jupyter-widgets/base",
      "_view_module_version": "1.2.0",
      "_view_name": "StyleView",
      "bar_color": null,
      "description_width": ""
     }
    },
    "c7608fcfb0c7430ea40b2f2b7f938572": {
     "model_module": "@jupyter-widgets/base",
     "model_module_version": "1.2.0",
     "model_name": "LayoutModel",
     "state": {
      "_model_module": "@jupyter-widgets/base",
      "_model_module_version": "1.2.0",
      "_model_name": "LayoutModel",
      "_view_count": null,
      "_view_module": "@jupyter-widgets/base",
      "_view_module_version": "1.2.0",
      "_view_name": "LayoutView",
      "align_content": null,
      "align_items": null,
      "align_self": null,
      "border": null,
      "bottom": null,
      "display": null,
      "flex": null,
      "flex_flow": null,
      "grid_area": null,
      "grid_auto_columns": null,
      "grid_auto_flow": null,
      "grid_auto_rows": null,
      "grid_column": null,
      "grid_gap": null,
      "grid_row": null,
      "grid_template_areas": null,
      "grid_template_columns": null,
      "grid_template_rows": null,
      "height": null,
      "justify_content": null,
      "justify_items": null,
      "left": null,
      "margin": null,
      "max_height": null,
      "max_width": null,
      "min_height": null,
      "min_width": null,
      "object_fit": null,
      "object_position": null,
      "order": null,
      "overflow": null,
      "overflow_x": null,
      "overflow_y": null,
      "padding": null,
      "right": null,
      "top": null,
      "visibility": null,
      "width": null
     }
    },
    "c86df4cf666e47cea738e4d8fcbcf413": {
     "model_module": "@jupyter-widgets/controls",
     "model_module_version": "1.5.0",
     "model_name": "HTMLModel",
     "state": {
      "_dom_classes": [],
      "_model_module": "@jupyter-widgets/controls",
      "_model_module_version": "1.5.0",
      "_model_name": "HTMLModel",
      "_view_count": null,
      "_view_module": "@jupyter-widgets/controls",
      "_view_module_version": "1.5.0",
      "_view_name": "HTMLView",
      "description": "",
      "description_tooltip": null,
      "layout": "IPY_MODEL_ba7fc150a30945208618f116a10943c4",
      "placeholder": "​",
      "style": "IPY_MODEL_f92b8f52d85545418f800c39daa0fe02",
      "value": "Downloading: 100%"
     }
    },
    "c89d7c95dc04407f8f2bf01df20b7f49": {
     "model_module": "@jupyter-widgets/controls",
     "model_module_version": "1.5.0",
     "model_name": "HTMLModel",
     "state": {
      "_dom_classes": [],
      "_model_module": "@jupyter-widgets/controls",
      "_model_module_version": "1.5.0",
      "_model_name": "HTMLModel",
      "_view_count": null,
      "_view_module": "@jupyter-widgets/controls",
      "_view_module_version": "1.5.0",
      "_view_name": "HTMLView",
      "description": "",
      "description_tooltip": null,
      "layout": "IPY_MODEL_8b42955959354c60af4e62f07e554a82",
      "placeholder": "​",
      "style": "IPY_MODEL_07be5aa3ba5b4bdfb731a9357194d67c",
      "value": " 232k/232k [00:00&lt;00:00, 896kB/s]"
     }
    },
    "c9f091ca7dfd42e8b1f032470a29e2c9": {
     "model_module": "@jupyter-widgets/controls",
     "model_module_version": "1.5.0",
     "model_name": "DescriptionStyleModel",
     "state": {
      "_model_module": "@jupyter-widgets/controls",
      "_model_module_version": "1.5.0",
      "_model_name": "DescriptionStyleModel",
      "_view_count": null,
      "_view_module": "@jupyter-widgets/base",
      "_view_module_version": "1.2.0",
      "_view_name": "StyleView",
      "description_width": ""
     }
    },
    "cb557c5bfc934944b1ce6eb721179d87": {
     "model_module": "@jupyter-widgets/controls",
     "model_module_version": "1.5.0",
     "model_name": "DescriptionStyleModel",
     "state": {
      "_model_module": "@jupyter-widgets/controls",
      "_model_module_version": "1.5.0",
      "_model_name": "DescriptionStyleModel",
      "_view_count": null,
      "_view_module": "@jupyter-widgets/base",
      "_view_module_version": "1.2.0",
      "_view_name": "StyleView",
      "description_width": ""
     }
    },
    "ccc6256aff7347ed847b7057dd8fd955": {
     "model_module": "@jupyter-widgets/controls",
     "model_module_version": "1.5.0",
     "model_name": "DescriptionStyleModel",
     "state": {
      "_model_module": "@jupyter-widgets/controls",
      "_model_module_version": "1.5.0",
      "_model_name": "DescriptionStyleModel",
      "_view_count": null,
      "_view_module": "@jupyter-widgets/base",
      "_view_module_version": "1.2.0",
      "_view_name": "StyleView",
      "description_width": ""
     }
    },
    "cccf223dbbce4ece9a52e8441673d0fa": {
     "model_module": "@jupyter-widgets/controls",
     "model_module_version": "1.5.0",
     "model_name": "HBoxModel",
     "state": {
      "_dom_classes": [],
      "_model_module": "@jupyter-widgets/controls",
      "_model_module_version": "1.5.0",
      "_model_name": "HBoxModel",
      "_view_count": null,
      "_view_module": "@jupyter-widgets/controls",
      "_view_module_version": "1.5.0",
      "_view_name": "HBoxView",
      "box_style": "",
      "children": [
       "IPY_MODEL_5cb29053e3ac4b5faa247573500a4b1d",
       "IPY_MODEL_b5f648707b1b4001a0ec336ae3835cb4",
       "IPY_MODEL_c89d7c95dc04407f8f2bf01df20b7f49"
      ],
      "layout": "IPY_MODEL_8f91aca4cbc14f65b39d13818432cf45"
     }
    },
    "cfedd6a41c874e2b8234afe218a48885": {
     "model_module": "@jupyter-widgets/controls",
     "model_module_version": "1.5.0",
     "model_name": "HTMLModel",
     "state": {
      "_dom_classes": [],
      "_model_module": "@jupyter-widgets/controls",
      "_model_module_version": "1.5.0",
      "_model_name": "HTMLModel",
      "_view_count": null,
      "_view_module": "@jupyter-widgets/controls",
      "_view_module_version": "1.5.0",
      "_view_name": "HTMLView",
      "description": "",
      "description_tooltip": null,
      "layout": "IPY_MODEL_b15f12cec2244db081c1663a66f30536",
      "placeholder": "​",
      "style": "IPY_MODEL_b24e7ef57d964b069c6a237834e285aa",
      "value": " 1.18k/1.18k [00:00&lt;00:00, 35.8kB/s]"
     }
    },
    "d09893bff19e4bf299bd19087fefead5": {
     "model_module": "@jupyter-widgets/base",
     "model_module_version": "1.2.0",
     "model_name": "LayoutModel",
     "state": {
      "_model_module": "@jupyter-widgets/base",
      "_model_module_version": "1.2.0",
      "_model_name": "LayoutModel",
      "_view_count": null,
      "_view_module": "@jupyter-widgets/base",
      "_view_module_version": "1.2.0",
      "_view_name": "LayoutView",
      "align_content": null,
      "align_items": null,
      "align_self": null,
      "border": null,
      "bottom": null,
      "display": null,
      "flex": null,
      "flex_flow": null,
      "grid_area": null,
      "grid_auto_columns": null,
      "grid_auto_flow": null,
      "grid_auto_rows": null,
      "grid_column": null,
      "grid_gap": null,
      "grid_row": null,
      "grid_template_areas": null,
      "grid_template_columns": null,
      "grid_template_rows": null,
      "height": null,
      "justify_content": null,
      "justify_items": null,
      "left": null,
      "margin": null,
      "max_height": null,
      "max_width": null,
      "min_height": null,
      "min_width": null,
      "object_fit": null,
      "object_position": null,
      "order": null,
      "overflow": null,
      "overflow_x": null,
      "overflow_y": null,
      "padding": null,
      "right": null,
      "top": null,
      "visibility": null,
      "width": null
     }
    },
    "d0addb59264f49e0a77349fe87bcd1fc": {
     "model_module": "@jupyter-widgets/controls",
     "model_module_version": "1.5.0",
     "model_name": "HTMLModel",
     "state": {
      "_dom_classes": [],
      "_model_module": "@jupyter-widgets/controls",
      "_model_module_version": "1.5.0",
      "_model_name": "HTMLModel",
      "_view_count": null,
      "_view_module": "@jupyter-widgets/controls",
      "_view_module_version": "1.5.0",
      "_view_name": "HTMLView",
      "description": "",
      "description_tooltip": null,
      "layout": "IPY_MODEL_e14906e7aa234ecea7f021b964a76f5d",
      "placeholder": "​",
      "style": "IPY_MODEL_535994abf42c47f4914c396b0f401833",
      "value": " 39.3k/39.3k [00:00&lt;00:00, 629kB/s]"
     }
    },
    "d12a869864ed486ea9d5f26c4ef9a37b": {
     "model_module": "@jupyter-widgets/controls",
     "model_module_version": "1.5.0",
     "model_name": "DescriptionStyleModel",
     "state": {
      "_model_module": "@jupyter-widgets/controls",
      "_model_module_version": "1.5.0",
      "_model_name": "DescriptionStyleModel",
      "_view_count": null,
      "_view_module": "@jupyter-widgets/base",
      "_view_module_version": "1.2.0",
      "_view_name": "StyleView",
      "description_width": ""
     }
    },
    "d3edafc26946489e9c973f64abfff288": {
     "model_module": "@jupyter-widgets/controls",
     "model_module_version": "1.5.0",
     "model_name": "ProgressStyleModel",
     "state": {
      "_model_module": "@jupyter-widgets/controls",
      "_model_module_version": "1.5.0",
      "_model_name": "ProgressStyleModel",
      "_view_count": null,
      "_view_module": "@jupyter-widgets/base",
      "_view_module_version": "1.2.0",
      "_view_name": "StyleView",
      "bar_color": null,
      "description_width": ""
     }
    },
    "d45b674637b24c718583c8665d2efdef": {
     "model_module": "@jupyter-widgets/base",
     "model_module_version": "1.2.0",
     "model_name": "LayoutModel",
     "state": {
      "_model_module": "@jupyter-widgets/base",
      "_model_module_version": "1.2.0",
      "_model_name": "LayoutModel",
      "_view_count": null,
      "_view_module": "@jupyter-widgets/base",
      "_view_module_version": "1.2.0",
      "_view_name": "LayoutView",
      "align_content": null,
      "align_items": null,
      "align_self": null,
      "border": null,
      "bottom": null,
      "display": null,
      "flex": null,
      "flex_flow": null,
      "grid_area": null,
      "grid_auto_columns": null,
      "grid_auto_flow": null,
      "grid_auto_rows": null,
      "grid_column": null,
      "grid_gap": null,
      "grid_row": null,
      "grid_template_areas": null,
      "grid_template_columns": null,
      "grid_template_rows": null,
      "height": null,
      "justify_content": null,
      "justify_items": null,
      "left": null,
      "margin": null,
      "max_height": null,
      "max_width": null,
      "min_height": null,
      "min_width": null,
      "object_fit": null,
      "object_position": null,
      "order": null,
      "overflow": null,
      "overflow_x": null,
      "overflow_y": null,
      "padding": null,
      "right": null,
      "top": null,
      "visibility": null,
      "width": null
     }
    },
    "d6366f655d5c44e2b4ae10a5ecb01884": {
     "model_module": "@jupyter-widgets/base",
     "model_module_version": "1.2.0",
     "model_name": "LayoutModel",
     "state": {
      "_model_module": "@jupyter-widgets/base",
      "_model_module_version": "1.2.0",
      "_model_name": "LayoutModel",
      "_view_count": null,
      "_view_module": "@jupyter-widgets/base",
      "_view_module_version": "1.2.0",
      "_view_name": "LayoutView",
      "align_content": null,
      "align_items": null,
      "align_self": null,
      "border": null,
      "bottom": null,
      "display": null,
      "flex": null,
      "flex_flow": null,
      "grid_area": null,
      "grid_auto_columns": null,
      "grid_auto_flow": null,
      "grid_auto_rows": null,
      "grid_column": null,
      "grid_gap": null,
      "grid_row": null,
      "grid_template_areas": null,
      "grid_template_columns": null,
      "grid_template_rows": null,
      "height": null,
      "justify_content": null,
      "justify_items": null,
      "left": null,
      "margin": null,
      "max_height": null,
      "max_width": null,
      "min_height": null,
      "min_width": null,
      "object_fit": null,
      "object_position": null,
      "order": null,
      "overflow": null,
      "overflow_x": null,
      "overflow_y": null,
      "padding": null,
      "right": null,
      "top": null,
      "visibility": null,
      "width": null
     }
    },
    "d6f155d5e04647bdb5ce3c1ffe2beaa3": {
     "model_module": "@jupyter-widgets/base",
     "model_module_version": "1.2.0",
     "model_name": "LayoutModel",
     "state": {
      "_model_module": "@jupyter-widgets/base",
      "_model_module_version": "1.2.0",
      "_model_name": "LayoutModel",
      "_view_count": null,
      "_view_module": "@jupyter-widgets/base",
      "_view_module_version": "1.2.0",
      "_view_name": "LayoutView",
      "align_content": null,
      "align_items": null,
      "align_self": null,
      "border": null,
      "bottom": null,
      "display": null,
      "flex": null,
      "flex_flow": null,
      "grid_area": null,
      "grid_auto_columns": null,
      "grid_auto_flow": null,
      "grid_auto_rows": null,
      "grid_column": null,
      "grid_gap": null,
      "grid_row": null,
      "grid_template_areas": null,
      "grid_template_columns": null,
      "grid_template_rows": null,
      "height": null,
      "justify_content": null,
      "justify_items": null,
      "left": null,
      "margin": null,
      "max_height": null,
      "max_width": null,
      "min_height": null,
      "min_width": null,
      "object_fit": null,
      "object_position": null,
      "order": null,
      "overflow": null,
      "overflow_x": null,
      "overflow_y": null,
      "padding": null,
      "right": null,
      "top": null,
      "visibility": null,
      "width": null
     }
    },
    "d8049376c9874d8bb9e5d26e04d81e86": {
     "model_module": "@jupyter-widgets/controls",
     "model_module_version": "1.5.0",
     "model_name": "HTMLModel",
     "state": {
      "_dom_classes": [],
      "_model_module": "@jupyter-widgets/controls",
      "_model_module_version": "1.5.0",
      "_model_name": "HTMLModel",
      "_view_count": null,
      "_view_module": "@jupyter-widgets/controls",
      "_view_module_version": "1.5.0",
      "_view_name": "HTMLView",
      "description": "",
      "description_tooltip": null,
      "layout": "IPY_MODEL_9ac3fdad04ca49d0bc804d030460f05b",
      "placeholder": "​",
      "style": "IPY_MODEL_8239dd9421e54e318607d6c64b69125d",
      "value": "Downloading: 100%"
     }
    },
    "d84ff5edc0b7429297564c2faee2d54f": {
     "model_module": "@jupyter-widgets/base",
     "model_module_version": "1.2.0",
     "model_name": "LayoutModel",
     "state": {
      "_model_module": "@jupyter-widgets/base",
      "_model_module_version": "1.2.0",
      "_model_name": "LayoutModel",
      "_view_count": null,
      "_view_module": "@jupyter-widgets/base",
      "_view_module_version": "1.2.0",
      "_view_name": "LayoutView",
      "align_content": null,
      "align_items": null,
      "align_self": null,
      "border": null,
      "bottom": null,
      "display": null,
      "flex": null,
      "flex_flow": null,
      "grid_area": null,
      "grid_auto_columns": null,
      "grid_auto_flow": null,
      "grid_auto_rows": null,
      "grid_column": null,
      "grid_gap": null,
      "grid_row": null,
      "grid_template_areas": null,
      "grid_template_columns": null,
      "grid_template_rows": null,
      "height": null,
      "justify_content": null,
      "justify_items": null,
      "left": null,
      "margin": null,
      "max_height": null,
      "max_width": null,
      "min_height": null,
      "min_width": null,
      "object_fit": null,
      "object_position": null,
      "order": null,
      "overflow": null,
      "overflow_x": null,
      "overflow_y": null,
      "padding": null,
      "right": null,
      "top": null,
      "visibility": null,
      "width": null
     }
    },
    "d904c8d616794f0e99bd23c6a62cefeb": {
     "model_module": "@jupyter-widgets/base",
     "model_module_version": "1.2.0",
     "model_name": "LayoutModel",
     "state": {
      "_model_module": "@jupyter-widgets/base",
      "_model_module_version": "1.2.0",
      "_model_name": "LayoutModel",
      "_view_count": null,
      "_view_module": "@jupyter-widgets/base",
      "_view_module_version": "1.2.0",
      "_view_name": "LayoutView",
      "align_content": null,
      "align_items": null,
      "align_self": null,
      "border": null,
      "bottom": null,
      "display": null,
      "flex": null,
      "flex_flow": null,
      "grid_area": null,
      "grid_auto_columns": null,
      "grid_auto_flow": null,
      "grid_auto_rows": null,
      "grid_column": null,
      "grid_gap": null,
      "grid_row": null,
      "grid_template_areas": null,
      "grid_template_columns": null,
      "grid_template_rows": null,
      "height": null,
      "justify_content": null,
      "justify_items": null,
      "left": null,
      "margin": null,
      "max_height": null,
      "max_width": null,
      "min_height": null,
      "min_width": null,
      "object_fit": null,
      "object_position": null,
      "order": null,
      "overflow": null,
      "overflow_x": null,
      "overflow_y": null,
      "padding": null,
      "right": null,
      "top": null,
      "visibility": null,
      "width": null
     }
    },
    "d954233c123343d9bd43a5b7057915e0": {
     "model_module": "@jupyter-widgets/controls",
     "model_module_version": "1.5.0",
     "model_name": "DescriptionStyleModel",
     "state": {
      "_model_module": "@jupyter-widgets/controls",
      "_model_module_version": "1.5.0",
      "_model_name": "DescriptionStyleModel",
      "_view_count": null,
      "_view_module": "@jupyter-widgets/base",
      "_view_module_version": "1.2.0",
      "_view_name": "StyleView",
      "description_width": ""
     }
    },
    "d9b42e220b3842819e7503c2e5496550": {
     "model_module": "@jupyter-widgets/base",
     "model_module_version": "1.2.0",
     "model_name": "LayoutModel",
     "state": {
      "_model_module": "@jupyter-widgets/base",
      "_model_module_version": "1.2.0",
      "_model_name": "LayoutModel",
      "_view_count": null,
      "_view_module": "@jupyter-widgets/base",
      "_view_module_version": "1.2.0",
      "_view_name": "LayoutView",
      "align_content": null,
      "align_items": null,
      "align_self": null,
      "border": null,
      "bottom": null,
      "display": null,
      "flex": null,
      "flex_flow": null,
      "grid_area": null,
      "grid_auto_columns": null,
      "grid_auto_flow": null,
      "grid_auto_rows": null,
      "grid_column": null,
      "grid_gap": null,
      "grid_row": null,
      "grid_template_areas": null,
      "grid_template_columns": null,
      "grid_template_rows": null,
      "height": null,
      "justify_content": null,
      "justify_items": null,
      "left": null,
      "margin": null,
      "max_height": null,
      "max_width": null,
      "min_height": null,
      "min_width": null,
      "object_fit": null,
      "object_position": null,
      "order": null,
      "overflow": null,
      "overflow_x": null,
      "overflow_y": null,
      "padding": null,
      "right": null,
      "top": null,
      "visibility": null,
      "width": null
     }
    },
    "dd28fefd41f5403fa38d12c4331fa508": {
     "model_module": "@jupyter-widgets/controls",
     "model_module_version": "1.5.0",
     "model_name": "HBoxModel",
     "state": {
      "_dom_classes": [],
      "_model_module": "@jupyter-widgets/controls",
      "_model_module_version": "1.5.0",
      "_model_name": "HBoxModel",
      "_view_count": null,
      "_view_module": "@jupyter-widgets/controls",
      "_view_module_version": "1.5.0",
      "_view_name": "HBoxView",
      "box_style": "",
      "children": [
       "IPY_MODEL_fb14048326114c72b92966228ea91e01",
       "IPY_MODEL_c4e49add7b2d4246ab8f43466175eaf0",
       "IPY_MODEL_72745c0713b349d7893cc40ceda839ba"
      ],
      "layout": "IPY_MODEL_739a8fbec15d448888b4fe4a6396dc87"
     }
    },
    "e14906e7aa234ecea7f021b964a76f5d": {
     "model_module": "@jupyter-widgets/base",
     "model_module_version": "1.2.0",
     "model_name": "LayoutModel",
     "state": {
      "_model_module": "@jupyter-widgets/base",
      "_model_module_version": "1.2.0",
      "_model_name": "LayoutModel",
      "_view_count": null,
      "_view_module": "@jupyter-widgets/base",
      "_view_module_version": "1.2.0",
      "_view_name": "LayoutView",
      "align_content": null,
      "align_items": null,
      "align_self": null,
      "border": null,
      "bottom": null,
      "display": null,
      "flex": null,
      "flex_flow": null,
      "grid_area": null,
      "grid_auto_columns": null,
      "grid_auto_flow": null,
      "grid_auto_rows": null,
      "grid_column": null,
      "grid_gap": null,
      "grid_row": null,
      "grid_template_areas": null,
      "grid_template_columns": null,
      "grid_template_rows": null,
      "height": null,
      "justify_content": null,
      "justify_items": null,
      "left": null,
      "margin": null,
      "max_height": null,
      "max_width": null,
      "min_height": null,
      "min_width": null,
      "object_fit": null,
      "object_position": null,
      "order": null,
      "overflow": null,
      "overflow_x": null,
      "overflow_y": null,
      "padding": null,
      "right": null,
      "top": null,
      "visibility": null,
      "width": null
     }
    },
    "e2ae5881f26e4520bb1cbd55492f2639": {
     "model_module": "@jupyter-widgets/controls",
     "model_module_version": "1.5.0",
     "model_name": "ProgressStyleModel",
     "state": {
      "_model_module": "@jupyter-widgets/controls",
      "_model_module_version": "1.5.0",
      "_model_name": "ProgressStyleModel",
      "_view_count": null,
      "_view_module": "@jupyter-widgets/base",
      "_view_module_version": "1.2.0",
      "_view_name": "StyleView",
      "bar_color": null,
      "description_width": ""
     }
    },
    "e4cfd0cc227f41f88a662ca9711b11a3": {
     "model_module": "@jupyter-widgets/base",
     "model_module_version": "1.2.0",
     "model_name": "LayoutModel",
     "state": {
      "_model_module": "@jupyter-widgets/base",
      "_model_module_version": "1.2.0",
      "_model_name": "LayoutModel",
      "_view_count": null,
      "_view_module": "@jupyter-widgets/base",
      "_view_module_version": "1.2.0",
      "_view_name": "LayoutView",
      "align_content": null,
      "align_items": null,
      "align_self": null,
      "border": null,
      "bottom": null,
      "display": null,
      "flex": null,
      "flex_flow": null,
      "grid_area": null,
      "grid_auto_columns": null,
      "grid_auto_flow": null,
      "grid_auto_rows": null,
      "grid_column": null,
      "grid_gap": null,
      "grid_row": null,
      "grid_template_areas": null,
      "grid_template_columns": null,
      "grid_template_rows": null,
      "height": null,
      "justify_content": null,
      "justify_items": null,
      "left": null,
      "margin": null,
      "max_height": null,
      "max_width": null,
      "min_height": null,
      "min_width": null,
      "object_fit": null,
      "object_position": null,
      "order": null,
      "overflow": null,
      "overflow_x": null,
      "overflow_y": null,
      "padding": null,
      "right": null,
      "top": null,
      "visibility": null,
      "width": null
     }
    },
    "e4d32daf2c4840acba38bf7420a13fa2": {
     "model_module": "@jupyter-widgets/controls",
     "model_module_version": "1.5.0",
     "model_name": "ProgressStyleModel",
     "state": {
      "_model_module": "@jupyter-widgets/controls",
      "_model_module_version": "1.5.0",
      "_model_name": "ProgressStyleModel",
      "_view_count": null,
      "_view_module": "@jupyter-widgets/base",
      "_view_module_version": "1.2.0",
      "_view_name": "StyleView",
      "bar_color": null,
      "description_width": ""
     }
    },
    "e58adb004d51400685670b4841205355": {
     "model_module": "@jupyter-widgets/controls",
     "model_module_version": "1.5.0",
     "model_name": "HTMLModel",
     "state": {
      "_dom_classes": [],
      "_model_module": "@jupyter-widgets/controls",
      "_model_module_version": "1.5.0",
      "_model_name": "HTMLModel",
      "_view_count": null,
      "_view_module": "@jupyter-widgets/controls",
      "_view_module_version": "1.5.0",
      "_view_name": "HTMLView",
      "description": "",
      "description_tooltip": null,
      "layout": "IPY_MODEL_1c4679f5aea149e889f629da442b361e",
      "placeholder": "​",
      "style": "IPY_MODEL_63990fb5f755425ab1eb99cd7f9716b3",
      "value": " 190/190 [00:00&lt;00:00, 6.39kB/s]"
     }
    },
    "e87fbdabb61948788c84d99c1591afa7": {
     "model_module": "@jupyter-widgets/base",
     "model_module_version": "1.2.0",
     "model_name": "LayoutModel",
     "state": {
      "_model_module": "@jupyter-widgets/base",
      "_model_module_version": "1.2.0",
      "_model_name": "LayoutModel",
      "_view_count": null,
      "_view_module": "@jupyter-widgets/base",
      "_view_module_version": "1.2.0",
      "_view_name": "LayoutView",
      "align_content": null,
      "align_items": null,
      "align_self": null,
      "border": null,
      "bottom": null,
      "display": null,
      "flex": null,
      "flex_flow": null,
      "grid_area": null,
      "grid_auto_columns": null,
      "grid_auto_flow": null,
      "grid_auto_rows": null,
      "grid_column": null,
      "grid_gap": null,
      "grid_row": null,
      "grid_template_areas": null,
      "grid_template_columns": null,
      "grid_template_rows": null,
      "height": null,
      "justify_content": null,
      "justify_items": null,
      "left": null,
      "margin": null,
      "max_height": null,
      "max_width": null,
      "min_height": null,
      "min_width": null,
      "object_fit": null,
      "object_position": null,
      "order": null,
      "overflow": null,
      "overflow_x": null,
      "overflow_y": null,
      "padding": null,
      "right": null,
      "top": null,
      "visibility": null,
      "width": null
     }
    },
    "ea8fa87209f841769e7ed83f72eb9a18": {
     "model_module": "@jupyter-widgets/controls",
     "model_module_version": "1.5.0",
     "model_name": "DescriptionStyleModel",
     "state": {
      "_model_module": "@jupyter-widgets/controls",
      "_model_module_version": "1.5.0",
      "_model_name": "DescriptionStyleModel",
      "_view_count": null,
      "_view_module": "@jupyter-widgets/base",
      "_view_module_version": "1.2.0",
      "_view_name": "StyleView",
      "description_width": ""
     }
    },
    "ebb1df6970c948c29f2312a83fc899ea": {
     "model_module": "@jupyter-widgets/controls",
     "model_module_version": "1.5.0",
     "model_name": "DescriptionStyleModel",
     "state": {
      "_model_module": "@jupyter-widgets/controls",
      "_model_module_version": "1.5.0",
      "_model_name": "DescriptionStyleModel",
      "_view_count": null,
      "_view_module": "@jupyter-widgets/base",
      "_view_module_version": "1.2.0",
      "_view_name": "StyleView",
      "description_width": ""
     }
    },
    "ec7bb19e9c9f44b1a41cfe3e28830794": {
     "model_module": "@jupyter-widgets/base",
     "model_module_version": "1.2.0",
     "model_name": "LayoutModel",
     "state": {
      "_model_module": "@jupyter-widgets/base",
      "_model_module_version": "1.2.0",
      "_model_name": "LayoutModel",
      "_view_count": null,
      "_view_module": "@jupyter-widgets/base",
      "_view_module_version": "1.2.0",
      "_view_name": "LayoutView",
      "align_content": null,
      "align_items": null,
      "align_self": null,
      "border": null,
      "bottom": null,
      "display": null,
      "flex": null,
      "flex_flow": null,
      "grid_area": null,
      "grid_auto_columns": null,
      "grid_auto_flow": null,
      "grid_auto_rows": null,
      "grid_column": null,
      "grid_gap": null,
      "grid_row": null,
      "grid_template_areas": null,
      "grid_template_columns": null,
      "grid_template_rows": null,
      "height": null,
      "justify_content": null,
      "justify_items": null,
      "left": null,
      "margin": null,
      "max_height": null,
      "max_width": null,
      "min_height": null,
      "min_width": null,
      "object_fit": null,
      "object_position": null,
      "order": null,
      "overflow": null,
      "overflow_x": null,
      "overflow_y": null,
      "padding": null,
      "right": null,
      "top": null,
      "visibility": null,
      "width": null
     }
    },
    "efac8ec8b5a642ad83f0a7fba6dda4ae": {
     "model_module": "@jupyter-widgets/controls",
     "model_module_version": "1.5.0",
     "model_name": "HTMLModel",
     "state": {
      "_dom_classes": [],
      "_model_module": "@jupyter-widgets/controls",
      "_model_module_version": "1.5.0",
      "_model_name": "HTMLModel",
      "_view_count": null,
      "_view_module": "@jupyter-widgets/controls",
      "_view_module_version": "1.5.0",
      "_view_name": "HTMLView",
      "description": "",
      "description_tooltip": null,
      "layout": "IPY_MODEL_147ac6e1cb6b4410812fb0eae0dce723",
      "placeholder": "​",
      "style": "IPY_MODEL_ccc6256aff7347ed847b7057dd8fd955",
      "value": "Downloading: 100%"
     }
    },
    "f74f13c12cc546a1af7b70ae54985356": {
     "model_module": "@jupyter-widgets/controls",
     "model_module_version": "1.5.0",
     "model_name": "HTMLModel",
     "state": {
      "_dom_classes": [],
      "_model_module": "@jupyter-widgets/controls",
      "_model_module_version": "1.5.0",
      "_model_name": "HTMLModel",
      "_view_count": null,
      "_view_module": "@jupyter-widgets/controls",
      "_view_module_version": "1.5.0",
      "_view_name": "HTMLView",
      "description": "",
      "description_tooltip": null,
      "layout": "IPY_MODEL_3684c0f23c044ec4826273be50634b8d",
      "placeholder": "​",
      "style": "IPY_MODEL_c9f091ca7dfd42e8b1f032470a29e2c9",
      "value": "Batches: 100%"
     }
    },
    "f92b8f52d85545418f800c39daa0fe02": {
     "model_module": "@jupyter-widgets/controls",
     "model_module_version": "1.5.0",
     "model_name": "DescriptionStyleModel",
     "state": {
      "_model_module": "@jupyter-widgets/controls",
      "_model_module_version": "1.5.0",
      "_model_name": "DescriptionStyleModel",
      "_view_count": null,
      "_view_module": "@jupyter-widgets/base",
      "_view_module_version": "1.2.0",
      "_view_name": "StyleView",
      "description_width": ""
     }
    },
    "f95a79422018495da77b1b1c3aa83827": {
     "model_module": "@jupyter-widgets/controls",
     "model_module_version": "1.5.0",
     "model_name": "HTMLModel",
     "state": {
      "_dom_classes": [],
      "_model_module": "@jupyter-widgets/controls",
      "_model_module_version": "1.5.0",
      "_model_name": "HTMLModel",
      "_view_count": null,
      "_view_module": "@jupyter-widgets/controls",
      "_view_module_version": "1.5.0",
      "_view_name": "HTMLView",
      "description": "",
      "description_tooltip": null,
      "layout": "IPY_MODEL_8315f8809057407e95d8608180590bf6",
      "placeholder": "​",
      "style": "IPY_MODEL_5e0a6a5e418448268e2ba4c4471a0c59",
      "value": " 363/363 [00:00&lt;00:00, 7.94kB/s]"
     }
    },
    "fa763922d6a44c8ea2fff113e419bb41": {
     "model_module": "@jupyter-widgets/controls",
     "model_module_version": "1.5.0",
     "model_name": "DescriptionStyleModel",
     "state": {
      "_model_module": "@jupyter-widgets/controls",
      "_model_module_version": "1.5.0",
      "_model_name": "DescriptionStyleModel",
      "_view_count": null,
      "_view_module": "@jupyter-widgets/base",
      "_view_module_version": "1.2.0",
      "_view_name": "StyleView",
      "description_width": ""
     }
    },
    "fb14048326114c72b92966228ea91e01": {
     "model_module": "@jupyter-widgets/controls",
     "model_module_version": "1.5.0",
     "model_name": "HTMLModel",
     "state": {
      "_dom_classes": [],
      "_model_module": "@jupyter-widgets/controls",
      "_model_module_version": "1.5.0",
      "_model_name": "HTMLModel",
      "_view_count": null,
      "_view_module": "@jupyter-widgets/controls",
      "_view_module_version": "1.5.0",
      "_view_name": "HTMLView",
      "description": "",
      "description_tooltip": null,
      "layout": "IPY_MODEL_a3adb2d5dab8444d8779161f4b195cfc",
      "placeholder": "​",
      "style": "IPY_MODEL_51b215d43bee4e048de7f2b01400e923",
      "value": "Downloading: 100%"
     }
    },
    "fb757ee80a7f44fab9b4b5a4fbdb42b0": {
     "model_module": "@jupyter-widgets/controls",
     "model_module_version": "1.5.0",
     "model_name": "FloatProgressModel",
     "state": {
      "_dom_classes": [],
      "_model_module": "@jupyter-widgets/controls",
      "_model_module_version": "1.5.0",
      "_model_name": "FloatProgressModel",
      "_view_count": null,
      "_view_module": "@jupyter-widgets/controls",
      "_view_module_version": "1.5.0",
      "_view_name": "ProgressView",
      "bar_style": "success",
      "description": "",
      "description_tooltip": null,
      "layout": "IPY_MODEL_a3bea12a103b4bd397ac90a8e4426648",
      "max": 571,
      "min": 0,
      "orientation": "horizontal",
      "style": "IPY_MODEL_8e5105f189284c1a95b6b429754233cd",
      "value": 571
     }
    },
    "fc4063a95b7b4afbb2631c75f11349c1": {
     "model_module": "@jupyter-widgets/controls",
     "model_module_version": "1.5.0",
     "model_name": "FloatProgressModel",
     "state": {
      "_dom_classes": [],
      "_model_module": "@jupyter-widgets/controls",
      "_model_module_version": "1.5.0",
      "_model_name": "FloatProgressModel",
      "_view_count": null,
      "_view_module": "@jupyter-widgets/controls",
      "_view_module_version": "1.5.0",
      "_view_name": "ProgressView",
      "bar_style": "success",
      "description": "",
      "description_tooltip": null,
      "layout": "IPY_MODEL_d6366f655d5c44e2b4ae10a5ecb01884",
      "max": 349,
      "min": 0,
      "orientation": "horizontal",
      "style": "IPY_MODEL_a60c060db0264456a0d1cef305204918",
      "value": 349
     }
    }
   }
  }
 },
 "nbformat": 4,
 "nbformat_minor": 1
}
